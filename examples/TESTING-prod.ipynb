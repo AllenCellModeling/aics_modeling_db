{
 "cells": [
  {
   "cell_type": "code",
   "execution_count": 1,
   "metadata": {},
   "outputs": [],
   "source": [
    "import datasetdatabase as dsdb"
   ]
  },
  {
   "cell_type": "code",
   "execution_count": 2,
   "metadata": {},
   "outputs": [
    {
     "data": {
      "text/plain": []
     },
     "execution_count": 2,
     "metadata": {},
     "output_type": "execute_result"
    }
   ],
   "source": [
    "mngr = dsdb.ConnectionManager(user=\"jacksonb\")\n",
    "mngr"
   ]
  },
  {
   "cell_type": "code",
   "execution_count": 3,
   "metadata": {},
   "outputs": [
    {
     "data": {
      "text/plain": [
       "prod:\n",
       "\tdriver: postgres\n",
       "\tlink: pg_modeling"
      ]
     },
     "execution_count": 3,
     "metadata": {},
     "output_type": "execute_result"
    }
   ],
   "source": [
    "mngr.add_connections(\"/active/configs/aics.json\")\n",
    "mngr"
   ]
  },
  {
   "cell_type": "code",
   "execution_count": 4,
   "metadata": {},
   "outputs": [
    {
     "data": {
      "text/plain": [
       "Recent Datasets:\n",
       "--------------------------------------------------------------------------------"
      ]
     },
     "execution_count": 4,
     "metadata": {},
     "output_type": "execute_result"
    }
   ],
   "source": [
    "prod = mngr.connect(\"prod\")\n",
    "prod"
   ]
  },
  {
   "cell_type": "code",
   "execution_count": 5,
   "metadata": {},
   "outputs": [
    {
     "name": "stdout",
     "output_type": "stream",
     "text": [
      "------------------------------- DATASET DATABASE -------------------------------\n",
      "--------------------------------------------------------------------------------\n",
      "User:\n",
      "rows: 0\n",
      "recent:\n",
      "--------------------------------------------------------------------------------\n",
      "FileSource:\n",
      "rows: 0\n",
      "recent:\n",
      "--------------------------------------------------------------------------------\n",
      "Iota:\n",
      "rows: 0\n",
      "recent:\n",
      "--------------------------------------------------------------------------------\n",
      "Source:\n",
      "rows: 0\n",
      "recent:\n",
      "--------------------------------------------------------------------------------\n",
      "QuiltSource:\n",
      "rows: 0\n",
      "recent:\n",
      "--------------------------------------------------------------------------------\n",
      "Dataset:\n",
      "rows: 0\n",
      "recent:\n",
      "--------------------------------------------------------------------------------\n",
      "RunInput:\n",
      "rows: 0\n",
      "recent:\n",
      "--------------------------------------------------------------------------------\n",
      "IotaDatasetJunction:\n",
      "rows: 0\n",
      "recent:\n",
      "--------------------------------------------------------------------------------\n",
      "RunOutput:\n",
      "rows: 0\n",
      "recent:\n",
      "--------------------------------------------------------------------------------\n",
      "Algorithm:\n",
      "rows: 0\n",
      "recent:\n",
      "--------------------------------------------------------------------------------\n",
      "Run:\n",
      "rows: 0\n",
      "recent:\n",
      "--------------------------------------------------------------------------------\n",
      "RunSource:\n",
      "rows: 0\n",
      "recent:\n",
      "--------------------------------------------------------------------------------\n",
      "File:\n",
      "rows: 0\n",
      "recent:\n"
     ]
    }
   ],
   "source": [
    "prod._deep_print()"
   ]
  },
  {
   "cell_type": "code",
   "execution_count": null,
   "metadata": {},
   "outputs": [],
   "source": []
  }
 ],
 "metadata": {
  "kernelspec": {
   "display_name": "Python 3",
   "language": "python",
   "name": "python3"
  },
  "language_info": {
   "codemirror_mode": {
    "name": "ipython",
    "version": 3
   },
   "file_extension": ".py",
   "mimetype": "text/x-python",
   "name": "python",
   "nbconvert_exporter": "python",
   "pygments_lexer": "ipython3",
   "version": "3.6.5"
  }
 },
 "nbformat": 4,
 "nbformat_minor": 2
}
