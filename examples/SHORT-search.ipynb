{
 "cells": [
  {
   "cell_type": "code",
   "execution_count": 1,
   "metadata": {},
   "outputs": [
    {
     "data": {
      "text/plain": [
       "Recent Datasets:\n",
       "--------------------------------------------------------------------------------\n",
       "{'DatasetId': 3, 'Name': 'hash_449159ef71966bb961aef41cdcf407a5', 'Description': None, 'SourceId': 4, 'FilepathColumns': 'None', 'Created': '2018-07-31 17:43:31.766888'}\n",
       "{'DatasetId': 2, 'Name': 'test_dataset', 'Description': 'this is the hello world of dataset ingestion', 'SourceId': 3, 'FilepathColumns': 'None', 'Created': '2018-07-30 20:59:43.740442'}\n",
       "{'DatasetId': 1, 'Name': 'dsdb/processing_test', 'Description': 'hello world', 'SourceId': 1, 'FilepathColumns': \"['files']\", 'Created': '2018-07-25 15:08:56.816600'}"
      ]
     },
     "execution_count": 1,
     "metadata": {},
     "output_type": "execute_result"
    }
   ],
   "source": [
    "import datasetdatabase as dsdb\n",
    "mngr = dsdb.ConnectionManager(dsdb.LOCAL, user=\"jacksonb\")\n",
    "local = mngr.connect(dsdb.LOCAL)\n",
    "local"
   ]
  },
  {
   "cell_type": "code",
   "execution_count": 2,
   "metadata": {},
   "outputs": [
    {
     "data": {
      "text/plain": [
       "[{'score': 0.4106470588235295,\n",
       "  'ds_info': {'DatasetId': 1,\n",
       "   'Name': 'dsdb/processing_test',\n",
       "   'Description': 'hello world',\n",
       "   'SourceId': 1,\n",
       "   'FilepathColumns': \"['files']\",\n",
       "   'Created': '2018-07-25 15:08:56.816600'}},\n",
       " {'score': 0.22428571428571437,\n",
       "  'ds_info': {'DatasetId': 2,\n",
       "   'Name': 'test_dataset',\n",
       "   'Description': 'this is the hello world of dataset ingestion',\n",
       "   'SourceId': 3,\n",
       "   'FilepathColumns': 'None',\n",
       "   'Created': '2018-07-30 20:59:43.740442'}},\n",
       " {'score': 0.12104247104247107,\n",
       "  'ds_info': {'DatasetId': 3,\n",
       "   'Name': 'hash_449159ef71966bb961aef41cdcf407a5',\n",
       "   'Description': None,\n",
       "   'SourceId': 4,\n",
       "   'FilepathColumns': 'None',\n",
       "   'Created': '2018-07-31 17:43:31.766888'}}]"
      ]
     },
     "execution_count": 2,
     "metadata": {},
     "output_type": "execute_result"
    }
   ],
   "source": [
    "# should return test_dataset\n",
    "local.search(\"hello world\")"
   ]
  },
  {
   "cell_type": "code",
   "execution_count": 3,
   "metadata": {},
   "outputs": [
    {
     "data": {
      "text/plain": [
       "[{'score': 0.33864705882352947,\n",
       "  'ds_info': {'DatasetId': 1,\n",
       "   'Name': 'dsdb/processing_test',\n",
       "   'Description': 'hello world',\n",
       "   'SourceId': 1,\n",
       "   'FilepathColumns': \"['files']\",\n",
       "   'Created': '2018-07-25 15:08:56.816600'}},\n",
       " {'score': 0.0907142857142857,\n",
       "  'ds_info': {'DatasetId': 2,\n",
       "   'Name': 'test_dataset',\n",
       "   'Description': 'this is the hello world of dataset ingestion',\n",
       "   'SourceId': 3,\n",
       "   'FilepathColumns': 'None',\n",
       "   'Created': '2018-07-30 20:59:43.740442'}},\n",
       " {'score': -0.07644787644787653,\n",
       "  'ds_info': {'DatasetId': 3,\n",
       "   'Name': 'hash_449159ef71966bb961aef41cdcf407a5',\n",
       "   'Description': None,\n",
       "   'SourceId': 4,\n",
       "   'FilepathColumns': 'None',\n",
       "   'Created': '2018-07-31 17:43:31.766888'}}]"
      ]
     },
     "execution_count": 3,
     "metadata": {},
     "output_type": "execute_result"
    }
   ],
   "source": [
    "# should return dsdb/processing_test\n",
    "local.search(\"processing test\")"
   ]
  },
  {
   "cell_type": "code",
   "execution_count": 4,
   "metadata": {},
   "outputs": [
    {
     "data": {
      "text/plain": [
       "[{'score': -0.8842471042471043,\n",
       "  'ds_info': {'DatasetId': 3,\n",
       "   'Name': 'hash_449159ef71966bb961aef41cdcf407a5',\n",
       "   'Description': None,\n",
       "   'SourceId': 4,\n",
       "   'FilepathColumns': 'None',\n",
       "   'Created': '2018-07-31 17:43:31.766888'}},\n",
       " {'score': -1.0426764705882352,\n",
       "  'ds_info': {'DatasetId': 1,\n",
       "   'Name': 'dsdb/processing_test',\n",
       "   'Description': 'hello world',\n",
       "   'SourceId': 1,\n",
       "   'FilepathColumns': \"['files']\",\n",
       "   'Created': '2018-07-25 15:08:56.816600'}},\n",
       " {'score': -1.6435714285714287,\n",
       "  'ds_info': {'DatasetId': 2,\n",
       "   'Name': 'test_dataset',\n",
       "   'Description': 'this is the hello world of dataset ingestion',\n",
       "   'SourceId': 3,\n",
       "   'FilepathColumns': 'None',\n",
       "   'Created': '2018-07-30 20:59:43.740442'}}]"
      ]
     },
     "execution_count": 4,
     "metadata": {},
     "output_type": "execute_result"
    }
   ],
   "source": [
    "# should return hash_449159ef71966bb961aef41cdcf407a5\n",
    "local.search(\"hash_449159ef71966bb9f41cdcf407a5\")"
   ]
  },
  {
   "cell_type": "code",
   "execution_count": 5,
   "metadata": {},
   "outputs": [
    {
     "data": {
      "text/plain": [
       "[{'score': 0.8078571428571429,\n",
       "  'ds_info': {'DatasetId': 2,\n",
       "   'Name': 'test_dataset',\n",
       "   'Description': 'this is the hello world of dataset ingestion',\n",
       "   'SourceId': 3,\n",
       "   'FilepathColumns': 'None',\n",
       "   'Created': '2018-07-30 20:59:43.740442'}},\n",
       " {'score': 0.8044411764705883,\n",
       "  'ds_info': {'DatasetId': 1,\n",
       "   'Name': 'dsdb/processing_test',\n",
       "   'Description': 'hello world',\n",
       "   'SourceId': 1,\n",
       "   'FilepathColumns': \"['files']\",\n",
       "   'Created': '2018-07-25 15:08:56.816600'}},\n",
       " {'score': 0.37204633204633214,\n",
       "  'ds_info': {'DatasetId': 3,\n",
       "   'Name': 'hash_449159ef71966bb961aef41cdcf407a5',\n",
       "   'Description': None,\n",
       "   'SourceId': 4,\n",
       "   'FilepathColumns': 'None',\n",
       "   'Created': '2018-07-31 17:43:31.766888'}}]"
      ]
     },
     "execution_count": 5,
     "metadata": {},
     "output_type": "execute_result"
    }
   ],
   "source": [
    "# should return test_dataset\n",
    "local.search(\"the hello world of dataset files\")"
   ]
  },
  {
   "cell_type": "code",
   "execution_count": 6,
   "metadata": {},
   "outputs": [
    {
     "data": {
      "text/plain": [
       "[{'score': 2.4843613095238104,\n",
       "  'ds_info': {'DatasetId': 2,\n",
       "   'Name': 'test_dataset',\n",
       "   'Description': 'this is the hello world of dataset ingestion',\n",
       "   'SourceId': 3,\n",
       "   'FilepathColumns': 'None',\n",
       "   'Created': '2018-07-30 20:59:43.740442'}},\n",
       " {'score': 2.274089436274514,\n",
       "  'ds_info': {'DatasetId': 1,\n",
       "   'Name': 'dsdb/processing_test',\n",
       "   'Description': 'hello world',\n",
       "   'SourceId': 1,\n",
       "   'FilepathColumns': \"['files']\",\n",
       "   'Created': '2018-07-25 15:08:56.816600'}},\n",
       " {'score': 1.103179665379665,\n",
       "  'ds_info': {'DatasetId': 3,\n",
       "   'Name': 'hash_449159ef71966bb961aef41cdcf407a5',\n",
       "   'Description': None,\n",
       "   'SourceId': 4,\n",
       "   'FilepathColumns': 'None',\n",
       "   'Created': '2018-07-31 17:43:31.766888'}}]"
      ]
     },
     "execution_count": 6,
     "metadata": {},
     "output_type": "execute_result"
    }
   ],
   "source": [
    "# should return test_dataset\n",
    "local.search(\"world dataset the hello files of\", all_combinations_search=True)"
   ]
  },
  {
   "cell_type": "code",
   "execution_count": 7,
   "metadata": {},
   "outputs": [
    {
     "data": {
      "text/plain": [
       "[{'score': 0.8078571428571429,\n",
       "  'ds_info': {'DatasetId': 2,\n",
       "   'Name': 'test_dataset',\n",
       "   'Description': 'this is the hello world of dataset ingestion',\n",
       "   'SourceId': 3,\n",
       "   'FilepathColumns': 'None',\n",
       "   'Created': '2018-07-30 20:59:43.740442'}},\n",
       " {'score': 0.8044411764705883,\n",
       "  'ds_info': {'DatasetId': 1,\n",
       "   'Name': 'dsdb/processing_test',\n",
       "   'Description': 'hello world',\n",
       "   'SourceId': 1,\n",
       "   'FilepathColumns': \"['files']\",\n",
       "   'Created': '2018-07-25 15:08:56.816600'}},\n",
       " {'score': 0.37204633204633214,\n",
       "  'ds_info': {'DatasetId': 3,\n",
       "   'Name': 'hash_449159ef71966bb961aef41cdcf407a5',\n",
       "   'Description': None,\n",
       "   'SourceId': 4,\n",
       "   'FilepathColumns': 'None',\n",
       "   'Created': '2018-07-31 17:43:31.766888'}}]"
      ]
     },
     "execution_count": 7,
     "metadata": {},
     "output_type": "execute_result"
    }
   ],
   "source": [
    "# should return test_dataset\n",
    "local.search(\"the hello world of dataset files\", search_keys=True)"
   ]
  },
  {
   "cell_type": "code",
   "execution_count": 8,
   "metadata": {},
   "outputs": [
    {
     "data": {
      "text/plain": [
       "[{'score': 1.1701764705882354,\n",
       "  'ds_info': {'DatasetId': 1,\n",
       "   'Name': 'dsdb/processing_test',\n",
       "   'Description': 'hello world',\n",
       "   'SourceId': 1,\n",
       "   'FilepathColumns': \"['files']\",\n",
       "   'Created': '2018-07-25 15:08:56.816600'}},\n",
       " {'score': 0.7542857142857142,\n",
       "  'ds_info': {'DatasetId': 2,\n",
       "   'Name': 'test_dataset',\n",
       "   'Description': 'this is the hello world of dataset ingestion',\n",
       "   'SourceId': 3,\n",
       "   'FilepathColumns': 'None',\n",
       "   'Created': '2018-07-30 20:59:43.740442'}},\n",
       " {'score': 0.19239382239382236,\n",
       "  'ds_info': {'DatasetId': 3,\n",
       "   'Name': 'hash_449159ef71966bb961aef41cdcf407a5',\n",
       "   'Description': None,\n",
       "   'SourceId': 4,\n",
       "   'FilepathColumns': 'None',\n",
       "   'Created': '2018-07-31 17:43:31.766888'}}]"
      ]
     },
     "execution_count": 8,
     "metadata": {},
     "output_type": "execute_result"
    }
   ],
   "source": [
    "# should return dsdb/processing_test\n",
    "local.search(\"processing test hello world floats ndarrays True False\", search_keys=True, search_values=True)"
   ]
  },
  {
   "cell_type": "code",
   "execution_count": 29,
   "metadata": {},
   "outputs": [
    {
     "name": "stdout",
     "output_type": "stream",
     "text": [
      "[{},\n",
      " {'search_keys': True},\n",
      " {'search_values': True},\n",
      " {'search_keys': True, 'search_values': True},\n",
      " {'all_combinations_search': True},\n",
      " {'all_combinations_search': True, 'search_keys': True},\n",
      " {'all_combinations_search': True, 'search_values': True},\n",
      " {'all_combinations_search': True, 'search_keys': True, 'search_values': True}]\n"
     ]
    }
   ],
   "source": [
    "# Time testing\n",
    "\n",
    "# 1. no opts search\n",
    "# 2. run combinations\n",
    "# 3. include keys\n",
    "# 4. include values\n",
    "# 5. include keys, values\n",
    "# 6. include keys, run combinations\n",
    "# 7. include values, run combinations\n",
    "# 8. include keys, value, run combinations\n",
    "\n",
    "search_str = \"processing test hello this is the dataset ingestion\"\n",
    "\n",
    "opts = []\n",
    "opts.append({})\n",
    "opts.append({\"search_keys\": True})\n",
    "opts.append({\"search_values\": True})\n",
    "opts.append({\"search_keys\": True, \"search_values\": True})\n",
    "opts.append({\"all_combinations_search\": True})\n",
    "opts.append({\"search_keys\": True, \"all_combinations_search\": True})\n",
    "opts.append({\"search_values\": True, \"all_combinations_search\": True})\n",
    "opts.append({\"search_keys\": True, \"search_values\": True, \"all_combinations_search\": True})\n",
    "\n",
    "from pprint import pprint\n",
    "pprint(opts)"
   ]
  },
  {
   "cell_type": "code",
   "execution_count": 30,
   "metadata": {},
   "outputs": [
    {
     "name": "stdout",
     "output_type": "stream",
     "text": [
      "\n",
      "run option set: 0 opts: {} \n",
      "most relevent: dsdb/processing_test\n",
      "CPU times: user 0 ns, sys: 0 ns, total: 0 ns\n",
      "Wall time: 4.96 ms\n",
      "\n",
      "run option set: 1 opts: {'search_keys': True} \n",
      "most relevent: dsdb/processing_test\n",
      "CPU times: user 10 ms, sys: 0 ns, total: 10 ms\n",
      "Wall time: 7.98 ms\n",
      "\n",
      "run option set: 2 opts: {'search_values': True} \n",
      "most relevent: dsdb/processing_test\n",
      "CPU times: user 0 ns, sys: 10 ms, total: 10 ms\n",
      "Wall time: 12.2 ms\n",
      "\n",
      "run option set: 3 opts: {'search_keys': True, 'search_values': True} \n",
      "most relevent: dsdb/processing_test\n",
      "CPU times: user 0 ns, sys: 10 ms, total: 10 ms\n",
      "Wall time: 18.2 ms\n",
      "\n",
      "run option set: 4 opts: {'all_combinations_search': True} \n",
      "most relevent: test_dataset\n",
      "CPU times: user 0 ns, sys: 10 ms, total: 10 ms\n",
      "Wall time: 11.2 ms\n",
      "\n",
      "run option set: 5 opts: {'search_keys': True, 'all_combinations_search': True} \n",
      "most relevent: test_dataset\n",
      "CPU times: user 10 ms, sys: 10 ms, total: 20 ms\n",
      "Wall time: 22.6 ms\n",
      "\n",
      "run option set: 6 opts: {'search_values': True, 'all_combinations_search': True} \n",
      "most relevent: test_dataset\n",
      "CPU times: user 20 ms, sys: 0 ns, total: 20 ms\n",
      "Wall time: 22.3 ms\n",
      "\n",
      "run option set: 7 opts: {'search_keys': True, 'search_values': True, 'all_combinations_search': True} \n",
      "most relevent: test_dataset\n",
      "CPU times: user 20 ms, sys: 0 ns, total: 20 ms\n",
      "Wall time: 25.3 ms\n"
     ]
    }
   ],
   "source": [
    "for i, opt in enumerate(opts):\n",
    "    %time print(\"\\nrun option set:\", i, \"opts:\", opt, \"\\nmost relevent:\", local.search(search_str, **opt)[0][\"ds_info\"][\"Name\"])"
   ]
  }
 ],
 "metadata": {
  "kernelspec": {
   "display_name": "Python 3",
   "language": "python",
   "name": "python3"
  },
  "language_info": {
   "codemirror_mode": {
    "name": "ipython",
    "version": 3
   },
   "file_extension": ".py",
   "mimetype": "text/x-python",
   "name": "python",
   "nbconvert_exporter": "python",
   "pygments_lexer": "ipython3",
   "version": "3.6.5"
  }
 },
 "nbformat": 4,
 "nbformat_minor": 2
}
