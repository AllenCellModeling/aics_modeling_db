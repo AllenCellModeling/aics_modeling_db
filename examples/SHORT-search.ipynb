{
 "cells": [
  {
   "cell_type": "code",
   "execution_count": 1,
   "metadata": {},
   "outputs": [
    {
     "data": {
      "text/plain": [
       "Recent Datasets:\n",
       "--------------------------------------------------------------------------------\n",
       "{'DatasetId': 3, 'Name': 'hash_449159ef71966bb961aef41cdcf407a5', 'Description': None, 'SourceId': 4, 'FilepathColumns': 'None', 'Created': '2018-07-31 17:43:31.766888'}\n",
       "{'DatasetId': 2, 'Name': 'test_dataset', 'Description': 'this is the hello world of dataset ingestion', 'SourceId': 3, 'FilepathColumns': 'None', 'Created': '2018-07-30 20:59:43.740442'}\n",
       "{'DatasetId': 1, 'Name': 'dsdb/processing_test', 'Description': 'hello world', 'SourceId': 1, 'FilepathColumns': \"['files']\", 'Created': '2018-07-25 15:08:56.816600'}"
      ]
     },
     "execution_count": 1,
     "metadata": {},
     "output_type": "execute_result"
    }
   ],
   "source": [
    "import datasetdatabase as dsdb\n",
    "mngr = dsdb.ConnectionManager(dsdb.LOCAL, user=\"jacksonb\")\n",
    "local = mngr.connect(dsdb.LOCAL)\n",
    "local"
   ]
  },
  {
   "cell_type": "code",
   "execution_count": 2,
   "metadata": {},
   "outputs": [
    {
     "data": {
      "text/plain": [
       "[{'score': 0.4106470588235295,\n",
       "  'ds_info': {'DatasetId': 1,\n",
       "   'Name': 'dsdb/processing_test',\n",
       "   'Description': 'hello world',\n",
       "   'SourceId': 1,\n",
       "   'FilepathColumns': \"['files']\",\n",
       "   'Created': '2018-07-25 15:08:56.816600'}},\n",
       " {'score': 0.22428571428571437,\n",
       "  'ds_info': {'DatasetId': 2,\n",
       "   'Name': 'test_dataset',\n",
       "   'Description': 'this is the hello world of dataset ingestion',\n",
       "   'SourceId': 3,\n",
       "   'FilepathColumns': 'None',\n",
       "   'Created': '2018-07-30 20:59:43.740442'}},\n",
       " {'score': 0.12104247104247107,\n",
       "  'ds_info': {'DatasetId': 3,\n",
       "   'Name': 'hash_449159ef71966bb961aef41cdcf407a5',\n",
       "   'Description': None,\n",
       "   'SourceId': 4,\n",
       "   'FilepathColumns': 'None',\n",
       "   'Created': '2018-07-31 17:43:31.766888'}}]"
      ]
     },
     "execution_count": 2,
     "metadata": {},
     "output_type": "execute_result"
    }
   ],
   "source": [
    "# should return test_dataset\n",
    "local.search(\"hello world\")"
   ]
  },
  {
   "cell_type": "code",
   "execution_count": 3,
   "metadata": {},
   "outputs": [
    {
     "data": {
      "text/plain": [
       "[{'score': 0.33864705882352947,\n",
       "  'ds_info': {'DatasetId': 1,\n",
       "   'Name': 'dsdb/processing_test',\n",
       "   'Description': 'hello world',\n",
       "   'SourceId': 1,\n",
       "   'FilepathColumns': \"['files']\",\n",
       "   'Created': '2018-07-25 15:08:56.816600'}},\n",
       " {'score': 0.0907142857142857,\n",
       "  'ds_info': {'DatasetId': 2,\n",
       "   'Name': 'test_dataset',\n",
       "   'Description': 'this is the hello world of dataset ingestion',\n",
       "   'SourceId': 3,\n",
       "   'FilepathColumns': 'None',\n",
       "   'Created': '2018-07-30 20:59:43.740442'}},\n",
       " {'score': -0.07644787644787653,\n",
       "  'ds_info': {'DatasetId': 3,\n",
       "   'Name': 'hash_449159ef71966bb961aef41cdcf407a5',\n",
       "   'Description': None,\n",
       "   'SourceId': 4,\n",
       "   'FilepathColumns': 'None',\n",
       "   'Created': '2018-07-31 17:43:31.766888'}}]"
      ]
     },
     "execution_count": 3,
     "metadata": {},
     "output_type": "execute_result"
    }
   ],
   "source": [
    "# should return dsdb/processing_test\n",
    "local.search(\"processing test\")"
   ]
  },
  {
   "cell_type": "code",
   "execution_count": 4,
   "metadata": {},
   "outputs": [
    {
     "data": {
      "text/plain": [
       "[{'score': -0.8842471042471043,\n",
       "  'ds_info': {'DatasetId': 3,\n",
       "   'Name': 'hash_449159ef71966bb961aef41cdcf407a5',\n",
       "   'Description': None,\n",
       "   'SourceId': 4,\n",
       "   'FilepathColumns': 'None',\n",
       "   'Created': '2018-07-31 17:43:31.766888'}},\n",
       " {'score': -1.0426764705882352,\n",
       "  'ds_info': {'DatasetId': 1,\n",
       "   'Name': 'dsdb/processing_test',\n",
       "   'Description': 'hello world',\n",
       "   'SourceId': 1,\n",
       "   'FilepathColumns': \"['files']\",\n",
       "   'Created': '2018-07-25 15:08:56.816600'}},\n",
       " {'score': -1.6435714285714287,\n",
       "  'ds_info': {'DatasetId': 2,\n",
       "   'Name': 'test_dataset',\n",
       "   'Description': 'this is the hello world of dataset ingestion',\n",
       "   'SourceId': 3,\n",
       "   'FilepathColumns': 'None',\n",
       "   'Created': '2018-07-30 20:59:43.740442'}}]"
      ]
     },
     "execution_count": 4,
     "metadata": {},
     "output_type": "execute_result"
    }
   ],
   "source": [
    "# should return hash_449159ef71966bb961aef41cdcf407a5\n",
    "local.search(\"hash_449159ef71966bb9f41cdcf407a5\")"
   ]
  },
  {
   "cell_type": "code",
   "execution_count": 5,
   "metadata": {},
   "outputs": [
    {
     "data": {
      "text/plain": [
       "[{'score': 0.8078571428571429,\n",
       "  'ds_info': {'DatasetId': 2,\n",
       "   'Name': 'test_dataset',\n",
       "   'Description': 'this is the hello world of dataset ingestion',\n",
       "   'SourceId': 3,\n",
       "   'FilepathColumns': 'None',\n",
       "   'Created': '2018-07-30 20:59:43.740442'}},\n",
       " {'score': 0.8044411764705883,\n",
       "  'ds_info': {'DatasetId': 1,\n",
       "   'Name': 'dsdb/processing_test',\n",
       "   'Description': 'hello world',\n",
       "   'SourceId': 1,\n",
       "   'FilepathColumns': \"['files']\",\n",
       "   'Created': '2018-07-25 15:08:56.816600'}},\n",
       " {'score': 0.37204633204633214,\n",
       "  'ds_info': {'DatasetId': 3,\n",
       "   'Name': 'hash_449159ef71966bb961aef41cdcf407a5',\n",
       "   'Description': None,\n",
       "   'SourceId': 4,\n",
       "   'FilepathColumns': 'None',\n",
       "   'Created': '2018-07-31 17:43:31.766888'}}]"
      ]
     },
     "execution_count": 5,
     "metadata": {},
     "output_type": "execute_result"
    }
   ],
   "source": [
    "# should return test_dataset\n",
    "local.search(\"the hello world of dataset files\")"
   ]
  },
  {
   "cell_type": "code",
   "execution_count": 6,
   "metadata": {},
   "outputs": [
    {
     "data": {
      "text/plain": [
       "[{'score': 2.4843613095238104,\n",
       "  'ds_info': {'DatasetId': 2,\n",
       "   'Name': 'test_dataset',\n",
       "   'Description': 'this is the hello world of dataset ingestion',\n",
       "   'SourceId': 3,\n",
       "   'FilepathColumns': 'None',\n",
       "   'Created': '2018-07-30 20:59:43.740442'}},\n",
       " {'score': 2.274089436274514,\n",
       "  'ds_info': {'DatasetId': 1,\n",
       "   'Name': 'dsdb/processing_test',\n",
       "   'Description': 'hello world',\n",
       "   'SourceId': 1,\n",
       "   'FilepathColumns': \"['files']\",\n",
       "   'Created': '2018-07-25 15:08:56.816600'}},\n",
       " {'score': 1.103179665379665,\n",
       "  'ds_info': {'DatasetId': 3,\n",
       "   'Name': 'hash_449159ef71966bb961aef41cdcf407a5',\n",
       "   'Description': None,\n",
       "   'SourceId': 4,\n",
       "   'FilepathColumns': 'None',\n",
       "   'Created': '2018-07-31 17:43:31.766888'}}]"
      ]
     },
     "execution_count": 6,
     "metadata": {},
     "output_type": "execute_result"
    }
   ],
   "source": [
    "# should return test_dataset\n",
    "local.search(\"world dataset the hello files of\", all_combinations_search=True)"
   ]
  },
  {
   "cell_type": "code",
   "execution_count": 7,
   "metadata": {},
   "outputs": [
    {
     "data": {
      "text/plain": [
       "[{'score': 0.8078571428571429,\n",
       "  'ds_info': {'DatasetId': 2,\n",
       "   'Name': 'test_dataset',\n",
       "   'Description': 'this is the hello world of dataset ingestion',\n",
       "   'SourceId': 3,\n",
       "   'FilepathColumns': 'None',\n",
       "   'Created': '2018-07-30 20:59:43.740442'}},\n",
       " {'score': 0.8044411764705883,\n",
       "  'ds_info': {'DatasetId': 1,\n",
       "   'Name': 'dsdb/processing_test',\n",
       "   'Description': 'hello world',\n",
       "   'SourceId': 1,\n",
       "   'FilepathColumns': \"['files']\",\n",
       "   'Created': '2018-07-25 15:08:56.816600'}},\n",
       " {'score': 0.37204633204633214,\n",
       "  'ds_info': {'DatasetId': 3,\n",
       "   'Name': 'hash_449159ef71966bb961aef41cdcf407a5',\n",
       "   'Description': None,\n",
       "   'SourceId': 4,\n",
       "   'FilepathColumns': 'None',\n",
       "   'Created': '2018-07-31 17:43:31.766888'}}]"
      ]
     },
     "execution_count": 7,
     "metadata": {},
     "output_type": "execute_result"
    }
   ],
   "source": [
    "# should return test_dataset\n",
    "local.search(\"the hello world of dataset files\", search_keys=True)"
   ]
  },
  {
   "cell_type": "code",
   "execution_count": 8,
   "metadata": {},
   "outputs": [
    {
     "data": {
      "text/plain": [
       "[{'score': 1.1701764705882354,\n",
       "  'ds_info': {'DatasetId': 1,\n",
       "   'Name': 'dsdb/processing_test',\n",
       "   'Description': 'hello world',\n",
       "   'SourceId': 1,\n",
       "   'FilepathColumns': \"['files']\",\n",
       "   'Created': '2018-07-25 15:08:56.816600'}},\n",
       " {'score': 0.7542857142857142,\n",
       "  'ds_info': {'DatasetId': 2,\n",
       "   'Name': 'test_dataset',\n",
       "   'Description': 'this is the hello world of dataset ingestion',\n",
       "   'SourceId': 3,\n",
       "   'FilepathColumns': 'None',\n",
       "   'Created': '2018-07-30 20:59:43.740442'}},\n",
       " {'score': 0.19239382239382236,\n",
       "  'ds_info': {'DatasetId': 3,\n",
       "   'Name': 'hash_449159ef71966bb961aef41cdcf407a5',\n",
       "   'Description': None,\n",
       "   'SourceId': 4,\n",
       "   'FilepathColumns': 'None',\n",
       "   'Created': '2018-07-31 17:43:31.766888'}}]"
      ]
     },
     "execution_count": 8,
     "metadata": {},
     "output_type": "execute_result"
    }
   ],
   "source": [
    "# should return dsdb/processing_test\n",
    "local.search(\"processing test hello world floats ndarrays True False\", search_keys=True, search_values=True)"
   ]
  }
 ],
 "metadata": {
  "kernelspec": {
   "display_name": "Python 3",
   "language": "python",
   "name": "python3"
  },
  "language_info": {
   "codemirror_mode": {
    "name": "ipython",
    "version": 3
   },
   "file_extension": ".py",
   "mimetype": "text/x-python",
   "name": "python",
   "nbconvert_exporter": "python",
   "pygments_lexer": "ipython3",
   "version": "3.6.5"
  }
 },
 "nbformat": 4,
 "nbformat_minor": 2
}
