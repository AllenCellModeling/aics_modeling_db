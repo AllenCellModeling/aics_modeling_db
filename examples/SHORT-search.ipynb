{
 "cells": [
  {
   "cell_type": "code",
   "execution_count": 1,
   "metadata": {},
   "outputs": [
    {
     "data": {
      "text/plain": [
       "Recent Datasets:\n",
       "--------------------------------------------------------------------------------\n",
       "{'DatasetId': 6, 'Name': 'final analysis', 'Description': 'final analysis complete if all goes well in this function', 'SourceId': 6, 'FilepathColumns': \"['files']\", 'Created': '2018-08-06 23:36:22.287253'}\n",
       "{'DatasetId': 5, 'Name': 'restarting analysis', 'Description': 'ignore the other tree, im restarting anaylsis on this branch', 'SourceId': 5, 'FilepathColumns': \"['files']\", 'Created': '2018-08-06 23:35:43.592067'}\n",
       "{'DatasetId': 4, 'Name': 'oops made a mistake', 'Description': 'fixing the analysis mistake', 'SourceId': 4, 'FilepathColumns': \"['files']\", 'Created': '2018-08-06 23:35:07.724021'}\n",
       "{'DatasetId': 3, 'Name': 'add three test', 'Description': 'adding three more to processing test', 'SourceId': 3, 'FilepathColumns': \"['files']\", 'Created': '2018-08-06 23:34:26.418603'}\n",
       "{'DatasetId': 2, 'Name': 'processing test', 'Description': 'this is an example of processing a dataset', 'SourceId': 2, 'FilepathColumns': \"['files']\", 'Created': '2018-08-06 23:20:05.049916'}"
      ]
     },
     "execution_count": 1,
     "metadata": {},
     "output_type": "execute_result"
    }
   ],
   "source": [
    "import datasetdatabase as dsdb\n",
    "mngr = dsdb.ConnectionManager(dsdb.LOCAL, user=\"jacksonb\")\n",
    "local = mngr.connect(dsdb.LOCAL)\n",
    "local"
   ]
  },
  {
   "cell_type": "code",
   "execution_count": 2,
   "metadata": {},
   "outputs": [
    {
     "data": {
      "text/plain": [
       "{'score': 0.16882352941176476,\n",
       " 'ds_info': {'DatasetId': 1,\n",
       "  'Name': 'test dataset',\n",
       "  'Description': 'this is the hello world of dataset ingestion',\n",
       "  'SourceId': 1,\n",
       "  'FilepathColumns': \"['files']\",\n",
       "  'Created': '2018-08-06 23:19:56.076088'}}"
      ]
     },
     "execution_count": 2,
     "metadata": {},
     "output_type": "execute_result"
    }
   ],
   "source": [
    "# should return test dataset\n",
    "local.search(\"hello world\")[0]"
   ]
  },
  {
   "cell_type": "code",
   "execution_count": 3,
   "metadata": {},
   "outputs": [
    {
     "data": {
      "text/plain": [
       "{'score': 0.49564705882352944,\n",
       " 'ds_info': {'DatasetId': 2,\n",
       "  'Name': 'processing test',\n",
       "  'Description': 'this is an example of processing a dataset',\n",
       "  'SourceId': 2,\n",
       "  'FilepathColumns': \"['files']\",\n",
       "  'Created': '2018-08-06 23:20:05.049916'}}"
      ]
     },
     "execution_count": 3,
     "metadata": {},
     "output_type": "execute_result"
    }
   ],
   "source": [
    "# should return processing test\n",
    "local.search(\"processing test\")[0]"
   ]
  },
  {
   "cell_type": "code",
   "execution_count": 4,
   "metadata": {},
   "outputs": [
    {
     "data": {
      "text/plain": [
       "{'score': 0.8161764705882353,\n",
       " 'ds_info': {'DatasetId': 1,\n",
       "  'Name': 'test dataset',\n",
       "  'Description': 'this is the hello world of dataset ingestion',\n",
       "  'SourceId': 1,\n",
       "  'FilepathColumns': \"['files']\",\n",
       "  'Created': '2018-08-06 23:19:56.076088'}}"
      ]
     },
     "execution_count": 4,
     "metadata": {},
     "output_type": "execute_result"
    }
   ],
   "source": [
    "# should return test dataset\n",
    "local.search(\"the hello world of dataset files\")[0]"
   ]
  },
  {
   "cell_type": "code",
   "execution_count": 5,
   "metadata": {},
   "outputs": [
    {
     "name": "stdout",
     "output_type": "stream",
     "text": [
      "[{},\n",
      " {'search_keys': True},\n",
      " {'search_values': True},\n",
      " {'search_keys': True, 'search_values': True},\n",
      " {'all_combinations_search': True},\n",
      " {'all_combinations_search': True, 'search_keys': True},\n",
      " {'all_combinations_search': True, 'search_values': True},\n",
      " {'all_combinations_search': True, 'search_keys': True, 'search_values': True}]\n"
     ]
    }
   ],
   "source": [
    "# Time testing\n",
    "\n",
    "# 1. no opts search\n",
    "# 2. run combinations\n",
    "# 3. include keys\n",
    "# 4. include values\n",
    "# 5. include keys, values\n",
    "# 6. include keys, run combinations\n",
    "# 7. include values, run combinations\n",
    "# 8. include keys, value, run combinations\n",
    "\n",
    "search_str = \"processing test hello this is the dataset ingestion\"\n",
    "\n",
    "opts = []\n",
    "opts.append({})\n",
    "opts.append({\"search_keys\": True})\n",
    "opts.append({\"search_values\": True})\n",
    "opts.append({\"search_keys\": True, \"search_values\": True})\n",
    "opts.append({\"all_combinations_search\": True})\n",
    "opts.append({\"search_keys\": True, \"all_combinations_search\": True})\n",
    "opts.append({\"search_values\": True, \"all_combinations_search\": True})\n",
    "opts.append({\"search_keys\": True, \"search_values\": True, \"all_combinations_search\": True})\n",
    "\n",
    "from pprint import pprint\n",
    "pprint(opts)"
   ]
  },
  {
   "cell_type": "code",
   "execution_count": 6,
   "metadata": {},
   "outputs": [
    {
     "name": "stdout",
     "output_type": "stream",
     "text": [
      "\n",
      "run option set: 0 opts: {} \n",
      "most relevent: processing test\n",
      "CPU times: user 0 ns, sys: 10 ms, total: 10 ms\n",
      "Wall time: 6.31 ms\n",
      "\n",
      "run option set: 1 opts: {'search_keys': True} \n",
      "most relevent: processing test\n",
      "CPU times: user 10 ms, sys: 0 ns, total: 10 ms\n",
      "Wall time: 20.7 ms\n",
      "\n",
      "run option set: 2 opts: {'search_values': True} \n",
      "most relevent: processing test\n",
      "CPU times: user 0 ns, sys: 10 ms, total: 10 ms\n",
      "Wall time: 10.9 ms\n",
      "\n",
      "run option set: 3 opts: {'search_keys': True, 'search_values': True} \n",
      "most relevent: processing test\n",
      "CPU times: user 0 ns, sys: 0 ns, total: 0 ns\n",
      "Wall time: 18.3 ms\n",
      "\n",
      "run option set: 4 opts: {'all_combinations_search': True} \n",
      "most relevent: test dataset\n",
      "CPU times: user 20 ms, sys: 0 ns, total: 20 ms\n",
      "Wall time: 25.8 ms\n",
      "\n",
      "run option set: 5 opts: {'search_keys': True, 'all_combinations_search': True} \n",
      "most relevent: test dataset\n",
      "CPU times: user 30 ms, sys: 0 ns, total: 30 ms\n",
      "Wall time: 37.4 ms\n",
      "\n",
      "run option set: 6 opts: {'search_values': True, 'all_combinations_search': True} \n",
      "most relevent: test dataset\n",
      "CPU times: user 30 ms, sys: 0 ns, total: 30 ms\n",
      "Wall time: 37.9 ms\n",
      "\n",
      "run option set: 7 opts: {'search_keys': True, 'search_values': True, 'all_combinations_search': True} \n",
      "most relevent: test dataset\n",
      "CPU times: user 30 ms, sys: 0 ns, total: 30 ms\n",
      "Wall time: 48.4 ms\n"
     ]
    }
   ],
   "source": [
    "for i, opt in enumerate(opts):\n",
    "    %time print(\"\\nrun option set:\", i, \"opts:\", opt, \"\\nmost relevent:\", local.search(search_str, **opt)[0][\"ds_info\"][\"Name\"])"
   ]
  }
 ],
 "metadata": {
  "kernelspec": {
   "display_name": "Python 3",
   "language": "python",
   "name": "python3"
  },
  "language_info": {
   "codemirror_mode": {
    "name": "ipython",
    "version": 3
   },
   "file_extension": ".py",
   "mimetype": "text/x-python",
   "name": "python",
   "nbconvert_exporter": "python",
   "pygments_lexer": "ipython3",
   "version": "3.6.5"
  }
 },
 "nbformat": 4,
 "nbformat_minor": 2
}
