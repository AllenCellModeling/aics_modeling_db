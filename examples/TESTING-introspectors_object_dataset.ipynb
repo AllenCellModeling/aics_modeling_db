{
 "cells": [
  {
   "cell_type": "code",
   "execution_count": 1,
   "metadata": {},
   "outputs": [],
   "source": [
    "import datasetdatabase as dsdb"
   ]
  },
  {
   "cell_type": "code",
   "execution_count": 2,
   "metadata": {},
   "outputs": [
    {
     "data": {
      "text/plain": [
       "hello 12"
      ]
     },
     "execution_count": 2,
     "metadata": {},
     "output_type": "execute_result"
    }
   ],
   "source": [
    "class testObj(object):\n",
    "    def __init__(self, a, b):\n",
    "        self.a = a\n",
    "        self.b = b\n",
    "        \n",
    "    def __repr__(self):\n",
    "        return str(self.a) + \" \" + str(self.b)\n",
    "        \n",
    "ds = testObj(\"hello\", 12)\n",
    "ds"
   ]
  },
  {
   "cell_type": "code",
   "execution_count": 3,
   "metadata": {},
   "outputs": [
    {
     "data": {
      "text/plain": [
       "info: None\n",
       "ds: True\n",
       "name: cd7ceaf04756b2d01e3556095e27bdba\n",
       "description: None\n",
       "introspector: <class 'datasetdatabase.introspect.object.ObjectIntrospector'>\n",
       "validated: False\n",
       "md5: cd7ceaf04756b2d01e3556095e27bdba\n",
       "sha256: ff565975b9553377e52fd8da1e35810ee4410b5de4a8c2f56da1eaff4228e005"
      ]
     },
     "execution_count": 3,
     "metadata": {},
     "output_type": "execute_result"
    }
   ],
   "source": [
    "ds = dsdb.Dataset(ds)\n",
    "ds"
   ]
  },
  {
   "cell_type": "code",
   "execution_count": 4,
   "metadata": {},
   "outputs": [
    {
     "data": {
      "text/plain": [
       "hello 12"
      ]
     },
     "execution_count": 4,
     "metadata": {},
     "output_type": "execute_result"
    }
   ],
   "source": [
    "ds.ds"
   ]
  },
  {
   "cell_type": "code",
   "execution_count": 5,
   "metadata": {},
   "outputs": [
    {
     "data": {
      "text/plain": [
       "info: None\n",
       "ds: True\n",
       "name: cd7ceaf04756b2d01e3556095e27bdba\n",
       "description: None\n",
       "introspector: <class 'datasetdatabase.introspect.object.ObjectIntrospector'>\n",
       "validated: True\n",
       "md5: cd7ceaf04756b2d01e3556095e27bdba\n",
       "sha256: ff565975b9553377e52fd8da1e35810ee4410b5de4a8c2f56da1eaff4228e005"
      ]
     },
     "execution_count": 5,
     "metadata": {},
     "output_type": "execute_result"
    }
   ],
   "source": [
    "ds.introspector.validate({\"a\": lambda x: x == \"hello\", \"b\": lambda x: isinstance(x, int)})\n",
    "ds"
   ]
  },
  {
   "cell_type": "code",
   "execution_count": 6,
   "metadata": {},
   "outputs": [
    {
     "data": {
      "text/plain": [
       "info: {'id': 4, 'name': 'cd7ceaf04756b2d01e3556095e27bdba', 'description': '', 'introspector': 'datasetdatabase.introspect.object.ObjectIntrospector', 'md5': 'cd7ceaf04756b2d01e3556095e27bdba', 'sha256': 'ff565975b9553377e52fd8da1e35810ee4410b5de4a8c2f56da1eaff4228e005', 'created': datetime.datetime(2018, 9, 7, 21, 21, 41, 437517)}\n",
       "ds: True\n",
       "name: cd7ceaf04756b2d01e3556095e27bdba\n",
       "description: \n",
       "introspector: <class 'datasetdatabase.introspect.object.ObjectIntrospector'>\n",
       "validated: False\n",
       "md5: cd7ceaf04756b2d01e3556095e27bdba\n",
       "sha256: ff565975b9553377e52fd8da1e35810ee4410b5de4a8c2f56da1eaff4228e005"
      ]
     },
     "execution_count": 6,
     "metadata": {},
     "output_type": "execute_result"
    }
   ],
   "source": [
    "local = dsdb.DatasetDatabase(config=dsdb.LOCAL, user=\"jacksonb\")\n",
    "ds_out = local.upload_dataset(ds)\n",
    "ds_out"
   ]
  },
  {
   "cell_type": "code",
   "execution_count": 7,
   "metadata": {},
   "outputs": [
    {
     "data": {
      "text/plain": [
       "True"
      ]
     },
     "execution_count": 7,
     "metadata": {},
     "output_type": "execute_result"
    }
   ],
   "source": [
    "import hashlib\n",
    "import pickle\n",
    "hashlib.md5(pickle.dumps(ds.ds)).hexdigest() == hashlib.md5(pickle.dumps(ds_out.ds)).hexdigest()"
   ]
  }
 ],
 "metadata": {
  "kernelspec": {
   "display_name": "Python 3",
   "language": "python",
   "name": "python3"
  },
  "language_info": {
   "codemirror_mode": {
    "name": "ipython",
    "version": 3
   },
   "file_extension": ".py",
   "mimetype": "text/x-python",
   "name": "python",
   "nbconvert_exporter": "python",
   "pygments_lexer": "ipython3",
   "version": "3.6.5"
  }
 },
 "nbformat": 4,
 "nbformat_minor": 2
}
