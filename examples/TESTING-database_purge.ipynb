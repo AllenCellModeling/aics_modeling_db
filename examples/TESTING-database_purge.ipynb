{
 "cells": [
  {
   "cell_type": "code",
   "execution_count": 1,
   "metadata": {},
   "outputs": [
    {
     "data": {
      "text/plain": [
       "Recent Datasets:\n",
       "--------------------------------------------------------------------------------\n",
       "{'DatasetId': 48, 'Name': '9dee5417-2955-40f2-9fdb-3b611f730ca2', 'Description': None, 'Introspector': 'datasetdatabase.introspect.dataframe.DataFrameIntrospector', 'MD5': 'a44eb1effb61b5247fbc7037de178bfd', 'SHA256': '31fe517e1ab6e9b35e42b86a1667b8358e4db59cc508f5118d26fd56a16d9671', 'Created': datetime.datetime(2018, 9, 14, 22, 35, 58, 148349)}\n",
       "{'DatasetId': 47, 'Name': '837cf1b4-0c82-4f6c-9acd-6e81b7c9181b', 'Description': None, 'Introspector': 'datasetdatabase.introspect.dataframe.DataFrameIntrospector', 'MD5': 'e92a5920297f39c3d42d460162d07537', 'SHA256': '03e9d6ff2c41a349130fd7e05640469874d716670e2ca8561309d06d9fd28c50', 'Created': datetime.datetime(2018, 9, 14, 22, 32, 3, 500834)}\n",
       "{'DatasetId': 43, 'Name': 'hello world v2 2', 'Description': None, 'Introspector': 'datasetdatabase.introspect.dataframe.DataFrameIntrospector', 'MD5': '98f0bbf1f560f7433c14cd73136e628c', 'SHA256': '5c4439db60872578b9e72eacae7eede4c3639350444837eab960ffd51849b9ed', 'Created': datetime.datetime(2018, 9, 14, 21, 55, 43, 131673)}\n",
       "{'DatasetId': 42, 'Name': 'hello_world 2', 'Description': None, 'Introspector': 'datasetdatabase.introspect.dataframe.DataFrameIntrospector', 'MD5': '55a0a251db9b2988c627fda25746ca82', 'SHA256': '5f8fe0613d6711a714fc57d265f6ded30db3ba8b04d399a0b3116e9f47e2aa63', 'Created': datetime.datetime(2018, 9, 14, 21, 55, 42, 680949)}\n",
       "{'DatasetId': 41, 'Name': 'testing apply 2', 'Description': None, 'Introspector': 'datasetdatabase.introspect.dataframe.DataFrameIntrospector', 'MD5': '06397afe70f34a1b646e98cdafbf3109', 'SHA256': '6dc230758c9e325e47ccf028f43a0bf82f47acc555711d7289e84a38551309d9', 'Created': datetime.datetime(2018, 9, 14, 21, 55, 23, 248967)}"
      ]
     },
     "execution_count": 1,
     "metadata": {},
     "output_type": "execute_result"
    }
   ],
   "source": [
    "import datasetdatabase as dsdb\n",
    "prod = dsdb.DatasetDatabase(config=\"/active/configs/aics.json\", user=\"jacksonb\")\n",
    "prod"
   ]
  },
  {
   "cell_type": "code",
   "execution_count": 2,
   "metadata": {},
   "outputs": [
    {
     "data": {
      "text/plain": [
       "{11, 13, 14, 16, 17, 18, 19, 25, 26, 29, 30, 38, 39, 42, 43, 48}"
      ]
     },
     "execution_count": 2,
     "metadata": {},
     "output_type": "execute_result"
    }
   ],
   "source": [
    "to_delete = set([dict(ds)[\"DatasetId\"] for ds in prod.db.table(\"Dataset\")\\\n",
    "     .join(\"RunOutput\", \"RunOutput.DatasetId\", \"=\", \"Dataset.DatasetId\")\\\n",
    "     .join(\"Run\", \"Run.RunId\", \"=\", \"RunOutput.RunId\")\\\n",
    "     .where(\"UserId\", \"=\", 1).get()])\n",
    "to_delete"
   ]
  },
  {
   "cell_type": "code",
   "execution_count": 40,
   "metadata": {},
   "outputs": [
    {
     "name": "stdout",
     "output_type": "stream",
     "text": [
      "45493\n",
      "45488\n",
      "45495\n",
      "45491\n",
      "45497\n",
      "45501\n",
      "45499\n",
      "45503\n",
      "45505\n",
      "45507\n"
     ]
    }
   ],
   "source": [
    "for i in to_delete:    \n",
    "    # get all run id during other deletes\n",
    "    run_ids = []\n",
    "    \n",
    "    # get run inputs\n",
    "    run_inputs = prod.db.table(\"RunInput\")\\\n",
    "        .where(\"DatasetId\", \"=\", i)\\\n",
    "        .join(\"Run\", \"RunInput.RunId\", \"=\", \"Run.RunId\").get()\n",
    "    \n",
    "    # delete run inputs\n",
    "    for run_input in run_inputs:\n",
    "        run_ids.append(prod.db.table(\"Run\").where(\"RunId\", \"=\", run_input[\"RunId\"]).get()[0][\"RunId\"])\n",
    "        \n",
    "#         prod.db.table(\"RunInput\").where(\"DatasetId\", \"=\", i).delete()\n",
    "    \n",
    "    # get run outputs\n",
    "    run_outputs = prod.db.table(\"RunOutput\")\\\n",
    "        .where(\"DatasetId\", \"=\", i)\\\n",
    "        .join(\"Run\", \"RunOutput.RunId\", \"=\", \"Run.RunId\").get()\n",
    "    \n",
    "    # delete run outputs\n",
    "    for run_output in run_outputs:\n",
    "        run_ids.append(prod.db.table(\"Run\").where(\"RunId\", \"=\", run_output[\"RunId\"]).get()[0][\"RunId\"])\n",
    "#         prod.db.table(\"RunOutput\").where(\"DatasetId\", \"=\", i).delete()\n",
    "    \n",
    "    # delete runs\n",
    "#     for run_id in run_ids:\n",
    "#         prod.db.table(\"Run\").where(\"RunId\", \"=\", run_id).delete()\n",
    "\n",
    "    # get groups\n",
    "    group_ids = [*prod.db.table(\"GroupDataset\").where(\"DatasetId\", \"=\", i).select(\"GroupId\").get().all()]\n",
    "    for g_id in group_ids:\n",
    "        print(g_id[0])\n",
    "        \n",
    "    break\n",
    "    # delete groups\n",
    "#     prod.db.table(\"GroupDataset\").where(\"DatasetId\", \"=\", i).delete()\n",
    "    \n",
    "    # delete "
   ]
  },
  {
   "cell_type": "code",
   "execution_count": null,
   "metadata": {},
   "outputs": [],
   "source": [
    "prod.db.table(\"\")"
   ]
  }
 ],
 "metadata": {
  "kernelspec": {
   "display_name": "Python 3",
   "language": "python",
   "name": "python3"
  },
  "language_info": {
   "codemirror_mode": {
    "name": "ipython",
    "version": 3
   },
   "file_extension": ".py",
   "mimetype": "text/x-python",
   "name": "python",
   "nbconvert_exporter": "python",
   "pygments_lexer": "ipython3",
   "version": "3.6.5"
  }
 },
 "nbformat": 4,
 "nbformat_minor": 2
}
