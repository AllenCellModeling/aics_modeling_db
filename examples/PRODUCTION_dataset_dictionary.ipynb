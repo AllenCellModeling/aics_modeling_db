{
 "cells": [
  {
   "cell_type": "code",
   "execution_count": 1,
   "metadata": {},
   "outputs": [],
   "source": [
    "import datasetdatabase as dsdb"
   ]
  },
  {
   "cell_type": "code",
   "execution_count": 2,
   "metadata": {},
   "outputs": [
    {
     "data": {
      "text/plain": [
       "Recent Datasets:\n",
       "--------------------------------------------------------------------------------\n",
       "{'DatasetId': 11, 'Name': '1c65889d-55a1-4e3d-8a65-6991f88e59e8', 'Description': None, 'Introspector': 'datasetdatabase.introspect.dictionary.DictionaryIntrospector', 'MD5': '44756bfb4e6e37c61a0272dd562b718a', 'SHA256': 'f1a5796cf460e6f2e1c4c0d33bbbf51e374b2ffe03e9b910511614ddbda99825', 'Created': datetime.datetime(2018, 9, 12, 17, 31, 56, 987978)}\n",
       "{'DatasetId': 10, 'Name': '2182e4dc-aa36-4940-ade0-3dd550ab6be2', 'Description': None, 'Introspector': 'datasetdatabase.introspect.dataframe.DataFrameIntrospector', 'MD5': '4598bd1a447612ef639161cd748f0636', 'SHA256': 'b42767ed7e6aa279f53cc4da25a186118bc5e725445c8559fc9559fd9d1a5337', 'Created': datetime.datetime(2018, 9, 12, 10, 18, 59, 854490)}\n",
       "{'DatasetId': 9, 'Name': '9f8ab166-0225-4d7b-b3f4-1419a8fdcc82', 'Description': None, 'Introspector': 'datasetdatabase.introspect.dataframe.DataFrameIntrospector', 'MD5': 'c122978d184d8f9e4f4d03a2f268d8b5', 'SHA256': 'c9d51e116c57b22ac5bcebdc04f29b025995ebb5f95f19a22055b1c2f13f352e', 'Created': datetime.datetime(2018, 9, 12, 10, 15, 48, 607729)}\n",
       "{'DatasetId': 8, 'Name': 'cb943eb3-a5ba-45aa-81f1-a1ad5d5d2689', 'Description': None, 'Introspector': 'datasetdatabase.introspect.dataframe.DataFrameIntrospector', 'MD5': 'c4221b330f9657887363a503836de47a', 'SHA256': '81687d542c7cd7c6a364d06b34969c2a1d1e200730df7d05391186fa40ab6b6a', 'Created': datetime.datetime(2018, 9, 12, 10, 14, 46, 931828)}\n",
       "{'DatasetId': 7, 'Name': '78d8690a-a7ac-4031-b05f-6dfc9e9124a5', 'Description': None, 'Introspector': 'datasetdatabase.introspect.dictionary.DictionaryIntrospector', 'MD5': '4012c69bf258c8ba74491e789b023179', 'SHA256': 'c0ffe77dce19a29da8b6def355638d0908d74e787d550b9b86d2194fb27eca1f', 'Created': datetime.datetime(2018, 9, 12, 10, 11, 51, 543534)}"
      ]
     },
     "execution_count": 2,
     "metadata": {},
     "output_type": "execute_result"
    }
   ],
   "source": [
    "prod = dsdb.DatasetDatabase(config=\"/active/configs/aics.json\", build=True, user=\"jacksonb\")\n",
    "prod"
   ]
  },
  {
   "cell_type": "code",
   "execution_count": 3,
   "metadata": {},
   "outputs": [
    {
     "data": {
      "text/plain": [
       "{'hello': 'world', 'name': 'jackson', 'age': 23}"
      ]
     },
     "execution_count": 3,
     "metadata": {},
     "output_type": "execute_result"
    }
   ],
   "source": [
    "test = {\"hello\": \"world\", \"name\": \"jackson\", \"age\": 23}\n",
    "test"
   ]
  },
  {
   "cell_type": "code",
   "execution_count": 4,
   "metadata": {},
   "outputs": [
    {
     "data": {
      "text/plain": [
       "info: None\n",
       "ds: True\n",
       "name: 97ae8d0b-6f97-496f-8fde-719fc47f4c97\n",
       "description: None\n",
       "introspector: <class 'datasetdatabase.introspect.dictionary.DictionaryIntrospector'>\n",
       "validated: {'hello': False, 'name': False, 'age': False}\n",
       "md5: 44756bfb4e6e37c61a0272dd562b718a\n",
       "sha256: f1a5796cf460e6f2e1c4c0d33bbbf51e374b2ffe03e9b910511614ddbda99825\n",
       "annotations: []"
      ]
     },
     "execution_count": 4,
     "metadata": {},
     "output_type": "execute_result"
    }
   ],
   "source": [
    "test = dsdb.Dataset(test)\n",
    "test"
   ]
  },
  {
   "cell_type": "code",
   "execution_count": 5,
   "metadata": {},
   "outputs": [
    {
     "name": "stdout",
     "output_type": "stream",
     "text": [
      "Dataset processing has begun...\n",
      "Dataset processing has ended...\n"
     ]
    },
    {
     "data": {
      "text/plain": [
       "info: {'id': 11, 'name': '1c65889d-55a1-4e3d-8a65-6991f88e59e8', 'description': None, 'introspector': 'datasetdatabase.introspect.dictionary.DictionaryIntrospector', 'md5': '44756bfb4e6e37c61a0272dd562b718a', 'sha256': 'f1a5796cf460e6f2e1c4c0d33bbbf51e374b2ffe03e9b910511614ddbda99825', 'created': datetime.datetime(2018, 9, 12, 17, 31, 56, 987978)}\n",
       "ds: True\n",
       "name: 1c65889d-55a1-4e3d-8a65-6991f88e59e8\n",
       "description: None\n",
       "introspector: <class 'datasetdatabase.introspect.dictionary.DictionaryIntrospector'>\n",
       "validated: True\n",
       "md5: 44756bfb4e6e37c61a0272dd562b718a\n",
       "sha256: f1a5796cf460e6f2e1c4c0d33bbbf51e374b2ffe03e9b910511614ddbda99825\n",
       "annotations: []"
      ]
     },
     "execution_count": 5,
     "metadata": {},
     "output_type": "execute_result"
    }
   ],
   "source": [
    "test.upload_to(prod)\n",
    "test"
   ]
  }
 ],
 "metadata": {
  "kernelspec": {
   "display_name": "Python 3",
   "language": "python",
   "name": "python3"
  },
  "language_info": {
   "codemirror_mode": {
    "name": "ipython",
    "version": 3
   },
   "file_extension": ".py",
   "mimetype": "text/x-python",
   "name": "python",
   "nbconvert_exporter": "python",
   "pygments_lexer": "ipython3",
   "version": "3.6.5"
  }
 },
 "nbformat": 4,
 "nbformat_minor": 2
}
