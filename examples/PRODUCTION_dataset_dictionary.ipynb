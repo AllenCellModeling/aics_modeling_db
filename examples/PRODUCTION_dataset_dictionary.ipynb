{
 "cells": [
  {
   "cell_type": "code",
   "execution_count": 1,
   "metadata": {},
   "outputs": [],
   "source": [
    "import datasetdatabase as dsdb"
   ]
  },
  {
   "cell_type": "code",
   "execution_count": 2,
   "metadata": {},
   "outputs": [
    {
     "data": {
      "text/plain": [
       "Recent Datasets:\n",
       "--------------------------------------------------------------------------------\n",
       "{'DatasetId': 13, 'Name': '580e0a3a-0ded-4126-b751-6f68d94ade6c', 'Description': None, 'Introspector': 'datasetdatabase.introspect.dictionary.DictionaryIntrospector', 'MD5': 'edaa38d062c817ed4763b1c792df32b2', 'SHA256': '307821ea28d568522ae1e610e00577aae57dc53454576560446272ad11ec9154', 'Created': datetime.datetime(2018, 9, 12, 18, 53, 12, 615067)}\n",
       "{'DatasetId': 11, 'Name': '1c65889d-55a1-4e3d-8a65-6991f88e59e8', 'Description': None, 'Introspector': 'datasetdatabase.introspect.dictionary.DictionaryIntrospector', 'MD5': '44756bfb4e6e37c61a0272dd562b718a', 'SHA256': 'f1a5796cf460e6f2e1c4c0d33bbbf51e374b2ffe03e9b910511614ddbda99825', 'Created': datetime.datetime(2018, 9, 12, 17, 31, 56, 987978)}\n",
       "{'DatasetId': 12, 'Name': 'MitoEval20180821', 'Description': 'Mitosis Test Data for Mito-classification', 'Introspector': 'datasetdatabase.introspect.dataframe.DataFrameIntrospector', 'MD5': 'a1a87e053e3012d122499b79d07101a7', 'SHA256': '21580779a1ef880725b2e3c21520be92861971e3befb5b135bde8b36b49adcd3', 'Created': datetime.datetime(2018, 9, 12, 11, 45, 15, 868730)}\n",
       "{'DatasetId': 10, 'Name': '2182e4dc-aa36-4940-ade0-3dd550ab6be2', 'Description': None, 'Introspector': 'datasetdatabase.introspect.dataframe.DataFrameIntrospector', 'MD5': '4598bd1a447612ef639161cd748f0636', 'SHA256': 'b42767ed7e6aa279f53cc4da25a186118bc5e725445c8559fc9559fd9d1a5337', 'Created': datetime.datetime(2018, 9, 12, 10, 18, 59, 854490)}\n",
       "{'DatasetId': 9, 'Name': '9f8ab166-0225-4d7b-b3f4-1419a8fdcc82', 'Description': None, 'Introspector': 'datasetdatabase.introspect.dataframe.DataFrameIntrospector', 'MD5': 'c122978d184d8f9e4f4d03a2f268d8b5', 'SHA256': 'c9d51e116c57b22ac5bcebdc04f29b025995ebb5f95f19a22055b1c2f13f352e', 'Created': datetime.datetime(2018, 9, 12, 10, 15, 48, 607729)}"
      ]
     },
     "execution_count": 2,
     "metadata": {},
     "output_type": "execute_result"
    }
   ],
   "source": [
    "prod = dsdb.DatasetDatabase(config=\"/active/configs/aics.json\", build=True, user=\"jacksonb\")\n",
    "prod"
   ]
  },
  {
   "cell_type": "code",
   "execution_count": 3,
   "metadata": {},
   "outputs": [
    {
     "data": {
      "text/plain": [
       "{'hello': 'world', 'name': 'jackson', 'age': 23, 'foo': 'baz'}"
      ]
     },
     "execution_count": 3,
     "metadata": {},
     "output_type": "execute_result"
    }
   ],
   "source": [
    "test = {\"hello\": \"world\", \"name\": \"jackson\", \"age\": 23, \"foo\": \"baz\"}\n",
    "test"
   ]
  },
  {
   "cell_type": "code",
   "execution_count": 4,
   "metadata": {},
   "outputs": [
    {
     "data": {
      "text/plain": [
       "info: None\n",
       "ds: True\n",
       "name: 8b79c95b-114e-4ddf-8e58-2172e629ca2a\n",
       "description: None\n",
       "introspector: <class 'datasetdatabase.introspect.dictionary.DictionaryIntrospector'>\n",
       "validated: {'hello': False, 'name': False, 'age': False, 'foo': False}\n",
       "md5: e47c68bda0262c402f15fc5b62503a24\n",
       "sha256: 2b50102f3639e1427136ab4afa7715536d41fda1d0a082bb567aafc63492b2ac\n",
       "annotations: []"
      ]
     },
     "execution_count": 4,
     "metadata": {},
     "output_type": "execute_result"
    }
   ],
   "source": [
    "test = dsdb.Dataset(test)\n",
    "test"
   ]
  },
  {
   "cell_type": "code",
   "execution_count": 5,
   "metadata": {},
   "outputs": [
    {
     "name": "stdout",
     "output_type": "stream",
     "text": [
      "Dataset processing has begun...\n",
      "Dataset processing has ended...\n",
      "[============================================================] 100.0% 4/4 ~ 0:0:0 remaining\n"
     ]
    },
    {
     "data": {
      "text/plain": [
       "info: {'id': 14, 'name': '8b79c95b-114e-4ddf-8e58-2172e629ca2a', 'description': None, 'introspector': 'datasetdatabase.introspect.dictionary.DictionaryIntrospector', 'md5': 'e47c68bda0262c402f15fc5b62503a24', 'sha256': '2b50102f3639e1427136ab4afa7715536d41fda1d0a082bb567aafc63492b2ac', 'created': datetime.datetime(2018, 9, 12, 18, 58, 11, 489338)}\n",
       "ds: True\n",
       "name: 8b79c95b-114e-4ddf-8e58-2172e629ca2a\n",
       "description: None\n",
       "introspector: <class 'datasetdatabase.introspect.dictionary.DictionaryIntrospector'>\n",
       "validated: True\n",
       "md5: e47c68bda0262c402f15fc5b62503a24\n",
       "sha256: 2b50102f3639e1427136ab4afa7715536d41fda1d0a082bb567aafc63492b2ac\n",
       "annotations: []"
      ]
     },
     "execution_count": 5,
     "metadata": {},
     "output_type": "execute_result"
    }
   ],
   "source": [
    "test.upload_to(prod)\n",
    "test"
   ]
  },
  {
   "cell_type": "code",
   "execution_count": 7,
   "metadata": {},
   "outputs": [
    {
     "name": "stdout",
     "output_type": "stream",
     "text": [
      "Reconstructing dataset...\n",
      "[============================================================] 100.0% 4/4 ~ 0:0:0 remaining\n"
     ]
    },
    {
     "data": {
      "text/plain": [
       "info: {'id': 14, 'name': '8b79c95b-114e-4ddf-8e58-2172e629ca2a', 'description': None, 'introspector': 'datasetdatabase.introspect.dictionary.DictionaryIntrospector', 'md5': 'e47c68bda0262c402f15fc5b62503a24', 'sha256': '2b50102f3639e1427136ab4afa7715536d41fda1d0a082bb567aafc63492b2ac', 'created': datetime.datetime(2018, 9, 12, 18, 58, 11, 489338)}\n",
       "ds: True\n",
       "name: 8b79c95b-114e-4ddf-8e58-2172e629ca2a\n",
       "description: None\n",
       "introspector: <class 'datasetdatabase.introspect.dictionary.DictionaryIntrospector'>\n",
       "validated: True\n",
       "md5: e47c68bda0262c402f15fc5b62503a24\n",
       "sha256: 2b50102f3639e1427136ab4afa7715536d41fda1d0a082bb567aafc63492b2ac\n",
       "annotations: []"
      ]
     },
     "execution_count": 7,
     "metadata": {},
     "output_type": "execute_result"
    }
   ],
   "source": [
    "test = prod.get_dataset(14)\n",
    "test"
   ]
  }
 ],
 "metadata": {
  "kernelspec": {
   "display_name": "Python 3",
   "language": "python",
   "name": "python3"
  },
  "language_info": {
   "codemirror_mode": {
    "name": "ipython",
    "version": 3
   },
   "file_extension": ".py",
   "mimetype": "text/x-python",
   "name": "python",
   "nbconvert_exporter": "python",
   "pygments_lexer": "ipython3",
   "version": "3.6.5"
  }
 },
 "nbformat": 4,
 "nbformat_minor": 2
}
