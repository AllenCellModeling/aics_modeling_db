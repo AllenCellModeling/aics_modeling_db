{
 "cells": [
  {
   "cell_type": "markdown",
   "metadata": {},
   "source": [
    "# dsdb.ConnectionManager\n",
    "\n",
    "### What is it?\n",
    "A connection manager is an object you will create before you connect to any dataset database. It will store, and manage the creation, backup, restoration, migration, and teardown of different databases in it's connection map.\n",
    "\n",
    "### Why use it?\n",
    "Besides checking the parameters of your connections for you. It helps make migration between databases really simple. Why would you do that? Let's say you ingested a dataset locally and want to push that dataset to a production or staging dataset database. With this, that is a simple call to get either all data or a subset of data from your local dsdb instance to the production or staging instance.\n",
    "\n",
    "### Index\n",
    "1) [Initialization](#Initialization)\n",
    "\n",
    "2) Connect\n",
    "\n",
    "3) Backup\n",
    "\n",
    "4) Teardown\n",
    "\n",
    "5) Restore\n",
    "\n",
    "6) Migrate"
   ]
  },
  {
   "cell_type": "markdown",
   "metadata": {},
   "source": [
    "## Initialization\n",
    "Below are all the functions needed to create links to various instances of dataset databases.\n",
    "\n",
    "**Note: This does not create the databases themselves this just creates links to them.**"
   ]
  },
  {
   "cell_type": "code",
   "execution_count": 1,
   "metadata": {},
   "outputs": [],
   "source": [
    "import datasetdatabase as dsdb"
   ]
  },
  {
   "cell_type": "code",
   "execution_count": 2,
   "metadata": {},
   "outputs": [],
   "source": [
    "mngr = dsdb.ConnectionManager()"
   ]
  },
  {
   "cell_type": "code",
   "execution_count": 3,
   "metadata": {},
   "outputs": [
    {
     "name": "stdout",
     "output_type": "stream",
     "text": [
      "local:\n",
      "\tdriver: sqlite\n",
      "\tlink: /active/examples/local_database/local.db\n"
     ]
    }
   ],
   "source": [
    "# initialization a connection to a local database\n",
    "mngr.add_connections(\"local\")\n",
    "print(mngr)"
   ]
  },
  {
   "cell_type": "code",
   "execution_count": 4,
   "metadata": {},
   "outputs": [
    {
     "data": {
      "text/plain": [
       "local:\n",
       "\tdriver: sqlite\n",
       "\tlink: /active/examples/local_database/local.db\n",
       "local_2:\n",
       "\tdriver: sqlite\n",
       "\tlink: /active/examples/local_database/local_2.db"
      ]
     },
     "execution_count": 4,
     "metadata": {},
     "output_type": "execute_result"
    }
   ],
   "source": [
    "# pass a custom dictionary config to the connection manager\n",
    "config = {\"local_2\": {\"driver\": \"sqlite\", \"database\": \"/active/examples/local_database/local_2.db\"}}\n",
    "mngr.add_connections(config)\n",
    "mngr"
   ]
  },
  {
   "cell_type": "code",
   "execution_count": 5,
   "metadata": {},
   "outputs": [
    {
     "data": {
      "text/plain": [
       "local:\n",
       "\tdriver: sqlite\n",
       "\tlink: /active/examples/local_database/remake.db\n",
       "local_2:\n",
       "\tdriver: sqlite\n",
       "\tlink: /active/examples/local_database/local_2.db"
      ]
     },
     "execution_count": 5,
     "metadata": {},
     "output_type": "execute_result"
    }
   ],
   "source": [
    "# override an existing connection with new config settings\n",
    "config = {\"local\": {\"driver\": \"sqlite\", \"database\": \"/active/examples/local_database/remake.db\"}}\n",
    "mngr.add_connections(config, override_existing=True)\n",
    "mngr"
   ]
  },
  {
   "cell_type": "code",
   "execution_count": 6,
   "metadata": {},
   "outputs": [
    {
     "data": {
      "text/plain": [
       "local:\n",
       "\tdriver: sqlite\n",
       "\tlink: /active/examples/local_database/passed_path.db"
      ]
     },
     "execution_count": 6,
     "metadata": {},
     "output_type": "execute_result"
    }
   ],
   "source": [
    "# initialize and pass connection settings\n",
    "mngr = dsdb.ConnectionManager(\"local\", local_store=\"/active/examples/local_database/passed_path.db\")\n",
    "mngr"
   ]
  },
  {
   "cell_type": "code",
   "execution_count": 7,
   "metadata": {},
   "outputs": [
    {
     "data": {
      "text/plain": [
       "prod:\n",
       "\tdriver: sqlite\n",
       "\tlink: /active/examples/local_database/prod.db\n",
       "stg:\n",
       "\tdriver: sqlite\n",
       "\tlink: /active/examples/local_database/stg.db"
      ]
     },
     "execution_count": 7,
     "metadata": {},
     "output_type": "execute_result"
    }
   ],
   "source": [
    "# muliple configs at once\n",
    "config = {\"prod\": {\n",
    "            \"driver\": \"sqlite\",\n",
    "            \"database\": \"/active/examples/local_database/prod.db\"},\n",
    "          \"stg\": {\n",
    "            \"driver\": \"sqlite\",\n",
    "            \"database\": \"/active/examples/local_database/stg.db\"}\n",
    "         }\n",
    "\n",
    "# can be passed directly into the ConnectionManager initialization function\n",
    "mngr = dsdb.ConnectionManager(config)\n",
    "mngr"
   ]
  },
  {
   "cell_type": "code",
   "execution_count": 8,
   "metadata": {},
   "outputs": [
    {
     "data": {
      "text/plain": [
       "prod:\n",
       "\tdriver: sqlite\n",
       "\tlink: /active/examples/local_database/prod.db\n",
       "stg:\n",
       "\tdriver: sqlite\n",
       "\tlink: /active/examples/local_database/stg.db\n",
       "local:\n",
       "\tdriver: sqlite\n",
       "\tlink: /active/examples/local_database/custom_store.db"
      ]
     },
     "execution_count": 8,
     "metadata": {},
     "output_type": "execute_result"
    }
   ],
   "source": [
    "# create a local instance with a custom link\n",
    "mngr.add_connections(\"local\", local_store=\"/active/examples/local_database/custom_store.db\")\n",
    "mngr"
   ]
  },
  {
   "cell_type": "code",
   "execution_count": 9,
   "metadata": {},
   "outputs": [
    {
     "data": {
      "text/plain": [
       "prod:\n",
       "\tdriver: sqlite\n",
       "\tlink: /active/examples/local_database/prod.db\n",
       "stg:\n",
       "\tdriver: sqlite\n",
       "\tlink: /active/examples/local_database/stg.db\n",
       "custom:\n",
       "\tdriver: sqlite\n",
       "\tlink: /active/examples/local_database/custom_store.db"
      ]
     },
     "execution_count": 9,
     "metadata": {},
     "output_type": "execute_result"
    }
   ],
   "source": [
    "# update a connection name\n",
    "mngr.rename_connection(\"local\", \"custom\")\n",
    "mngr"
   ]
  },
  {
   "cell_type": "code",
   "execution_count": 10,
   "metadata": {},
   "outputs": [
    {
     "data": {
      "text/plain": [
       "{'custom': {'driver': 'sqlite',\n",
       "  'database': PosixPath('/active/examples/local_database/custom_store.db')}}"
      ]
     },
     "execution_count": 10,
     "metadata": {},
     "output_type": "execute_result"
    }
   ],
   "source": [
    "# connection config can be retrieved using keys\n",
    "mngr[\"custom\"]"
   ]
  },
  {
   "cell_type": "code",
   "execution_count": 11,
   "metadata": {},
   "outputs": [
    {
     "ename": "AssertionError",
     "evalue": "A connection with that name already exists.",
     "output_type": "error",
     "traceback": [
      "\u001b[0;31m---------------------------------------------------------------------------\u001b[0m",
      "\u001b[0;31mAssertionError\u001b[0m                            Traceback (most recent call last)",
      "\u001b[0;32m<ipython-input-11-a72d6d9116a8>\u001b[0m in \u001b[0;36m<module>\u001b[0;34m()\u001b[0m\n\u001b[1;32m      1\u001b[0m \u001b[0;31m# connection already exists\u001b[0m\u001b[0;34m\u001b[0m\u001b[0;34m\u001b[0m\u001b[0m\n\u001b[1;32m      2\u001b[0m \u001b[0mmngr\u001b[0m\u001b[0;34m.\u001b[0m\u001b[0madd_connections\u001b[0m\u001b[0;34m(\u001b[0m\u001b[0;34m\"local\"\u001b[0m\u001b[0;34m)\u001b[0m\u001b[0;34m\u001b[0m\u001b[0m\n\u001b[0;32m----> 3\u001b[0;31m \u001b[0mmngr\u001b[0m\u001b[0;34m.\u001b[0m\u001b[0madd_connections\u001b[0m\u001b[0;34m(\u001b[0m\u001b[0;34m\"local\"\u001b[0m\u001b[0;34m)\u001b[0m\u001b[0;34m\u001b[0m\u001b[0m\n\u001b[0m\u001b[1;32m      4\u001b[0m \u001b[0mmngr\u001b[0m\u001b[0;34m\u001b[0m\u001b[0m\n",
      "\u001b[0;32m/active/datasetdatabase/core/connectionmanager.py\u001b[0m in \u001b[0;36madd_connections\u001b[0;34m(self, config, override_existing, local_store)\u001b[0m\n\u001b[1;32m    151\u001b[0m                 \u001b[0;32mif\u001b[0m \u001b[0;32mnot\u001b[0m \u001b[0moverride_existing\u001b[0m\u001b[0;34m:\u001b[0m\u001b[0;34m\u001b[0m\u001b[0m\n\u001b[1;32m    152\u001b[0m                     \u001b[0;32massert\u001b[0m \u001b[0;34m\"local\"\u001b[0m \u001b[0;32mnot\u001b[0m \u001b[0;32min\u001b[0m \u001b[0mself\u001b[0m\u001b[0;34m.\u001b[0m\u001b[0mconnections\u001b[0m\u001b[0;34m,\u001b[0m\u001b[0;31m \u001b[0m\u001b[0;31m\\\u001b[0m\u001b[0;34m\u001b[0m\u001b[0m\n\u001b[0;32m--> 153\u001b[0;31m                         \u001b[0;34m\"A connection with that name already exists.\"\u001b[0m\u001b[0;34m\u001b[0m\u001b[0m\n\u001b[0m\u001b[1;32m    154\u001b[0m \u001b[0;34m\u001b[0m\u001b[0m\n\u001b[1;32m    155\u001b[0m                 \u001b[0;32mif\u001b[0m \u001b[0mlocal_store\u001b[0m \u001b[0;32mis\u001b[0m \u001b[0;32mNone\u001b[0m\u001b[0;34m:\u001b[0m\u001b[0;34m\u001b[0m\u001b[0m\n",
      "\u001b[0;31mAssertionError\u001b[0m: A connection with that name already exists."
     ]
    }
   ],
   "source": [
    "# connection already exists\n",
    "mngr.add_connections(\"local\")\n",
    "mngr.add_connections(\"local\")\n",
    "mngr"
   ]
  },
  {
   "cell_type": "code",
   "execution_count": 12,
   "metadata": {},
   "outputs": [
    {
     "ename": "AssertionError",
     "evalue": "A connection with that name already exists.",
     "output_type": "error",
     "traceback": [
      "\u001b[0;31m---------------------------------------------------------------------------\u001b[0m",
      "\u001b[0;31mAssertionError\u001b[0m                            Traceback (most recent call last)",
      "\u001b[0;32m<ipython-input-12-37b4cfbd8475>\u001b[0m in \u001b[0;36m<module>\u001b[0;34m()\u001b[0m\n\u001b[1;32m      1\u001b[0m \u001b[0;31m# link already exists\u001b[0m\u001b[0;34m\u001b[0m\u001b[0;34m\u001b[0m\u001b[0m\n\u001b[0;32m----> 2\u001b[0;31m \u001b[0mmngr\u001b[0m\u001b[0;34m.\u001b[0m\u001b[0madd_connections\u001b[0m\u001b[0;34m(\u001b[0m\u001b[0;34m{\u001b[0m\u001b[0;34m\"custom\"\u001b[0m\u001b[0;34m:\u001b[0m \u001b[0;34m{\u001b[0m\u001b[0;34m\"driver\"\u001b[0m\u001b[0;34m:\u001b[0m \u001b[0;34m\"sqlite\"\u001b[0m\u001b[0;34m,\u001b[0m \u001b[0;34m\"database\"\u001b[0m\u001b[0;34m:\u001b[0m \u001b[0;34m\"/active/examples/local_database/custom_store.db\"\u001b[0m\u001b[0;34m}\u001b[0m\u001b[0;34m}\u001b[0m\u001b[0;34m)\u001b[0m\u001b[0;34m\u001b[0m\u001b[0m\n\u001b[0m\u001b[1;32m      3\u001b[0m \u001b[0mmngr\u001b[0m\u001b[0;34m\u001b[0m\u001b[0m\n",
      "\u001b[0;32m/active/datasetdatabase/core/connectionmanager.py\u001b[0m in \u001b[0;36madd_connections\u001b[0;34m(self, config, override_existing, local_store)\u001b[0m\n\u001b[1;32m    196\u001b[0m                 \u001b[0;32mfor\u001b[0m \u001b[0mn\u001b[0m\u001b[0;34m,\u001b[0m \u001b[0mc\u001b[0m \u001b[0;32min\u001b[0m \u001b[0mself\u001b[0m\u001b[0;34m.\u001b[0m\u001b[0mconnections\u001b[0m\u001b[0;34m.\u001b[0m\u001b[0mitems\u001b[0m\u001b[0;34m(\u001b[0m\u001b[0;34m)\u001b[0m\u001b[0;34m:\u001b[0m\u001b[0;34m\u001b[0m\u001b[0m\n\u001b[1;32m    197\u001b[0m                     \u001b[0;32massert\u001b[0m \u001b[0mname\u001b[0m \u001b[0;34m!=\u001b[0m \u001b[0mn\u001b[0m\u001b[0;34m,\u001b[0m\u001b[0;31m \u001b[0m\u001b[0;31m\\\u001b[0m\u001b[0;34m\u001b[0m\u001b[0m\n\u001b[0;32m--> 198\u001b[0;31m                         \u001b[0;34m\"A connection with that name already exists.\"\u001b[0m\u001b[0;34m\u001b[0m\u001b[0m\n\u001b[0m\u001b[1;32m    199\u001b[0m                     \u001b[0;32mif\u001b[0m \u001b[0misinstance\u001b[0m\u001b[0;34m(\u001b[0m\u001b[0mc\u001b[0m\u001b[0;34m[\u001b[0m\u001b[0mn\u001b[0m\u001b[0;34m]\u001b[0m\u001b[0;34m[\u001b[0m\u001b[0;34m\"database\"\u001b[0m\u001b[0;34m]\u001b[0m\u001b[0;34m,\u001b[0m \u001b[0mstr\u001b[0m\u001b[0;34m)\u001b[0m\u001b[0;34m:\u001b[0m\u001b[0;34m\u001b[0m\u001b[0m\n\u001b[1;32m    200\u001b[0m                         \u001b[0;32massert\u001b[0m \u001b[0mc\u001b[0m\u001b[0;34m[\u001b[0m\u001b[0mn\u001b[0m\u001b[0;34m]\u001b[0m\u001b[0;34m[\u001b[0m\u001b[0;34m\"database\"\u001b[0m\u001b[0;34m]\u001b[0m \u001b[0;34m!=\u001b[0m \u001b[0mstr\u001b[0m\u001b[0;34m(\u001b[0m\u001b[0mcnfg\u001b[0m\u001b[0;34m[\u001b[0m\u001b[0;34m\"database\"\u001b[0m\u001b[0;34m]\u001b[0m\u001b[0;34m)\u001b[0m\u001b[0;34m,\u001b[0m\u001b[0;31m \u001b[0m\u001b[0;31m\\\u001b[0m\u001b[0;34m\u001b[0m\u001b[0m\n",
      "\u001b[0;31mAssertionError\u001b[0m: A connection with that name already exists."
     ]
    }
   ],
   "source": [
    "# link already exists\n",
    "mngr.add_connections({\"custom\": {\"driver\": \"sqlite\", \"database\": \"/active/examples/local_database/custom_store.db\"}})\n",
    "mngr"
   ]
  },
  {
   "cell_type": "code",
   "execution_count": 13,
   "metadata": {},
   "outputs": [
    {
     "ename": "AssertionError",
     "evalue": "Connection requires a driver.",
     "output_type": "error",
     "traceback": [
      "\u001b[0;31m---------------------------------------------------------------------------\u001b[0m",
      "\u001b[0;31mAssertionError\u001b[0m                            Traceback (most recent call last)",
      "\u001b[0;32m<ipython-input-13-d8c235e38893>\u001b[0m in \u001b[0;36m<module>\u001b[0;34m()\u001b[0m\n\u001b[1;32m      1\u001b[0m \u001b[0;31m# missing driver\u001b[0m\u001b[0;34m\u001b[0m\u001b[0;34m\u001b[0m\u001b[0m\n\u001b[0;32m----> 2\u001b[0;31m \u001b[0mmngr\u001b[0m\u001b[0;34m.\u001b[0m\u001b[0madd_connections\u001b[0m\u001b[0;34m(\u001b[0m\u001b[0;34m{\u001b[0m\u001b[0;34m\"custom\"\u001b[0m\u001b[0;34m:\u001b[0m \u001b[0;34m{\u001b[0m\u001b[0;34m\"database\"\u001b[0m\u001b[0;34m:\u001b[0m \u001b[0;34m\"/active/examples/local_database/custom_store.db\"\u001b[0m\u001b[0;34m}\u001b[0m\u001b[0;34m}\u001b[0m\u001b[0;34m)\u001b[0m\u001b[0;34m\u001b[0m\u001b[0m\n\u001b[0m\u001b[1;32m      3\u001b[0m \u001b[0mmngr\u001b[0m\u001b[0;34m\u001b[0m\u001b[0m\n",
      "\u001b[0;32m/active/datasetdatabase/core/connectionmanager.py\u001b[0m in \u001b[0;36madd_connections\u001b[0;34m(self, config, override_existing, local_store)\u001b[0m\n\u001b[1;32m    183\u001b[0m         \u001b[0;31m# check config\u001b[0m\u001b[0;34m\u001b[0m\u001b[0;34m\u001b[0m\u001b[0m\n\u001b[1;32m    184\u001b[0m         \u001b[0;32mfor\u001b[0m \u001b[0mname\u001b[0m\u001b[0;34m,\u001b[0m \u001b[0mcnfg\u001b[0m \u001b[0;32min\u001b[0m \u001b[0mconfig\u001b[0m\u001b[0;34m.\u001b[0m\u001b[0mitems\u001b[0m\u001b[0;34m(\u001b[0m\u001b[0;34m)\u001b[0m\u001b[0;34m:\u001b[0m\u001b[0;34m\u001b[0m\u001b[0m\n\u001b[0;32m--> 185\u001b[0;31m             \u001b[0;32massert\u001b[0m \u001b[0;34m\"driver\"\u001b[0m \u001b[0;32min\u001b[0m \u001b[0mcnfg\u001b[0m\u001b[0;34m,\u001b[0m \u001b[0;34m\"Connection requires a driver.\"\u001b[0m\u001b[0;34m\u001b[0m\u001b[0m\n\u001b[0m\u001b[1;32m    186\u001b[0m             \u001b[0;32massert\u001b[0m \u001b[0;34m\"database\"\u001b[0m \u001b[0;32min\u001b[0m \u001b[0mcnfg\u001b[0m\u001b[0;34m,\u001b[0m \u001b[0;34m\"Connection requires a link.\"\u001b[0m\u001b[0;34m\u001b[0m\u001b[0m\n\u001b[1;32m    187\u001b[0m             checks.check_types(cnfg[\"driver\"],\n",
      "\u001b[0;31mAssertionError\u001b[0m: Connection requires a driver."
     ]
    }
   ],
   "source": [
    "# missing driver\n",
    "mngr.add_connections({\"custom\": {\"database\": \"/active/examples/local_database/custom_store.db\"}})\n",
    "mngr"
   ]
  },
  {
   "cell_type": "code",
   "execution_count": 14,
   "metadata": {},
   "outputs": [
    {
     "ename": "AssertionError",
     "evalue": "Connection requires a link.",
     "output_type": "error",
     "traceback": [
      "\u001b[0;31m---------------------------------------------------------------------------\u001b[0m",
      "\u001b[0;31mAssertionError\u001b[0m                            Traceback (most recent call last)",
      "\u001b[0;32m<ipython-input-14-4ef3065b5b19>\u001b[0m in \u001b[0;36m<module>\u001b[0;34m()\u001b[0m\n\u001b[1;32m      1\u001b[0m \u001b[0;31m# missing link\u001b[0m\u001b[0;34m\u001b[0m\u001b[0;34m\u001b[0m\u001b[0m\n\u001b[0;32m----> 2\u001b[0;31m \u001b[0mmngr\u001b[0m\u001b[0;34m.\u001b[0m\u001b[0madd_connections\u001b[0m\u001b[0;34m(\u001b[0m\u001b[0;34m{\u001b[0m\u001b[0;34m\"custom\"\u001b[0m\u001b[0;34m:\u001b[0m \u001b[0;34m{\u001b[0m\u001b[0;34m\"driver\"\u001b[0m\u001b[0;34m:\u001b[0m \u001b[0;34m\"sqlite\"\u001b[0m\u001b[0;34m}\u001b[0m\u001b[0;34m}\u001b[0m\u001b[0;34m)\u001b[0m\u001b[0;34m\u001b[0m\u001b[0m\n\u001b[0m\u001b[1;32m      3\u001b[0m \u001b[0mmngr\u001b[0m\u001b[0;34m\u001b[0m\u001b[0m\n",
      "\u001b[0;32m/active/datasetdatabase/core/connectionmanager.py\u001b[0m in \u001b[0;36madd_connections\u001b[0;34m(self, config, override_existing, local_store)\u001b[0m\n\u001b[1;32m    184\u001b[0m         \u001b[0;32mfor\u001b[0m \u001b[0mname\u001b[0m\u001b[0;34m,\u001b[0m \u001b[0mcnfg\u001b[0m \u001b[0;32min\u001b[0m \u001b[0mconfig\u001b[0m\u001b[0;34m.\u001b[0m\u001b[0mitems\u001b[0m\u001b[0;34m(\u001b[0m\u001b[0;34m)\u001b[0m\u001b[0;34m:\u001b[0m\u001b[0;34m\u001b[0m\u001b[0m\n\u001b[1;32m    185\u001b[0m             \u001b[0;32massert\u001b[0m \u001b[0;34m\"driver\"\u001b[0m \u001b[0;32min\u001b[0m \u001b[0mcnfg\u001b[0m\u001b[0;34m,\u001b[0m \u001b[0;34m\"Connection requires a driver.\"\u001b[0m\u001b[0;34m\u001b[0m\u001b[0m\n\u001b[0;32m--> 186\u001b[0;31m             \u001b[0;32massert\u001b[0m \u001b[0;34m\"database\"\u001b[0m \u001b[0;32min\u001b[0m \u001b[0mcnfg\u001b[0m\u001b[0;34m,\u001b[0m \u001b[0;34m\"Connection requires a link.\"\u001b[0m\u001b[0;34m\u001b[0m\u001b[0m\n\u001b[0m\u001b[1;32m    187\u001b[0m             checks.check_types(cnfg[\"driver\"],\n\u001b[1;32m    188\u001b[0m                                \u001b[0mstr\u001b[0m\u001b[0;34m,\u001b[0m\u001b[0;34m\u001b[0m\u001b[0m\n",
      "\u001b[0;31mAssertionError\u001b[0m: Connection requires a link."
     ]
    }
   ],
   "source": [
    "# missing link\n",
    "mngr.add_connections({\"custom\": {\"driver\": \"sqlite\"}})\n",
    "mngr"
   ]
  },
  {
   "cell_type": "code",
   "execution_count": null,
   "metadata": {},
   "outputs": [],
   "source": []
  }
 ],
 "metadata": {
  "kernelspec": {
   "display_name": "Python 3",
   "language": "python",
   "name": "python3"
  },
  "language_info": {
   "codemirror_mode": {
    "name": "ipython",
    "version": 3
   },
   "file_extension": ".py",
   "mimetype": "text/x-python",
   "name": "python",
   "nbconvert_exporter": "python",
   "pygments_lexer": "ipython3",
   "version": "3.6.5"
  }
 },
 "nbformat": 4,
 "nbformat_minor": 2
}
