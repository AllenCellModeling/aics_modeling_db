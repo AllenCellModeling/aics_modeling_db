{
 "cells": [
  {
   "cell_type": "markdown",
   "metadata": {},
   "source": [
    "# dsdb.ConnectionManager\n",
    "\n",
    "### What is it?\n",
    "A connection manager is an object you will create before you connect to any dataset database. It will store, and manage the creation, backup, restoration, migration, and teardown of different databases in it's connection map.\n",
    "\n",
    "### Why use it?\n",
    "Besides checking the parameters of your connections for you. It helps make migration between databases really simple. Why would you do that? Let's say you ingested a dataset locally and want to push that dataset to a production or staging dataset database. With this, that is a simple call to get either all data or a subset of data from your local dsdb instance to the production or staging instance.\n",
    "\n",
    "### Index\n",
    "1) [Initialization](#Initialization)\n",
    "\n",
    "2) Connect\n",
    "\n",
    "3) Backup\n",
    "\n",
    "4) Teardown\n",
    "\n",
    "5) Restore\n",
    "\n",
    "6) Migrate"
   ]
  },
  {
   "cell_type": "markdown",
   "metadata": {},
   "source": [
    "## Initialization\n",
    "Below are all the functions needed to create links to various instances of dataset databases.\n",
    "\n",
    "**Note: This does not create the databases themselves this just creates links to them.**"
   ]
  },
  {
   "cell_type": "code",
   "execution_count": 1,
   "metadata": {},
   "outputs": [
    {
     "ename": "ModuleNotFoundError",
     "evalue": "No module named 'datasetdatabase'",
     "output_type": "error",
     "traceback": [
      "\u001b[0;31m---------------------------------------------------------------------------\u001b[0m",
      "\u001b[0;31mModuleNotFoundError\u001b[0m                       Traceback (most recent call last)",
      "\u001b[0;32m<ipython-input-1-d7b529d18776>\u001b[0m in \u001b[0;36m<module>\u001b[0;34m()\u001b[0m\n\u001b[0;32m----> 1\u001b[0;31m \u001b[0;32mimport\u001b[0m \u001b[0mdatasetdatabase\u001b[0m \u001b[0;32mas\u001b[0m \u001b[0mdsdb\u001b[0m\u001b[0;34m\u001b[0m\u001b[0m\n\u001b[0m\u001b[1;32m      2\u001b[0m \u001b[0muser\u001b[0m \u001b[0;34m=\u001b[0m \u001b[0;34m\"jacksonb\"\u001b[0m\u001b[0;34m\u001b[0m\u001b[0m\n",
      "\u001b[0;31mModuleNotFoundError\u001b[0m: No module named 'datasetdatabase'"
     ]
    }
   ],
   "source": [
    "import datasetdatabase as dsdb\n",
    "user = \"jacksonb\""
   ]
  },
  {
   "cell_type": "code",
   "execution_count": null,
   "metadata": {},
   "outputs": [],
   "source": [
    "mngr = dsdb.ConnectionManager(user=user)"
   ]
  },
  {
   "cell_type": "code",
   "execution_count": null,
   "metadata": {},
   "outputs": [],
   "source": [
    "# initialization a connection to a local database\n",
    "mngr.add_connections(dsdb.LOCAL)\n",
    "print(mngr)"
   ]
  },
  {
   "cell_type": "code",
   "execution_count": null,
   "metadata": {},
   "outputs": [],
   "source": [
    "# pass a custom dictionary config to the connection manager\n",
    "config = {\"local_2\": {\"driver\": \"sqlite\", \"database\": \"/active/examples/local_database/local_2.db\"}}\n",
    "mngr.add_connections(config)\n",
    "mngr"
   ]
  },
  {
   "cell_type": "code",
   "execution_count": null,
   "metadata": {},
   "outputs": [],
   "source": [
    "# override an existing connection with new config settings\n",
    "config = {dsdb.LOCAL: {\"driver\": \"sqlite\", \"database\": \"/active/examples/local_database/remake.db\"}}\n",
    "mngr.add_connections(config, override_existing=True)\n",
    "mngr"
   ]
  },
  {
   "cell_type": "code",
   "execution_count": null,
   "metadata": {},
   "outputs": [],
   "source": [
    "# initialize and pass connection settings\n",
    "mngr = dsdb.ConnectionManager(dsdb.LOCAL, local_store=\"/active/examples/local_database/passed_path.db\", user=user)\n",
    "mngr"
   ]
  },
  {
   "cell_type": "code",
   "execution_count": null,
   "metadata": {},
   "outputs": [],
   "source": [
    "# muliple configs at once\n",
    "config = {\"prod\": {\n",
    "            \"driver\": \"sqlite\",\n",
    "            \"database\": \"/active/examples/local_database/prod.db\"},\n",
    "          \"stg\": {\n",
    "            \"driver\": \"sqlite\",\n",
    "            \"database\": \"/active/examples/local_database/stg.db\"}\n",
    "         }\n",
    "\n",
    "# can be passed directly into the ConnectionManager initialization function\n",
    "mngr = dsdb.ConnectionManager(config, user=user)\n",
    "mngr"
   ]
  },
  {
   "cell_type": "code",
   "execution_count": null,
   "metadata": {},
   "outputs": [],
   "source": [
    "# create a local instance with a custom link\n",
    "mngr.add_connections(dsdb.LOCAL, local_store=\"/active/examples/local_database/custom_store.db\")\n",
    "mngr"
   ]
  },
  {
   "cell_type": "code",
   "execution_count": null,
   "metadata": {},
   "outputs": [],
   "source": [
    "# update a connection name\n",
    "mngr.rename_connection(dsdb.LOCAL, \"custom\")\n",
    "mngr"
   ]
  },
  {
   "cell_type": "code",
   "execution_count": null,
   "metadata": {},
   "outputs": [],
   "source": [
    "# connection config can be retrieved using keys\n",
    "mngr[\"custom\"]"
   ]
  },
  {
   "cell_type": "code",
   "execution_count": null,
   "metadata": {},
   "outputs": [],
   "source": [
    "# connection already exists\n",
    "mngr.add_connections(dsdb.LOCAL)\n",
    "mngr.add_connections(dsdb.LOCAL)\n",
    "mngr"
   ]
  },
  {
   "cell_type": "code",
   "execution_count": null,
   "metadata": {},
   "outputs": [],
   "source": [
    "# link already exists\n",
    "mngr.add_connections({\"custom\": {\"driver\": \"sqlite\", \"database\": \"/active/examples/local_database/custom_store.db\"}})\n",
    "mngr"
   ]
  },
  {
   "cell_type": "code",
   "execution_count": null,
   "metadata": {},
   "outputs": [],
   "source": [
    "# missing driver\n",
    "mngr.add_connections({\"custom\": {\"database\": \"/active/examples/local_database/custom_store.db\"}})\n",
    "mngr"
   ]
  },
  {
   "cell_type": "code",
   "execution_count": null,
   "metadata": {},
   "outputs": [],
   "source": [
    "# missing link\n",
    "mngr.add_connections({\"custom\": {\"driver\": \"sqlite\"}})\n",
    "mngr"
   ]
  },
  {
   "cell_type": "code",
   "execution_count": null,
   "metadata": {},
   "outputs": [],
   "source": []
  }
 ],
 "metadata": {
  "kernelspec": {
   "display_name": "Python 3",
   "language": "python",
   "name": "python3"
  },
  "language_info": {
   "codemirror_mode": {
    "name": "ipython",
    "version": 3
   },
   "file_extension": ".py",
   "mimetype": "text/x-python",
   "name": "python",
   "nbconvert_exporter": "python",
   "pygments_lexer": "ipython3",
   "version": "3.6.5"
  }
 },
 "nbformat": 4,
 "nbformat_minor": 2
}
