{
 "cells": [
  {
   "cell_type": "code",
   "execution_count": 1,
   "metadata": {},
   "outputs": [],
   "source": [
    "import datasetdatabase as dsdb\n",
    "import pandas as pd\n",
    "import numpy as np\n",
    "np.random.seed(24)"
   ]
  },
  {
   "cell_type": "code",
   "execution_count": 2,
   "metadata": {},
   "outputs": [],
   "source": [
    "# creating lists of dicts to be formed into a dataframe\n",
    "ds = []\n",
    "for i in range(2):\n",
    "    d = {}\n",
    "    d[\"floats\"] = np.random.rand() * 100\n",
    "    d[\"ndarrays\"] = np.random.rand(2, 2)\n",
    "    ds.append(d)\n",
    "\n",
    "# convert this example both to dataframe\n",
    "ds = pd.DataFrame(ds)"
   ]
  },
  {
   "cell_type": "code",
   "execution_count": 3,
   "metadata": {},
   "outputs": [
    {
     "data": {
      "text/plain": [
       "info: None\n",
       "ds: True\n",
       "name: f7381264-1912-4a07-9011-2b0ed7673c75\n",
       "description: None\n",
       "introspector: <class 'datasetdatabase.introspect.dataframe.DataFrameIntrospector'>\n",
       "validated: {'types': {'floats': False, 'ndarrays': False}, 'values': {'floats': False, 'ndarrays': False}, 'files': False}\n",
       "md5: 0e8bca2ec0521462a1a7d88021f2ceed\n",
       "sha256: 8425b7efc23fbd00a896288dbf0c72ab06819f5e666dc37828c38f253f2a9a3a\n",
       "annotations: []"
      ]
     },
     "execution_count": 3,
     "metadata": {},
     "output_type": "execute_result"
    }
   ],
   "source": [
    "ds = dsdb.Dataset(ds)\n",
    "ds"
   ]
  },
  {
   "cell_type": "code",
   "execution_count": 4,
   "metadata": {},
   "outputs": [
    {
     "data": {
      "text/html": [
       "<div>\n",
       "<style scoped>\n",
       "    .dataframe tbody tr th:only-of-type {\n",
       "        vertical-align: middle;\n",
       "    }\n",
       "\n",
       "    .dataframe tbody tr th {\n",
       "        vertical-align: top;\n",
       "    }\n",
       "\n",
       "    .dataframe thead th {\n",
       "        text-align: right;\n",
       "    }\n",
       "</style>\n",
       "<table border=\"1\" class=\"dataframe\">\n",
       "  <thead>\n",
       "    <tr style=\"text-align: right;\">\n",
       "      <th></th>\n",
       "      <th>floats</th>\n",
       "      <th>ndarrays</th>\n",
       "    </tr>\n",
       "  </thead>\n",
       "  <tbody>\n",
       "    <tr>\n",
       "      <th>0</th>\n",
       "      <td>96.001730</td>\n",
       "      <td>[[0.699512049949576, 0.9998672926238792], [0.2...</td>\n",
       "    </tr>\n",
       "    <tr>\n",
       "      <th>1</th>\n",
       "      <td>73.984099</td>\n",
       "      <td>[[0.996455725089097, 0.3163469777906084], [0.1...</td>\n",
       "    </tr>\n",
       "  </tbody>\n",
       "</table>\n",
       "</div>"
      ],
      "text/plain": [
       "      floats                                           ndarrays\n",
       "0  96.001730  [[0.699512049949576, 0.9998672926238792], [0.2...\n",
       "1  73.984099  [[0.996455725089097, 0.3163469777906084], [0.1..."
      ]
     },
     "execution_count": 4,
     "metadata": {},
     "output_type": "execute_result"
    }
   ],
   "source": [
    "ds.ds"
   ]
  },
  {
   "cell_type": "code",
   "execution_count": 5,
   "metadata": {},
   "outputs": [],
   "source": [
    "def increment_column(dataset: dsdb.Dataset, column):\n",
    "    dataset.ds[column] += 1\n",
    "    return dataset.ds"
   ]
  },
  {
   "cell_type": "code",
   "execution_count": 6,
   "metadata": {},
   "outputs": [
    {
     "name": "stdout",
     "output_type": "stream",
     "text": [
      "Storing algorithm parameters.\n",
      "Tearing down object...\n",
      "[============================================================] 100.0% 2/2 ~ 0:0:0 remaining\n",
      "Storing algorithm parameters.\n",
      "[============================================================] 100.0% 1/1 ~ 0:0:0 remaining\n",
      "Dataset processing has begun...\n",
      "Dataset processing has ended...\n",
      "Tearing down object...\n",
      "[============================================================] 100.0% 2/2 ~ 0:0:0 remaining\n"
     ]
    },
    {
     "data": {
      "text/plain": [
       "info: {'id': 4, 'name': '60c8a011-bb2b-4911-852a-2dd3038fcfc8', 'description': None, 'introspector': 'datasetdatabase.introspect.dataframe.DataFrameIntrospector', 'md5': 'ac97192e45fc8fc72f6c81021cb9c77f', 'sha256': '9ef7915bbe108b45f24e73bc6dc8d18762e73c630f0d717c17980cca16bafb12', 'created': datetime.datetime(2018, 9, 17, 19, 20, 31, 289388)}\n",
       "ds: True\n",
       "name: 60c8a011-bb2b-4911-852a-2dd3038fcfc8\n",
       "description: None\n",
       "introspector: <class 'datasetdatabase.introspect.dataframe.DataFrameIntrospector'>\n",
       "validated: True\n",
       "md5: ac97192e45fc8fc72f6c81021cb9c77f\n",
       "sha256: 9ef7915bbe108b45f24e73bc6dc8d18762e73c630f0d717c17980cca16bafb12\n",
       "annotations: []"
      ]
     },
     "execution_count": 6,
     "metadata": {},
     "output_type": "execute_result"
    }
   ],
   "source": [
    "local = dsdb.DatasetDatabase(config=dsdb.LOCAL, build=True, user=\"jacksonb\")\n",
    "ds.apply(algorithm=increment_column, database=local, algorithm_parameters={\"column\": \"floats\"})\n",
    "ds"
   ]
  },
  {
   "cell_type": "code",
   "execution_count": 7,
   "metadata": {},
   "outputs": [
    {
     "data": {
      "text/html": [
       "<div>\n",
       "<style scoped>\n",
       "    .dataframe tbody tr th:only-of-type {\n",
       "        vertical-align: middle;\n",
       "    }\n",
       "\n",
       "    .dataframe tbody tr th {\n",
       "        vertical-align: top;\n",
       "    }\n",
       "\n",
       "    .dataframe thead th {\n",
       "        text-align: right;\n",
       "    }\n",
       "</style>\n",
       "<table border=\"1\" class=\"dataframe\">\n",
       "  <thead>\n",
       "    <tr style=\"text-align: right;\">\n",
       "      <th></th>\n",
       "      <th>floats</th>\n",
       "      <th>ndarrays</th>\n",
       "    </tr>\n",
       "  </thead>\n",
       "  <tbody>\n",
       "    <tr>\n",
       "      <th>0</th>\n",
       "      <td>97.001730</td>\n",
       "      <td>[[0.699512049949576, 0.9998672926238792], [0.2...</td>\n",
       "    </tr>\n",
       "    <tr>\n",
       "      <th>1</th>\n",
       "      <td>74.984099</td>\n",
       "      <td>[[0.996455725089097, 0.3163469777906084], [0.1...</td>\n",
       "    </tr>\n",
       "  </tbody>\n",
       "</table>\n",
       "</div>"
      ],
      "text/plain": [
       "      floats                                           ndarrays\n",
       "0  97.001730  [[0.699512049949576, 0.9998672926238792], [0.2...\n",
       "1  74.984099  [[0.996455725089097, 0.3163469777906084], [0.1..."
      ]
     },
     "execution_count": 7,
     "metadata": {},
     "output_type": "execute_result"
    }
   ],
   "source": [
    "ds.ds"
   ]
  },
  {
   "cell_type": "code",
   "execution_count": 8,
   "metadata": {},
   "outputs": [
    {
     "name": "stdout",
     "output_type": "stream",
     "text": [
      "Storing algorithm parameters.\n",
      "Input dataset already exists in database.\n",
      "Dataset processing has begun...\n",
      "Dataset processing has ended...\n",
      "Tearing down object...\n",
      "[============================================================] 100.0% 2/2 ~ 0:0:0 remaining\n"
     ]
    },
    {
     "data": {
      "text/plain": [
       "info: {'id': 5, 'name': '2a866a1e-b23e-49d2-b822-1974fa99f830', 'description': None, 'introspector': 'datasetdatabase.introspect.dataframe.DataFrameIntrospector', 'md5': '5d0ca3950c41236be872fbf7635d9838', 'sha256': '60be9d7686584cab042301a0ec052dcc77080938c618f2b01894b5bbf476ca97', 'created': datetime.datetime(2018, 9, 17, 19, 20, 31, 704188)}\n",
       "ds: True\n",
       "name: 2a866a1e-b23e-49d2-b822-1974fa99f830\n",
       "description: None\n",
       "introspector: <class 'datasetdatabase.introspect.dataframe.DataFrameIntrospector'>\n",
       "validated: True\n",
       "md5: 5d0ca3950c41236be872fbf7635d9838\n",
       "sha256: 60be9d7686584cab042301a0ec052dcc77080938c618f2b01894b5bbf476ca97\n",
       "annotations: []"
      ]
     },
     "execution_count": 8,
     "metadata": {},
     "output_type": "execute_result"
    }
   ],
   "source": [
    "ds.apply(algorithm=increment_column, algorithm_parameters={\"column\": \"floats\"})\n",
    "ds"
   ]
  },
  {
   "cell_type": "code",
   "execution_count": 9,
   "metadata": {},
   "outputs": [
    {
     "data": {
      "text/html": [
       "<div>\n",
       "<style scoped>\n",
       "    .dataframe tbody tr th:only-of-type {\n",
       "        vertical-align: middle;\n",
       "    }\n",
       "\n",
       "    .dataframe tbody tr th {\n",
       "        vertical-align: top;\n",
       "    }\n",
       "\n",
       "    .dataframe thead th {\n",
       "        text-align: right;\n",
       "    }\n",
       "</style>\n",
       "<table border=\"1\" class=\"dataframe\">\n",
       "  <thead>\n",
       "    <tr style=\"text-align: right;\">\n",
       "      <th></th>\n",
       "      <th>floats</th>\n",
       "      <th>ndarrays</th>\n",
       "    </tr>\n",
       "  </thead>\n",
       "  <tbody>\n",
       "    <tr>\n",
       "      <th>0</th>\n",
       "      <td>98.001730</td>\n",
       "      <td>[[0.699512049949576, 0.9998672926238792], [0.2...</td>\n",
       "    </tr>\n",
       "    <tr>\n",
       "      <th>1</th>\n",
       "      <td>75.984099</td>\n",
       "      <td>[[0.996455725089097, 0.3163469777906084], [0.1...</td>\n",
       "    </tr>\n",
       "  </tbody>\n",
       "</table>\n",
       "</div>"
      ],
      "text/plain": [
       "      floats                                           ndarrays\n",
       "0  98.001730  [[0.699512049949576, 0.9998672926238792], [0.2...\n",
       "1  75.984099  [[0.996455725089097, 0.3163469777906084], [0.1..."
      ]
     },
     "execution_count": 9,
     "metadata": {},
     "output_type": "execute_result"
    }
   ],
   "source": [
    "ds.ds"
   ]
  }
 ],
 "metadata": {
  "kernelspec": {
   "display_name": "Python 3",
   "language": "python",
   "name": "python3"
  },
  "language_info": {
   "codemirror_mode": {
    "name": "ipython",
    "version": 3
   },
   "file_extension": ".py",
   "mimetype": "text/x-python",
   "name": "python",
   "nbconvert_exporter": "python",
   "pygments_lexer": "ipython3",
   "version": "3.6.5"
  }
 },
 "nbformat": 4,
 "nbformat_minor": 2
}
