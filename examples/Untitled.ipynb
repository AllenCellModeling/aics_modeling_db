{
 "cells": [
  {
   "cell_type": "code",
   "execution_count": null,
   "metadata": {},
   "outputs": [],
   "source": [
    "class MitoClassifier(object):\n",
    "    def __init__(self):\n",
    "        pass\n",
    "    \n",
    "    def run_me(self):\n",
    "        return df\n",
    "\n",
    "def mito_runner(dataset, params):\n",
    "    m = params[\"mito_classifier\"](df=dataset,\n",
    "                                  **params[\"mito_init\"])\n",
    "    \n",
    "    return m.run_me().df\n",
    "\n",
    "prod.process_run(mito_runner\n",
    "                 1,\n",
    "                 alg_parameters={\"mito_classifier\": MitoClassifer,\n",
    "                                 \"mito_init\", {\"parameter\": \"needed to initialize the mito classifier\"}},\n",
    "                 dataset_parameters={\"name\": \"mito predictions\",\n",
    "                                     \"description\": \"this is the first test of mitotic predictions\",\n",
    "                                     \"filepath_columns\": [\"new\", \"filepath\", \"columns\"]})"
   ]
  }
 ],
 "metadata": {
  "kernelspec": {
   "display_name": "Python 3",
   "language": "python",
   "name": "python3"
  },
  "language_info": {
   "codemirror_mode": {
    "name": "ipython",
    "version": 3
   },
   "file_extension": ".py",
   "mimetype": "text/x-python",
   "name": "python",
   "nbconvert_exporter": "python",
   "pygments_lexer": "ipython3",
   "version": "3.6.5"
  }
 },
 "nbformat": 4,
 "nbformat_minor": 2
}
