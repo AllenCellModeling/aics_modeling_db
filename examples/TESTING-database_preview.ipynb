{
 "cells": [
  {
   "cell_type": "code",
   "execution_count": 1,
   "metadata": {},
   "outputs": [],
   "source": [
    "import datasetdatabase as dsdb"
   ]
  },
  {
   "cell_type": "code",
   "execution_count": 2,
   "metadata": {},
   "outputs": [],
   "source": [
    "prod = dsdb.DatasetDatabase(config=\"/active/configs/aics.json\", user=\"jacksonb\")"
   ]
  },
  {
   "cell_type": "code",
   "execution_count": 3,
   "metadata": {},
   "outputs": [
    {
     "name": "stdout",
     "output_type": "stream",
     "text": [
      "CPU times: user 60 ms, sys: 0 ns, total: 60 ms\n",
      "Wall time: 703 ms\n"
     ]
    }
   ],
   "source": [
    "%time stats = prod.preview(4)"
   ]
  },
  {
   "cell_type": "code",
   "execution_count": 4,
   "metadata": {},
   "outputs": [
    {
     "data": {
      "text/plain": [
       "{'info': {'id': 4, 'name': 'mito predictions', 'description': 'this is the first test of mitotic predictions', 'introspector': 'datasetdatabase.introspect.dataframe.DataFrameIntrospector', 'md5': '415ec5396da9749a1cde3b5f48ca3221', 'sha256': '131d8da4738a0ead7a9c6de0e806e054fb47b382927aa36e695e5a763a0ac3d1', 'created': datetime.datetime(2018, 9, 11, 20, 24, 20, 176773)},\n",
       " 'shape': (2436, 59),\n",
       " 'keys': ['Unnamed: 0',\n",
       "  'DeliveryDate',\n",
       "  'FinalScore',\n",
       "  'Index',\n",
       "  'MitosisLabelPredicted',\n",
       "  'SegmentationXyPixelSize',\n",
       "  'SegmentationZPixelSize',\n",
       "  'VersionNucMemb',\n",
       "  'VersionStructure',\n",
       "  'X_MitoEntropy',\n",
       "  'X_MitoLabel',\n",
       "  'X_MitoProb',\n",
       "  'Y_MitoEntropy',\n",
       "  'Y_MitoLabel',\n",
       "  'Y_MitoProb',\n",
       "  'Z_MitoEntropy',\n",
       "  'Z_MitoLabel',\n",
       "  'Z_MitoProb',\n",
       "  'cellID',\n",
       "  'cell_line_ID',\n",
       "  'colony_position',\n",
       "  'imageID',\n",
       "  'imageXyPixelSize',\n",
       "  'imageZPixelSize',\n",
       "  'inputFilename',\n",
       "  'inputFolder',\n",
       "  'lightChannel',\n",
       "  'memChannel',\n",
       "  'mitoticLabel',\n",
       "  'nucChannel',\n",
       "  'outputCellSegWholeFilename',\n",
       "  'outputCellSegWholeSegScaleFilename',\n",
       "  'outputNucSegWholeFilename',\n",
       "  'outputNucSegWholeSegScaleFilename',\n",
       "  'outputSegmentationPath',\n",
       "  'outputThisCellIndex',\n",
       "  'plate_ID',\n",
       "  'position_ID',\n",
       "  'reference_file',\n",
       "  'save_cell_reg_path',\n",
       "  'save_dir',\n",
       "  'save_dna_reg_path',\n",
       "  'save_feats_path',\n",
       "  'save_flat_proj_reg_path',\n",
       "  'save_flat_reg_path',\n",
       "  'save_h5_reg_path',\n",
       "  'save_imsize_out_path',\n",
       "  'save_memb_reg_path',\n",
       "  'save_nuc_reg_path',\n",
       "  'save_regparam_path',\n",
       "  'save_struct_reg_path',\n",
       "  'save_trans_reg_path',\n",
       "  'source_data',\n",
       "  'structureChannel',\n",
       "  'structureProteinName',\n",
       "  'timePoint',\n",
       "  'uuid',\n",
       "  'uuid_short',\n",
       "  'well_ID'],\n",
       " 'annotations': []}"
      ]
     },
     "execution_count": 4,
     "metadata": {},
     "output_type": "execute_result"
    }
   ],
   "source": [
    "stats"
   ]
  }
 ],
 "metadata": {
  "kernelspec": {
   "display_name": "Python 3",
   "language": "python",
   "name": "python3"
  },
  "language_info": {
   "codemirror_mode": {
    "name": "ipython",
    "version": 3
   },
   "file_extension": ".py",
   "mimetype": "text/x-python",
   "name": "python",
   "nbconvert_exporter": "python",
   "pygments_lexer": "ipython3",
   "version": "3.6.5"
  }
 },
 "nbformat": 4,
 "nbformat_minor": 2
}
