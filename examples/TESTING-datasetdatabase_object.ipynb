{
 "cells": [
  {
   "cell_type": "code",
   "execution_count": 1,
   "metadata": {},
   "outputs": [],
   "source": [
    "# imports\n",
    "import datasetdatabase as dsdb\n",
    "import pandas as pd\n",
    "import numpy as np\n",
    "import pathlib\n",
    "import json\n",
    "import os"
   ]
  },
  {
   "cell_type": "code",
   "execution_count": 2,
   "metadata": {},
   "outputs": [
    {
     "data": {
      "text/plain": [
       "LOCAL:\n",
       "\tdriver: sqlite\n",
       "\tlink: /active/examples/local_database/local.db"
      ]
     },
     "execution_count": 2,
     "metadata": {},
     "output_type": "execute_result"
    }
   ],
   "source": [
    "# connection manager\n",
    "mngr = dsdb.ConnectionManager(dsdb.LOCAL, user=\"jacksonb\")\n",
    "mngr"
   ]
  },
  {
   "cell_type": "code",
   "execution_count": 3,
   "metadata": {},
   "outputs": [
    {
     "data": {
      "text/plain": [
       "Recent Datasets:\n",
       "--------------------------------------------------------------------------------"
      ]
     },
     "execution_count": 3,
     "metadata": {},
     "output_type": "execute_result"
    }
   ],
   "source": [
    "# database manager\n",
    "local = mngr.connect(dsdb.LOCAL)\n",
    "local"
   ]
  },
  {
   "cell_type": "code",
   "execution_count": 4,
   "metadata": {},
   "outputs": [
    {
     "data": {
      "text/html": [
       "<div>\n",
       "<style scoped>\n",
       "    .dataframe tbody tr th:only-of-type {\n",
       "        vertical-align: middle;\n",
       "    }\n",
       "\n",
       "    .dataframe tbody tr th {\n",
       "        vertical-align: top;\n",
       "    }\n",
       "\n",
       "    .dataframe thead th {\n",
       "        text-align: right;\n",
       "    }\n",
       "</style>\n",
       "<table border=\"1\" class=\"dataframe\">\n",
       "  <thead>\n",
       "    <tr style=\"text-align: right;\">\n",
       "      <th></th>\n",
       "      <th>bools</th>\n",
       "      <th>files</th>\n",
       "      <th>floats</th>\n",
       "      <th>ndarrays</th>\n",
       "      <th>sets</th>\n",
       "      <th>strings</th>\n",
       "      <th>tuples</th>\n",
       "    </tr>\n",
       "  </thead>\n",
       "  <tbody>\n",
       "    <tr>\n",
       "      <th>0</th>\n",
       "      <td>True</td>\n",
       "      <td>/active/examples/fp_example/0.json</td>\n",
       "      <td>74.004970</td>\n",
       "      <td>[[0.26331501518513467, 0.5337393933802977], [0...</td>\n",
       "      <td>{1, 2, 3}</td>\n",
       "      <td>foo0</td>\n",
       "      <td>(1, 2, 3)</td>\n",
       "    </tr>\n",
       "    <tr>\n",
       "      <th>1</th>\n",
       "      <td>False</td>\n",
       "      <td>/active/examples/fp_example/1.json</td>\n",
       "      <td>3.342143</td>\n",
       "      <td>[[0.9569493362751168, 0.13720932135607644], [0...</td>\n",
       "      <td>{1, 2, 3}</td>\n",
       "      <td>foo1</td>\n",
       "      <td>(1, 2, 3)</td>\n",
       "    </tr>\n",
       "    <tr>\n",
       "      <th>2</th>\n",
       "      <td>False</td>\n",
       "      <td>/active/examples/fp_example/2.json</td>\n",
       "      <td>85.273554</td>\n",
       "      <td>[[0.002259233518513537, 0.5212260272202929], [...</td>\n",
       "      <td>{1, 2, 3}</td>\n",
       "      <td>foo2</td>\n",
       "      <td>(1, 2, 3)</td>\n",
       "    </tr>\n",
       "    <tr>\n",
       "      <th>3</th>\n",
       "      <td>False</td>\n",
       "      <td>/active/examples/fp_example/3.json</td>\n",
       "      <td>16.071675</td>\n",
       "      <td>[[0.7645604503388788, 0.020809797952066167], [...</td>\n",
       "      <td>{1, 2, 3}</td>\n",
       "      <td>foo3</td>\n",
       "      <td>(1, 2, 3)</td>\n",
       "    </tr>\n",
       "    <tr>\n",
       "      <th>4</th>\n",
       "      <td>True</td>\n",
       "      <td>/active/examples/fp_example/4.json</td>\n",
       "      <td>67.145265</td>\n",
       "      <td>[[0.4712297782500141, 0.8161682980460269], [0....</td>\n",
       "      <td>{1, 2, 3}</td>\n",
       "      <td>foo4</td>\n",
       "      <td>(1, 2, 3)</td>\n",
       "    </tr>\n",
       "    <tr>\n",
       "      <th>5</th>\n",
       "      <td>False</td>\n",
       "      <td>/active/examples/fp_example/5.json</td>\n",
       "      <td>32.756948</td>\n",
       "      <td>[[0.3346475291060558, 0.9780580790165189], [0....</td>\n",
       "      <td>{1, 2, 3}</td>\n",
       "      <td>foo5</td>\n",
       "      <td>(1, 2, 3)</td>\n",
       "    </tr>\n",
       "    <tr>\n",
       "      <th>6</th>\n",
       "      <td>False</td>\n",
       "      <td>/active/examples/fp_example/6.json</td>\n",
       "      <td>82.500925</td>\n",
       "      <td>[[0.40664030180666166, 0.4513084114213143], [0...</td>\n",
       "      <td>{1, 2, 3}</td>\n",
       "      <td>foo6</td>\n",
       "      <td>(1, 2, 3)</td>\n",
       "    </tr>\n",
       "    <tr>\n",
       "      <th>7</th>\n",
       "      <td>True</td>\n",
       "      <td>/active/examples/fp_example/7.json</td>\n",
       "      <td>96.259690</td>\n",
       "      <td>[[0.4192502702591062, 0.4240524465509987], [0....</td>\n",
       "      <td>{1, 2, 3}</td>\n",
       "      <td>foo7</td>\n",
       "      <td>(1, 2, 3)</td>\n",
       "    </tr>\n",
       "    <tr>\n",
       "      <th>8</th>\n",
       "      <td>True</td>\n",
       "      <td>/active/examples/fp_example/8.json</td>\n",
       "      <td>3.516826</td>\n",
       "      <td>[[0.08427266973184566, 0.7325206981419501], [0...</td>\n",
       "      <td>{1, 2, 3}</td>\n",
       "      <td>foo8</td>\n",
       "      <td>(1, 2, 3)</td>\n",
       "    </tr>\n",
       "    <tr>\n",
       "      <th>9</th>\n",
       "      <td>True</td>\n",
       "      <td>/active/examples/fp_example/9.json</td>\n",
       "      <td>22.085252</td>\n",
       "      <td>[[0.055019993340200135, 0.5232460707782919], [...</td>\n",
       "      <td>{1, 2, 3}</td>\n",
       "      <td>foo9</td>\n",
       "      <td>(1, 2, 3)</td>\n",
       "    </tr>\n",
       "  </tbody>\n",
       "</table>\n",
       "</div>"
      ],
      "text/plain": [
       "   bools                               files     floats  \\\n",
       "0   True  /active/examples/fp_example/0.json  74.004970   \n",
       "1  False  /active/examples/fp_example/1.json   3.342143   \n",
       "2  False  /active/examples/fp_example/2.json  85.273554   \n",
       "3  False  /active/examples/fp_example/3.json  16.071675   \n",
       "4   True  /active/examples/fp_example/4.json  67.145265   \n",
       "5  False  /active/examples/fp_example/5.json  32.756948   \n",
       "6  False  /active/examples/fp_example/6.json  82.500925   \n",
       "7   True  /active/examples/fp_example/7.json  96.259690   \n",
       "8   True  /active/examples/fp_example/8.json   3.516826   \n",
       "9   True  /active/examples/fp_example/9.json  22.085252   \n",
       "\n",
       "                                            ndarrays       sets strings  \\\n",
       "0  [[0.26331501518513467, 0.5337393933802977], [0...  {1, 2, 3}    foo0   \n",
       "1  [[0.9569493362751168, 0.13720932135607644], [0...  {1, 2, 3}    foo1   \n",
       "2  [[0.002259233518513537, 0.5212260272202929], [...  {1, 2, 3}    foo2   \n",
       "3  [[0.7645604503388788, 0.020809797952066167], [...  {1, 2, 3}    foo3   \n",
       "4  [[0.4712297782500141, 0.8161682980460269], [0....  {1, 2, 3}    foo4   \n",
       "5  [[0.3346475291060558, 0.9780580790165189], [0....  {1, 2, 3}    foo5   \n",
       "6  [[0.40664030180666166, 0.4513084114213143], [0...  {1, 2, 3}    foo6   \n",
       "7  [[0.4192502702591062, 0.4240524465509987], [0....  {1, 2, 3}    foo7   \n",
       "8  [[0.08427266973184566, 0.7325206981419501], [0...  {1, 2, 3}    foo8   \n",
       "9  [[0.055019993340200135, 0.5232460707782919], [...  {1, 2, 3}    foo9   \n",
       "\n",
       "      tuples  \n",
       "0  (1, 2, 3)  \n",
       "1  (1, 2, 3)  \n",
       "2  (1, 2, 3)  \n",
       "3  (1, 2, 3)  \n",
       "4  (1, 2, 3)  \n",
       "5  (1, 2, 3)  \n",
       "6  (1, 2, 3)  \n",
       "7  (1, 2, 3)  \n",
       "8  (1, 2, 3)  \n",
       "9  (1, 2, 3)  "
      ]
     },
     "execution_count": 4,
     "metadata": {},
     "output_type": "execute_result"
    }
   ],
   "source": [
    "# create test upload dataset\n",
    "fp_ex = pathlib.Path(\"/active/examples/fp_example/\")\n",
    "if not fp_ex.exists():\n",
    "    os.makedirs(fp_ex)\n",
    "\n",
    "np.random.seed(seed=12)\n",
    "\n",
    "test = []\n",
    "for i in range(10):\n",
    "    fp =  fp_ex / (str(i) + \".json\")\n",
    "    with open(fp, \"w\") as write_out:\n",
    "        json.dump({\"hello\": \"world\"}, write_out)\n",
    "    \n",
    "    d = {}\n",
    "    d[\"strings\"] = \"foo\" + str(i)\n",
    "    d[\"bools\"] = np.random.rand() < 0.5\n",
    "    d[\"floats\"] = np.random.rand() * 100\n",
    "    d[\"ndarrays\"] = np.random.rand(2, 2)\n",
    "    d[\"tuples\"] = tuple([1, 2, 3])\n",
    "    d[\"sets\"] = set([1, 2, 3, 3, 3])\n",
    "    d[\"files\"] = str(fp)\n",
    "    test.append(d)\n",
    "\n",
    "test = pd.DataFrame(test)\n",
    "test.to_csv(fp_ex / \"example.csv\")\n",
    "test"
   ]
  },
  {
   "cell_type": "code",
   "execution_count": 5,
   "metadata": {},
   "outputs": [
    {
     "name": "stdout",
     "output_type": "stream",
     "text": [
      "Validating Dataset...\n",
      "[============================================================] 100.0% (280/280) ~ 0:00:00 remaining\n",
      "Creating Iota...\n",
      "[============================================================] 100.0% (70/70) ~ 0:00:00 remaining\n",
      "Creating Junction Items...\n",
      "[============================================================] 100.0% (80/80) ~ 0:00:00 remaining\n",
      "Dataset upload complete!\n"
     ]
    },
    {
     "data": {
      "text/plain": [
       "{'DatasetId': 1,\n",
       " 'Name': 'test_dataset',\n",
       " 'Description': 'this is the hello world of dataset ingestion',\n",
       " 'SourceId': 1,\n",
       " 'FilepathColumns': \"['files']\",\n",
       " 'Created': '2018-07-20 19:20:07.191046'}"
      ]
     },
     "execution_count": 5,
     "metadata": {},
     "output_type": "execute_result"
    }
   ],
   "source": [
    "# upload and return the dataset info\n",
    "# first upload\n",
    "ds_info = local.upload_dataset(dataset=test,\n",
    "                               name=\"test_dataset\",\n",
    "                               description=\"this is the hello world of dataset ingestion\",\n",
    "                               type_map={\"bools\": bool,\n",
    "                                         \"files\": str,\n",
    "                                         \"floats\": float,\n",
    "                                         \"ndarrays\": np.ndarray,\n",
    "                                         \"strings\": str},\n",
    "                               filepath_columns=[\"files\"])\n",
    "ds_info"
   ]
  },
  {
   "cell_type": "code",
   "execution_count": 6,
   "metadata": {},
   "outputs": [
    {
     "data": {
      "text/plain": [
       "{'DatasetId': 1,\n",
       " 'Name': 'test_dataset',\n",
       " 'Description': 'this is the hello world of dataset ingestion',\n",
       " 'SourceId': 1,\n",
       " 'FilepathColumns': \"['files']\",\n",
       " 'Created': '2018-07-20 19:20:07.191046'}"
      ]
     },
     "execution_count": 6,
     "metadata": {},
     "output_type": "execute_result"
    }
   ],
   "source": [
    "# upload and return the dataset info\n",
    "# second upload\n",
    "ds_info = local.upload_dataset(dataset=test)\n",
    "ds_info"
   ]
  },
  {
   "cell_type": "code",
   "execution_count": 7,
   "metadata": {},
   "outputs": [
    {
     "data": {
      "text/plain": [
       "Recent Datasets:\n",
       "--------------------------------------------------------------------------------\n",
       "{'DatasetId': 1, 'Name': 'test_dataset', 'Description': 'this is the hello world of dataset ingestion', 'SourceId': 1, 'FilepathColumns': \"['files']\", 'Created': '2018-07-20 19:20:07.191046'}"
      ]
     },
     "execution_count": 7,
     "metadata": {},
     "output_type": "execute_result"
    }
   ],
   "source": [
    "# recent datasets\n",
    "local"
   ]
  },
  {
   "cell_type": "code",
   "execution_count": 8,
   "metadata": {},
   "outputs": [
    {
     "data": {
      "text/html": [
       "<div>\n",
       "<style scoped>\n",
       "    .dataframe tbody tr th:only-of-type {\n",
       "        vertical-align: middle;\n",
       "    }\n",
       "\n",
       "    .dataframe tbody tr th {\n",
       "        vertical-align: top;\n",
       "    }\n",
       "\n",
       "    .dataframe thead th {\n",
       "        text-align: right;\n",
       "    }\n",
       "</style>\n",
       "<table border=\"1\" class=\"dataframe\">\n",
       "  <thead>\n",
       "    <tr style=\"text-align: right;\">\n",
       "      <th></th>\n",
       "      <th>bools</th>\n",
       "      <th>files</th>\n",
       "      <th>floats</th>\n",
       "      <th>ndarrays</th>\n",
       "      <th>sets</th>\n",
       "      <th>strings</th>\n",
       "      <th>tuples</th>\n",
       "    </tr>\n",
       "  </thead>\n",
       "  <tbody>\n",
       "    <tr>\n",
       "      <th>0</th>\n",
       "      <td>True</td>\n",
       "      <td>/home/jovyan/.local/share/QuiltCli/quilt_packa...</td>\n",
       "      <td>74.004970</td>\n",
       "      <td>[[0.26331501518513467, 0.5337393933802977], [0...</td>\n",
       "      <td>{1, 2, 3}</td>\n",
       "      <td>foo0</td>\n",
       "      <td>(1, 2, 3)</td>\n",
       "    </tr>\n",
       "    <tr>\n",
       "      <th>1</th>\n",
       "      <td>False</td>\n",
       "      <td>/home/jovyan/.local/share/QuiltCli/quilt_packa...</td>\n",
       "      <td>3.342143</td>\n",
       "      <td>[[0.9569493362751168, 0.13720932135607644], [0...</td>\n",
       "      <td>{1, 2, 3}</td>\n",
       "      <td>foo1</td>\n",
       "      <td>(1, 2, 3)</td>\n",
       "    </tr>\n",
       "    <tr>\n",
       "      <th>2</th>\n",
       "      <td>False</td>\n",
       "      <td>/home/jovyan/.local/share/QuiltCli/quilt_packa...</td>\n",
       "      <td>85.273554</td>\n",
       "      <td>[[0.002259233518513537, 0.5212260272202929], [...</td>\n",
       "      <td>{1, 2, 3}</td>\n",
       "      <td>foo2</td>\n",
       "      <td>(1, 2, 3)</td>\n",
       "    </tr>\n",
       "    <tr>\n",
       "      <th>3</th>\n",
       "      <td>False</td>\n",
       "      <td>/home/jovyan/.local/share/QuiltCli/quilt_packa...</td>\n",
       "      <td>16.071675</td>\n",
       "      <td>[[0.7645604503388788, 0.020809797952066167], [...</td>\n",
       "      <td>{1, 2, 3}</td>\n",
       "      <td>foo3</td>\n",
       "      <td>(1, 2, 3)</td>\n",
       "    </tr>\n",
       "    <tr>\n",
       "      <th>4</th>\n",
       "      <td>True</td>\n",
       "      <td>/home/jovyan/.local/share/QuiltCli/quilt_packa...</td>\n",
       "      <td>67.145265</td>\n",
       "      <td>[[0.4712297782500141, 0.8161682980460269], [0....</td>\n",
       "      <td>{1, 2, 3}</td>\n",
       "      <td>foo4</td>\n",
       "      <td>(1, 2, 3)</td>\n",
       "    </tr>\n",
       "    <tr>\n",
       "      <th>5</th>\n",
       "      <td>False</td>\n",
       "      <td>/home/jovyan/.local/share/QuiltCli/quilt_packa...</td>\n",
       "      <td>32.756948</td>\n",
       "      <td>[[0.3346475291060558, 0.9780580790165189], [0....</td>\n",
       "      <td>{1, 2, 3}</td>\n",
       "      <td>foo5</td>\n",
       "      <td>(1, 2, 3)</td>\n",
       "    </tr>\n",
       "    <tr>\n",
       "      <th>6</th>\n",
       "      <td>False</td>\n",
       "      <td>/home/jovyan/.local/share/QuiltCli/quilt_packa...</td>\n",
       "      <td>82.500925</td>\n",
       "      <td>[[0.40664030180666166, 0.4513084114213143], [0...</td>\n",
       "      <td>{1, 2, 3}</td>\n",
       "      <td>foo6</td>\n",
       "      <td>(1, 2, 3)</td>\n",
       "    </tr>\n",
       "    <tr>\n",
       "      <th>7</th>\n",
       "      <td>True</td>\n",
       "      <td>/home/jovyan/.local/share/QuiltCli/quilt_packa...</td>\n",
       "      <td>96.259690</td>\n",
       "      <td>[[0.4192502702591062, 0.4240524465509987], [0....</td>\n",
       "      <td>{1, 2, 3}</td>\n",
       "      <td>foo7</td>\n",
       "      <td>(1, 2, 3)</td>\n",
       "    </tr>\n",
       "    <tr>\n",
       "      <th>8</th>\n",
       "      <td>True</td>\n",
       "      <td>/home/jovyan/.local/share/QuiltCli/quilt_packa...</td>\n",
       "      <td>3.516826</td>\n",
       "      <td>[[0.08427266973184566, 0.7325206981419501], [0...</td>\n",
       "      <td>{1, 2, 3}</td>\n",
       "      <td>foo8</td>\n",
       "      <td>(1, 2, 3)</td>\n",
       "    </tr>\n",
       "    <tr>\n",
       "      <th>9</th>\n",
       "      <td>True</td>\n",
       "      <td>/home/jovyan/.local/share/QuiltCli/quilt_packa...</td>\n",
       "      <td>22.085252</td>\n",
       "      <td>[[0.055019993340200135, 0.5232460707782919], [...</td>\n",
       "      <td>{1, 2, 3}</td>\n",
       "      <td>foo9</td>\n",
       "      <td>(1, 2, 3)</td>\n",
       "    </tr>\n",
       "  </tbody>\n",
       "</table>\n",
       "</div>"
      ],
      "text/plain": [
       "   bools                                              files     floats  \\\n",
       "0   True  /home/jovyan/.local/share/QuiltCli/quilt_packa...  74.004970   \n",
       "1  False  /home/jovyan/.local/share/QuiltCli/quilt_packa...   3.342143   \n",
       "2  False  /home/jovyan/.local/share/QuiltCli/quilt_packa...  85.273554   \n",
       "3  False  /home/jovyan/.local/share/QuiltCli/quilt_packa...  16.071675   \n",
       "4   True  /home/jovyan/.local/share/QuiltCli/quilt_packa...  67.145265   \n",
       "5  False  /home/jovyan/.local/share/QuiltCli/quilt_packa...  32.756948   \n",
       "6  False  /home/jovyan/.local/share/QuiltCli/quilt_packa...  82.500925   \n",
       "7   True  /home/jovyan/.local/share/QuiltCli/quilt_packa...  96.259690   \n",
       "8   True  /home/jovyan/.local/share/QuiltCli/quilt_packa...   3.516826   \n",
       "9   True  /home/jovyan/.local/share/QuiltCli/quilt_packa...  22.085252   \n",
       "\n",
       "                                            ndarrays       sets strings  \\\n",
       "0  [[0.26331501518513467, 0.5337393933802977], [0...  {1, 2, 3}    foo0   \n",
       "1  [[0.9569493362751168, 0.13720932135607644], [0...  {1, 2, 3}    foo1   \n",
       "2  [[0.002259233518513537, 0.5212260272202929], [...  {1, 2, 3}    foo2   \n",
       "3  [[0.7645604503388788, 0.020809797952066167], [...  {1, 2, 3}    foo3   \n",
       "4  [[0.4712297782500141, 0.8161682980460269], [0....  {1, 2, 3}    foo4   \n",
       "5  [[0.3346475291060558, 0.9780580790165189], [0....  {1, 2, 3}    foo5   \n",
       "6  [[0.40664030180666166, 0.4513084114213143], [0...  {1, 2, 3}    foo6   \n",
       "7  [[0.4192502702591062, 0.4240524465509987], [0....  {1, 2, 3}    foo7   \n",
       "8  [[0.08427266973184566, 0.7325206981419501], [0...  {1, 2, 3}    foo8   \n",
       "9  [[0.055019993340200135, 0.5232460707782919], [...  {1, 2, 3}    foo9   \n",
       "\n",
       "      tuples  \n",
       "0  (1, 2, 3)  \n",
       "1  (1, 2, 3)  \n",
       "2  (1, 2, 3)  \n",
       "3  (1, 2, 3)  \n",
       "4  (1, 2, 3)  \n",
       "5  (1, 2, 3)  \n",
       "6  (1, 2, 3)  \n",
       "7  (1, 2, 3)  \n",
       "8  (1, 2, 3)  \n",
       "9  (1, 2, 3)  "
      ]
     },
     "execution_count": 8,
     "metadata": {},
     "output_type": "execute_result"
    }
   ],
   "source": [
    "local.get_dataset(1)"
   ]
  },
  {
   "cell_type": "code",
   "execution_count": 9,
   "metadata": {},
   "outputs": [
    {
     "data": {
      "text/plain": [
       "'dsdb/test_dataset'"
      ]
     },
     "execution_count": 9,
     "metadata": {},
     "output_type": "execute_result"
    }
   ],
   "source": [
    "local.export_to_quilt(1)"
   ]
  },
  {
   "cell_type": "code",
   "execution_count": 10,
   "metadata": {},
   "outputs": [
    {
     "data": {
      "text/plain": [
       "<PackageNode '/home/jovyan/.local/share/QuiltCli/quilt_packages/pkgs/Quilt/dsdb/test_dataset'>\n",
       "files/\n",
       "README\n",
       "data"
      ]
     },
     "execution_count": 10,
     "metadata": {},
     "output_type": "execute_result"
    }
   ],
   "source": [
    "from quilt.data.dsdb import test_dataset\n",
    "test_dataset"
   ]
  },
  {
   "cell_type": "code",
   "execution_count": 11,
   "metadata": {},
   "outputs": [
    {
     "data": {
      "text/plain": [
       "<GroupNode>\n",
       "json_2/"
      ]
     },
     "execution_count": 11,
     "metadata": {},
     "output_type": "execute_result"
    }
   ],
   "source": [
    "test_dataset.files"
   ]
  },
  {
   "cell_type": "code",
   "execution_count": 12,
   "metadata": {},
   "outputs": [
    {
     "name": "stdout",
     "output_type": "stream",
     "text": [
      "# test_dataset:\n",
      "\n",
      "## Description:\n",
      "this is the hello world of dataset ingestion\n",
      "\n",
      "## Created:\n",
      "2018-07-20 19:20:07.191046\n",
      "\n",
      "## Origin SourceId:\n",
      "1\n",
      "\n",
      "\n"
     ]
    }
   ],
   "source": [
    "readme = test_dataset.README()\n",
    "readme = open(readme, \"r\")\n",
    "print(readme.read())"
   ]
  },
  {
   "cell_type": "code",
   "execution_count": 13,
   "metadata": {},
   "outputs": [
    {
     "data": {
      "text/html": [
       "<div>\n",
       "<style scoped>\n",
       "    .dataframe tbody tr th:only-of-type {\n",
       "        vertical-align: middle;\n",
       "    }\n",
       "\n",
       "    .dataframe tbody tr th {\n",
       "        vertical-align: top;\n",
       "    }\n",
       "\n",
       "    .dataframe thead th {\n",
       "        text-align: right;\n",
       "    }\n",
       "</style>\n",
       "<table border=\"1\" class=\"dataframe\">\n",
       "  <thead>\n",
       "    <tr style=\"text-align: right;\">\n",
       "      <th></th>\n",
       "      <th>bools</th>\n",
       "      <th>files</th>\n",
       "      <th>floats</th>\n",
       "      <th>ndarrays</th>\n",
       "      <th>sets</th>\n",
       "      <th>strings</th>\n",
       "      <th>tuples</th>\n",
       "    </tr>\n",
       "  </thead>\n",
       "  <tbody>\n",
       "    <tr>\n",
       "      <th>0</th>\n",
       "      <td>True</td>\n",
       "      <td>json_2</td>\n",
       "      <td>74.004970</td>\n",
       "      <td>[[0.26331501518513467, 0.5337393933802977], [0...</td>\n",
       "      <td>{1, 2, 3}</td>\n",
       "      <td>foo0</td>\n",
       "      <td>(1, 2, 3)</td>\n",
       "    </tr>\n",
       "    <tr>\n",
       "      <th>1</th>\n",
       "      <td>False</td>\n",
       "      <td>json_2</td>\n",
       "      <td>3.342143</td>\n",
       "      <td>[[0.9569493362751168, 0.13720932135607644], [0...</td>\n",
       "      <td>{1, 2, 3}</td>\n",
       "      <td>foo1</td>\n",
       "      <td>(1, 2, 3)</td>\n",
       "    </tr>\n",
       "    <tr>\n",
       "      <th>2</th>\n",
       "      <td>False</td>\n",
       "      <td>json_2</td>\n",
       "      <td>85.273554</td>\n",
       "      <td>[[0.002259233518513537, 0.5212260272202929], [...</td>\n",
       "      <td>{1, 2, 3}</td>\n",
       "      <td>foo2</td>\n",
       "      <td>(1, 2, 3)</td>\n",
       "    </tr>\n",
       "    <tr>\n",
       "      <th>3</th>\n",
       "      <td>False</td>\n",
       "      <td>json_2</td>\n",
       "      <td>16.071675</td>\n",
       "      <td>[[0.7645604503388788, 0.020809797952066167], [...</td>\n",
       "      <td>{1, 2, 3}</td>\n",
       "      <td>foo3</td>\n",
       "      <td>(1, 2, 3)</td>\n",
       "    </tr>\n",
       "    <tr>\n",
       "      <th>4</th>\n",
       "      <td>True</td>\n",
       "      <td>json_2</td>\n",
       "      <td>67.145265</td>\n",
       "      <td>[[0.4712297782500141, 0.8161682980460269], [0....</td>\n",
       "      <td>{1, 2, 3}</td>\n",
       "      <td>foo4</td>\n",
       "      <td>(1, 2, 3)</td>\n",
       "    </tr>\n",
       "    <tr>\n",
       "      <th>5</th>\n",
       "      <td>False</td>\n",
       "      <td>json_2</td>\n",
       "      <td>32.756948</td>\n",
       "      <td>[[0.3346475291060558, 0.9780580790165189], [0....</td>\n",
       "      <td>{1, 2, 3}</td>\n",
       "      <td>foo5</td>\n",
       "      <td>(1, 2, 3)</td>\n",
       "    </tr>\n",
       "    <tr>\n",
       "      <th>6</th>\n",
       "      <td>False</td>\n",
       "      <td>json_2</td>\n",
       "      <td>82.500925</td>\n",
       "      <td>[[0.40664030180666166, 0.4513084114213143], [0...</td>\n",
       "      <td>{1, 2, 3}</td>\n",
       "      <td>foo6</td>\n",
       "      <td>(1, 2, 3)</td>\n",
       "    </tr>\n",
       "    <tr>\n",
       "      <th>7</th>\n",
       "      <td>True</td>\n",
       "      <td>json_2</td>\n",
       "      <td>96.259690</td>\n",
       "      <td>[[0.4192502702591062, 0.4240524465509987], [0....</td>\n",
       "      <td>{1, 2, 3}</td>\n",
       "      <td>foo7</td>\n",
       "      <td>(1, 2, 3)</td>\n",
       "    </tr>\n",
       "    <tr>\n",
       "      <th>8</th>\n",
       "      <td>True</td>\n",
       "      <td>json_2</td>\n",
       "      <td>3.516826</td>\n",
       "      <td>[[0.08427266973184566, 0.7325206981419501], [0...</td>\n",
       "      <td>{1, 2, 3}</td>\n",
       "      <td>foo8</td>\n",
       "      <td>(1, 2, 3)</td>\n",
       "    </tr>\n",
       "    <tr>\n",
       "      <th>9</th>\n",
       "      <td>True</td>\n",
       "      <td>json_2</td>\n",
       "      <td>22.085252</td>\n",
       "      <td>[[0.055019993340200135, 0.5232460707782919], [...</td>\n",
       "      <td>{1, 2, 3}</td>\n",
       "      <td>foo9</td>\n",
       "      <td>(1, 2, 3)</td>\n",
       "    </tr>\n",
       "  </tbody>\n",
       "</table>\n",
       "</div>"
      ],
      "text/plain": [
       "   bools   files     floats  \\\n",
       "0   True  json_2  74.004970   \n",
       "1  False  json_2   3.342143   \n",
       "2  False  json_2  85.273554   \n",
       "3  False  json_2  16.071675   \n",
       "4   True  json_2  67.145265   \n",
       "5  False  json_2  32.756948   \n",
       "6  False  json_2  82.500925   \n",
       "7   True  json_2  96.259690   \n",
       "8   True  json_2   3.516826   \n",
       "9   True  json_2  22.085252   \n",
       "\n",
       "                                            ndarrays       sets strings  \\\n",
       "0  [[0.26331501518513467, 0.5337393933802977], [0...  {1, 2, 3}    foo0   \n",
       "1  [[0.9569493362751168, 0.13720932135607644], [0...  {1, 2, 3}    foo1   \n",
       "2  [[0.002259233518513537, 0.5212260272202929], [...  {1, 2, 3}    foo2   \n",
       "3  [[0.7645604503388788, 0.020809797952066167], [...  {1, 2, 3}    foo3   \n",
       "4  [[0.4712297782500141, 0.8161682980460269], [0....  {1, 2, 3}    foo4   \n",
       "5  [[0.3346475291060558, 0.9780580790165189], [0....  {1, 2, 3}    foo5   \n",
       "6  [[0.40664030180666166, 0.4513084114213143], [0...  {1, 2, 3}    foo6   \n",
       "7  [[0.4192502702591062, 0.4240524465509987], [0....  {1, 2, 3}    foo7   \n",
       "8  [[0.08427266973184566, 0.7325206981419501], [0...  {1, 2, 3}    foo8   \n",
       "9  [[0.055019993340200135, 0.5232460707782919], [...  {1, 2, 3}    foo9   \n",
       "\n",
       "      tuples  \n",
       "0  (1, 2, 3)  \n",
       "1  (1, 2, 3)  \n",
       "2  (1, 2, 3)  \n",
       "3  (1, 2, 3)  \n",
       "4  (1, 2, 3)  \n",
       "5  (1, 2, 3)  \n",
       "6  (1, 2, 3)  \n",
       "7  (1, 2, 3)  \n",
       "8  (1, 2, 3)  \n",
       "9  (1, 2, 3)  "
      ]
     },
     "execution_count": 13,
     "metadata": {},
     "output_type": "execute_result"
    }
   ],
   "source": [
    "read_in = pd.read_pickle(test_dataset.data())\n",
    "read_in"
   ]
  },
  {
   "cell_type": "code",
   "execution_count": 14,
   "metadata": {},
   "outputs": [
    {
     "name": "stdout",
     "output_type": "stream",
     "text": [
      "{'hello': 'world'}\n",
      "{'hello': 'world'}\n",
      "{'hello': 'world'}\n",
      "{'hello': 'world'}\n",
      "{'hello': 'world'}\n",
      "{'hello': 'world'}\n",
      "{'hello': 'world'}\n",
      "{'hello': 'world'}\n",
      "{'hello': 'world'}\n",
      "{'hello': 'world'}\n"
     ]
    }
   ],
   "source": [
    "for f in read_in[\"files\"]:\n",
    "    fp = getattr(test_dataset.files, f)\n",
    "    print(json.load(open(fp.load())))"
   ]
  },
  {
   "cell_type": "code",
   "execution_count": 15,
   "metadata": {},
   "outputs": [
    {
     "data": {
      "text/plain": [
       "[numpy.ndarray,\n",
       " numpy.ndarray,\n",
       " numpy.ndarray,\n",
       " numpy.ndarray,\n",
       " numpy.ndarray,\n",
       " numpy.ndarray,\n",
       " numpy.ndarray,\n",
       " numpy.ndarray,\n",
       " numpy.ndarray,\n",
       " numpy.ndarray]"
      ]
     },
     "execution_count": 15,
     "metadata": {},
     "output_type": "execute_result"
    }
   ],
   "source": [
    "[type(nd) for nd in read_in[\"ndarrays\"]]"
   ]
  },
  {
   "cell_type": "code",
   "execution_count": 16,
   "metadata": {},
   "outputs": [
    {
     "data": {
      "text/plain": [
       "[(2, 2),\n",
       " (2, 2),\n",
       " (2, 2),\n",
       " (2, 2),\n",
       " (2, 2),\n",
       " (2, 2),\n",
       " (2, 2),\n",
       " (2, 2),\n",
       " (2, 2),\n",
       " (2, 2)]"
      ]
     },
     "execution_count": 16,
     "metadata": {},
     "output_type": "execute_result"
    }
   ],
   "source": [
    "[nd.shape for nd in read_in[\"ndarrays\"]]"
   ]
  },
  {
   "cell_type": "code",
   "execution_count": 17,
   "metadata": {},
   "outputs": [
    {
     "name": "stdout",
     "output_type": "stream",
     "text": [
      "------------------------------- DATASET DATABASE -------------------------------\n",
      "--------------------------------------------------------------------------------\n",
      "User:\n",
      "rows: 1\n",
      "recent:\n",
      "{'UserId': 1, 'Name': 'jacksonb', 'Description': None, 'Created': '2018-07-20 19:20:04.181673'}\n",
      "--------------------------------------------------------------------------------\n",
      "Iota:\n",
      "rows: 80\n",
      "recent:\n",
      "{'IotaId': 76, 'GroupId': 9, 'Key': 'ndarrays(Reshape)', 'Value': '(2, 2)', 'ValueType': \"<class 'tuple'>\", 'Created': '2018-07-20 19:20:07.109165'}\n",
      "{'IotaId': 77, 'GroupId': 9, 'Key': 'ndarrays', 'Value': '[0.055019993340200135 0.5232460707782919   0.4163696572946102\\n 0.048218749825570395]', 'ValueType': \"<class 'numpy.ndarray'>\", 'Created': '2018-07-20 19:20:07.109165'}\n",
      "{'IotaId': 78, 'GroupId': 9, 'Key': 'sets', 'Value': '{1, 2, 3}', 'ValueType': \"<class 'set'>\", 'Created': '2018-07-20 19:20:07.137254'}\n",
      "{'IotaId': 79, 'GroupId': 9, 'Key': 'strings', 'Value': 'foo9', 'ValueType': \"<class 'str'>\", 'Created': '2018-07-20 19:20:07.152798'}\n",
      "{'IotaId': 80, 'GroupId': 9, 'Key': 'tuples', 'Value': '(1, 2, 3)', 'ValueType': \"<class 'tuple'>\", 'Created': '2018-07-20 19:20:07.173378'}\n",
      "--------------------------------------------------------------------------------\n",
      "SourceType:\n",
      "rows: 2\n",
      "recent:\n",
      "--------------------------------------------------------------------------------\n",
      "Source:\n",
      "rows: 1\n",
      "recent:\n",
      "{'SourceId': 1, 'SourceTypeId': 1, 'Name': '1', 'Created': '2018-07-20 19:20:04.198183'}\n",
      "--------------------------------------------------------------------------------\n",
      "FileSource:\n",
      "rows: 1\n",
      "recent:\n",
      "{'FileSourceId': 1, 'FileId': 1, 'SourceId': 1}\n",
      "--------------------------------------------------------------------------------\n",
      "Dataset:\n",
      "rows: 1\n",
      "recent:\n",
      "{'DatasetId': 1, 'Name': 'test_dataset', 'Description': 'this is the hello world of dataset ingestion', 'SourceId': 1, 'FilepathColumns': \"['files']\", 'Created': '2018-07-20 19:20:07.191046'}\n",
      "--------------------------------------------------------------------------------\n",
      "IotaDatasetJunction:\n",
      "rows: 80\n",
      "recent:\n",
      "{'IotaDatasetJunctionId': 76, 'IotaId': 76, 'DatasetId': 1, 'Created': '2018-07-20 19:20:08.587324'}\n",
      "{'IotaDatasetJunctionId': 77, 'IotaId': 77, 'DatasetId': 1, 'Created': '2018-07-20 19:20:08.606956'}\n",
      "{'IotaDatasetJunctionId': 78, 'IotaId': 78, 'DatasetId': 1, 'Created': '2018-07-20 19:20:08.629996'}\n",
      "{'IotaDatasetJunctionId': 79, 'IotaId': 79, 'DatasetId': 1, 'Created': '2018-07-20 19:20:08.680151'}\n",
      "{'IotaDatasetJunctionId': 80, 'IotaId': 80, 'DatasetId': 1, 'Created': '2018-07-20 19:20:08.698239'}\n",
      "--------------------------------------------------------------------------------\n",
      "Algorithm:\n",
      "rows: 1\n",
      "recent:\n",
      "{'AlgorithmId': 1, 'Name': 'datasetdatabase.core.datasetdatabase._upload_dataset', 'Description': None, 'Version': 'ea1caf2567dd5de8854efcbe6bae97b3b594f947', 'Created': '2018-07-20 19:20:04.163877'}\n",
      "--------------------------------------------------------------------------------\n",
      "Run:\n",
      "rows: 1\n",
      "recent:\n",
      "{'RunId': 1, 'AlgorithmId': 1, 'UserId': 1, 'Name': None, 'Description': 'datasetdatabase.core.datasetdatabase._upload_dataset run for jacksonb', 'Begin': '2018-07-20 19:20:04.194346', 'End': '2018-07-20 19:20:08.714896'}\n",
      "--------------------------------------------------------------------------------\n",
      "RunInput:\n",
      "rows: 0\n",
      "recent:\n",
      "--------------------------------------------------------------------------------\n",
      "RunOutput:\n",
      "rows: 1\n",
      "recent:\n",
      "{'RunOutputId': 1, 'RunId': 1, 'DatasetId': 1, 'Created': '2018-07-20 19:20:08.728512'}\n",
      "--------------------------------------------------------------------------------\n",
      "RunSource:\n",
      "rows: 0\n",
      "recent:\n",
      "--------------------------------------------------------------------------------\n",
      "File:\n",
      "rows: 3\n",
      "recent:\n",
      "{'FileId': 3, 'OriginalFilepath': '/active/examples/custom_dataframe.pkl', 'Filetype': 'pkl', 'ReadPath': '/home/jovyan/.local/share/QuiltCli/quilt_packages/objs/bffab18a749c5dafc38ab86f680aeecb4038b6b88cd5fd20f203c915fe9d3439', 'MD5': 'c1422eda1c3f84f44ae994c3e6e3651b', 'QuiltPackage': 'dsdb_storage/fms_c1422eda1c3f84f44ae994c3e6e3651b', 'Metadata': None, 'Created': '2018-07-20 19:20:09.383969'}\n"
     ]
    }
   ],
   "source": [
    "local._deep_print()"
   ]
  }
 ],
 "metadata": {
  "kernelspec": {
   "display_name": "Python 3",
   "language": "python",
   "name": "python3"
  },
  "language_info": {
   "codemirror_mode": {
    "name": "ipython",
    "version": 3
   },
   "file_extension": ".py",
   "mimetype": "text/x-python",
   "name": "python",
   "nbconvert_exporter": "python",
   "pygments_lexer": "ipython3",
   "version": "3.6.5"
  }
 },
 "nbformat": 4,
 "nbformat_minor": 2
}
