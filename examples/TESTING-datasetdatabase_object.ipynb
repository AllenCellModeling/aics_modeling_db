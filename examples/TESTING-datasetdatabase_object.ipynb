{
 "cells": [
  {
   "cell_type": "code",
   "execution_count": 1,
   "metadata": {},
   "outputs": [],
   "source": [
    "import datasetdatabase as dsdb\n",
    "import pandas as pd\n",
    "import quilt"
   ]
  },
  {
   "cell_type": "code",
   "execution_count": 2,
   "metadata": {},
   "outputs": [
    {
     "data": {
      "text/plain": [
       "LOCAL:\n",
       "\tdriver: sqlite\n",
       "\tlink: /active/examples/local_database/local.db"
      ]
     },
     "execution_count": 2,
     "metadata": {},
     "output_type": "execute_result"
    }
   ],
   "source": [
    "mngr = dsdb.ConnectionManager(dsdb.LOCAL, user=\"jacksonb\")\n",
    "mngr"
   ]
  },
  {
   "cell_type": "code",
   "execution_count": 3,
   "metadata": {},
   "outputs": [
    {
     "data": {
      "text/plain": [
       "------------------------------- DATASET DATABASE -------------------------------\n",
       "--------------------------------------------------------------------------------\n",
       "User:\n",
       "\trows: 0\n",
       "\texample: None\n",
       "--------------------------------------------------------------------------------\n",
       "Iota:\n",
       "\trows: 0\n",
       "\texample: None\n",
       "--------------------------------------------------------------------------------\n",
       "SourceType:\n",
       "\trows: 2\n",
       "\texample: {'SourceTypeId': 1, 'Name': 'FileSource', 'Description': 'Id attached should be read using FMS get.', 'Created': '2018-07-10 00:52:15.866332'}\n",
       "--------------------------------------------------------------------------------\n",
       "Source:\n",
       "\trows: 0\n",
       "\texample: None\n",
       "--------------------------------------------------------------------------------\n",
       "FileSource:\n",
       "\trows: 0\n",
       "\texample: None\n",
       "--------------------------------------------------------------------------------\n",
       "Dataset:\n",
       "\trows: 0\n",
       "\texample: None\n",
       "--------------------------------------------------------------------------------\n",
       "IotaDatasetJunction:\n",
       "\trows: 0\n",
       "\texample: None\n",
       "--------------------------------------------------------------------------------\n",
       "Algorithm:\n",
       "\trows: 2\n",
       "\texample: {'AlgorithmId': 1, 'Name': 'upload_dataset', 'Description': 'DatasetDatabase ingest function', 'Version': '0.1.1.dev', 'Created': '2018-07-10 00:52:15.866332'}\n",
       "--------------------------------------------------------------------------------\n",
       "Run:\n",
       "\trows: 0\n",
       "\texample: None\n",
       "--------------------------------------------------------------------------------\n",
       "RunSource:\n",
       "\trows: 0\n",
       "\texample: None\n",
       "-------------------------------- RECENTLY ADDED --------------------------------\n",
       "--------------------------------------------------------------------------------"
      ]
     },
     "execution_count": 3,
     "metadata": {},
     "output_type": "execute_result"
    }
   ],
   "source": [
    "local = mngr.connect(dsdb.LOCAL)\n",
    "local"
   ]
  },
  {
   "cell_type": "code",
   "execution_count": 4,
   "metadata": {},
   "outputs": [
    {
     "name": "stdout",
     "output_type": "stream",
     "text": [
      "/home/jovyan/.local/share/QuiltCli/quilt_packages\n"
     ]
    }
   ],
   "source": [
    "quilt.ls()"
   ]
  },
  {
   "cell_type": "code",
   "execution_count": 5,
   "metadata": {},
   "outputs": [
    {
     "data": {
      "text/html": [
       "<div>\n",
       "<style scoped>\n",
       "    .dataframe tbody tr th:only-of-type {\n",
       "        vertical-align: middle;\n",
       "    }\n",
       "\n",
       "    .dataframe tbody tr th {\n",
       "        vertical-align: top;\n",
       "    }\n",
       "\n",
       "    .dataframe thead th {\n",
       "        text-align: right;\n",
       "    }\n",
       "</style>\n",
       "<table border=\"1\" class=\"dataframe\">\n",
       "  <thead>\n",
       "    <tr style=\"text-align: right;\">\n",
       "      <th></th>\n",
       "      <th>hello</th>\n",
       "      <th>world</th>\n",
       "    </tr>\n",
       "  </thead>\n",
       "  <tbody>\n",
       "    <tr>\n",
       "      <th>0</th>\n",
       "      <td>1</td>\n",
       "      <td>2</td>\n",
       "    </tr>\n",
       "    <tr>\n",
       "      <th>1</th>\n",
       "      <td>3</td>\n",
       "      <td>4</td>\n",
       "    </tr>\n",
       "  </tbody>\n",
       "</table>\n",
       "</div>"
      ],
      "text/plain": [
       "   hello  world\n",
       "0      1      2\n",
       "1      3      4"
      ]
     },
     "execution_count": 5,
     "metadata": {},
     "output_type": "execute_result"
    }
   ],
   "source": [
    "test = pd.DataFrame([{\"hello\": 1, \"world\": 2}, {\"hello\": 3, \"world\": 4}])\n",
    "test"
   ]
  },
  {
   "cell_type": "code",
   "execution_count": 11,
   "metadata": {},
   "outputs": [
    {
     "data": {
      "text/plain": [
       "{'DatasetId': 1,\n",
       " 'Name': 'fms_ae47a461a4ab791aab0fa25745ea846b',\n",
       " 'Description': None,\n",
       " 'SourceId': 1,\n",
       " 'Created': '2018-07-10 00:52:16.569712'}"
      ]
     },
     "execution_count": 11,
     "metadata": {},
     "output_type": "execute_result"
    }
   ],
   "source": [
    "local.upload_dataset(test)"
   ]
  },
  {
   "cell_type": "code",
   "execution_count": 12,
   "metadata": {},
   "outputs": [
    {
     "data": {
      "text/plain": [
       "------------------------------- DATASET DATABASE -------------------------------\n",
       "--------------------------------------------------------------------------------\n",
       "User:\n",
       "\trows: 1\n",
       "\texample: {'UserId': 1, 'Name': 'jacksonb', 'Description': None, 'Created': '2018-07-10 00:52:16.457849'}\n",
       "--------------------------------------------------------------------------------\n",
       "Iota:\n",
       "\trows: 4\n",
       "\texample: {'IotaId': 1, 'GroupId': 0, 'Key': 'hello', 'Value': '1', 'ValueType': \"<class 'numpy.int64'>\", 'Created': '2018-07-10 00:52:16.505399'}\n",
       "--------------------------------------------------------------------------------\n",
       "SourceType:\n",
       "\trows: 2\n",
       "\texample: {'SourceTypeId': 1, 'Name': 'FileSource', 'Description': 'Id attached should be read using FMS get.', 'Created': '2018-07-10 00:52:15.866332'}\n",
       "--------------------------------------------------------------------------------\n",
       "Source:\n",
       "\trows: 1\n",
       "\texample: {'SourceId': 1, 'SourceTypeId': 1, 'Name': 'fms_ae47a461a4ab791aab0fa25745ea846b', 'Created': '2018-07-10 00:52:16.477005'}\n",
       "--------------------------------------------------------------------------------\n",
       "FileSource:\n",
       "\trows: 1\n",
       "\texample: {'FileSourceId': 1, 'SourceId': 1, 'FileId': 'fms_ae47a461a4ab791aab0fa25745ea846b'}\n",
       "--------------------------------------------------------------------------------\n",
       "Dataset:\n",
       "\trows: 1\n",
       "\texample: {'DatasetId': 1, 'Name': 'fms_ae47a461a4ab791aab0fa25745ea846b', 'Description': None, 'SourceId': 1, 'Created': '2018-07-10 00:52:16.569712'}\n",
       "--------------------------------------------------------------------------------\n",
       "IotaDatasetJunction:\n",
       "\trows: 4\n",
       "\texample: {'IotaId': 1, 'DatasetId': 1}\n",
       "--------------------------------------------------------------------------------\n",
       "Algorithm:\n",
       "\trows: 2\n",
       "\texample: {'AlgorithmId': 1, 'Name': 'upload_dataset', 'Description': 'DatasetDatabase ingest function', 'Version': '0.1.1.dev', 'Created': '2018-07-10 00:52:15.866332'}\n",
       "--------------------------------------------------------------------------------\n",
       "Run:\n",
       "\trows: 0\n",
       "\texample: None\n",
       "--------------------------------------------------------------------------------\n",
       "RunSource:\n",
       "\trows: 0\n",
       "\texample: None\n",
       "-------------------------------- RECENTLY ADDED --------------------------------\n",
       "--------------------------------------------------------------------------------\n",
       "{'UserId': 1, 'Name': 'jacksonb', 'Description': None, 'Created': '2018-07-10 00:52:16.457849'}\n",
       "{'SourceId': 1, 'SourceTypeId': 1, 'Name': 'fms_ae47a461a4ab791aab0fa25745ea846b', 'Created': '2018-07-10 00:52:16.477005'}\n",
       "{'FileSourceId': 1, 'SourceId': 1, 'FileId': 'fms_ae47a461a4ab791aab0fa25745ea846b'}\n",
       "{'IotaId': 1, 'GroupId': 0, 'Key': 'hello', 'Value': '1', 'ValueType': \"<class 'numpy.int64'>\", 'Created': '2018-07-10 00:52:16.505399'}\n",
       "{'IotaId': 2, 'GroupId': 0, 'Key': 'world', 'Value': '2', 'ValueType': \"<class 'numpy.int64'>\", 'Created': '2018-07-10 00:52:16.518834'}\n",
       "{'IotaId': 3, 'GroupId': 1, 'Key': 'hello', 'Value': '3', 'ValueType': \"<class 'numpy.int64'>\", 'Created': '2018-07-10 00:52:16.540508'}\n",
       "{'IotaId': 4, 'GroupId': 1, 'Key': 'world', 'Value': '4', 'ValueType': \"<class 'numpy.int64'>\", 'Created': '2018-07-10 00:52:16.554090'}\n",
       "{'DatasetId': 1, 'Name': 'fms_ae47a461a4ab791aab0fa25745ea846b', 'Description': None, 'SourceId': 1, 'Created': '2018-07-10 00:52:16.569712'}"
      ]
     },
     "execution_count": 12,
     "metadata": {},
     "output_type": "execute_result"
    }
   ],
   "source": [
    "local"
   ]
  },
  {
   "cell_type": "code",
   "execution_count": 13,
   "metadata": {},
   "outputs": [
    {
     "name": "stdout",
     "output_type": "stream",
     "text": [
      "/home/jovyan/.local/share/QuiltCli/quilt_packages\n",
      "dsdb_storage/fms_ae47a461a4ab791aab0fa25745ea846b latest               5a7e03c6dc595b962ab822ef86cfc88b94ac79593e41abadb4e8960ab70b2ad3\n"
     ]
    }
   ],
   "source": [
    "quilt.ls()"
   ]
  },
  {
   "cell_type": "code",
   "execution_count": null,
   "metadata": {},
   "outputs": [],
   "source": []
  }
 ],
 "metadata": {
  "kernelspec": {
   "display_name": "Python 3",
   "language": "python",
   "name": "python3"
  },
  "language_info": {
   "codemirror_mode": {
    "name": "ipython",
    "version": 3
   },
   "file_extension": ".py",
   "mimetype": "text/x-python",
   "name": "python",
   "nbconvert_exporter": "python",
   "pygments_lexer": "ipython3",
   "version": "3.6.5"
  }
 },
 "nbformat": 4,
 "nbformat_minor": 2
}
