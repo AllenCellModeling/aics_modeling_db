{
 "cells": [
  {
   "cell_type": "code",
   "execution_count": 1,
   "metadata": {},
   "outputs": [],
   "source": [
    "import datasetdatabase as dsdb\n",
    "import pandas as pd\n",
    "import numpy as np\n",
    "import pathlib\n",
    "import quilt\n",
    "import json\n",
    "import os"
   ]
  },
  {
   "cell_type": "code",
   "execution_count": 2,
   "metadata": {},
   "outputs": [
    {
     "data": {
      "text/plain": [
       "LOCAL:\n",
       "\tdriver: sqlite\n",
       "\tlink: /active/examples/local_database/local.db"
      ]
     },
     "execution_count": 2,
     "metadata": {},
     "output_type": "execute_result"
    }
   ],
   "source": [
    "mngr = dsdb.ConnectionManager(dsdb.LOCAL, user=\"jacksonb\")\n",
    "mngr"
   ]
  },
  {
   "cell_type": "code",
   "execution_count": 3,
   "metadata": {},
   "outputs": [
    {
     "data": {
      "text/plain": [
       "Recent Datasets:\n",
       "--------------------------------------------------------------------------------"
      ]
     },
     "execution_count": 3,
     "metadata": {},
     "output_type": "execute_result"
    }
   ],
   "source": [
    "local = mngr.connect(dsdb.LOCAL)\n",
    "local"
   ]
  },
  {
   "cell_type": "code",
   "execution_count": 4,
   "metadata": {},
   "outputs": [
    {
     "name": "stdout",
     "output_type": "stream",
     "text": [
      "/home/jovyan/.local/share/QuiltCli/quilt_packages\n"
     ]
    }
   ],
   "source": [
    "quilt.ls()"
   ]
  },
  {
   "cell_type": "code",
   "execution_count": 5,
   "metadata": {},
   "outputs": [
    {
     "data": {
      "text/html": [
       "<div>\n",
       "<style scoped>\n",
       "    .dataframe tbody tr th:only-of-type {\n",
       "        vertical-align: middle;\n",
       "    }\n",
       "\n",
       "    .dataframe tbody tr th {\n",
       "        vertical-align: top;\n",
       "    }\n",
       "\n",
       "    .dataframe thead th {\n",
       "        text-align: right;\n",
       "    }\n",
       "</style>\n",
       "<table border=\"1\" class=\"dataframe\">\n",
       "  <thead>\n",
       "    <tr style=\"text-align: right;\">\n",
       "      <th></th>\n",
       "      <th>bools</th>\n",
       "      <th>files</th>\n",
       "      <th>floats</th>\n",
       "      <th>ndarrays</th>\n",
       "      <th>sets</th>\n",
       "      <th>strings</th>\n",
       "      <th>tuples</th>\n",
       "    </tr>\n",
       "  </thead>\n",
       "  <tbody>\n",
       "    <tr>\n",
       "      <th>0</th>\n",
       "      <td>True</td>\n",
       "      <td>/active/examples/fp_example/0.json</td>\n",
       "      <td>74.004970</td>\n",
       "      <td>[[0.26331501518513467, 0.5337393933802977], [0...</td>\n",
       "      <td>{1, 2, 3}</td>\n",
       "      <td>foo0</td>\n",
       "      <td>(1, 2, 3)</td>\n",
       "    </tr>\n",
       "    <tr>\n",
       "      <th>1</th>\n",
       "      <td>False</td>\n",
       "      <td>/active/examples/fp_example/1.json</td>\n",
       "      <td>3.342143</td>\n",
       "      <td>[[0.9569493362751168, 0.13720932135607644], [0...</td>\n",
       "      <td>{1, 2, 3}</td>\n",
       "      <td>foo1</td>\n",
       "      <td>(1, 2, 3)</td>\n",
       "    </tr>\n",
       "    <tr>\n",
       "      <th>2</th>\n",
       "      <td>False</td>\n",
       "      <td>/active/examples/fp_example/2.json</td>\n",
       "      <td>85.273554</td>\n",
       "      <td>[[0.002259233518513537, 0.5212260272202929], [...</td>\n",
       "      <td>{1, 2, 3}</td>\n",
       "      <td>foo2</td>\n",
       "      <td>(1, 2, 3)</td>\n",
       "    </tr>\n",
       "    <tr>\n",
       "      <th>3</th>\n",
       "      <td>False</td>\n",
       "      <td>/active/examples/fp_example/3.json</td>\n",
       "      <td>16.071675</td>\n",
       "      <td>[[0.7645604503388788, 0.020809797952066167], [...</td>\n",
       "      <td>{1, 2, 3}</td>\n",
       "      <td>foo3</td>\n",
       "      <td>(1, 2, 3)</td>\n",
       "    </tr>\n",
       "    <tr>\n",
       "      <th>4</th>\n",
       "      <td>True</td>\n",
       "      <td>/active/examples/fp_example/4.json</td>\n",
       "      <td>67.145265</td>\n",
       "      <td>[[0.4712297782500141, 0.8161682980460269], [0....</td>\n",
       "      <td>{1, 2, 3}</td>\n",
       "      <td>foo4</td>\n",
       "      <td>(1, 2, 3)</td>\n",
       "    </tr>\n",
       "    <tr>\n",
       "      <th>5</th>\n",
       "      <td>False</td>\n",
       "      <td>/active/examples/fp_example/5.json</td>\n",
       "      <td>32.756948</td>\n",
       "      <td>[[0.3346475291060558, 0.9780580790165189], [0....</td>\n",
       "      <td>{1, 2, 3}</td>\n",
       "      <td>foo5</td>\n",
       "      <td>(1, 2, 3)</td>\n",
       "    </tr>\n",
       "    <tr>\n",
       "      <th>6</th>\n",
       "      <td>False</td>\n",
       "      <td>/active/examples/fp_example/6.json</td>\n",
       "      <td>82.500925</td>\n",
       "      <td>[[0.40664030180666166, 0.4513084114213143], [0...</td>\n",
       "      <td>{1, 2, 3}</td>\n",
       "      <td>foo6</td>\n",
       "      <td>(1, 2, 3)</td>\n",
       "    </tr>\n",
       "    <tr>\n",
       "      <th>7</th>\n",
       "      <td>True</td>\n",
       "      <td>/active/examples/fp_example/7.json</td>\n",
       "      <td>96.259690</td>\n",
       "      <td>[[0.4192502702591062, 0.4240524465509987], [0....</td>\n",
       "      <td>{1, 2, 3}</td>\n",
       "      <td>foo7</td>\n",
       "      <td>(1, 2, 3)</td>\n",
       "    </tr>\n",
       "    <tr>\n",
       "      <th>8</th>\n",
       "      <td>True</td>\n",
       "      <td>/active/examples/fp_example/8.json</td>\n",
       "      <td>3.516826</td>\n",
       "      <td>[[0.08427266973184566, 0.7325206981419501], [0...</td>\n",
       "      <td>{1, 2, 3}</td>\n",
       "      <td>foo8</td>\n",
       "      <td>(1, 2, 3)</td>\n",
       "    </tr>\n",
       "    <tr>\n",
       "      <th>9</th>\n",
       "      <td>True</td>\n",
       "      <td>/active/examples/fp_example/9.json</td>\n",
       "      <td>22.085252</td>\n",
       "      <td>[[0.055019993340200135, 0.5232460707782919], [...</td>\n",
       "      <td>{1, 2, 3}</td>\n",
       "      <td>foo9</td>\n",
       "      <td>(1, 2, 3)</td>\n",
       "    </tr>\n",
       "  </tbody>\n",
       "</table>\n",
       "</div>"
      ],
      "text/plain": [
       "   bools                               files     floats  \\\n",
       "0   True  /active/examples/fp_example/0.json  74.004970   \n",
       "1  False  /active/examples/fp_example/1.json   3.342143   \n",
       "2  False  /active/examples/fp_example/2.json  85.273554   \n",
       "3  False  /active/examples/fp_example/3.json  16.071675   \n",
       "4   True  /active/examples/fp_example/4.json  67.145265   \n",
       "5  False  /active/examples/fp_example/5.json  32.756948   \n",
       "6  False  /active/examples/fp_example/6.json  82.500925   \n",
       "7   True  /active/examples/fp_example/7.json  96.259690   \n",
       "8   True  /active/examples/fp_example/8.json   3.516826   \n",
       "9   True  /active/examples/fp_example/9.json  22.085252   \n",
       "\n",
       "                                            ndarrays       sets strings  \\\n",
       "0  [[0.26331501518513467, 0.5337393933802977], [0...  {1, 2, 3}    foo0   \n",
       "1  [[0.9569493362751168, 0.13720932135607644], [0...  {1, 2, 3}    foo1   \n",
       "2  [[0.002259233518513537, 0.5212260272202929], [...  {1, 2, 3}    foo2   \n",
       "3  [[0.7645604503388788, 0.020809797952066167], [...  {1, 2, 3}    foo3   \n",
       "4  [[0.4712297782500141, 0.8161682980460269], [0....  {1, 2, 3}    foo4   \n",
       "5  [[0.3346475291060558, 0.9780580790165189], [0....  {1, 2, 3}    foo5   \n",
       "6  [[0.40664030180666166, 0.4513084114213143], [0...  {1, 2, 3}    foo6   \n",
       "7  [[0.4192502702591062, 0.4240524465509987], [0....  {1, 2, 3}    foo7   \n",
       "8  [[0.08427266973184566, 0.7325206981419501], [0...  {1, 2, 3}    foo8   \n",
       "9  [[0.055019993340200135, 0.5232460707782919], [...  {1, 2, 3}    foo9   \n",
       "\n",
       "      tuples  \n",
       "0  (1, 2, 3)  \n",
       "1  (1, 2, 3)  \n",
       "2  (1, 2, 3)  \n",
       "3  (1, 2, 3)  \n",
       "4  (1, 2, 3)  \n",
       "5  (1, 2, 3)  \n",
       "6  (1, 2, 3)  \n",
       "7  (1, 2, 3)  \n",
       "8  (1, 2, 3)  \n",
       "9  (1, 2, 3)  "
      ]
     },
     "execution_count": 5,
     "metadata": {},
     "output_type": "execute_result"
    }
   ],
   "source": [
    "# create test upload dataset\n",
    "fp_ex = pathlib.Path(\"/active/examples/fp_example/\")\n",
    "if not fp_ex.exists():\n",
    "    os.makedirs(fp_ex)\n",
    "\n",
    "np.random.seed(seed=12)\n",
    "\n",
    "test = []\n",
    "for i in range(10):\n",
    "    fp =  fp_ex / (str(i) + \".json\")\n",
    "    with open(fp, \"w\") as write_out:\n",
    "        json.dump({\"hello\": \"world\"}, write_out)\n",
    "    \n",
    "    d = {}\n",
    "    d[\"strings\"] = \"foo\" + str(i)\n",
    "    d[\"bools\"] = np.random.rand() < 0.5\n",
    "    d[\"floats\"] = np.random.rand() * 100\n",
    "    d[\"ndarrays\"] = np.random.rand(2, 2)\n",
    "    d[\"tuples\"] = tuple([1, 2, 3])\n",
    "    d[\"sets\"] = set([1, 2, 3, 3, 3])\n",
    "    d[\"files\"] = str(fp)\n",
    "    test.append(d)\n",
    "\n",
    "test = pd.DataFrame(test)\n",
    "test.to_csv(fp_ex / \"example.csv\")\n",
    "test"
   ]
  },
  {
   "cell_type": "code",
   "execution_count": 6,
   "metadata": {},
   "outputs": [
    {
     "name": "stdout",
     "output_type": "stream",
     "text": [
      "Validating Dataset...\n",
      "[============================================================] 100.0% (280/280) ~ 0:00:00 remaining\n",
      "Creating Iota...\n",
      "[============================================================] 100.0% (70/70) ~ 0:00:00 remaining\n",
      "Creating Junction Items...\n",
      "[============================================================] 100.0% (80/80) ~ 0:00:00 remaining\n",
      "Dataset upload complete!\n"
     ]
    },
    {
     "data": {
      "text/plain": [
       "{'DatasetId': 1,\n",
       " 'Name': 'test_dataset',\n",
       " 'Description': 'this is the hello world of dataset ingestion',\n",
       " 'SourceId': 1,\n",
       " 'Created': '2018-07-11 00:11:03.023442'}"
      ]
     },
     "execution_count": 6,
     "metadata": {},
     "output_type": "execute_result"
    }
   ],
   "source": [
    "ds_info = local.upload_dataset(dataset=test,\n",
    "                               name=\"test_dataset\",\n",
    "                               description=\"this is the hello world of dataset ingestion\",\n",
    "                               type_map={\"bools\": bool,\n",
    "                                         \"files\": str,\n",
    "                                         \"floats\": float,\n",
    "                                         \"ndarrays\": np.ndarray,\n",
    "                                         \"strings\": str},\n",
    "                               store_files=False,\n",
    "                               filepath_columns=[\"files\"])\n",
    "ds_info"
   ]
  },
  {
   "cell_type": "code",
   "execution_count": 7,
   "metadata": {},
   "outputs": [
    {
     "data": {
      "text/plain": [
       "Recent Datasets:\n",
       "--------------------------------------------------------------------------------\n",
       "{'DatasetId': 1, 'Name': 'test_dataset', 'Description': 'this is the hello world of dataset ingestion', 'SourceId': 1, 'Created': '2018-07-11 00:11:03.023442'}"
      ]
     },
     "execution_count": 7,
     "metadata": {},
     "output_type": "execute_result"
    }
   ],
   "source": [
    "local"
   ]
  },
  {
   "cell_type": "code",
   "execution_count": 8,
   "metadata": {},
   "outputs": [
    {
     "name": "stdout",
     "output_type": "stream",
     "text": [
      "/home/jovyan/.local/share/QuiltCli/quilt_packages\n",
      "dsdb_storage/fms_e2af2d0b78717d8f1f0443343e007605 latest               c9a13cc86980986610fd00f0d752dbe9f2ddb2382c87eb282929b008a6b1a313\n"
     ]
    }
   ],
   "source": [
    "quilt.ls()"
   ]
  },
  {
   "cell_type": "code",
   "execution_count": 9,
   "metadata": {},
   "outputs": [
    {
     "data": {
      "text/plain": [
       "{'DatasetId': 1,\n",
       " 'Name': 'test_dataset',\n",
       " 'Description': 'this is the hello world of dataset ingestion',\n",
       " 'SourceId': 1,\n",
       " 'Created': '2018-07-11 00:11:03.023442'}"
      ]
     },
     "execution_count": 9,
     "metadata": {},
     "output_type": "execute_result"
    }
   ],
   "source": [
    "ds_info = local.upload_dataset(dataset=test,\n",
    "                               name=\"test_dataset\",\n",
    "                               description=\"this is the hello world of dataset ingestion\",\n",
    "                               type_map={\"bools\": bool,\n",
    "                                         \"files\": str,\n",
    "                                         \"floats\": float,\n",
    "                                         \"ndarrays\": np.ndarray,\n",
    "                                         \"strings\": str},\n",
    "                               store_files=False,\n",
    "                               filepath_columns=[\"files\"])\n",
    "ds_info"
   ]
  },
  {
   "cell_type": "code",
   "execution_count": 10,
   "metadata": {},
   "outputs": [
    {
     "data": {
      "text/plain": [
       "Recent Datasets:\n",
       "--------------------------------------------------------------------------------\n",
       "{'DatasetId': 1, 'Name': 'test_dataset', 'Description': 'this is the hello world of dataset ingestion', 'SourceId': 1, 'Created': '2018-07-11 00:11:03.023442'}"
      ]
     },
     "execution_count": 10,
     "metadata": {},
     "output_type": "execute_result"
    }
   ],
   "source": [
    "local"
   ]
  },
  {
   "cell_type": "code",
   "execution_count": 11,
   "metadata": {},
   "outputs": [
    {
     "name": "stdout",
     "output_type": "stream",
     "text": [
      "/home/jovyan/.local/share/QuiltCli/quilt_packages\n",
      "dsdb_storage/fms_e2af2d0b78717d8f1f0443343e007605 latest               c9a13cc86980986610fd00f0d752dbe9f2ddb2382c87eb282929b008a6b1a313\n"
     ]
    }
   ],
   "source": [
    "quilt.ls()"
   ]
  },
  {
   "cell_type": "code",
   "execution_count": 12,
   "metadata": {},
   "outputs": [
    {
     "data": {
      "text/html": [
       "<div>\n",
       "<style scoped>\n",
       "    .dataframe tbody tr th:only-of-type {\n",
       "        vertical-align: middle;\n",
       "    }\n",
       "\n",
       "    .dataframe tbody tr th {\n",
       "        vertical-align: top;\n",
       "    }\n",
       "\n",
       "    .dataframe thead th {\n",
       "        text-align: right;\n",
       "    }\n",
       "</style>\n",
       "<table border=\"1\" class=\"dataframe\">\n",
       "  <thead>\n",
       "    <tr style=\"text-align: right;\">\n",
       "      <th></th>\n",
       "      <th>bools</th>\n",
       "      <th>files</th>\n",
       "      <th>floats</th>\n",
       "      <th>ndarrays</th>\n",
       "      <th>sets</th>\n",
       "      <th>strings</th>\n",
       "      <th>tuples</th>\n",
       "    </tr>\n",
       "  </thead>\n",
       "  <tbody>\n",
       "    <tr>\n",
       "      <th>0</th>\n",
       "      <td>False</td>\n",
       "      <td>/active/examples/fp_example/0.json</td>\n",
       "      <td>70.814782</td>\n",
       "      <td>[[0.2909047389129443, 0.510827605197663], [0.8...</td>\n",
       "      <td>{1, 2, 3}</td>\n",
       "      <td>foo0</td>\n",
       "      <td>(1, 2, 3)</td>\n",
       "    </tr>\n",
       "    <tr>\n",
       "      <th>1</th>\n",
       "      <td>True</td>\n",
       "      <td>/active/examples/fp_example/1.json</td>\n",
       "      <td>20.724288</td>\n",
       "      <td>[[0.05146720330082988, 0.44080984365063647], [...</td>\n",
       "      <td>{1, 2, 3}</td>\n",
       "      <td>foo1</td>\n",
       "      <td>(1, 2, 3)</td>\n",
       "    </tr>\n",
       "    <tr>\n",
       "      <th>2</th>\n",
       "      <td>False</td>\n",
       "      <td>/active/examples/fp_example/2.json</td>\n",
       "      <td>27.848728</td>\n",
       "      <td>[[0.6762549019801313, 0.5908628174163508], [0....</td>\n",
       "      <td>{1, 2, 3}</td>\n",
       "      <td>foo2</td>\n",
       "      <td>(1, 2, 3)</td>\n",
       "    </tr>\n",
       "    <tr>\n",
       "      <th>3</th>\n",
       "      <td>True</td>\n",
       "      <td>/active/examples/fp_example/3.json</td>\n",
       "      <td>41.510120</td>\n",
       "      <td>[[0.28352508177131874, 0.6931379183129963], [0...</td>\n",
       "      <td>{1, 2, 3}</td>\n",
       "      <td>foo3</td>\n",
       "      <td>(1, 2, 3)</td>\n",
       "    </tr>\n",
       "    <tr>\n",
       "      <th>4</th>\n",
       "      <td>False</td>\n",
       "      <td>/active/examples/fp_example/4.json</td>\n",
       "      <td>78.031476</td>\n",
       "      <td>[[0.30636353237617975, 0.2219578839321814], [0...</td>\n",
       "      <td>{1, 2, 3}</td>\n",
       "      <td>foo4</td>\n",
       "      <td>(1, 2, 3)</td>\n",
       "    </tr>\n",
       "    <tr>\n",
       "      <th>5</th>\n",
       "      <td>False</td>\n",
       "      <td>/active/examples/fp_example/5.json</td>\n",
       "      <td>67.238368</td>\n",
       "      <td>[[0.9028341085383981, 0.8457508712931793], [0....</td>\n",
       "      <td>{1, 2, 3}</td>\n",
       "      <td>foo5</td>\n",
       "      <td>(1, 2, 3)</td>\n",
       "    </tr>\n",
       "    <tr>\n",
       "      <th>6</th>\n",
       "      <td>False</td>\n",
       "      <td>/active/examples/fp_example/6.json</td>\n",
       "      <td>55.784076</td>\n",
       "      <td>[[0.3615647630625781, 0.22505450483983191], [0...</td>\n",
       "      <td>{1, 2, 3}</td>\n",
       "      <td>foo6</td>\n",
       "      <td>(1, 2, 3)</td>\n",
       "    </tr>\n",
       "    <tr>\n",
       "      <th>7</th>\n",
       "      <td>True</td>\n",
       "      <td>/active/examples/fp_example/7.json</td>\n",
       "      <td>29.179277</td>\n",
       "      <td>[[0.45768639932297794, 0.8605339129469265], [0...</td>\n",
       "      <td>{1, 2, 3}</td>\n",
       "      <td>foo7</td>\n",
       "      <td>(1, 2, 3)</td>\n",
       "    </tr>\n",
       "    <tr>\n",
       "      <th>8</th>\n",
       "      <td>True</td>\n",
       "      <td>/active/examples/fp_example/8.json</td>\n",
       "      <td>45.462208</td>\n",
       "      <td>[[0.20541034460498753, 0.20137871104307314], [...</td>\n",
       "      <td>{1, 2, 3}</td>\n",
       "      <td>foo8</td>\n",
       "      <td>(1, 2, 3)</td>\n",
       "    </tr>\n",
       "    <tr>\n",
       "      <th>9</th>\n",
       "      <td>True</td>\n",
       "      <td>/active/examples/fp_example/9.json</td>\n",
       "      <td>36.217621</td>\n",
       "      <td>[[0.7076866218156711, 0.7467462231020046], [0....</td>\n",
       "      <td>{1, 2, 3}</td>\n",
       "      <td>foo9</td>\n",
       "      <td>(1, 2, 3)</td>\n",
       "    </tr>\n",
       "  </tbody>\n",
       "</table>\n",
       "</div>"
      ],
      "text/plain": [
       "   bools                               files     floats  \\\n",
       "0  False  /active/examples/fp_example/0.json  70.814782   \n",
       "1   True  /active/examples/fp_example/1.json  20.724288   \n",
       "2  False  /active/examples/fp_example/2.json  27.848728   \n",
       "3   True  /active/examples/fp_example/3.json  41.510120   \n",
       "4  False  /active/examples/fp_example/4.json  78.031476   \n",
       "5  False  /active/examples/fp_example/5.json  67.238368   \n",
       "6  False  /active/examples/fp_example/6.json  55.784076   \n",
       "7   True  /active/examples/fp_example/7.json  29.179277   \n",
       "8   True  /active/examples/fp_example/8.json  45.462208   \n",
       "9   True  /active/examples/fp_example/9.json  36.217621   \n",
       "\n",
       "                                            ndarrays       sets strings  \\\n",
       "0  [[0.2909047389129443, 0.510827605197663], [0.8...  {1, 2, 3}    foo0   \n",
       "1  [[0.05146720330082988, 0.44080984365063647], [...  {1, 2, 3}    foo1   \n",
       "2  [[0.6762549019801313, 0.5908628174163508], [0....  {1, 2, 3}    foo2   \n",
       "3  [[0.28352508177131874, 0.6931379183129963], [0...  {1, 2, 3}    foo3   \n",
       "4  [[0.30636353237617975, 0.2219578839321814], [0...  {1, 2, 3}    foo4   \n",
       "5  [[0.9028341085383981, 0.8457508712931793], [0....  {1, 2, 3}    foo5   \n",
       "6  [[0.3615647630625781, 0.22505450483983191], [0...  {1, 2, 3}    foo6   \n",
       "7  [[0.45768639932297794, 0.8605339129469265], [0...  {1, 2, 3}    foo7   \n",
       "8  [[0.20541034460498753, 0.20137871104307314], [...  {1, 2, 3}    foo8   \n",
       "9  [[0.7076866218156711, 0.7467462231020046], [0....  {1, 2, 3}    foo9   \n",
       "\n",
       "      tuples  \n",
       "0  (1, 2, 3)  \n",
       "1  (1, 2, 3)  \n",
       "2  (1, 2, 3)  \n",
       "3  (1, 2, 3)  \n",
       "4  (1, 2, 3)  \n",
       "5  (1, 2, 3)  \n",
       "6  (1, 2, 3)  \n",
       "7  (1, 2, 3)  \n",
       "8  (1, 2, 3)  \n",
       "9  (1, 2, 3)  "
      ]
     },
     "execution_count": 12,
     "metadata": {},
     "output_type": "execute_result"
    }
   ],
   "source": [
    "np.random.seed(seed=3)\n",
    "\n",
    "test_2 = []\n",
    "for i in range(10):\n",
    "    fp =  fp_ex / (str(i) + \".json\")\n",
    "    with open(fp, \"w\") as write_out:\n",
    "        json.dump({\"hello\": \"world\"}, write_out)\n",
    "    \n",
    "    d = {}\n",
    "    d[\"strings\"] = \"foo\" + str(i)\n",
    "    d[\"bools\"] = np.random.rand() < 0.5\n",
    "    d[\"floats\"] = np.random.rand() * 100\n",
    "    d[\"ndarrays\"] = np.random.rand(2, 2)\n",
    "    d[\"tuples\"] = tuple([1, 2, 3])\n",
    "    d[\"sets\"] = set([1, 2, 3, 3, 3])\n",
    "    d[\"files\"] = str(fp)\n",
    "    test_2.append(d)\n",
    "\n",
    "test_2 = pd.DataFrame(test_2)\n",
    "test_2.to_csv(fp_ex / \"example.csv\")\n",
    "test_2"
   ]
  },
  {
   "cell_type": "code",
   "execution_count": 13,
   "metadata": {},
   "outputs": [
    {
     "name": "stdout",
     "output_type": "stream",
     "text": [
      "Validating Dataset...\n",
      "[============================================================] 100.0% (280/280) ~ 0:00:00 remaining\n",
      "Creating Iota...\n"
     ]
    },
    {
     "ename": "TypeError",
     "evalue": "list indices must be integers or slices, not str",
     "output_type": "error",
     "traceback": [
      "\u001b[0;31m---------------------------------------------------------------------------\u001b[0m",
      "\u001b[0;31mTypeError\u001b[0m                                 Traceback (most recent call last)",
      "\u001b[0;32m<ipython-input-13-269148d7cde9>\u001b[0m in \u001b[0;36m<module>\u001b[0;34m()\u001b[0m\n\u001b[0;32m----> 1\u001b[0;31m \u001b[0mds_info\u001b[0m \u001b[0;34m=\u001b[0m \u001b[0mlocal\u001b[0m\u001b[0;34m.\u001b[0m\u001b[0mupload_dataset\u001b[0m\u001b[0;34m(\u001b[0m\u001b[0mdataset\u001b[0m\u001b[0;34m=\u001b[0m\u001b[0mtest_2\u001b[0m\u001b[0;34m)\u001b[0m\u001b[0;34m\u001b[0m\u001b[0m\n\u001b[0m\u001b[1;32m      2\u001b[0m \u001b[0mds_info\u001b[0m\u001b[0;34m\u001b[0m\u001b[0m\n",
      "\u001b[0;32m/active/datasetdatabase/core/datasetdatabase.py\u001b[0m in \u001b[0;36mupload_dataset\u001b[0;34m(self, dataset, name, description, type_map, value_validation_map, import_as_type_map, store_files, filepath_columns, replace_paths)\u001b[0m\n\u001b[1;32m    523\u001b[0m         \u001b[0;31m# run upload\u001b[0m\u001b[0;34m\u001b[0m\u001b[0;34m\u001b[0m\u001b[0m\n\u001b[1;32m    524\u001b[0m         ds_info = self.process_run(algorithm=self._upload_dataset,\n\u001b[0;32m--> 525\u001b[0;31m                                    alg_parameters=params)\n\u001b[0m\u001b[1;32m    526\u001b[0m \u001b[0;34m\u001b[0m\u001b[0m\n\u001b[1;32m    527\u001b[0m         \u001b[0;32mreturn\u001b[0m \u001b[0mds_info\u001b[0m\u001b[0;34m\u001b[0m\u001b[0m\n",
      "\u001b[0;32m/active/datasetdatabase/core/datasetdatabase.py\u001b[0m in \u001b[0;36mprocess_run\u001b[0;34m(self, algorithm, input_dataset_id, input_dataset_name, set_algorithm_name, set_algorithm_description, set_algorithm_version, name, description, alg_parameters)\u001b[0m\n\u001b[1;32m    431\u001b[0m         \u001b[0;31m# use the dataset passed\u001b[0m\u001b[0;34m\u001b[0m\u001b[0;34m\u001b[0m\u001b[0m\n\u001b[1;32m    432\u001b[0m         \u001b[0malg_parameters\u001b[0m\u001b[0;34m[\u001b[0m\u001b[0;34m\"input_dataset\"\u001b[0m\u001b[0;34m]\u001b[0m \u001b[0;34m=\u001b[0m \u001b[0minput\u001b[0m\u001b[0;34m\u001b[0m\u001b[0m\n\u001b[0;32m--> 433\u001b[0;31m         \u001b[0moutput_dataset_info\u001b[0m \u001b[0;34m=\u001b[0m \u001b[0malgorithm\u001b[0m\u001b[0;34m(\u001b[0m\u001b[0malg_parameters\u001b[0m\u001b[0;34m)\u001b[0m\u001b[0;34m\u001b[0m\u001b[0m\n\u001b[0m\u001b[1;32m    434\u001b[0m \u001b[0;34m\u001b[0m\u001b[0m\n\u001b[1;32m    435\u001b[0m         \u001b[0;31m# end time\u001b[0m\u001b[0;34m\u001b[0m\u001b[0;34m\u001b[0m\u001b[0m\n",
      "\u001b[0;32m/active/datasetdatabase/core/datasetdatabase.py\u001b[0m in \u001b[0;36m_upload_dataset\u001b[0;34m(self, params)\u001b[0m\n\u001b[1;32m    672\u001b[0m \u001b[0;34m\u001b[0m\u001b[0m\n\u001b[1;32m    673\u001b[0m                 \u001b[0miota_info\u001b[0m \u001b[0;34m=\u001b[0m \u001b[0mself\u001b[0m\u001b[0;34m.\u001b[0m\u001b[0minsert_to_table\u001b[0m\u001b[0;34m(\u001b[0m\u001b[0;34m\"Iota\"\u001b[0m\u001b[0;34m,\u001b[0m \u001b[0mto_add\u001b[0m\u001b[0;34m)\u001b[0m\u001b[0;34m\u001b[0m\u001b[0m\n\u001b[0;32m--> 674\u001b[0;31m                 \u001b[0miota\u001b[0m\u001b[0;34m[\u001b[0m\u001b[0miota_info\u001b[0m\u001b[0;34m[\u001b[0m\u001b[0;34m\"IotaId\"\u001b[0m\u001b[0;34m]\u001b[0m\u001b[0;34m]\u001b[0m \u001b[0;34m=\u001b[0m \u001b[0mto_add\u001b[0m\u001b[0;34m\u001b[0m\u001b[0m\n\u001b[0m\u001b[1;32m    675\u001b[0m \u001b[0;34m\u001b[0m\u001b[0m\n\u001b[1;32m    676\u001b[0m \u001b[0;34m\u001b[0m\u001b[0m\n",
      "\u001b[0;32m/opt/conda/lib/python3.6/site-packages/backpack/collections/base_collection.py\u001b[0m in \u001b[0;36m__getitem__\u001b[0;34m(self, item)\u001b[0m\n\u001b[1;32m    793\u001b[0m             \u001b[0;32mreturn\u001b[0m \u001b[0mself\u001b[0m\u001b[0;34m.\u001b[0m\u001b[0m__class__\u001b[0m\u001b[0;34m.\u001b[0m\u001b[0mmake\u001b[0m\u001b[0;34m(\u001b[0m\u001b[0mself\u001b[0m\u001b[0;34m.\u001b[0m\u001b[0mitems\u001b[0m\u001b[0;34m[\u001b[0m\u001b[0mitem\u001b[0m\u001b[0;34m]\u001b[0m\u001b[0;34m)\u001b[0m\u001b[0;34m\u001b[0m\u001b[0m\n\u001b[1;32m    794\u001b[0m \u001b[0;34m\u001b[0m\u001b[0m\n\u001b[0;32m--> 795\u001b[0;31m         \u001b[0;32mreturn\u001b[0m \u001b[0mself\u001b[0m\u001b[0;34m.\u001b[0m\u001b[0mitems\u001b[0m\u001b[0;34m[\u001b[0m\u001b[0mitem\u001b[0m\u001b[0;34m]\u001b[0m\u001b[0;34m\u001b[0m\u001b[0m\n\u001b[0m\u001b[1;32m    796\u001b[0m \u001b[0;34m\u001b[0m\u001b[0m\n\u001b[1;32m    797\u001b[0m     \u001b[0;32mdef\u001b[0m \u001b[0m__setitem__\u001b[0m\u001b[0;34m(\u001b[0m\u001b[0mself\u001b[0m\u001b[0;34m,\u001b[0m \u001b[0mkey\u001b[0m\u001b[0;34m,\u001b[0m \u001b[0mvalue\u001b[0m\u001b[0;34m)\u001b[0m\u001b[0;34m:\u001b[0m\u001b[0;34m\u001b[0m\u001b[0m\n",
      "\u001b[0;31mTypeError\u001b[0m: list indices must be integers or slices, not str"
     ]
    }
   ],
   "source": [
    "ds_info = local.upload_dataset(dataset=test_2)\n",
    "ds_info"
   ]
  },
  {
   "cell_type": "code",
   "execution_count": null,
   "metadata": {},
   "outputs": [],
   "source": []
  }
 ],
 "metadata": {
  "kernelspec": {
   "display_name": "Python 3",
   "language": "python",
   "name": "python3"
  },
  "language_info": {
   "codemirror_mode": {
    "name": "ipython",
    "version": 3
   },
   "file_extension": ".py",
   "mimetype": "text/x-python",
   "name": "python",
   "nbconvert_exporter": "python",
   "pygments_lexer": "ipython3",
   "version": "3.6.5"
  }
 },
 "nbformat": 4,
 "nbformat_minor": 2
}
