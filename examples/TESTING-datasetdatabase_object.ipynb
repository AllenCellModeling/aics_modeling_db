{
 "cells": [
  {
   "cell_type": "code",
   "execution_count": 1,
   "metadata": {},
   "outputs": [],
   "source": [
    "import datasetdatabase as dsdb\n",
    "import pandas as pd\n",
    "import quilt"
   ]
  },
  {
   "cell_type": "code",
   "execution_count": 2,
   "metadata": {},
   "outputs": [
    {
     "data": {
      "text/plain": [
       "LOCAL:\n",
       "\tdriver: sqlite\n",
       "\tlink: /active/examples/local_database/local.db"
      ]
     },
     "execution_count": 2,
     "metadata": {},
     "output_type": "execute_result"
    }
   ],
   "source": [
    "mngr = dsdb.ConnectionManager(dsdb.LOCAL, user=\"jacksonb\")\n",
    "mngr"
   ]
  },
  {
   "cell_type": "code",
   "execution_count": 3,
   "metadata": {},
   "outputs": [
    {
     "data": {
      "text/plain": [
       "Recent Datasets:"
      ]
     },
     "execution_count": 3,
     "metadata": {},
     "output_type": "execute_result"
    }
   ],
   "source": [
    "local = mngr.connect(dsdb.LOCAL)\n",
    "local"
   ]
  },
  {
   "cell_type": "code",
   "execution_count": 4,
   "metadata": {},
   "outputs": [
    {
     "name": "stdout",
     "output_type": "stream",
     "text": [
      "/home/jovyan/.local/share/QuiltCli/quilt_packages\n"
     ]
    }
   ],
   "source": [
    "quilt.ls()"
   ]
  },
  {
   "cell_type": "code",
   "execution_count": 5,
   "metadata": {},
   "outputs": [
    {
     "data": {
      "text/html": [
       "<div>\n",
       "<style scoped>\n",
       "    .dataframe tbody tr th:only-of-type {\n",
       "        vertical-align: middle;\n",
       "    }\n",
       "\n",
       "    .dataframe tbody tr th {\n",
       "        vertical-align: top;\n",
       "    }\n",
       "\n",
       "    .dataframe thead th {\n",
       "        text-align: right;\n",
       "    }\n",
       "</style>\n",
       "<table border=\"1\" class=\"dataframe\">\n",
       "  <thead>\n",
       "    <tr style=\"text-align: right;\">\n",
       "      <th></th>\n",
       "      <th>hello</th>\n",
       "      <th>world</th>\n",
       "    </tr>\n",
       "  </thead>\n",
       "  <tbody>\n",
       "    <tr>\n",
       "      <th>0</th>\n",
       "      <td>1</td>\n",
       "      <td>2</td>\n",
       "    </tr>\n",
       "    <tr>\n",
       "      <th>1</th>\n",
       "      <td>3</td>\n",
       "      <td>4</td>\n",
       "    </tr>\n",
       "  </tbody>\n",
       "</table>\n",
       "</div>"
      ],
      "text/plain": [
       "   hello  world\n",
       "0      1      2\n",
       "1      3      4"
      ]
     },
     "execution_count": 5,
     "metadata": {},
     "output_type": "execute_result"
    }
   ],
   "source": [
    "test = pd.DataFrame([{\"hello\": 1, \"world\": 2}, {\"hello\": 3, \"world\": 4}])\n",
    "test"
   ]
  },
  {
   "cell_type": "code",
   "execution_count": 6,
   "metadata": {},
   "outputs": [
    {
     "name": "stdout",
     "output_type": "stream",
     "text": [
      "Creating Iota...\n",
      "[============================================================] 100.0% (4/4) ~ 0:00:00 remaining\n",
      "Creating Junction Items...\n"
     ]
    },
    {
     "data": {
      "text/plain": [
       "{'DatasetId': 1,\n",
       " 'Name': 'fms_ae47a461a4ab791aab0fa25745ea846b',\n",
       " 'Description': None,\n",
       " 'SourceId': 1,\n",
       " 'Created': '2018-07-10 21:42:11.535332'}"
      ]
     },
     "execution_count": 6,
     "metadata": {},
     "output_type": "execute_result"
    }
   ],
   "source": [
    "local.upload_dataset(test)"
   ]
  },
  {
   "cell_type": "code",
   "execution_count": 7,
   "metadata": {},
   "outputs": [
    {
     "data": {
      "text/plain": [
       "Recent Datasets:\n",
       "{'DatasetId': 1, 'Name': 'fms_ae47a461a4ab791aab0fa25745ea846b', 'Description': None, 'SourceId': 1, 'Created': '2018-07-10 21:42:11.535332'}"
      ]
     },
     "execution_count": 7,
     "metadata": {},
     "output_type": "execute_result"
    }
   ],
   "source": [
    "local"
   ]
  },
  {
   "cell_type": "code",
   "execution_count": 8,
   "metadata": {},
   "outputs": [
    {
     "name": "stdout",
     "output_type": "stream",
     "text": [
      "/home/jovyan/.local/share/QuiltCli/quilt_packages\n",
      "dsdb_storage/fms_ae47a461a4ab791aab0fa25745ea846b latest               5a7e03c6dc595b962ab822ef86cfc88b94ac79593e41abadb4e8960ab70b2ad3\n"
     ]
    }
   ],
   "source": [
    "quilt.ls()"
   ]
  },
  {
   "cell_type": "code",
   "execution_count": 9,
   "metadata": {},
   "outputs": [
    {
     "data": {
      "text/plain": [
       "{'DatasetId': 1,\n",
       " 'Name': 'fms_ae47a461a4ab791aab0fa25745ea846b',\n",
       " 'Description': None,\n",
       " 'SourceId': 1,\n",
       " 'Created': '2018-07-10 21:42:11.535332'}"
      ]
     },
     "execution_count": 9,
     "metadata": {},
     "output_type": "execute_result"
    }
   ],
   "source": [
    "# no duplication of iota, dataset, or source\n",
    "local.upload_dataset(test)"
   ]
  },
  {
   "cell_type": "code",
   "execution_count": 10,
   "metadata": {},
   "outputs": [
    {
     "name": "stdout",
     "output_type": "stream",
     "text": [
      "/home/jovyan/.local/share/QuiltCli/quilt_packages\n",
      "dsdb_storage/fms_ae47a461a4ab791aab0fa25745ea846b latest               5a7e03c6dc595b962ab822ef86cfc88b94ac79593e41abadb4e8960ab70b2ad3\n"
     ]
    }
   ],
   "source": [
    "quilt.ls()"
   ]
  },
  {
   "cell_type": "code",
   "execution_count": 11,
   "metadata": {},
   "outputs": [
    {
     "name": "stdout",
     "output_type": "stream",
     "text": [
      "------------------------------- DATASET DATABASE -------------------------------\n",
      "--------------------------------------------------------------------------------\n",
      "User:\n",
      "rows: 1\n",
      "example: {'UserId': 1, 'Name': 'jacksonb', 'Description': None, 'Created': '2018-07-10 21:42:11.422380'}\n",
      "--------------------------------------------------------------------------------\n",
      "Iota:\n",
      "rows: 4\n",
      "example: {'IotaId': 1, 'GroupId': 0, 'Key': 'hello', 'Value': '1', 'ValueType': \"<class 'numpy.int64'>\", 'Created': '2018-07-10 21:42:11.460891'}\n",
      "--------------------------------------------------------------------------------\n",
      "SourceType:\n",
      "rows: 2\n",
      "example: {'SourceTypeId': 1, 'Name': 'FileSource', 'Description': 'Id attached should be read using FMS get.', 'Created': '2018-07-10 21:42:07.917735'}\n",
      "--------------------------------------------------------------------------------\n",
      "Source:\n",
      "rows: 1\n",
      "example: {'SourceId': 1, 'SourceTypeId': 1, 'Name': 'fms_ae47a461a4ab791aab0fa25745ea846b', 'Created': '2018-07-10 21:42:11.435089'}\n",
      "--------------------------------------------------------------------------------\n",
      "FileSource:\n",
      "rows: 1\n",
      "example: {'FileSourceId': 1, 'SourceId': 1, 'FileId': 'fms_ae47a461a4ab791aab0fa25745ea846b'}\n",
      "--------------------------------------------------------------------------------\n",
      "Dataset:\n",
      "rows: 1\n",
      "example: {'DatasetId': 1, 'Name': 'fms_ae47a461a4ab791aab0fa25745ea846b', 'Description': None, 'SourceId': 1, 'Created': '2018-07-10 21:42:11.535332'}\n",
      "--------------------------------------------------------------------------------\n",
      "IotaDatasetJunction:\n",
      "rows: 4\n",
      "example: {'IotaDatasetJunctionId': 1, 'IotaId': 1, 'DatasetId': 1, 'Created': '2018-07-10 21:42:11.546959'}\n",
      "--------------------------------------------------------------------------------\n",
      "Algorithm:\n",
      "rows: 1\n",
      "example: {'AlgorithmId': 1, 'Name': 'datasetdatabase.core.datasetdatabase._upload_dataset', 'Description': None, 'Version': '068633731f99f469654499428ceed05177b117d1', 'Created': '2018-07-10 21:42:11.409935'}\n",
      "--------------------------------------------------------------------------------\n",
      "Run:\n",
      "rows: 1\n",
      "example: {'RunId': 1, 'AlgorithmId': 1, 'UserId': 1, 'Name': None, 'Description': 'datasetdatabase.core.datasetdatabase._upload_dataset run for jacksonb', 'Begin': '2018-07-10 21:42:11.432100', 'End': '2018-07-10 21:42:11.601939'}\n",
      "--------------------------------------------------------------------------------\n",
      "RunInput:\n",
      "rows: 0\n",
      "example: None\n",
      "--------------------------------------------------------------------------------\n",
      "RunOutput:\n",
      "rows: 1\n",
      "example: {'RunOutputId': 1, 'RunId': 1, 'DatasetId': 1, 'Created': '2018-07-10 21:42:11.623576'}\n",
      "--------------------------------------------------------------------------------\n",
      "RunSource:\n",
      "rows: 0\n",
      "example: None\n",
      "-------------------------------- RECENTLY ADDED --------------------------------\n",
      "--------------------------------------------------------------------------------\n",
      "{'IotaId': 2, 'GroupId': 0, 'Key': 'world', 'Value': '2', 'ValueType': \"<class 'numpy.int64'>\", 'Created': '2018-07-10 21:42:11.480236'}\n",
      "{'IotaId': 3, 'GroupId': 1, 'Key': 'hello', 'Value': '3', 'ValueType': \"<class 'numpy.int64'>\", 'Created': '2018-07-10 21:42:11.500511'}\n",
      "{'IotaId': 4, 'GroupId': 1, 'Key': 'world', 'Value': '4', 'ValueType': \"<class 'numpy.int64'>\", 'Created': '2018-07-10 21:42:11.520348'}\n",
      "{'DatasetId': 1, 'Name': 'fms_ae47a461a4ab791aab0fa25745ea846b', 'Description': None, 'SourceId': 1, 'Created': '2018-07-10 21:42:11.535332'}\n",
      "{'IotaDatasetJunctionId': 1, 'IotaId': 1, 'DatasetId': 1, 'Created': '2018-07-10 21:42:11.546959'}\n",
      "{'IotaDatasetJunctionId': 2, 'IotaId': 2, 'DatasetId': 1, 'Created': '2018-07-10 21:42:11.559703'}\n",
      "{'IotaDatasetJunctionId': 3, 'IotaId': 3, 'DatasetId': 1, 'Created': '2018-07-10 21:42:11.573231'}\n",
      "{'IotaDatasetJunctionId': 4, 'IotaId': 4, 'DatasetId': 1, 'Created': '2018-07-10 21:42:11.588338'}\n",
      "{'RunId': 1, 'AlgorithmId': 1, 'UserId': 1, 'Name': None, 'Description': 'datasetdatabase.core.datasetdatabase._upload_dataset run for jacksonb', 'Begin': '2018-07-10 21:42:11.432100', 'End': '2018-07-10 21:42:11.601939'}\n",
      "{'RunOutputId': 1, 'RunId': 1, 'DatasetId': 1, 'Created': '2018-07-10 21:42:11.623576'}\n"
     ]
    }
   ],
   "source": [
    "local._deep_print()"
   ]
  },
  {
   "cell_type": "code",
   "execution_count": 12,
   "metadata": {},
   "outputs": [
    {
     "data": {
      "text/plain": [
       "[{'RunId': 1,\n",
       "  'AlgorithmId': 1,\n",
       "  'UserId': 1,\n",
       "  'Name': None,\n",
       "  'Description': 'datasetdatabase.core.datasetdatabase._upload_dataset run for jacksonb',\n",
       "  'Begin': '2018-07-10 21:42:11.432100',\n",
       "  'End': '2018-07-10 21:42:11.601939'}]"
      ]
     },
     "execution_count": 12,
     "metadata": {},
     "output_type": "execute_result"
    }
   ],
   "source": [
    "local.database.table(\"Run\").get().all()"
   ]
  },
  {
   "cell_type": "code",
   "execution_count": null,
   "metadata": {},
   "outputs": [],
   "source": []
  }
 ],
 "metadata": {
  "kernelspec": {
   "display_name": "Python 3",
   "language": "python",
   "name": "python3"
  },
  "language_info": {
   "codemirror_mode": {
    "name": "ipython",
    "version": 3
   },
   "file_extension": ".py",
   "mimetype": "text/x-python",
   "name": "python",
   "nbconvert_exporter": "python",
   "pygments_lexer": "ipython3",
   "version": "3.6.5"
  }
 },
 "nbformat": 4,
 "nbformat_minor": 2
}
