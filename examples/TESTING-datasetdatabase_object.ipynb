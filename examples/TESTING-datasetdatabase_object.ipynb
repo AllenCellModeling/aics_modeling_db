{
 "cells": [
  {
   "cell_type": "code",
   "execution_count": 1,
   "metadata": {},
   "outputs": [],
   "source": [
    "import datasetdatabase as dsdb\n",
    "import pandas as pd\n",
    "import numpy as np\n",
    "import pathlib\n",
    "import quilt\n",
    "import json\n",
    "import os"
   ]
  },
  {
   "cell_type": "code",
   "execution_count": 2,
   "metadata": {},
   "outputs": [
    {
     "data": {
      "text/plain": [
       "LOCAL:\n",
       "\tdriver: sqlite\n",
       "\tlink: /active/examples/local_database/local.db"
      ]
     },
     "execution_count": 2,
     "metadata": {},
     "output_type": "execute_result"
    }
   ],
   "source": [
    "mngr = dsdb.ConnectionManager(dsdb.LOCAL, user=\"jacksonb\")\n",
    "mngr"
   ]
  },
  {
   "cell_type": "code",
   "execution_count": 3,
   "metadata": {},
   "outputs": [
    {
     "data": {
      "text/plain": [
       "Recent Datasets:\n",
       "--------------------------------------------------------------------------------"
      ]
     },
     "execution_count": 3,
     "metadata": {},
     "output_type": "execute_result"
    }
   ],
   "source": [
    "local = mngr.connect(dsdb.LOCAL)\n",
    "local"
   ]
  },
  {
   "cell_type": "code",
   "execution_count": 4,
   "metadata": {},
   "outputs": [
    {
     "data": {
      "text/html": [
       "<div>\n",
       "<style scoped>\n",
       "    .dataframe tbody tr th:only-of-type {\n",
       "        vertical-align: middle;\n",
       "    }\n",
       "\n",
       "    .dataframe tbody tr th {\n",
       "        vertical-align: top;\n",
       "    }\n",
       "\n",
       "    .dataframe thead th {\n",
       "        text-align: right;\n",
       "    }\n",
       "</style>\n",
       "<table border=\"1\" class=\"dataframe\">\n",
       "  <thead>\n",
       "    <tr style=\"text-align: right;\">\n",
       "      <th></th>\n",
       "      <th>bools</th>\n",
       "      <th>files</th>\n",
       "      <th>floats</th>\n",
       "      <th>ndarrays</th>\n",
       "      <th>sets</th>\n",
       "      <th>strings</th>\n",
       "      <th>tuples</th>\n",
       "    </tr>\n",
       "  </thead>\n",
       "  <tbody>\n",
       "    <tr>\n",
       "      <th>0</th>\n",
       "      <td>True</td>\n",
       "      <td>/active/examples/fp_example/0.json</td>\n",
       "      <td>74.004970</td>\n",
       "      <td>[[0.26331501518513467, 0.5337393933802977], [0...</td>\n",
       "      <td>{1, 2, 3}</td>\n",
       "      <td>foo0</td>\n",
       "      <td>(1, 2, 3)</td>\n",
       "    </tr>\n",
       "    <tr>\n",
       "      <th>1</th>\n",
       "      <td>False</td>\n",
       "      <td>/active/examples/fp_example/1.json</td>\n",
       "      <td>3.342143</td>\n",
       "      <td>[[0.9569493362751168, 0.13720932135607644], [0...</td>\n",
       "      <td>{1, 2, 3}</td>\n",
       "      <td>foo1</td>\n",
       "      <td>(1, 2, 3)</td>\n",
       "    </tr>\n",
       "    <tr>\n",
       "      <th>2</th>\n",
       "      <td>False</td>\n",
       "      <td>/active/examples/fp_example/2.json</td>\n",
       "      <td>85.273554</td>\n",
       "      <td>[[0.002259233518513537, 0.5212260272202929], [...</td>\n",
       "      <td>{1, 2, 3}</td>\n",
       "      <td>foo2</td>\n",
       "      <td>(1, 2, 3)</td>\n",
       "    </tr>\n",
       "    <tr>\n",
       "      <th>3</th>\n",
       "      <td>False</td>\n",
       "      <td>/active/examples/fp_example/3.json</td>\n",
       "      <td>16.071675</td>\n",
       "      <td>[[0.7645604503388788, 0.020809797952066167], [...</td>\n",
       "      <td>{1, 2, 3}</td>\n",
       "      <td>foo3</td>\n",
       "      <td>(1, 2, 3)</td>\n",
       "    </tr>\n",
       "    <tr>\n",
       "      <th>4</th>\n",
       "      <td>True</td>\n",
       "      <td>/active/examples/fp_example/4.json</td>\n",
       "      <td>67.145265</td>\n",
       "      <td>[[0.4712297782500141, 0.8161682980460269], [0....</td>\n",
       "      <td>{1, 2, 3}</td>\n",
       "      <td>foo4</td>\n",
       "      <td>(1, 2, 3)</td>\n",
       "    </tr>\n",
       "    <tr>\n",
       "      <th>5</th>\n",
       "      <td>False</td>\n",
       "      <td>/active/examples/fp_example/5.json</td>\n",
       "      <td>32.756948</td>\n",
       "      <td>[[0.3346475291060558, 0.9780580790165189], [0....</td>\n",
       "      <td>{1, 2, 3}</td>\n",
       "      <td>foo5</td>\n",
       "      <td>(1, 2, 3)</td>\n",
       "    </tr>\n",
       "    <tr>\n",
       "      <th>6</th>\n",
       "      <td>False</td>\n",
       "      <td>/active/examples/fp_example/6.json</td>\n",
       "      <td>82.500925</td>\n",
       "      <td>[[0.40664030180666166, 0.4513084114213143], [0...</td>\n",
       "      <td>{1, 2, 3}</td>\n",
       "      <td>foo6</td>\n",
       "      <td>(1, 2, 3)</td>\n",
       "    </tr>\n",
       "    <tr>\n",
       "      <th>7</th>\n",
       "      <td>True</td>\n",
       "      <td>/active/examples/fp_example/7.json</td>\n",
       "      <td>96.259690</td>\n",
       "      <td>[[0.4192502702591062, 0.4240524465509987], [0....</td>\n",
       "      <td>{1, 2, 3}</td>\n",
       "      <td>foo7</td>\n",
       "      <td>(1, 2, 3)</td>\n",
       "    </tr>\n",
       "    <tr>\n",
       "      <th>8</th>\n",
       "      <td>True</td>\n",
       "      <td>/active/examples/fp_example/8.json</td>\n",
       "      <td>3.516826</td>\n",
       "      <td>[[0.08427266973184566, 0.7325206981419501], [0...</td>\n",
       "      <td>{1, 2, 3}</td>\n",
       "      <td>foo8</td>\n",
       "      <td>(1, 2, 3)</td>\n",
       "    </tr>\n",
       "    <tr>\n",
       "      <th>9</th>\n",
       "      <td>True</td>\n",
       "      <td>/active/examples/fp_example/9.json</td>\n",
       "      <td>22.085252</td>\n",
       "      <td>[[0.055019993340200135, 0.5232460707782919], [...</td>\n",
       "      <td>{1, 2, 3}</td>\n",
       "      <td>foo9</td>\n",
       "      <td>(1, 2, 3)</td>\n",
       "    </tr>\n",
       "  </tbody>\n",
       "</table>\n",
       "</div>"
      ],
      "text/plain": [
       "   bools                               files     floats  \\\n",
       "0   True  /active/examples/fp_example/0.json  74.004970   \n",
       "1  False  /active/examples/fp_example/1.json   3.342143   \n",
       "2  False  /active/examples/fp_example/2.json  85.273554   \n",
       "3  False  /active/examples/fp_example/3.json  16.071675   \n",
       "4   True  /active/examples/fp_example/4.json  67.145265   \n",
       "5  False  /active/examples/fp_example/5.json  32.756948   \n",
       "6  False  /active/examples/fp_example/6.json  82.500925   \n",
       "7   True  /active/examples/fp_example/7.json  96.259690   \n",
       "8   True  /active/examples/fp_example/8.json   3.516826   \n",
       "9   True  /active/examples/fp_example/9.json  22.085252   \n",
       "\n",
       "                                            ndarrays       sets strings  \\\n",
       "0  [[0.26331501518513467, 0.5337393933802977], [0...  {1, 2, 3}    foo0   \n",
       "1  [[0.9569493362751168, 0.13720932135607644], [0...  {1, 2, 3}    foo1   \n",
       "2  [[0.002259233518513537, 0.5212260272202929], [...  {1, 2, 3}    foo2   \n",
       "3  [[0.7645604503388788, 0.020809797952066167], [...  {1, 2, 3}    foo3   \n",
       "4  [[0.4712297782500141, 0.8161682980460269], [0....  {1, 2, 3}    foo4   \n",
       "5  [[0.3346475291060558, 0.9780580790165189], [0....  {1, 2, 3}    foo5   \n",
       "6  [[0.40664030180666166, 0.4513084114213143], [0...  {1, 2, 3}    foo6   \n",
       "7  [[0.4192502702591062, 0.4240524465509987], [0....  {1, 2, 3}    foo7   \n",
       "8  [[0.08427266973184566, 0.7325206981419501], [0...  {1, 2, 3}    foo8   \n",
       "9  [[0.055019993340200135, 0.5232460707782919], [...  {1, 2, 3}    foo9   \n",
       "\n",
       "      tuples  \n",
       "0  (1, 2, 3)  \n",
       "1  (1, 2, 3)  \n",
       "2  (1, 2, 3)  \n",
       "3  (1, 2, 3)  \n",
       "4  (1, 2, 3)  \n",
       "5  (1, 2, 3)  \n",
       "6  (1, 2, 3)  \n",
       "7  (1, 2, 3)  \n",
       "8  (1, 2, 3)  \n",
       "9  (1, 2, 3)  "
      ]
     },
     "execution_count": 4,
     "metadata": {},
     "output_type": "execute_result"
    }
   ],
   "source": [
    "# create test upload dataset\n",
    "fp_ex = pathlib.Path(\"/active/examples/fp_example/\")\n",
    "if not fp_ex.exists():\n",
    "    os.makedirs(fp_ex)\n",
    "\n",
    "np.random.seed(seed=12)\n",
    "\n",
    "test = []\n",
    "for i in range(10):\n",
    "    fp =  fp_ex / (str(i) + \".json\")\n",
    "    with open(fp, \"w\") as write_out:\n",
    "        json.dump({\"hello\": \"world\"}, write_out)\n",
    "    \n",
    "    d = {}\n",
    "    d[\"strings\"] = \"foo\" + str(i)\n",
    "    d[\"bools\"] = np.random.rand() < 0.5\n",
    "    d[\"floats\"] = np.random.rand() * 100\n",
    "    d[\"ndarrays\"] = np.random.rand(2, 2)\n",
    "    d[\"tuples\"] = tuple([1, 2, 3])\n",
    "    d[\"sets\"] = set([1, 2, 3, 3, 3])\n",
    "    d[\"files\"] = str(fp)\n",
    "    test.append(d)\n",
    "\n",
    "test = pd.DataFrame(test)\n",
    "test.to_csv(fp_ex / \"example.csv\")\n",
    "test"
   ]
  },
  {
   "cell_type": "code",
   "execution_count": 5,
   "metadata": {},
   "outputs": [
    {
     "name": "stdout",
     "output_type": "stream",
     "text": [
      "Validating Dataset...\n",
      "[============================================================] 100.0% (280/280) ~ 0:00:00 remaining\n",
      "Creating Iota...\n",
      "[============================================================] 100.0% (70/70) ~ 0:00:00 remaining\n",
      "Creating Junction Items...\n",
      "[============================================================] 100.0% (80/80) ~ 0:00:00 remaining\n",
      "Dataset upload complete!\n"
     ]
    },
    {
     "data": {
      "text/plain": [
       "{'DatasetId': 1,\n",
       " 'Name': 'test_dataset',\n",
       " 'Description': 'this is the hello world of dataset ingestion',\n",
       " 'SourceId': 1,\n",
       " 'Created': '2018-07-11 20:58:45.067501'}"
      ]
     },
     "execution_count": 5,
     "metadata": {},
     "output_type": "execute_result"
    }
   ],
   "source": [
    "ds_info = local.upload_dataset(dataset=test,\n",
    "                               name=\"test_dataset\",\n",
    "                               description=\"this is the hello world of dataset ingestion\",\n",
    "                               type_map={\"bools\": bool,\n",
    "                                         \"files\": str,\n",
    "                                         \"floats\": float,\n",
    "                                         \"ndarrays\": np.ndarray,\n",
    "                                         \"strings\": str},\n",
    "                               store_files=False,\n",
    "                               filepath_columns=[\"files\"])\n",
    "ds_info"
   ]
  },
  {
   "cell_type": "code",
   "execution_count": 6,
   "metadata": {},
   "outputs": [
    {
     "data": {
      "text/plain": [
       "Recent Datasets:\n",
       "--------------------------------------------------------------------------------\n",
       "{'DatasetId': 1, 'Name': 'test_dataset', 'Description': 'this is the hello world of dataset ingestion', 'SourceId': 1, 'Created': '2018-07-11 20:58:45.067501'}"
      ]
     },
     "execution_count": 6,
     "metadata": {},
     "output_type": "execute_result"
    }
   ],
   "source": [
    "local"
   ]
  },
  {
   "cell_type": "code",
   "execution_count": 7,
   "metadata": {},
   "outputs": [
    {
     "name": "stdout",
     "output_type": "stream",
     "text": [
      "Validating Dataset...\n",
      "[============================================================] 100.0% (280/280) ~ 0:00:00 remaining\n",
      "Creating Iota...\n",
      "[============================================================] 100.0% (70/70) ~ 0:00:00 remaining\n",
      "Creating Junction Items...\n",
      "[============================================================] 100.0% (80/80) ~ 0:00:00 remaining\n",
      "Dataset upload complete!\n"
     ]
    },
    {
     "data": {
      "text/plain": [
       "{'DatasetId': 2,\n",
       " 'Name': 'fms_pkl_e2af2d0b78717d8f1f0443343e007605',\n",
       " 'Description': None,\n",
       " 'SourceId': 1,\n",
       " 'Created': '2018-07-11 20:58:46.932953'}"
      ]
     },
     "execution_count": 7,
     "metadata": {},
     "output_type": "execute_result"
    }
   ],
   "source": [
    "ds_info = local.upload_dataset(dataset=test)\n",
    "ds_info"
   ]
  },
  {
   "cell_type": "code",
   "execution_count": 8,
   "metadata": {},
   "outputs": [
    {
     "data": {
      "text/plain": [
       "Recent Datasets:\n",
       "--------------------------------------------------------------------------------\n",
       "{'DatasetId': 1, 'Name': 'test_dataset', 'Description': 'this is the hello world of dataset ingestion', 'SourceId': 1, 'Created': '2018-07-11 20:58:45.067501'}\n",
       "{'DatasetId': 2, 'Name': 'fms_pkl_e2af2d0b78717d8f1f0443343e007605', 'Description': None, 'SourceId': 1, 'Created': '2018-07-11 20:58:46.932953'}"
      ]
     },
     "execution_count": 8,
     "metadata": {},
     "output_type": "execute_result"
    }
   ],
   "source": [
    "local"
   ]
  },
  {
   "cell_type": "code",
   "execution_count": 10,
   "metadata": {},
   "outputs": [
    {
     "name": "stdout",
     "output_type": "stream",
     "text": [
      "------------------------------- DATASET DATABASE -------------------------------\n",
      "--------------------------------------------------------------------------------\n",
      "User:\n",
      "rows: 1\n",
      "recent:\n",
      "{'UserId': 1, 'Name': 'jacksonb', 'Description': None, 'Created': '2018-07-11 20:58:43.657186'}\n",
      "--------------------------------------------------------------------------------\n",
      "Iota:\n",
      "rows: 80\n",
      "recent:\n",
      "{'IotaId': 76, 'GroupId': 9, 'Key': 'ndarrays(Reshape)', 'Value': '(2, 2)', 'ValueType': \"<class 'tuple'>\", 'Created': '2018-07-11 20:58:45.007594'}\n",
      "{'IotaId': 77, 'GroupId': 9, 'Key': 'ndarrays', 'Value': '[0.055019993340200135 0.5232460707782919   0.4163696572946102\\n 0.048218749825570395]', 'ValueType': \"<class 'numpy.ndarray'>\", 'Created': '2018-07-11 20:58:45.007594'}\n",
      "{'IotaId': 78, 'GroupId': 9, 'Key': 'sets', 'Value': '{1, 2, 3}', 'ValueType': \"<class 'set'>\", 'Created': '2018-07-11 20:58:45.031846'}\n",
      "{'IotaId': 79, 'GroupId': 9, 'Key': 'strings', 'Value': 'foo9', 'ValueType': \"<class 'str'>\", 'Created': '2018-07-11 20:58:45.042652'}\n",
      "{'IotaId': 80, 'GroupId': 9, 'Key': 'tuples', 'Value': '(1, 2, 3)', 'ValueType': \"<class 'tuple'>\", 'Created': '2018-07-11 20:58:45.056542'}\n",
      "--------------------------------------------------------------------------------\n",
      "SourceType:\n",
      "rows: 2\n",
      "recent:\n",
      "--------------------------------------------------------------------------------\n",
      "Source:\n",
      "rows: 1\n",
      "recent:\n",
      "{'SourceId': 1, 'SourceTypeId': 1, 'Name': 'fms_pkl_e2af2d0b78717d8f1f0443343e007605', 'Created': '2018-07-11 20:58:43.671844'}\n",
      "--------------------------------------------------------------------------------\n",
      "FileSource:\n",
      "rows: 1\n",
      "recent:\n",
      "{'FileSourceId': 1, 'SourceId': 1, 'FileId': 'fms_pkl_e2af2d0b78717d8f1f0443343e007605'}\n",
      "--------------------------------------------------------------------------------\n",
      "Dataset:\n",
      "rows: 2\n",
      "recent:\n",
      "{'DatasetId': 1, 'Name': 'test_dataset', 'Description': 'this is the hello world of dataset ingestion', 'SourceId': 1, 'Created': '2018-07-11 20:58:45.067501'}\n",
      "{'DatasetId': 2, 'Name': 'fms_pkl_e2af2d0b78717d8f1f0443343e007605', 'Description': None, 'SourceId': 1, 'Created': '2018-07-11 20:58:46.932953'}\n",
      "--------------------------------------------------------------------------------\n",
      "IotaDatasetJunction:\n",
      "rows: 160\n",
      "recent:\n",
      "{'IotaDatasetJunctionId': 156, 'IotaId': 76, 'DatasetId': 2, 'Created': '2018-07-11 20:58:48.148506'}\n",
      "{'IotaDatasetJunctionId': 157, 'IotaId': 77, 'DatasetId': 2, 'Created': '2018-07-11 20:58:48.161030'}\n",
      "{'IotaDatasetJunctionId': 158, 'IotaId': 78, 'DatasetId': 2, 'Created': '2018-07-11 20:58:48.176155'}\n",
      "{'IotaDatasetJunctionId': 159, 'IotaId': 79, 'DatasetId': 2, 'Created': '2018-07-11 20:58:48.193743'}\n",
      "{'IotaDatasetJunctionId': 160, 'IotaId': 80, 'DatasetId': 2, 'Created': '2018-07-11 20:58:48.208017'}\n",
      "--------------------------------------------------------------------------------\n",
      "Algorithm:\n",
      "rows: 1\n",
      "recent:\n",
      "{'AlgorithmId': 1, 'Name': 'datasetdatabase.core.datasetdatabase._upload_dataset', 'Description': None, 'Version': '70cc2597f2fd4a2ecda2f30e1b614cd69cac9eb2', 'Created': '2018-07-11 20:58:43.637887'}\n",
      "--------------------------------------------------------------------------------\n",
      "Run:\n",
      "rows: 2\n",
      "recent:\n",
      "{'RunId': 1, 'AlgorithmId': 1, 'UserId': 1, 'Name': None, 'Description': 'datasetdatabase.core.datasetdatabase._upload_dataset run for jacksonb', 'Begin': '2018-07-11 20:58:43.667570', 'End': '2018-07-11 20:58:46.388449'}\n",
      "{'RunId': 2, 'AlgorithmId': 1, 'UserId': 1, 'Name': None, 'Description': 'datasetdatabase.core.datasetdatabase._upload_dataset run for jacksonb', 'Begin': '2018-07-11 20:58:46.529795', 'End': '2018-07-11 20:58:48.230553'}\n",
      "--------------------------------------------------------------------------------\n",
      "RunInput:\n",
      "rows: 0\n",
      "recent:\n",
      "--------------------------------------------------------------------------------\n",
      "RunOutput:\n",
      "rows: 2\n",
      "recent:\n",
      "{'RunOutputId': 1, 'RunId': 1, 'DatasetId': 1, 'Created': '2018-07-11 20:58:46.401006'}\n",
      "{'RunOutputId': 2, 'RunId': 2, 'DatasetId': 2, 'Created': '2018-07-11 20:58:48.244632'}\n",
      "--------------------------------------------------------------------------------\n",
      "RunSource:\n",
      "rows: 0\n",
      "recent:\n"
     ]
    }
   ],
   "source": [
    "local._deep_print()"
   ]
  },
  {
   "cell_type": "code",
   "execution_count": null,
   "metadata": {},
   "outputs": [],
   "source": []
  }
 ],
 "metadata": {
  "kernelspec": {
   "display_name": "Python 3",
   "language": "python",
   "name": "python3"
  },
  "language_info": {
   "codemirror_mode": {
    "name": "ipython",
    "version": 3
   },
   "file_extension": ".py",
   "mimetype": "text/x-python",
   "name": "python",
   "nbconvert_exporter": "python",
   "pygments_lexer": "ipython3",
   "version": "3.6.5"
  }
 },
 "nbformat": 4,
 "nbformat_minor": 2
}
