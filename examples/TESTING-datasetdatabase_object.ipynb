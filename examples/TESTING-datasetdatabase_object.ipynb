{
 "cells": [
  {
   "cell_type": "code",
   "execution_count": 1,
   "metadata": {},
   "outputs": [],
   "source": [
    "import datasetdatabase as dsdb"
   ]
  },
  {
   "cell_type": "code",
   "execution_count": 2,
   "metadata": {},
   "outputs": [
    {
     "data": {
      "text/plain": [
       "LOCAL:\n",
       "\tdriver: sqlite\n",
       "\tlink: /active/examples/local_database/local.db"
      ]
     },
     "execution_count": 2,
     "metadata": {},
     "output_type": "execute_result"
    }
   ],
   "source": [
    "mngr = dsdb.ConnectionManager(dsdb.LOCAL, user=\"jacksonb\")\n",
    "mngr"
   ]
  },
  {
   "cell_type": "code",
   "execution_count": 3,
   "metadata": {},
   "outputs": [
    {
     "data": {
      "text/plain": [
       "LOCAL:\n",
       "\tdriver: sqlite\n",
       "\tlink: /active/examples/local_database/local.db\n",
       "prod:\n",
       "\tdriver: postgres\n",
       "\tlink: pg_modeling"
      ]
     },
     "execution_count": 3,
     "metadata": {},
     "output_type": "execute_result"
    }
   ],
   "source": [
    "mngr.add_connections(\"/active/configs/aics.json\")\n",
    "mngr"
   ]
  },
  {
   "cell_type": "code",
   "execution_count": 4,
   "metadata": {},
   "outputs": [
    {
     "data": {
      "text/plain": [
       "------------------------------- DATASET DATABASE -------------------------------\n",
       "--------------------------------------------------------------------------------\n",
       "SourceType:\n",
       "\trows: 2\n",
       "\texample: {'SourceTypeId': 1, 'Type': 'File', 'Description': 'SourceId is a File GUID if connected to an FMS.', 'Created': '2018-07-06 17:11:30.971054'}\n",
       "--------------------------------------------------------------------------------\n",
       "User:\n",
       "\trows: 1\n",
       "\texample: {'UserId': 1, 'Name': 'jacksonb', 'Description': 'admin', 'Created': '2018-07-06 17:11:30.977093'}\n",
       "--------------------------------------------------------------------------------\n",
       "Iota:\n",
       "\trows: 0\n",
       "\texample: None\n",
       "--------------------------------------------------------------------------------\n",
       "Dataset:\n",
       "\trows: 0\n",
       "\texample: None\n",
       "--------------------------------------------------------------------------------\n",
       "IotaDatasetJunction:\n",
       "\trows: 0\n",
       "\texample: None\n",
       "--------------------------------------------------------------------------------\n",
       "Algorithm:\n",
       "\trows: 0\n",
       "\texample: None\n",
       "--------------------------------------------------------------------------------\n",
       "Run:\n",
       "\trows: 0\n",
       "\texample: None\n",
       "-------------------------------- RECENTLY ADDED --------------------------------\n",
       "--------------------------------------------------------------------------------"
      ]
     },
     "execution_count": 4,
     "metadata": {},
     "output_type": "execute_result"
    }
   ],
   "source": [
    "local = mngr.connect(dsdb.LOCAL)\n",
    "local"
   ]
  },
  {
   "cell_type": "code",
   "execution_count": 5,
   "metadata": {},
   "outputs": [
    {
     "data": {
      "text/plain": [
       "------------------------------- DATASET DATABASE -------------------------------\n",
       "--------------------------------------------------------------------------------\n",
       "Iota:\n",
       "\trows: 82984\n",
       "\texample: [1, 'Mitosis Classifier Dataset', 3, 0, 'inputFolder', '//allen/aics/assay-dev/MicroscopyData/Caroline/2016/20161209', \"<class 'str'>\", datetime.datetime(2018, 6, 27, 22, 41, 7, 360193)]\n",
       "--------------------------------------------------------------------------------\n",
       "IotaDatasetJunction:\n",
       "\trows: 82984\n",
       "\texample: [1, 1]\n",
       "--------------------------------------------------------------------------------\n",
       "User:\n",
       "\trows: 1\n",
       "\texample: [1, 'jacksonb', 'admin', datetime.datetime(2018, 6, 27, 22, 39, 16, 642512)]\n",
       "--------------------------------------------------------------------------------\n",
       "Algorithm:\n",
       "\trows: 0\n",
       "\texample: None\n",
       "--------------------------------------------------------------------------------\n",
       "Dataset:\n",
       "\trows: 1\n",
       "\texample: [1, 'Mitosis Classifier Dataset', 'Mitotic Data']\n",
       "--------------------------------------------------------------------------------\n",
       "Run:\n",
       "\trows: 0\n",
       "\texample: None\n",
       "-------------------------------- RECENTLY ADDED --------------------------------\n",
       "--------------------------------------------------------------------------------"
      ]
     },
     "execution_count": 5,
     "metadata": {},
     "output_type": "execute_result"
    }
   ],
   "source": [
    "prod = mngr.connect(\"prod\")\n",
    "prod"
   ]
  }
 ],
 "metadata": {
  "kernelspec": {
   "display_name": "Python 3",
   "language": "python",
   "name": "python3"
  },
  "language_info": {
   "codemirror_mode": {
    "name": "ipython",
    "version": 3
   },
   "file_extension": ".py",
   "mimetype": "text/x-python",
   "name": "python",
   "nbconvert_exporter": "python",
   "pygments_lexer": "ipython3",
   "version": "3.6.5"
  }
 },
 "nbformat": 4,
 "nbformat_minor": 2
}
