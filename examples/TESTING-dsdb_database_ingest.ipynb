{
 "cells": [
  {
   "cell_type": "code",
   "execution_count": 1,
   "metadata": {},
   "outputs": [],
   "source": [
    "import datasetdatabase as dsdb\n",
    "import pandas as pd\n",
    "import numpy as np\n",
    "np.random.seed(12)"
   ]
  },
  {
   "cell_type": "code",
   "execution_count": 2,
   "metadata": {},
   "outputs": [
    {
     "data": {
      "text/html": [
       "<div>\n",
       "<style scoped>\n",
       "    .dataframe tbody tr th:only-of-type {\n",
       "        vertical-align: middle;\n",
       "    }\n",
       "\n",
       "    .dataframe tbody tr th {\n",
       "        vertical-align: top;\n",
       "    }\n",
       "\n",
       "    .dataframe thead th {\n",
       "        text-align: right;\n",
       "    }\n",
       "</style>\n",
       "<table border=\"1\" class=\"dataframe\">\n",
       "  <thead>\n",
       "    <tr style=\"text-align: right;\">\n",
       "      <th></th>\n",
       "      <th>files</th>\n",
       "      <th>floats</th>\n",
       "      <th>ndarrays</th>\n",
       "    </tr>\n",
       "  </thead>\n",
       "  <tbody>\n",
       "    <tr>\n",
       "      <th>0</th>\n",
       "      <td>local.db</td>\n",
       "      <td>15.416284</td>\n",
       "      <td>[[0.7400496965154048, 0.26331501518513467], [0...</td>\n",
       "    </tr>\n",
       "    <tr>\n",
       "      <th>1</th>\n",
       "      <td>local.db</td>\n",
       "      <td>91.874701</td>\n",
       "      <td>[[0.9007148541170122, 0.03342142762634459], [0...</td>\n",
       "    </tr>\n",
       "  </tbody>\n",
       "</table>\n",
       "</div>"
      ],
      "text/plain": [
       "      files     floats                                           ndarrays\n",
       "0  local.db  15.416284  [[0.7400496965154048, 0.26331501518513467], [0...\n",
       "1  local.db  91.874701  [[0.9007148541170122, 0.03342142762634459], [0..."
      ]
     },
     "execution_count": 2,
     "metadata": {},
     "output_type": "execute_result"
    }
   ],
   "source": [
    "# creating lists of dicts to be formed into a dataframe\n",
    "ds = []\n",
    "for i in range(2):\n",
    "    d = {}\n",
    "    d[\"floats\"] = np.random.rand() * 100\n",
    "    d[\"ndarrays\"] = np.random.rand(2, 2)\n",
    "    d[\"files\"] = \"local.db\"\n",
    "    ds.append(d)\n",
    "\n",
    "# convert this example both to dataframe\n",
    "ds = pd.DataFrame(ds)\n",
    "ds"
   ]
  },
  {
   "cell_type": "code",
   "execution_count": 3,
   "metadata": {},
   "outputs": [
    {
     "data": {
      "text/plain": [
       "info: None\n",
       "ds: True\n",
       "name: 5454c70caf9f1d79f1434af40aae59df\n",
       "description: None\n",
       "introspector: <class 'datasetdatabase.introspect.dataframe.DataFrameIntrospector'>\n",
       "validated: {'types': {'files': False, 'floats': False, 'ndarrays': False}, 'values': {'files': False, 'floats': False, 'ndarrays': False}, 'files': False}\n",
       "md5: 5454c70caf9f1d79f1434af40aae59df\n",
       "sha256: a06254a359e40b8489fb1bd0895dcd11202b196b9607b073bee745cd5639783f"
      ]
     },
     "execution_count": 3,
     "metadata": {},
     "output_type": "execute_result"
    }
   ],
   "source": [
    "ds = dsdb.Dataset(ds)\n",
    "ds"
   ]
  },
  {
   "cell_type": "code",
   "execution_count": 4,
   "metadata": {},
   "outputs": [
    {
     "data": {
      "text/html": [
       "<div>\n",
       "<style scoped>\n",
       "    .dataframe tbody tr th:only-of-type {\n",
       "        vertical-align: middle;\n",
       "    }\n",
       "\n",
       "    .dataframe tbody tr th {\n",
       "        vertical-align: top;\n",
       "    }\n",
       "\n",
       "    .dataframe thead th {\n",
       "        text-align: right;\n",
       "    }\n",
       "</style>\n",
       "<table border=\"1\" class=\"dataframe\">\n",
       "  <thead>\n",
       "    <tr style=\"text-align: right;\">\n",
       "      <th></th>\n",
       "      <th>files</th>\n",
       "      <th>floats</th>\n",
       "      <th>ndarrays</th>\n",
       "    </tr>\n",
       "  </thead>\n",
       "  <tbody>\n",
       "    <tr>\n",
       "      <th>0</th>\n",
       "      <td>local.db</td>\n",
       "      <td>15.416284</td>\n",
       "      <td>[[0.7400496965154048, 0.26331501518513467], [0...</td>\n",
       "    </tr>\n",
       "    <tr>\n",
       "      <th>1</th>\n",
       "      <td>local.db</td>\n",
       "      <td>91.874701</td>\n",
       "      <td>[[0.9007148541170122, 0.03342142762634459], [0...</td>\n",
       "    </tr>\n",
       "  </tbody>\n",
       "</table>\n",
       "</div>"
      ],
      "text/plain": [
       "      files     floats                                           ndarrays\n",
       "0  local.db  15.416284  [[0.7400496965154048, 0.26331501518513467], [0...\n",
       "1  local.db  91.874701  [[0.9007148541170122, 0.03342142762634459], [0..."
      ]
     },
     "execution_count": 4,
     "metadata": {},
     "output_type": "execute_result"
    }
   ],
   "source": [
    "ds.ds"
   ]
  },
  {
   "cell_type": "code",
   "execution_count": 5,
   "metadata": {},
   "outputs": [
    {
     "data": {
      "text/plain": [
       "Recent Datasets:\n",
       "--------------------------------------------------------------------------------"
      ]
     },
     "execution_count": 5,
     "metadata": {},
     "output_type": "execute_result"
    }
   ],
   "source": [
    "local = dsdb.DatasetDatabase(config=dsdb.LOCAL, build=True, user=\"jacksonb\")\n",
    "local"
   ]
  },
  {
   "cell_type": "code",
   "execution_count": 6,
   "metadata": {},
   "outputs": [
    {
     "name": "stdout",
     "output_type": "stream",
     "text": [
      "------------------------------- DATASET DATABASE -------------------------------\n",
      "--------------------------------------------------------------------------------\n",
      "Recent User:\n",
      "{'UserId': 1, 'Name': 'jacksonb', 'Description': None, 'Created': '2018-09-06 22:42:27.411409'}\n",
      "--------------------------------------------------------------------------------\n",
      "Recent Iota:\n",
      "--------------------------------------------------------------------------------\n",
      "Recent Group:\n",
      "--------------------------------------------------------------------------------\n",
      "Recent IotaGroup:\n",
      "--------------------------------------------------------------------------------\n",
      "Recent Dataset:\n",
      "--------------------------------------------------------------------------------\n",
      "Recent GroupDataset:\n",
      "--------------------------------------------------------------------------------\n",
      "Recent Annotation:\n",
      "--------------------------------------------------------------------------------\n",
      "Recent AnnotationDataset:\n",
      "--------------------------------------------------------------------------------\n",
      "Recent Algorithm:\n",
      "--------------------------------------------------------------------------------\n",
      "Recent Run:\n",
      "--------------------------------------------------------------------------------\n",
      "Recent RunInput:\n",
      "--------------------------------------------------------------------------------\n",
      "Recent RunOutput:\n",
      "--------------------------------------------------------------------------------\n",
      "Recent File:\n"
     ]
    }
   ],
   "source": [
    "local.recent"
   ]
  },
  {
   "cell_type": "code",
   "execution_count": 7,
   "metadata": {},
   "outputs": [
    {
     "name": "stdout",
     "output_type": "stream",
     "text": [
      "[============================================================] 100.0% 6/6 ~ 0:0:0 remaining\n"
     ]
    },
    {
     "data": {
      "text/plain": [
       "info: {'id': 2, 'name': '5454c70caf9f1d79f1434af40aae59df', 'description': '', 'introspector': 'datasetdatabase.introspect.dataframe.DataFrameIntrospector', 'md5': '5454c70caf9f1d79f1434af40aae59df', 'sha256': 'a06254a359e40b8489fb1bd0895dcd11202b196b9607b073bee745cd5639783f', 'created': datetime.datetime(2018, 9, 6, 22, 42, 26, 711084)}\n",
       "ds: True\n",
       "name: 5454c70caf9f1d79f1434af40aae59df\n",
       "description: \n",
       "introspector: <class 'datasetdatabase.introspect.dataframe.DataFrameIntrospector'>\n",
       "validated: {'types': {'files': False, 'floats': False, 'ndarrays': False}, 'values': {'files': False, 'floats': False, 'ndarrays': False}, 'files': False}\n",
       "md5: 5454c70caf9f1d79f1434af40aae59df\n",
       "sha256: a06254a359e40b8489fb1bd0895dcd11202b196b9607b073bee745cd5639783f"
      ]
     },
     "execution_count": 7,
     "metadata": {},
     "output_type": "execute_result"
    }
   ],
   "source": [
    "ds = local.upload_dataset(ds)\n",
    "ds"
   ]
  },
  {
   "cell_type": "code",
   "execution_count": 8,
   "metadata": {},
   "outputs": [
    {
     "name": "stdout",
     "output_type": "stream",
     "text": [
      "------------------------------- DATASET DATABASE -------------------------------\n",
      "--------------------------------------------------------------------------------\n",
      "Recent User:\n",
      "{'UserId': 1, 'Name': 'jacksonb', 'Description': None, 'Created': '2018-09-06 22:42:27.411409'}\n",
      "--------------------------------------------------------------------------------\n",
      "Recent Iota:\n",
      "{'IotaId': 4, 'Key': 'floats', 'Value': b'\\x80\\x03G@V\\xf7\\xfb\\x19\\x1b+\\xdc.', 'Created': '2018-09-06 22:42:27.611990'}\n",
      "{'IotaId': 5, 'Key': 'ndarrays', 'Value': b'\\x80\\x03cnumpy.core.multiarray\\n_reconstruct\\nq\\x00cnumpy\\nndarray\\nq\\x01K\\x00\\x85q\\x02C\\x01bq\\x03\\x87q\\x04Rq\\x05(K\\x01K\\x02K\\x02\\x86q\\x06cnumpy\\ndtype\\nq\\x07X\\x02\\x00\\x00\\x00f8q\\x08K\\x00K\\x01\\x87q\\tRq\\n(K\\x03X\\x01\\x00\\x00\\x00<q\\x0bNNNJ\\xff\\xff\\xff\\xffJ\\xff\\xff\\xff\\xffK\\x00tq\\x0cb\\x89C \\xfe\\x86.\\xf5\\xa7\\xd2\\xec?p\\x14H\\x05\\x9d\\x1c\\xa1?\\x87`\\xe76T\\x9f\\xee?D!\\xf75\\x13\\x90\\xc1?q\\rtq\\x0eb.', 'Created': '2018-09-06 22:42:27.611990'}\n",
      "{'IotaId': 1, 'Key': 'files', 'Value': b'\\x80\\x03X\\x08\\x00\\x00\\x00local.dbq\\x00.', 'Created': '2018-09-06 22:42:27.609256'}\n",
      "{'IotaId': 2, 'Key': 'floats', 'Value': b\"\\x80\\x03G@.\\xd5#5'\\xd1\\xb2.\", 'Created': '2018-09-06 22:42:27.609256'}\n",
      "{'IotaId': 3, 'Key': 'ndarrays', 'Value': b\"\\x80\\x03cnumpy.core.multiarray\\n_reconstruct\\nq\\x00cnumpy\\nndarray\\nq\\x01K\\x00\\x85q\\x02C\\x01bq\\x03\\x87q\\x04Rq\\x05(K\\x01K\\x02K\\x02\\x86q\\x06cnumpy\\ndtype\\nq\\x07X\\x02\\x00\\x00\\x00f8q\\x08K\\x00K\\x01\\x87q\\tRq\\n(K\\x03X\\x01\\x00\\x00\\x00<q\\x0bNNNJ\\xff\\xff\\xff\\xffJ\\xff\\xff\\xff\\xffK\\x00tq\\x0cb\\x89C 3Y~\\xb3|\\xae\\xe7?t\\x04\\xb18'\\xda\\xd0?\\xdf\\xf7\\xe4\\xa2d\\x14\\xe1?\\x80\\xf1\\xb8Yz\\xd9\\x8d?q\\rtq\\x0eb.\", 'Created': '2018-09-06 22:42:27.609256'}\n",
      "--------------------------------------------------------------------------------\n",
      "Recent Group:\n",
      "{'GroupId': 3, 'Label': b'\\x01\\x00\\x00\\x00\\x00\\x00\\x00\\x00', 'Created': '2018-09-06 22:42:27.611990'}\n",
      "{'GroupId': 2, 'Label': b'\\x00\\x00\\x00\\x00\\x00\\x00\\x00\\x00', 'Created': '2018-09-06 22:42:27.609256'}\n",
      "{'GroupId': 1, 'Label': 0, 'Created': '2018-09-06 22:42:27.550903'}\n",
      "--------------------------------------------------------------------------------\n",
      "Recent IotaGroup:\n",
      "{'IotaGroupId': 4, 'IotaId': 1, 'GroupId': 3, 'Created': '2018-09-06 22:42:27.611990'}\n",
      "{'IotaGroupId': 5, 'IotaId': 4, 'GroupId': 3, 'Created': '2018-09-06 22:42:27.611990'}\n",
      "{'IotaGroupId': 6, 'IotaId': 5, 'GroupId': 3, 'Created': '2018-09-06 22:42:27.611990'}\n",
      "{'IotaGroupId': 1, 'IotaId': 1, 'GroupId': 2, 'Created': '2018-09-06 22:42:27.609256'}\n",
      "{'IotaGroupId': 2, 'IotaId': 2, 'GroupId': 2, 'Created': '2018-09-06 22:42:27.609256'}\n",
      "--------------------------------------------------------------------------------\n",
      "Recent Dataset:\n",
      "{'DatasetId': 1, 'Name': '72a755383fba437e4dead6ff3e3d81e3', 'Description': 'algorithm parameters', 'Introspector': 'datasetdatabase.introspect.dictionary.DictionaryIntrospector', 'MD5': '72a755383fba437e4dead6ff3e3d81e3', 'SHA256': '8ec16a78d9c9d3646c559df239aea3f15333605ddc702eeacebf6dd3ebeff684', 'Created': '2018-09-06 22:42:27.516783'}\n",
      "{'DatasetId': 2, 'Name': '5454c70caf9f1d79f1434af40aae59df', 'Description': None, 'Introspector': 'datasetdatabase.introspect.dataframe.DataFrameIntrospector', 'MD5': '5454c70caf9f1d79f1434af40aae59df', 'SHA256': 'a06254a359e40b8489fb1bd0895dcd11202b196b9607b073bee745cd5639783f', 'Created': '2018-09-06 22:42:26.711084'}\n",
      "--------------------------------------------------------------------------------\n",
      "Recent GroupDataset:\n",
      "{'GroupDatasetId': 3, 'GroupId': 3, 'DatasetId': 2, 'Created': '2018-09-06 22:42:27.855036'}\n",
      "{'GroupDatasetId': 2, 'GroupId': 2, 'DatasetId': 2, 'Created': '2018-09-06 22:42:27.839994'}\n",
      "{'GroupDatasetId': 1, 'GroupId': 1, 'DatasetId': 1, 'Created': '2018-09-06 22:42:27.565104'}\n",
      "--------------------------------------------------------------------------------\n",
      "Recent Annotation:\n",
      "--------------------------------------------------------------------------------\n",
      "Recent AnnotationDataset:\n",
      "--------------------------------------------------------------------------------\n",
      "Recent Algorithm:\n",
      "{'AlgorithmId': 1, 'Name': 'upload_dataset', 'Description': 'DSDB ingest dataset function', 'Version': '0.8.1.dev', 'Created': '2018-09-06 22:42:27.497419'}\n",
      "--------------------------------------------------------------------------------\n",
      "Recent Run:\n",
      "{'RunId': 1, 'AlgorithmId': 1, 'UserId': 1, 'Name': None, 'Description': None, 'AlgorithmParameters': 1, 'Begin': '2018-09-06 22:42:27.584715', 'End': '2018-09-06 22:42:27.868929'}\n",
      "--------------------------------------------------------------------------------\n",
      "Recent RunInput:\n",
      "--------------------------------------------------------------------------------\n",
      "Recent RunOutput:\n",
      "{'RunOutputId': 1, 'RunId': 1, 'DatasetId': 2, 'Created': '2018-09-06 22:42:27.868929'}\n",
      "--------------------------------------------------------------------------------\n",
      "Recent File:\n"
     ]
    }
   ],
   "source": [
    "local.recent"
   ]
  },
  {
   "cell_type": "code",
   "execution_count": null,
   "metadata": {},
   "outputs": [],
   "source": []
  }
 ],
 "metadata": {
  "kernelspec": {
   "display_name": "Python 3",
   "language": "python",
   "name": "python3"
  },
  "language_info": {
   "codemirror_mode": {
    "name": "ipython",
    "version": 3
   },
   "file_extension": ".py",
   "mimetype": "text/x-python",
   "name": "python",
   "nbconvert_exporter": "python",
   "pygments_lexer": "ipython3",
   "version": "3.6.5"
  }
 },
 "nbformat": 4,
 "nbformat_minor": 2
}
