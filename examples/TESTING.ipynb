{
 "cells": [
  {
   "cell_type": "code",
   "execution_count": 1,
   "metadata": {},
   "outputs": [],
   "source": [
    "import datasetdatabase as dsdb"
   ]
  },
  {
   "cell_type": "code",
   "execution_count": 2,
   "metadata": {},
   "outputs": [
    {
     "data": {
      "text/plain": [
       "{'local': {'driver': 'sqlite', 'database': '/active/examples/local.db'}}"
      ]
     },
     "execution_count": 2,
     "metadata": {},
     "output_type": "execute_result"
    }
   ],
   "source": [
    "dsdb.LOCAL"
   ]
  },
  {
   "cell_type": "code",
   "execution_count": 3,
   "metadata": {},
   "outputs": [
    {
     "data": {
      "text/html": [
       "<div>\n",
       "<style scoped>\n",
       "    .dataframe tbody tr th:only-of-type {\n",
       "        vertical-align: middle;\n",
       "    }\n",
       "\n",
       "    .dataframe tbody tr th {\n",
       "        vertical-align: top;\n",
       "    }\n",
       "\n",
       "    .dataframe thead th {\n",
       "        text-align: right;\n",
       "    }\n",
       "</style>\n",
       "<table border=\"1\" class=\"dataframe\">\n",
       "  <thead>\n",
       "    <tr style=\"text-align: right;\">\n",
       "      <th></th>\n",
       "      <th>bools</th>\n",
       "      <th>files</th>\n",
       "      <th>floats</th>\n",
       "      <th>ndarrays</th>\n",
       "      <th>sets</th>\n",
       "      <th>strings</th>\n",
       "      <th>tuples</th>\n",
       "    </tr>\n",
       "  </thead>\n",
       "  <tbody>\n",
       "    <tr>\n",
       "      <th>0</th>\n",
       "      <td>True</td>\n",
       "      <td>EXPLAINER-connection_manager.ipynb</td>\n",
       "      <td>74.004970</td>\n",
       "      <td>[[0.26331501518513467, 0.5337393933802977], [0...</td>\n",
       "      <td>{1, 2, 3}</td>\n",
       "      <td>foo0</td>\n",
       "      <td>(1, 2, 3)</td>\n",
       "    </tr>\n",
       "    <tr>\n",
       "      <th>1</th>\n",
       "      <td>False</td>\n",
       "      <td>EXPLAINER-connection_manager.ipynb</td>\n",
       "      <td>3.342143</td>\n",
       "      <td>[[0.9569493362751168, 0.13720932135607644], [0...</td>\n",
       "      <td>{1, 2, 3}</td>\n",
       "      <td>foo1</td>\n",
       "      <td>(1, 2, 3)</td>\n",
       "    </tr>\n",
       "    <tr>\n",
       "      <th>2</th>\n",
       "      <td>False</td>\n",
       "      <td>EXPLAINER-connection_manager.ipynb</td>\n",
       "      <td>85.273554</td>\n",
       "      <td>[[0.002259233518513537, 0.5212260272202929], [...</td>\n",
       "      <td>{1, 2, 3}</td>\n",
       "      <td>foo2</td>\n",
       "      <td>(1, 2, 3)</td>\n",
       "    </tr>\n",
       "    <tr>\n",
       "      <th>3</th>\n",
       "      <td>False</td>\n",
       "      <td>EXPLAINER-connection_manager.ipynb</td>\n",
       "      <td>16.071675</td>\n",
       "      <td>[[0.7645604503388788, 0.020809797952066167], [...</td>\n",
       "      <td>{1, 2, 3}</td>\n",
       "      <td>foo3</td>\n",
       "      <td>(1, 2, 3)</td>\n",
       "    </tr>\n",
       "  </tbody>\n",
       "</table>\n",
       "</div>"
      ],
      "text/plain": [
       "   bools                               files     floats  \\\n",
       "0   True  EXPLAINER-connection_manager.ipynb  74.004970   \n",
       "1  False  EXPLAINER-connection_manager.ipynb   3.342143   \n",
       "2  False  EXPLAINER-connection_manager.ipynb  85.273554   \n",
       "3  False  EXPLAINER-connection_manager.ipynb  16.071675   \n",
       "\n",
       "                                            ndarrays       sets strings  \\\n",
       "0  [[0.26331501518513467, 0.5337393933802977], [0...  {1, 2, 3}    foo0   \n",
       "1  [[0.9569493362751168, 0.13720932135607644], [0...  {1, 2, 3}    foo1   \n",
       "2  [[0.002259233518513537, 0.5212260272202929], [...  {1, 2, 3}    foo2   \n",
       "3  [[0.7645604503388788, 0.020809797952066167], [...  {1, 2, 3}    foo3   \n",
       "\n",
       "      tuples  \n",
       "0  (1, 2, 3)  \n",
       "1  (1, 2, 3)  \n",
       "2  (1, 2, 3)  \n",
       "3  (1, 2, 3)  "
      ]
     },
     "execution_count": 3,
     "metadata": {},
     "output_type": "execute_result"
    }
   ],
   "source": [
    "import pandas as pd\n",
    "import numpy as np\n",
    "import pathlib\n",
    "import json\n",
    "\n",
    "# for reproducibility I will set the seed here\n",
    "np.random.seed(seed=12)\n",
    "\n",
    "test = []\n",
    "for i in range(4):\n",
    "    d = {}\n",
    "    d[\"strings\"] = \"foo\" + str(i)\n",
    "    d[\"bools\"] = np.random.rand() < 0.5\n",
    "    d[\"floats\"] = np.random.rand() * 100\n",
    "    d[\"ndarrays\"] = np.random.rand(2, 2)\n",
    "    d[\"tuples\"] = tuple([1, 2, 3])\n",
    "    d[\"sets\"] = set([1, 2, 3, 3, 3])\n",
    "    d[\"files\"] = str(pathlib.Path(\"./EXPLAINER-connection_manager.ipynb\"))\n",
    "    test.append(d)\n",
    "\n",
    "# convert this example both to dataframe\n",
    "test = pd.DataFrame(test)\n",
    "test"
   ]
  },
  {
   "cell_type": "code",
   "execution_count": 4,
   "metadata": {},
   "outputs": [
    {
     "name": "stdout",
     "output_type": "stream",
     "text": [
      "Casting values to type map...\n",
      "[============================================================] 100.0% 28/28 ~ 0:0:0 remaining\n",
      "Checking files exist...\n",
      "[============================================================] 100.0% 4/4 ~ 0:0:0 remaining\n",
      "Checking dataset value types...\n",
      "[============================================================] 100.0% 28/28 ~ 0:0:0 remaining\n"
     ]
    },
    {
     "data": {
      "text/plain": [
       "info: None\n",
       "df: True\n",
       "name: test dataset\n",
       "description: this is the hello world of dataset creation\n",
       "filepath_columns: files\n",
       "validated_items: {'types': True, 'values': False, 'files': True}"
      ]
     },
     "execution_count": 4,
     "metadata": {},
     "output_type": "execute_result"
    }
   ],
   "source": [
    "t = dsdb.Dataset(test,\n",
    "                 name=\"test dataset\",\n",
    "                 description=\"this is the hello world of dataset creation\",\n",
    "                 filepath_columns=\"files\",\n",
    "                 type_validation_map={\"bools\": bool,\n",
    "                                      \"files\": str,\n",
    "                                      \"floats\": float,\n",
    "                                      \"ndarrays\": np.ndarray,\n",
    "                                      \"sets\": set,\n",
    "                                      \"strings\": str,\n",
    "                                      \"tuples\": tuple},\n",
    "                 import_as_type_map=True)\n",
    "t"
   ]
  },
  {
   "cell_type": "code",
   "execution_count": 5,
   "metadata": {},
   "outputs": [
    {
     "name": "stdout",
     "output_type": "stream",
     "text": [
      "Checking dataset values...\n",
      "[============================================================] 100.0% 8/8 ~ 0:0:0 remaining\n"
     ]
    },
    {
     "data": {
      "text/plain": [
       "info: None\n",
       "df: True\n",
       "name: test dataset\n",
       "description: this is the hello world of dataset creation\n",
       "filepath_columns: files\n",
       "validated_items: {'types': True, 'values': True, 'files': True}"
      ]
     },
     "execution_count": 5,
     "metadata": {},
     "output_type": "execute_result"
    }
   ],
   "source": [
    "t.enforce_values_using_map({\"tuples\": lambda x: x == (1, 2, 3),\n",
    "                            \"floats\": lambda x: x >= 0})\n",
    "t"
   ]
  },
  {
   "cell_type": "code",
   "execution_count": 6,
   "metadata": {},
   "outputs": [
    {
     "name": "stdout",
     "output_type": "stream",
     "text": [
      "Checking files exist...\n",
      "[============================================================] 100.0% 4/4 ~ 0:0:0 remaining\n"
     ]
    },
    {
     "data": {
      "text/plain": [
       "PosixPath('test.dataset')"
      ]
     },
     "execution_count": 6,
     "metadata": {},
     "output_type": "execute_result"
    }
   ],
   "source": [
    "ser = t.save(\"test\")\n",
    "ser"
   ]
  },
  {
   "cell_type": "code",
   "execution_count": 7,
   "metadata": {},
   "outputs": [
    {
     "data": {
      "text/plain": [
       "info: None\n",
       "df: True\n",
       "name: test dataset\n",
       "description: this is the hello world of dataset creation\n",
       "filepath_columns: files\n",
       "validated_items: {'types': False, 'values': False, 'files': True}"
      ]
     },
     "execution_count": 7,
     "metadata": {},
     "output_type": "execute_result"
    }
   ],
   "source": [
    "des = dsdb.read_dataset(ser)\n",
    "des"
   ]
  },
  {
   "cell_type": "code",
   "execution_count": 8,
   "metadata": {},
   "outputs": [
    {
     "data": {
      "text/plain": [
       "True"
      ]
     },
     "execution_count": 8,
     "metadata": {},
     "output_type": "execute_result"
    }
   ],
   "source": [
    "import hashlib\n",
    "import pickle\n",
    "hashlib.md5(pickle.dumps(t.df)).hexdigest() == hashlib.md5(pickle.dumps(des.df)).hexdigest()"
   ]
  },
  {
   "cell_type": "code",
   "execution_count": 9,
   "metadata": {},
   "outputs": [
    {
     "data": {
      "text/plain": [
       "Recent Datasets:\n",
       "--------------------------------------------------------------------------------"
      ]
     },
     "execution_count": 9,
     "metadata": {},
     "output_type": "execute_result"
    }
   ],
   "source": [
    "local = dsdb.DatasetDatabase(config=dsdb.LOCAL, user=\"jacksonb\", build=True)\n",
    "local"
   ]
  },
  {
   "cell_type": "code",
   "execution_count": 10,
   "metadata": {},
   "outputs": [
    {
     "name": "stdout",
     "output_type": "stream",
     "text": [
      "------------------------------- DATASET DATABASE -------------------------------\n",
      "--------------------------------------------------------------------------------\n",
      "Recent User:\n",
      "{'UserId': 1, 'Name': 'jacksonb', 'Description': None, 'Created': '2018-08-20 21:28:36.320321'}\n",
      "--------------------------------------------------------------------------------\n",
      "Recent Iota:\n",
      "--------------------------------------------------------------------------------\n",
      "Recent Group:\n",
      "--------------------------------------------------------------------------------\n",
      "Recent Source:\n",
      "--------------------------------------------------------------------------------\n",
      "Recent FileSource:\n",
      "--------------------------------------------------------------------------------\n",
      "Recent QuiltSource:\n",
      "--------------------------------------------------------------------------------\n",
      "Recent Dataset:\n",
      "--------------------------------------------------------------------------------\n",
      "Recent IotaGroupJunction:\n",
      "--------------------------------------------------------------------------------\n",
      "Recent GroupDatasetJunction:\n",
      "--------------------------------------------------------------------------------\n",
      "Recent Algorithm:\n",
      "--------------------------------------------------------------------------------\n",
      "Recent Run:\n",
      "--------------------------------------------------------------------------------\n",
      "Recent RunInput:\n",
      "--------------------------------------------------------------------------------\n",
      "Recent RunOutput:\n",
      "--------------------------------------------------------------------------------\n",
      "Recent RunSource:\n",
      "--------------------------------------------------------------------------------\n",
      "Recent File:\n"
     ]
    }
   ],
   "source": [
    "local.recent"
   ]
  },
  {
   "cell_type": "code",
   "execution_count": null,
   "metadata": {},
   "outputs": [],
   "source": []
  }
 ],
 "metadata": {
  "kernelspec": {
   "display_name": "Python 3",
   "language": "python",
   "name": "python3"
  },
  "language_info": {
   "codemirror_mode": {
    "name": "ipython",
    "version": 3
   },
   "file_extension": ".py",
   "mimetype": "text/x-python",
   "name": "python",
   "nbconvert_exporter": "python",
   "pygments_lexer": "ipython3",
   "version": "3.6.5"
  }
 },
 "nbformat": 4,
 "nbformat_minor": 2
}
