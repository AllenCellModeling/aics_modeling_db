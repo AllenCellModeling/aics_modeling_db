{
 "cells": [
  {
   "cell_type": "code",
   "execution_count": 1,
   "metadata": {},
   "outputs": [
    {
     "data": {
      "text/plain": [
       "Recent Datasets:\n",
       "--------------------------------------------------------------------------------"
      ]
     },
     "execution_count": 1,
     "metadata": {},
     "output_type": "execute_result"
    }
   ],
   "source": [
    "import datasetdatabase as dsdb\n",
    "mngr = dsdb.ConnectionManager(dsdb.LOCAL, user=\"jacksonb\")\n",
    "local = mngr.connect(dsdb.LOCAL)\n",
    "local"
   ]
  },
  {
   "cell_type": "code",
   "execution_count": 2,
   "metadata": {},
   "outputs": [
    {
     "data": {
      "text/html": [
       "<div>\n",
       "<style scoped>\n",
       "    .dataframe tbody tr th:only-of-type {\n",
       "        vertical-align: middle;\n",
       "    }\n",
       "\n",
       "    .dataframe tbody tr th {\n",
       "        vertical-align: top;\n",
       "    }\n",
       "\n",
       "    .dataframe thead th {\n",
       "        text-align: right;\n",
       "    }\n",
       "</style>\n",
       "<table border=\"1\" class=\"dataframe\">\n",
       "  <thead>\n",
       "    <tr style=\"text-align: right;\">\n",
       "      <th></th>\n",
       "      <th>bools</th>\n",
       "      <th>floats</th>\n",
       "    </tr>\n",
       "  </thead>\n",
       "  <tbody>\n",
       "    <tr>\n",
       "      <th>0</th>\n",
       "      <td>False</td>\n",
       "      <td>64.338794</td>\n",
       "    </tr>\n",
       "    <tr>\n",
       "      <th>1</th>\n",
       "      <td>True</td>\n",
       "      <td>15.543900</td>\n",
       "    </tr>\n",
       "    <tr>\n",
       "      <th>2</th>\n",
       "      <td>True</td>\n",
       "      <td>79.345931</td>\n",
       "    </tr>\n",
       "    <tr>\n",
       "      <th>3</th>\n",
       "      <td>True</td>\n",
       "      <td>25.525738</td>\n",
       "    </tr>\n",
       "  </tbody>\n",
       "</table>\n",
       "</div>"
      ],
      "text/plain": [
       "   bools     floats\n",
       "0  False  64.338794\n",
       "1   True  15.543900\n",
       "2   True  79.345931\n",
       "3   True  25.525738"
      ]
     },
     "execution_count": 2,
     "metadata": {},
     "output_type": "execute_result"
    }
   ],
   "source": [
    "# import to help us create a test dataset\n",
    "import pandas as pd\n",
    "import numpy as np\n",
    "\n",
    "# creating lists of dicts to be formed into a dataframe\n",
    "test = []\n",
    "for i in range(4):\n",
    "    d = {}\n",
    "    d[\"bools\"] = np.random.rand() < 0.5\n",
    "    d[\"floats\"] = np.random.rand() * 100\n",
    "    test.append(d)\n",
    "\n",
    "# convert this example both to dataframe\n",
    "test = pd.DataFrame(test)\n",
    "test"
   ]
  },
  {
   "cell_type": "code",
   "execution_count": 3,
   "metadata": {},
   "outputs": [
    {
     "name": "stdout",
     "output_type": "stream",
     "text": [
      "Validating Dataset...\n",
      "[============================================================] 100.0% (32/32) ~ 0:00:00 remaining\n",
      "Creating Iota...\n",
      "[============================================================] 100.0% (8/8) ~ 0:00:00 remaining\n",
      "Creating Junction Items...\n",
      "[============================================================] 100.0% (8/8) ~ 0:00:00 remaining\n",
      "Dataset upload complete!\n"
     ]
    },
    {
     "data": {
      "text/plain": [
       "{'DatasetId': 1,\n",
       " 'Name': 'hash_3e845d30e4a2f43881825938633542f1',\n",
       " 'Description': None,\n",
       " 'SourceId': 1,\n",
       " 'FilepathColumns': 'None',\n",
       " 'Created': '2018-08-08 17:20:51.183048'}"
      ]
     },
     "execution_count": 3,
     "metadata": {},
     "output_type": "execute_result"
    }
   ],
   "source": [
    "local.upload_dataset(test)"
   ]
  }
 ],
 "metadata": {
  "kernelspec": {
   "display_name": "Python 3",
   "language": "python",
   "name": "python3"
  },
  "language_info": {
   "codemirror_mode": {
    "name": "ipython",
    "version": 3
   },
   "file_extension": ".py",
   "mimetype": "text/x-python",
   "name": "python",
   "nbconvert_exporter": "python",
   "pygments_lexer": "ipython3",
   "version": "3.6.5"
  }
 },
 "nbformat": 4,
 "nbformat_minor": 2
}
