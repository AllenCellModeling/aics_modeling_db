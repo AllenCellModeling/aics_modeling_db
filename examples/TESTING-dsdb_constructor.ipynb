{
 "cells": [
  {
   "cell_type": "code",
   "execution_count": 1,
   "metadata": {},
   "outputs": [],
   "source": [
    "import datasetdatabase as dsdb"
   ]
  },
  {
   "cell_type": "code",
   "execution_count": 2,
   "metadata": {},
   "outputs": [
    {
     "data": {
      "text/plain": [
       "{'local': {'driver': 'sqlite', 'database': '/active/examples/local.db'}}"
      ]
     },
     "execution_count": 2,
     "metadata": {},
     "output_type": "execute_result"
    }
   ],
   "source": [
    "dsdb.LOCAL"
   ]
  },
  {
   "cell_type": "code",
   "execution_count": 3,
   "metadata": {},
   "outputs": [
    {
     "data": {
      "text/plain": [
       "<datasetdatabase.core.DatabaseConstructor at 0x7f7f64f8cf28>"
      ]
     },
     "execution_count": 3,
     "metadata": {},
     "output_type": "execute_result"
    }
   ],
   "source": [
    "builder = dsdb.core.DatabaseConstructor(dsdb.LOCAL)\n",
    "builder"
   ]
  },
  {
   "cell_type": "code",
   "execution_count": 4,
   "metadata": {},
   "outputs": [
    {
     "data": {
      "text/plain": [
       "<orator.database_manager.DatabaseManager at 0x7f7f64f83888>"
      ]
     },
     "execution_count": 4,
     "metadata": {},
     "output_type": "execute_result"
    }
   ],
   "source": [
    "db = builder.build()\n",
    "db"
   ]
  },
  {
   "cell_type": "code",
   "execution_count": 5,
   "metadata": {},
   "outputs": [
    {
     "data": {
      "text/plain": [
       "Recent Datasets:\n",
       "--------------------------------------------------------------------------------"
      ]
     },
     "execution_count": 5,
     "metadata": {},
     "output_type": "execute_result"
    }
   ],
   "source": [
    "local = dsdb.DatasetDatabase(dsdb.LOCAL, user=\"jacksonb\")\n",
    "local"
   ]
  },
  {
   "cell_type": "code",
   "execution_count": 6,
   "metadata": {},
   "outputs": [
    {
     "name": "stdout",
     "output_type": "stream",
     "text": [
      "------------------------------- DATASET DATABASE -------------------------------\n",
      "--------------------------------------------------------------------------------\n",
      "Recent User:\n",
      "{'UserId': 1, 'Name': 'jacksonb', 'Description': None, 'Created': '2018-09-01 01:54:13.016147'}\n",
      "--------------------------------------------------------------------------------\n",
      "Recent Iota:\n",
      "--------------------------------------------------------------------------------\n",
      "Recent Group:\n",
      "--------------------------------------------------------------------------------\n",
      "Recent IotaGroup:\n",
      "--------------------------------------------------------------------------------\n",
      "Recent Source:\n",
      "--------------------------------------------------------------------------------\n",
      "Recent FileSource:\n",
      "--------------------------------------------------------------------------------\n",
      "Recent QuiltSource:\n",
      "--------------------------------------------------------------------------------\n",
      "Recent Dataset:\n",
      "--------------------------------------------------------------------------------\n",
      "Recent GroupDataset:\n",
      "--------------------------------------------------------------------------------\n",
      "Recent Annotation:\n",
      "--------------------------------------------------------------------------------\n",
      "Recent AnnotationDataset:\n",
      "--------------------------------------------------------------------------------\n",
      "Recent Algorithm:\n",
      "--------------------------------------------------------------------------------\n",
      "Recent Run:\n",
      "--------------------------------------------------------------------------------\n",
      "Recent RunInput:\n",
      "--------------------------------------------------------------------------------\n",
      "Recent RunOutput:\n",
      "--------------------------------------------------------------------------------\n",
      "Recent RunSource:\n",
      "--------------------------------------------------------------------------------\n",
      "Recent File:\n"
     ]
    }
   ],
   "source": [
    "local.recent"
   ]
  }
 ],
 "metadata": {
  "kernelspec": {
   "display_name": "Python 3",
   "language": "python",
   "name": "python3"
  },
  "language_info": {
   "codemirror_mode": {
    "name": "ipython",
    "version": 3
   },
   "file_extension": ".py",
   "mimetype": "text/x-python",
   "name": "python",
   "nbconvert_exporter": "python",
   "pygments_lexer": "ipython3",
   "version": "3.6.5"
  }
 },
 "nbformat": 4,
 "nbformat_minor": 2
}
