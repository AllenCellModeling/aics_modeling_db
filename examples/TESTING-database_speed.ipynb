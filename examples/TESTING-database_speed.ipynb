{
 "cells": [
  {
   "cell_type": "code",
   "execution_count": 1,
   "metadata": {},
   "outputs": [],
   "source": [
    "import datasetdatabase as dsdb\n",
    "import pandas as pd\n",
    "import numpy as np\n",
    "np.random.seed(12)"
   ]
  },
  {
   "cell_type": "code",
   "execution_count": 2,
   "metadata": {},
   "outputs": [],
   "source": [
    "# creating lists of dicts to be formed into a dataframe\n",
    "ds = []\n",
    "for i in range(1000):\n",
    "    d = {}\n",
    "    d[\"floats\"] = np.random.rand() * 100\n",
    "    d[\"ndarrays\"] = np.random.rand(2, 2)\n",
    "    ds.append(d)\n",
    "\n",
    "# convert this example both to dataframe\n",
    "ds = pd.DataFrame(ds)"
   ]
  },
  {
   "cell_type": "code",
   "execution_count": 3,
   "metadata": {},
   "outputs": [
    {
     "data": {
      "text/plain": [
       "info: None\n",
       "ds: True\n",
       "name: 05acebb9-3d3e-4b4f-9b99-8320b6d1c0f2\n",
       "description: None\n",
       "introspector: <class 'datasetdatabase.introspect.dataframe.DataFrameIntrospector'>\n",
       "validated: {'types': {'floats': False, 'ndarrays': False}, 'values': {'floats': False, 'ndarrays': False}, 'files': False}\n",
       "md5: d422895c7ff67bca5f00237b30b7fef9\n",
       "sha256: b2ee7a42ea427bc1fa376da4c37fe76f08e3e4f070e56b3731bd0351a68a210a\n",
       "annotations: []"
      ]
     },
     "execution_count": 3,
     "metadata": {},
     "output_type": "execute_result"
    }
   ],
   "source": [
    "ds = dsdb.Dataset(ds)\n",
    "ds"
   ]
  },
  {
   "cell_type": "code",
   "execution_count": 4,
   "metadata": {},
   "outputs": [
    {
     "data": {
      "text/plain": [
       "Recent Datasets:\n",
       "--------------------------------------------------------------------------------"
      ]
     },
     "execution_count": 4,
     "metadata": {},
     "output_type": "execute_result"
    }
   ],
   "source": [
    "local = dsdb.DatasetDatabase(config=dsdb.LOCAL, build=True, user=\"jacksonb\")\n",
    "local"
   ]
  },
  {
   "cell_type": "code",
   "execution_count": 5,
   "metadata": {},
   "outputs": [
    {
     "name": "stdout",
     "output_type": "stream",
     "text": [
      "Dataset processing has begun...\n",
      "Dataset processing has ended...\n",
      "Tearing down object...\n",
      "[============================================================] 100.0% 2000/2000 ~ 0:0:0 remaining\n",
      "CPU times: user 6.96 s, sys: 5.3 s, total: 12.3 s\n",
      "Wall time: 1min 21s\n"
     ]
    }
   ],
   "source": [
    "%time ds.upload_to(local)"
   ]
  },
  {
   "cell_type": "code",
   "execution_count": 6,
   "metadata": {},
   "outputs": [
    {
     "name": "stdout",
     "output_type": "stream",
     "text": [
      "CPU times: user 910 ms, sys: 640 ms, total: 1.55 s\n",
      "Wall time: 3.69 s\n"
     ]
    },
    {
     "data": {
      "text/plain": [
       "info: {'id': 2, 'name': '05acebb9-3d3e-4b4f-9b99-8320b6d1c0f2', 'description': None, 'introspector': 'datasetdatabase.introspect.dataframe.DataFrameIntrospector', 'md5': 'd422895c7ff67bca5f00237b30b7fef9', 'sha256': 'b2ee7a42ea427bc1fa376da4c37fe76f08e3e4f070e56b3731bd0351a68a210a', 'created': datetime.datetime(2018, 9, 11, 22, 5, 15, 447026)}\n",
       "ds: True\n",
       "name: 05acebb9-3d3e-4b4f-9b99-8320b6d1c0f2\n",
       "description: None\n",
       "introspector: <class 'datasetdatabase.introspect.dataframe.DataFrameIntrospector'>\n",
       "validated: True\n",
       "md5: c2b813003e02c2ce168cdd1c0b58621d\n",
       "sha256: 0677fd67ef2fbcc43e4beb4cf0b5e1afec4d5a9c0bd020cee989e833bd88be7d\n",
       "annotations: []"
      ]
     },
     "execution_count": 6,
     "metadata": {},
     "output_type": "execute_result"
    }
   ],
   "source": [
    "%time local.get_dataset(2)"
   ]
  },
  {
   "cell_type": "code",
   "execution_count": 7,
   "metadata": {},
   "outputs": [
    {
     "data": {
      "text/plain": [
       "True"
      ]
     },
     "execution_count": 7,
     "metadata": {},
     "output_type": "execute_result"
    }
   ],
   "source": [
    "ds.ds.all().equals(local.get_dataset(2).ds.all())"
   ]
  }
 ],
 "metadata": {
  "kernelspec": {
   "display_name": "Python 3",
   "language": "python",
   "name": "python3"
  },
  "language_info": {
   "codemirror_mode": {
    "name": "ipython",
    "version": 3
   },
   "file_extension": ".py",
   "mimetype": "text/x-python",
   "name": "python",
   "nbconvert_exporter": "python",
   "pygments_lexer": "ipython3",
   "version": "3.6.5"
  }
 },
 "nbformat": 4,
 "nbformat_minor": 2
}
