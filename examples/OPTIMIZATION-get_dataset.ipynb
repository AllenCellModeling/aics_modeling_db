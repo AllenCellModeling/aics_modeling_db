{
 "cells": [
  {
   "cell_type": "code",
   "execution_count": 1,
   "metadata": {},
   "outputs": [
    {
     "data": {
      "text/plain": [
       "Recent Datasets:\n",
       "--------------------------------------------------------------------------------\n",
       "{'DatasetId': 88, 'Name': 'mito predictions applied to dataset 87', 'Description': 'mitotic predictions on dataset 87 (gregj) 20181016', 'Introspector': 'datasetdatabase.introspect.dataframe.DataFrameIntrospector', 'MD5': '6df2071c4a26daba241dcdd94938ddc6', 'SHA256': 'd3dddcbb422ebf9908390d7f2d858b9b1e692938e51d4606a888886b365c1504', 'Created': datetime.datetime(2018, 10, 17, 1, 35, 27, 460214)}\n",
       "{'DatasetId': 87, 'Name': 'Handoff Data from gregj', 'Description': 'Ingest of /allen/aics/modeling/gregj/results/ipp/ipp_18_10_12/data_jobs_out.csv This is the handoff data from gregj for the 20181101 goals.', 'Introspector': 'datasetdatabase.introspect.dataframe.DataFrameIntrospector', 'MD5': '695a491088878853ea0b46cb17b5bcb0', 'SHA256': '92a359c35119bc54cadc77335c0c4bd2c3520fb99f95f41287d78e4ad3622b05', 'Created': datetime.datetime(2018, 10, 16, 21, 32, 35, 68498)}\n",
       "{'DatasetId': 77, 'Name': 'For dataset #9 with training set of mitosis classifier, all M1~M7 in original label, all M0 confused as M1~M7 and a subset of other M0 here are relabeled by Irina with 3D projection views. Here 2.5 means maybe M2 maybe M3.', 'Description': None, 'Introspector': 'datasetdatabase.introspect.dataframe.DataFrameIntrospector', 'MD5': 'ca8b2abf1d9942bfee7c5259cb6019fa', 'SHA256': 'fae65ff14f13bcfddc0e82b985deda3a485cd53c1a5eaacda5ad06e5ff42a05e', 'Created': datetime.datetime(2018, 10, 16, 5, 22, 2, 871941)}\n",
       "{'DatasetId': 75, 'Name': 'Dual cell lines delivery test 2 in production format', 'Description': 'three dual lines no.45 Tubulin-sec，no.59 LaminB-Sec，no.78 Tubulin-Tom, about 100~150 good cells each line, no structure segmentation', 'Introspector': 'datasetdatabase.introspect.dataframe.DataFrameIntrospector', 'MD5': '2f85c2be64f2bae084a21266feb616f9', 'SHA256': '51a36b738b5f5fb77c1bdce2f0a25a0e15a201dca627571997aa3689a427103f', 'Created': datetime.datetime(2018, 10, 15, 22, 50, 58, 502607)}\n",
       "{'DatasetId': 67, 'Name': 'Dual cell lines delivery test 1 in production format', 'Description': 'three dual lines no.45 Tubulin-sec，no.59 LaminB-Sec，no.78 Tubulin-Tom, about 100~150 good cells each line, no structure segmentation', 'Introspector': 'datasetdatabase.introspect.dataframe.DataFrameIntrospector', 'MD5': '42cfaf378785044647552fb1b46a32c1', 'SHA256': 'eca7d5c502764a0f4977558a139d8f881c15a44e816208a6da011fb9009b928d', 'Created': datetime.datetime(2018, 10, 15, 21, 25, 56, 804469)}"
      ]
     },
     "execution_count": 1,
     "metadata": {},
     "output_type": "execute_result"
    }
   ],
   "source": [
    "import datasetdatabase as dsdb\n",
    "prod = dsdb.DatasetDatabase(config=\"../configs/prod.json\", processing_limit=36)\n",
    "prod"
   ]
  },
  {
   "cell_type": "code",
   "execution_count": 2,
   "metadata": {},
   "outputs": [
    {
     "name": "stdout",
     "output_type": "stream",
     "text": [
      "CPU times: user 41.2 ms, sys: 2.97 ms, total: 44.1 ms\n",
      "Wall time: 9.64 s\n"
     ]
    }
   ],
   "source": [
    "%time test = prod.get_dataset(id=19)"
   ]
  },
  {
   "cell_type": "code",
   "execution_count": 3,
   "metadata": {},
   "outputs": [
    {
     "data": {
      "text/plain": [
       "info: {'id': 19, 'name': 'test dataset', 'description': 'use this dataset for testing dsdb functionality', 'introspector': 'datasetdatabase.introspect.dataframe.DataFrameIntrospector', 'created': datetime.datetime(2018, 9, 28, 22, 33, 39, 112630)}\n",
       "ds: True\n",
       "name: test dataset\n",
       "description: use this dataset for testing dsdb functionality\n",
       "introspector: <class 'datasetdatabase.introspect.dataframe.DataFrameIntrospector'>\n",
       "md5: 76086263563ba0cdc8fed3e9157b9a98\n",
       "sha256: 21a34624364314b9184d22ab53e9c8c5a3f2d930430b4aad3d6fc1045b1a0eca\n",
       "validated: True\n",
       "annotations: []"
      ]
     },
     "execution_count": 3,
     "metadata": {},
     "output_type": "execute_result"
    }
   ],
   "source": [
    "test"
   ]
  },
  {
   "cell_type": "code",
   "execution_count": 4,
   "metadata": {},
   "outputs": [
    {
     "data": {
      "text/html": [
       "<div>\n",
       "<style scoped>\n",
       "    .dataframe tbody tr th:only-of-type {\n",
       "        vertical-align: middle;\n",
       "    }\n",
       "\n",
       "    .dataframe tbody tr th {\n",
       "        vertical-align: top;\n",
       "    }\n",
       "\n",
       "    .dataframe thead th {\n",
       "        text-align: right;\n",
       "    }\n",
       "</style>\n",
       "<table border=\"1\" class=\"dataframe\">\n",
       "  <thead>\n",
       "    <tr style=\"text-align: right;\">\n",
       "      <th></th>\n",
       "      <th>Created</th>\n",
       "      <th>GroupId</th>\n",
       "      <th>IotaGroupId</th>\n",
       "      <th>IotaId</th>\n",
       "    </tr>\n",
       "  </thead>\n",
       "  <tbody>\n",
       "    <tr>\n",
       "      <th>0</th>\n",
       "      <td>2018-09-28 22:33:39.132954</td>\n",
       "      <td>50264</td>\n",
       "      <td>1590007</td>\n",
       "      <td>1193100</td>\n",
       "    </tr>\n",
       "    <tr>\n",
       "      <th>1</th>\n",
       "      <td>2018-09-28 22:33:39.132954</td>\n",
       "      <td>50264</td>\n",
       "      <td>1590026</td>\n",
       "      <td>1193119</td>\n",
       "    </tr>\n",
       "    <tr>\n",
       "      <th>2</th>\n",
       "      <td>2018-09-28 22:33:39.249753</td>\n",
       "      <td>50280</td>\n",
       "      <td>1590049</td>\n",
       "      <td>1193100</td>\n",
       "    </tr>\n",
       "    <tr>\n",
       "      <th>3</th>\n",
       "      <td>2018-09-28 22:33:39.249753</td>\n",
       "      <td>50280</td>\n",
       "      <td>1590075</td>\n",
       "      <td>1193142</td>\n",
       "    </tr>\n",
       "    <tr>\n",
       "      <th>4</th>\n",
       "      <td>2018-09-28 22:33:39.339260</td>\n",
       "      <td>50305</td>\n",
       "      <td>1590087</td>\n",
       "      <td>1193100</td>\n",
       "    </tr>\n",
       "  </tbody>\n",
       "</table>\n",
       "</div>"
      ],
      "text/plain": [
       "                     Created  GroupId  IotaGroupId   IotaId\n",
       "0 2018-09-28 22:33:39.132954    50264      1590007  1193100\n",
       "1 2018-09-28 22:33:39.132954    50264      1590026  1193119\n",
       "2 2018-09-28 22:33:39.249753    50280      1590049  1193100\n",
       "3 2018-09-28 22:33:39.249753    50280      1590075  1193142\n",
       "4 2018-09-28 22:33:39.339260    50305      1590087  1193100"
      ]
     },
     "execution_count": 4,
     "metadata": {},
     "output_type": "execute_result"
    }
   ],
   "source": [
    "test.ds.head()"
   ]
  }
 ],
 "metadata": {
  "kernelspec": {
   "display_name": "Python 3",
   "language": "python",
   "name": "python3"
  },
  "language_info": {
   "codemirror_mode": {
    "name": "ipython",
    "version": 3
   },
   "file_extension": ".py",
   "mimetype": "text/x-python",
   "name": "python",
   "nbconvert_exporter": "python",
   "pygments_lexer": "ipython3",
   "version": "3.7.0"
  }
 },
 "nbformat": 4,
 "nbformat_minor": 2
}
