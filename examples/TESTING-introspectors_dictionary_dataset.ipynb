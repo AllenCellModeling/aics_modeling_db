{
 "cells": [
  {
   "cell_type": "code",
   "execution_count": 1,
   "metadata": {},
   "outputs": [],
   "source": [
    "import datasetdatabase as dsdb"
   ]
  },
  {
   "cell_type": "code",
   "execution_count": 2,
   "metadata": {},
   "outputs": [
    {
     "data": {
      "text/plain": [
       "{'hello': 'world', 'testing': True, 'value': 12}"
      ]
     },
     "execution_count": 2,
     "metadata": {},
     "output_type": "execute_result"
    }
   ],
   "source": [
    "ds = {\"hello\": \"world\", \"testing\": True, \"value\": 12}\n",
    "ds"
   ]
  },
  {
   "cell_type": "code",
   "execution_count": 3,
   "metadata": {},
   "outputs": [
    {
     "data": {
      "text/plain": [
       "info: None\n",
       "ds: True\n",
       "name: 5cb096b2-2356-4205-9f64-2171a3535596\n",
       "description: None\n",
       "introspector: <class 'datasetdatabase.introspect.dictionary.DictionaryIntrospector'>\n",
       "validated: {'hello': False, 'testing': False, 'value': False}\n",
       "md5: 201a338a7507322c4121f0845d8d3a2f\n",
       "sha256: 82473d0c5ac0e72e085b3e5a200236d39f375c4bdf00daa41bb6ad1836c3b4db\n",
       "annotations: []"
      ]
     },
     "execution_count": 3,
     "metadata": {},
     "output_type": "execute_result"
    }
   ],
   "source": [
    "ds = dsdb.Dataset(ds)\n",
    "ds"
   ]
  },
  {
   "cell_type": "code",
   "execution_count": 4,
   "metadata": {},
   "outputs": [
    {
     "data": {
      "text/plain": [
       "{'hello': 'world', 'testing': True, 'value': 12}"
      ]
     },
     "execution_count": 4,
     "metadata": {},
     "output_type": "execute_result"
    }
   ],
   "source": [
    "ds.ds"
   ]
  },
  {
   "cell_type": "code",
   "execution_count": 5,
   "metadata": {},
   "outputs": [
    {
     "data": {
      "text/plain": [
       "info: None\n",
       "ds: True\n",
       "name: 5cb096b2-2356-4205-9f64-2171a3535596\n",
       "description: None\n",
       "introspector: <class 'datasetdatabase.introspect.dictionary.DictionaryIntrospector'>\n",
       "validated: {'hello': True, 'testing': False, 'value': True}\n",
       "md5: 201a338a7507322c4121f0845d8d3a2f\n",
       "sha256: 82473d0c5ac0e72e085b3e5a200236d39f375c4bdf00daa41bb6ad1836c3b4db\n",
       "annotations: []"
      ]
     },
     "execution_count": 5,
     "metadata": {},
     "output_type": "execute_result"
    }
   ],
   "source": [
    "ds.introspector.validate({\"hello\": lambda x: x == \"world\", \"value\": lambda x: isinstance(x, int)})\n",
    "ds"
   ]
  },
  {
   "cell_type": "code",
   "execution_count": 6,
   "metadata": {},
   "outputs": [
    {
     "name": "stdout",
     "output_type": "stream",
     "text": [
      "Dataset processing has begun...\n",
      "Dataset processing has ended...\n"
     ]
    },
    {
     "data": {
      "text/plain": [
       "info: {'id': 2, 'name': '5cb096b2-2356-4205-9f64-2171a3535596', 'description': None, 'introspector': 'datasetdatabase.introspect.dictionary.DictionaryIntrospector', 'md5': '201a338a7507322c4121f0845d8d3a2f', 'sha256': '82473d0c5ac0e72e085b3e5a200236d39f375c4bdf00daa41bb6ad1836c3b4db', 'created': datetime.datetime(2018, 9, 12, 17, 42, 56, 610695)}\n",
       "ds: True\n",
       "name: 5cb096b2-2356-4205-9f64-2171a3535596\n",
       "description: None\n",
       "introspector: <class 'datasetdatabase.introspect.dictionary.DictionaryIntrospector'>\n",
       "validated: True\n",
       "md5: 201a338a7507322c4121f0845d8d3a2f\n",
       "sha256: 82473d0c5ac0e72e085b3e5a200236d39f375c4bdf00daa41bb6ad1836c3b4db\n",
       "annotations: []"
      ]
     },
     "execution_count": 6,
     "metadata": {},
     "output_type": "execute_result"
    }
   ],
   "source": [
    "local = dsdb.DatasetDatabase(config=dsdb.LOCAL, build=True, user=\"jacksonb\")\n",
    "ds_out = local.upload_dataset(ds)\n",
    "ds_out"
   ]
  },
  {
   "cell_type": "code",
   "execution_count": 7,
   "metadata": {},
   "outputs": [
    {
     "data": {
      "text/plain": [
       "True"
      ]
     },
     "execution_count": 7,
     "metadata": {},
     "output_type": "execute_result"
    }
   ],
   "source": [
    "dsdb.utils.tools.get_object_hash(ds.ds) == dsdb.utils.tools.get_object_hash(ds_out.ds)"
   ]
  }
 ],
 "metadata": {
  "kernelspec": {
   "display_name": "Python 3",
   "language": "python",
   "name": "python3"
  },
  "language_info": {
   "codemirror_mode": {
    "name": "ipython",
    "version": 3
   },
   "file_extension": ".py",
   "mimetype": "text/x-python",
   "name": "python",
   "nbconvert_exporter": "python",
   "pygments_lexer": "ipython3",
   "version": "3.6.5"
  }
 },
 "nbformat": 4,
 "nbformat_minor": 2
}
