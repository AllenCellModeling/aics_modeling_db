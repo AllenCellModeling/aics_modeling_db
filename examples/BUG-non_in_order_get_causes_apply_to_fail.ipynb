{
 "cells": [
  {
   "cell_type": "code",
   "execution_count": 1,
   "metadata": {},
   "outputs": [],
   "source": [
    "import datasetdatabase as dsdb"
   ]
  },
  {
   "cell_type": "code",
   "execution_count": 2,
   "metadata": {},
   "outputs": [
    {
     "data": {
      "text/plain": [
       "Recent Datasets:\n",
       "--------------------------------------------------------------------------------\n",
       "{'DatasetId': 59, 'Name': 'QCB_stack_feature', 'Description': 'features and info of all stacks used in QCB', 'Introspector': 'datasetdatabase.introspect.dataframe.DataFrameIntrospector', 'MD5': '654904f24e8ba32c221779c32b6eefec', 'SHA256': '5b51627cbba3b32df60fe8449ac5ab26663b261c05c86f37c0a35da711bb229d', 'Created': datetime.datetime(2018, 9, 17, 10, 3, 23, 598197)}\n",
       "{'DatasetId': 58, 'Name': 'QCB_ZO1_feature_old', 'Description': 'QCB ZO1 features from analysis stage 9, should be replaced in the near future', 'Introspector': 'datasetdatabase.introspect.dataframe.DataFrameIntrospector', 'MD5': 'e76b5d91e963b0c310ff4b7ae77c9ea9', 'SHA256': '4f46297858e86544c8c9f4a93316821a43ff420e3f47d8f4fd70350d7b378351', 'Created': datetime.datetime(2018, 9, 17, 10, 2, 8, 326043)}\n",
       "{'DatasetId': 57, 'Name': 'QCB_TUBA_feature_old', 'Description': 'QCB TUBA features from analysis stage 9, should be replaced in the near future', 'Introspector': 'datasetdatabase.introspect.dataframe.DataFrameIntrospector', 'MD5': '0db5c7db4c761d9d6c9b4bc975eaa32a', 'SHA256': '6e016703ead1364627d020ca5e14052551993e04a295d4c84c7c506756ee573c', 'Created': datetime.datetime(2018, 9, 17, 9, 59, 0, 755948)}\n",
       "{'DatasetId': 56, 'Name': 'QCB_TOM20_feature_old', 'Description': 'QCB TOM20 features from analysis stage 9, should be replaced in the near future', 'Introspector': 'datasetdatabase.introspect.dataframe.DataFrameIntrospector', 'MD5': '645fbfb43a8ccaf7c9057104ed83bad6', 'SHA256': '9fbb6a9942b23c9936996dcfd81d3fdce1a91937ee282a55bb361ade632528ba', 'Created': datetime.datetime(2018, 9, 17, 9, 54, 34, 498960)}\n",
       "{'DatasetId': 55, 'Name': 'QCB_SEC61_feature_old', 'Description': 'QCB SEC61 features from analysis stage 9, should be replaced in the near future', 'Introspector': 'datasetdatabase.introspect.dataframe.DataFrameIntrospector', 'MD5': '10665dbeff46d1a6739da6de8aa31677', 'SHA256': '3dd58a6add132674d63e1ea9e014e47d71f133a5873f528b4dd330aad163d081', 'Created': datetime.datetime(2018, 9, 17, 9, 51, 57, 662119)}"
      ]
     },
     "execution_count": 2,
     "metadata": {},
     "output_type": "execute_result"
    }
   ],
   "source": [
    "prod = dsdb.DatasetDatabase(config=\"/active/configs/aics.json\", user=\"jacksonb\")\n",
    "prod"
   ]
  },
  {
   "cell_type": "code",
   "execution_count": 3,
   "metadata": {},
   "outputs": [],
   "source": [
    "import os\n",
    "os.environ[\"DSDB_PROCESS_LIMIT\"] = \"20\""
   ]
  },
  {
   "cell_type": "code",
   "execution_count": null,
   "metadata": {},
   "outputs": [],
   "source": [
    "def add_to_col(dataset, col, add):\n",
    "    print(dataset.ds[col][0])\n",
    "    dataset.ds[col] += add\n",
    "    print(dataset.ds[col][0])\n",
    "    return dataset.ds"
   ]
  },
  {
   "cell_type": "code",
   "execution_count": 4,
   "metadata": {},
   "outputs": [
    {
     "name": "stdout",
     "output_type": "stream",
     "text": [
      "Reconstructing dataset...\n",
      "[============================================================] 100.0% 396/396 ~ 0:0:0 remaining\n"
     ]
    }
   ],
   "source": [
    "ds = prod.get_dataset(58)"
   ]
  },
  {
   "cell_type": "code",
   "execution_count": null,
   "metadata": {},
   "outputs": [],
   "source": [
    "# struct_dispersion\n",
    "ds.apply(add_to_col,\n",
    "           output_dataset_name=\"trying to apply anything to any dataset\",\n",
    "           algorithm_parameters={\"col\": \"struct_dispersion\", \"add\": 1})"
   ]
  },
  {
   "cell_type": "code",
   "execution_count": 6,
   "metadata": {},
   "outputs": [
    {
     "data": {
      "text/plain": [
       "'e76b5d91e963b0c310ff4b7ae77c9ea9'"
      ]
     },
     "execution_count": 6,
     "metadata": {},
     "output_type": "execute_result"
    }
   ],
   "source": [
    "prod.preview(58)[\"info\"].md5"
   ]
  },
  {
   "cell_type": "code",
   "execution_count": 7,
   "metadata": {},
   "outputs": [
    {
     "data": {
      "text/plain": [
       "'fc4803f9daca5fd360511a8f61b9cef6'"
      ]
     },
     "execution_count": 7,
     "metadata": {},
     "output_type": "execute_result"
    }
   ],
   "source": [
    "ds.md5"
   ]
  },
  {
   "cell_type": "code",
   "execution_count": 8,
   "metadata": {},
   "outputs": [
    {
     "name": "stdout",
     "output_type": "stream",
     "text": [
      "Reconstructing dataset...\n",
      "[============================================================] 100.0% 396/396 ~ 0:0:0 remaining\n"
     ]
    }
   ],
   "source": [
    "in_order = prod.get_dataset(58, in_order=True)"
   ]
  },
  {
   "cell_type": "code",
   "execution_count": 9,
   "metadata": {},
   "outputs": [
    {
     "data": {
      "text/plain": [
       "'9631e31b400262610e84f6ae7e9aa3ab'"
      ]
     },
     "execution_count": 9,
     "metadata": {},
     "output_type": "execute_result"
    }
   ],
   "source": [
    "in_order.md5"
   ]
  }
 ],
 "metadata": {
  "kernelspec": {
   "display_name": "Python 3",
   "language": "python",
   "name": "python3"
  },
  "language_info": {
   "codemirror_mode": {
    "name": "ipython",
    "version": 3
   },
   "file_extension": ".py",
   "mimetype": "text/x-python",
   "name": "python",
   "nbconvert_exporter": "python",
   "pygments_lexer": "ipython3",
   "version": "3.6.5"
  }
 },
 "nbformat": 4,
 "nbformat_minor": 2
}
