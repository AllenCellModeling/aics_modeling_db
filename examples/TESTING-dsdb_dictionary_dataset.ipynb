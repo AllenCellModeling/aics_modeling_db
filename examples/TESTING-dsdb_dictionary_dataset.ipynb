{
 "cells": [
  {
   "cell_type": "code",
   "execution_count": 1,
   "metadata": {},
   "outputs": [],
   "source": [
    "import datasetdatabase as dsdb"
   ]
  },
  {
   "cell_type": "code",
   "execution_count": 2,
   "metadata": {},
   "outputs": [
    {
     "data": {
      "text/plain": [
       "{'hello': 'world', 'testing': True, 'value': 12}"
      ]
     },
     "execution_count": 2,
     "metadata": {},
     "output_type": "execute_result"
    }
   ],
   "source": [
    "ds = {\"hello\": \"world\", \"testing\": True, \"value\": 12}\n",
    "ds"
   ]
  },
  {
   "cell_type": "code",
   "execution_count": 3,
   "metadata": {},
   "outputs": [
    {
     "data": {
      "text/plain": [
       "info: None\n",
       "ds: True\n",
       "name: None\n",
       "description: None\n",
       "introspector: <class 'datasetdatabase.introspect.dictionary.DictionaryIntrospector'>\n",
       "validated: {'hello': False, 'testing': False, 'value': False}\n",
       "md5: 201a338a7507322c4121f0845d8d3a2f\n",
       "sha256: 82473d0c5ac0e72e085b3e5a200236d39f375c4bdf00daa41bb6ad1836c3b4db"
      ]
     },
     "execution_count": 3,
     "metadata": {},
     "output_type": "execute_result"
    }
   ],
   "source": [
    "ds = dsdb.Dataset(ds)\n",
    "ds"
   ]
  },
  {
   "cell_type": "code",
   "execution_count": 4,
   "metadata": {},
   "outputs": [
    {
     "data": {
      "text/plain": [
       "{'hello': 'world', 'testing': True, 'value': 12}"
      ]
     },
     "execution_count": 4,
     "metadata": {},
     "output_type": "execute_result"
    }
   ],
   "source": [
    "ds.ds"
   ]
  },
  {
   "cell_type": "code",
   "execution_count": 5,
   "metadata": {},
   "outputs": [
    {
     "data": {
      "text/plain": [
       "info: None\n",
       "ds: True\n",
       "name: None\n",
       "description: None\n",
       "introspector: <class 'datasetdatabase.introspect.dictionary.DictionaryIntrospector'>\n",
       "validated: {'hello': True, 'testing': False, 'value': True}\n",
       "md5: 201a338a7507322c4121f0845d8d3a2f\n",
       "sha256: 82473d0c5ac0e72e085b3e5a200236d39f375c4bdf00daa41bb6ad1836c3b4db"
      ]
     },
     "execution_count": 5,
     "metadata": {},
     "output_type": "execute_result"
    }
   ],
   "source": [
    "ds.introspector.validate({\"hello\": lambda x: x == \"world\", \"value\": lambda x: isinstance(x, int)})\n",
    "ds"
   ]
  },
  {
   "cell_type": "code",
   "execution_count": 6,
   "metadata": {},
   "outputs": [
    {
     "data": {
      "text/plain": [
       "{'Iota': [{'Key': 'hello',\n",
       "   'Value': b'\\x80\\x03X\\x05\\x00\\x00\\x00worldq\\x00.',\n",
       "   'Created': datetime.datetime(2018, 9, 1, 1, 52, 37, 9821)},\n",
       "  {'Key': 'testing',\n",
       "   'Value': b'\\x80\\x03\\x88.',\n",
       "   'Created': datetime.datetime(2018, 9, 1, 1, 52, 37, 9821)},\n",
       "  {'Key': 'value',\n",
       "   'Value': b'\\x80\\x03K\\x0c.',\n",
       "   'Created': datetime.datetime(2018, 9, 1, 1, 52, 37, 9821)}],\n",
       " 'Group': [{'Created': datetime.datetime(2018, 9, 1, 1, 52, 37, 9821)}],\n",
       " 'IotaGroup': [{'IotaId': 0,\n",
       "   'GroupId': 0,\n",
       "   'Created': datetime.datetime(2018, 9, 1, 1, 52, 37, 9821)},\n",
       "  {'IotaId': 1,\n",
       "   'GroupId': 0,\n",
       "   'Created': datetime.datetime(2018, 9, 1, 1, 52, 37, 9821)},\n",
       "  {'IotaId': 2,\n",
       "   'GroupId': 0,\n",
       "   'Created': datetime.datetime(2018, 9, 1, 1, 52, 37, 9821)}]}"
      ]
     },
     "execution_count": 6,
     "metadata": {},
     "output_type": "execute_result"
    }
   ],
   "source": [
    "storage = ds.introspector.deconstruct()\n",
    "storage"
   ]
  },
  {
   "cell_type": "code",
   "execution_count": 7,
   "metadata": {},
   "outputs": [
    {
     "data": {
      "text/plain": [
       "{'hello': 'world', 'testing': True, 'value': 12}"
      ]
     },
     "execution_count": 7,
     "metadata": {},
     "output_type": "execute_result"
    }
   ],
   "source": [
    "obj_out = ds.introspector.reconstruct(storage)\n",
    "obj_out"
   ]
  },
  {
   "cell_type": "code",
   "execution_count": 8,
   "metadata": {},
   "outputs": [
    {
     "data": {
      "text/plain": [
       "True"
      ]
     },
     "execution_count": 8,
     "metadata": {},
     "output_type": "execute_result"
    }
   ],
   "source": [
    "import hashlib\n",
    "import pickle\n",
    "hashlib.md5(pickle.dumps(ds.ds)).hexdigest() == hashlib.md5(pickle.dumps(obj_out)).hexdigest()"
   ]
  }
 ],
 "metadata": {
  "kernelspec": {
   "display_name": "Python 3",
   "language": "python",
   "name": "python3"
  },
  "language_info": {
   "codemirror_mode": {
    "name": "ipython",
    "version": 3
   },
   "file_extension": ".py",
   "mimetype": "text/x-python",
   "name": "python",
   "nbconvert_exporter": "python",
   "pygments_lexer": "ipython3",
   "version": "3.6.5"
  }
 },
 "nbformat": 4,
 "nbformat_minor": 2
}
