{
 "cells": [
  {
   "cell_type": "code",
   "execution_count": 1,
   "metadata": {},
   "outputs": [],
   "source": [
    "import datasetdatabase as dsdb"
   ]
  },
  {
   "cell_type": "code",
   "execution_count": 2,
   "metadata": {},
   "outputs": [
    {
     "data": {
      "text/plain": [
       "Recent Datasets:\n",
       "--------------------------------------------------------------------------------"
      ]
     },
     "execution_count": 2,
     "metadata": {},
     "output_type": "execute_result"
    }
   ],
   "source": [
    "local = dsdb.DatasetDatabase(config=dsdb.LOCAL, build=True, user=\"jacksonb\")\n",
    "local"
   ]
  },
  {
   "cell_type": "code",
   "execution_count": 3,
   "metadata": {},
   "outputs": [
    {
     "data": {
      "text/plain": [
       "info: None\n",
       "ds: True\n",
       "name: c7f030cd-8bd0-492f-929c-91de1d25aa5c\n",
       "description: None\n",
       "introspector: <class 'datasetdatabase.introspect.dataframe.DataFrameIntrospector'>\n",
       "validated: {'types': {'files': False, 'floats': False, 'ndarrays': False}, 'values': {'files': False, 'floats': False, 'ndarrays': False}, 'files': False}\n",
       "annotations: []"
      ]
     },
     "execution_count": 3,
     "metadata": {},
     "output_type": "execute_result"
    }
   ],
   "source": [
    "import pandas as pd\n",
    "import numpy as np\n",
    "np.random.seed(12)\n",
    "\n",
    "# creating lists of dicts to be formed into a dataframe\n",
    "ds = []\n",
    "for i in range(100):\n",
    "    d = {}\n",
    "    d[\"floats\"] = np.random.rand() * 100\n",
    "    d[\"ndarrays\"] = np.random.rand(2, 2)\n",
    "    d[\"files\"] = \"hello_world.txt\"\n",
    "    ds.append(d)\n",
    "\n",
    "# convert this example both to dataframe\n",
    "ds = pd.DataFrame(ds)\n",
    "ds = dsdb.Dataset(ds)\n",
    "ds"
   ]
  },
  {
   "cell_type": "code",
   "execution_count": 4,
   "metadata": {},
   "outputs": [
    {
     "name": "stdout",
     "output_type": "stream",
     "text": [
      "Storing algorithm parameters.\n",
      "Tearing down object...\n",
      "[============================================================] 100.0% 100/100 ~ 0:0:0 remaining\n"
     ]
    },
    {
     "data": {
      "text/plain": [
       "info: {'id': 2, 'name': 'c7f030cd-8bd0-492f-929c-91de1d25aa5c', 'description': None, 'introspector': 'datasetdatabase.introspect.dataframe.DataFrameIntrospector', 'created': datetime.datetime(2018, 9, 19, 19, 42, 21, 29123)}\n",
       "ds: True\n",
       "name: c7f030cd-8bd0-492f-929c-91de1d25aa5c\n",
       "description: None\n",
       "introspector: <class 'datasetdatabase.introspect.dataframe.DataFrameIntrospector'>\n",
       "validated: True\n",
       "annotations: []"
      ]
     },
     "execution_count": 4,
     "metadata": {},
     "output_type": "execute_result"
    }
   ],
   "source": [
    "ds.upload_to(local)\n",
    "ds"
   ]
  },
  {
   "cell_type": "code",
   "execution_count": 5,
   "metadata": {},
   "outputs": [
    {
     "name": "stdout",
     "output_type": "stream",
     "text": [
      "Storing algorithm parameters.\n",
      "[============================================================] 100.0% 2/2 ~ 0:0:0 remaining\n",
      "Dataset processing has begun...\n",
      "Checking files exist...\n",
      "[============================================================] 100.0% 100/100 ~ 0:0:0 remaining\n",
      "Creating FMS stored files...\n",
      "[============================================================] 100.0% 100/100 ~ 0:0:0 remaining\n",
      "Dataset processing has ended...\n",
      "Tearing down object...\n",
      "[============================================================] 100.0% 100/100 ~ 0:0:0 remaining\n"
     ]
    },
    {
     "data": {
      "text/plain": [
       "info: {'id': 4, 'name': 'c7f030cd-8bd0-492f-929c-91de1d25aa5c with fms stored files', 'description': None, 'introspector': 'datasetdatabase.introspect.dataframe.DataFrameIntrospector', 'created': datetime.datetime(2018, 9, 19, 19, 42, 30, 889124)}\n",
       "ds: True\n",
       "name: c7f030cd-8bd0-492f-929c-91de1d25aa5c with fms stored files\n",
       "description: None\n",
       "introspector: <class 'datasetdatabase.introspect.dataframe.DataFrameIntrospector'>\n",
       "validated: True\n",
       "annotations: []"
      ]
     },
     "execution_count": 5,
     "metadata": {},
     "output_type": "execute_result"
    }
   ],
   "source": [
    "ds.store_files(filepath_columns=\"files\")\n",
    "ds"
   ]
  },
  {
   "cell_type": "code",
   "execution_count": 6,
   "metadata": {},
   "outputs": [
    {
     "data": {
      "text/plain": [
       "files       /home/jovyan/.local/share/QuiltCli/quilt_packa...\n",
       "floats                                                15.4163\n",
       "ndarrays    [[0.7400496965154048, 0.26331501518513467], [0...\n",
       "Name: 0, dtype: object"
      ]
     },
     "execution_count": 6,
     "metadata": {},
     "output_type": "execute_result"
    }
   ],
   "source": [
    "ds.ds.loc[0]"
   ]
  },
  {
   "cell_type": "code",
   "execution_count": 7,
   "metadata": {},
   "outputs": [
    {
     "name": "stdout",
     "output_type": "stream",
     "text": [
      "hello world my name is jackson\n"
     ]
    }
   ],
   "source": [
    "with open(ds.ds[\"files\"][0], \"r\") as read_in:\n",
    "    print(read_in.read())"
   ]
  },
  {
   "cell_type": "code",
   "execution_count": 8,
   "metadata": {},
   "outputs": [
    {
     "name": "stdout",
     "output_type": "stream",
     "text": [
      "/home/jovyan/.local/share/QuiltCli/quilt_packages\n",
      "dsdb_storage/fms_60ac8e9b43fec84a368eb4aa4b85cbb1 latest               72d9cb8fba7668940b71fe65562aea3a42441da9583e7f6d4af9110be02801ff\n"
     ]
    }
   ],
   "source": [
    "import quilt\n",
    "quilt.ls()"
   ]
  },
  {
   "cell_type": "code",
   "execution_count": 9,
   "metadata": {},
   "outputs": [
    {
     "name": "stdout",
     "output_type": "stream",
     "text": [
      "------------------------------- DATASET DATABASE -------------------------------\n",
      "--------------------------------------------------------------------------------\n",
      "Recent User:\n",
      "{'UserId': 1, 'Name': 'jacksonb', 'Description': None, 'Created': '2018-09-19 19:42:20.980353'}\n",
      "--------------------------------------------------------------------------------\n",
      "Recent Iota:\n",
      "{'IotaId': 203, 'Key': 'files', 'Value': b'\\x80\\x03Xw\\x00\\x00\\x00/home/jovyan/.local/share/QuiltCli/quilt_packages/objs/9a45ea667b4cdaa67f8fd64345dfe682c3358621c1263de52e7c69a59f87ac98q\\x00.', 'Created': '2018-09-19 19:42:30.911170'}\n",
      "{'IotaId': 202, 'Key': 'filepath_columns', 'Value': b'\\x80\\x03X\\x05\\x00\\x00\\x00filesq\\x00.', 'Created': '2018-09-19 19:42:29.970154'}\n",
      "{'IotaId': 200, 'Key': 'floats', 'Value': b'\\x80\\x03G@=\\xb5\\x05\\x85\\xf2\\x94\\xcb.', 'Created': '2018-09-19 19:42:29.767732'}\n",
      "{'IotaId': 201, 'Key': 'ndarrays', 'Value': b'\\x80\\x03cnumpy.core.multiarray\\n_reconstruct\\nq\\x00cnumpy\\nndarray\\nq\\x01K\\x00\\x85q\\x02C\\x01bq\\x03\\x87q\\x04Rq\\x05(K\\x01K\\x02K\\x02\\x86q\\x06cnumpy\\ndtype\\nq\\x07X\\x02\\x00\\x00\\x00f8q\\x08K\\x00K\\x01\\x87q\\tRq\\n(K\\x03X\\x01\\x00\\x00\\x00<q\\x0bNNNJ\\xff\\xff\\xff\\xffJ\\xff\\xff\\xff\\xffK\\x00tq\\x0cb\\x89C \\xd9\\xa9\\xc0\\x0e\\xd4\\x8b\\xe4?\\x98\\n\\xd49\\x93\\x90\\xb7?\\x08\\xabMO\\xb55\\xb5?)l,Kx@\\xe1?q\\rtq\\x0eb.', 'Created': '2018-09-19 19:42:29.767732'}\n",
      "{'IotaId': 198, 'Key': 'floats', 'Value': b'\\x80\\x03G@I\\xd8W\\x9a\\x82v\\xeb.', 'Created': '2018-09-19 19:42:29.688718'}\n",
      "--------------------------------------------------------------------------------\n",
      "Recent Group:\n",
      "{'GroupId': 202, 'MD5': '149ed4c413b0e1cf8bec2638631dd269', 'Created': '2018-09-19 19:42:37.857403'}\n",
      "{'GroupId': 201, 'MD5': '9937ff8d8490ae64f99a4a050af4e5b4', 'Created': '2018-09-19 19:42:37.792618'}\n",
      "{'GroupId': 200, 'MD5': '4e95b4ee58501687390ec6e2eceea51f', 'Created': '2018-09-19 19:42:37.747076'}\n",
      "{'GroupId': 199, 'MD5': '7c813d3c4bf10e59bf0b0ed30800f655', 'Created': '2018-09-19 19:42:37.690790'}\n",
      "{'GroupId': 198, 'MD5': '828e25dba84efa9c500411ec08e1f100', 'Created': '2018-09-19 19:42:37.642805'}\n",
      "--------------------------------------------------------------------------------\n",
      "Recent IotaGroup:\n",
      "{'IotaGroupId': 599, 'IotaId': 203, 'GroupId': 202, 'Created': '2018-09-19 19:42:37.857403'}\n",
      "{'IotaGroupId': 600, 'IotaId': 200, 'GroupId': 202, 'Created': '2018-09-19 19:42:37.857403'}\n",
      "{'IotaGroupId': 601, 'IotaId': 201, 'GroupId': 202, 'Created': '2018-09-19 19:42:37.857403'}\n",
      "{'IotaGroupId': 596, 'IotaId': 203, 'GroupId': 201, 'Created': '2018-09-19 19:42:37.792618'}\n",
      "{'IotaGroupId': 597, 'IotaId': 198, 'GroupId': 201, 'Created': '2018-09-19 19:42:37.792618'}\n",
      "--------------------------------------------------------------------------------\n",
      "Recent Dataset:\n",
      "{'DatasetId': 4, 'Name': 'c7f030cd-8bd0-492f-929c-91de1d25aa5c with fms stored files', 'Description': None, 'Introspector': 'datasetdatabase.introspect.dataframe.DataFrameIntrospector', 'Created': '2018-09-19 19:42:30.889124'}\n",
      "{'DatasetId': 3, 'Name': '3dc17268-d958-4fbf-b140-5c016af08bd0', 'Description': 'algorithm parameters', 'Introspector': 'datasetdatabase.introspect.dictionary.DictionaryIntrospector', 'Created': '2018-09-19 19:42:29.960988'}\n",
      "{'DatasetId': 1, 'Name': 'f300f5f0-3ca3-45cd-bf2a-5106eb0bbf43', 'Description': 'algorithm parameters', 'Introspector': 'datasetdatabase.introspect.dictionary.DictionaryIntrospector', 'Created': '2018-09-19 19:42:21.082972'}\n",
      "{'DatasetId': 2, 'Name': 'c7f030cd-8bd0-492f-929c-91de1d25aa5c', 'Description': None, 'Introspector': 'datasetdatabase.introspect.dataframe.DataFrameIntrospector', 'Created': '2018-09-19 19:42:21.029123'}\n",
      "--------------------------------------------------------------------------------\n",
      "Recent GroupDataset:\n",
      "{'GroupDatasetId': 202, 'GroupId': 202, 'DatasetId': 4, 'Label': '99', 'Created': '2018-09-19 19:42:37.857403'}\n",
      "{'GroupDatasetId': 201, 'GroupId': 201, 'DatasetId': 4, 'Label': '98', 'Created': '2018-09-19 19:42:37.792618'}\n",
      "{'GroupDatasetId': 200, 'GroupId': 200, 'DatasetId': 4, 'Label': '97', 'Created': '2018-09-19 19:42:37.747076'}\n",
      "{'GroupDatasetId': 199, 'GroupId': 199, 'DatasetId': 4, 'Label': '96', 'Created': '2018-09-19 19:42:37.690790'}\n",
      "{'GroupDatasetId': 198, 'GroupId': 198, 'DatasetId': 4, 'Label': '95', 'Created': '2018-09-19 19:42:37.642805'}\n",
      "--------------------------------------------------------------------------------\n",
      "Recent Annotation:\n",
      "--------------------------------------------------------------------------------\n",
      "Recent AnnotationDataset:\n",
      "--------------------------------------------------------------------------------\n",
      "Recent Algorithm:\n",
      "{'AlgorithmId': 2, 'Name': 'dsdb.Dataset.store_files', 'Description': 'Originally created by jacksonb', 'Version': '1.0.22.stable', 'Created': '2018-09-19 19:42:29.939817'}\n",
      "{'AlgorithmId': 1, 'Name': 'dsdb.DatasetDatabase.upload_dataset', 'Description': 'DSDB ingest dataset function', 'Version': '1.0.22.stable', 'Created': '2018-09-19 19:42:21.056305'}\n",
      "--------------------------------------------------------------------------------\n",
      "Recent Run:\n",
      "{'RunId': 2, 'AlgorithmId': 2, 'UserId': 1, 'Name': None, 'Description': None, 'AlgorithmParameters': 3, 'Begin': '2018-09-19 19:42:30.013682', 'End': '2018-09-19 19:42:30.888924'}\n",
      "{'RunId': 1, 'AlgorithmId': 1, 'UserId': 1, 'Name': None, 'Description': None, 'AlgorithmParameters': 1, 'Begin': '2018-09-19 19:42:21.128391', 'End': '2018-09-19 19:42:21.128396'}\n",
      "--------------------------------------------------------------------------------\n",
      "Recent RunInput:\n",
      "{'RunInputId': 1, 'RunId': 2, 'DatasetId': 2, 'Created': '2018-09-19 19:42:30.888924'}\n",
      "--------------------------------------------------------------------------------\n",
      "Recent RunOutput:\n",
      "{'RunOutputId': 2, 'RunId': 2, 'DatasetId': 4, 'Created': '2018-09-19 19:42:30.888924'}\n",
      "{'RunOutputId': 1, 'RunId': 1, 'DatasetId': 2, 'Created': '2018-09-19 19:42:21.128396'}\n",
      "--------------------------------------------------------------------------------\n",
      "Recent File:\n",
      "{'FileId': 'a32451a9-6e25-484d-9fd8-0d4b0e3e7b23', 'OriginalFilepath': 'hello_world.txt', 'Filetype': 'txt', 'ReadPath': '/home/jovyan/.local/share/QuiltCli/quilt_packages/objs/9a45ea667b4cdaa67f8fd64345dfe682c3358621c1263de52e7c69a59f87ac98', 'MD5': '60ac8e9b43fec84a368eb4aa4b85cbb1', 'SHA256': '9a45ea667b4cdaa67f8fd64345dfe682c3358621c1263de52e7c69a59f87ac98', 'Metadata': None, 'Created': '2018-09-19 19:42:30.412248'}\n"
     ]
    }
   ],
   "source": [
    "local.recent"
   ]
  }
 ],
 "metadata": {
  "kernelspec": {
   "display_name": "Python 3",
   "language": "python",
   "name": "python3"
  },
  "language_info": {
   "codemirror_mode": {
    "name": "ipython",
    "version": 3
   },
   "file_extension": ".py",
   "mimetype": "text/x-python",
   "name": "python",
   "nbconvert_exporter": "python",
   "pygments_lexer": "ipython3",
   "version": "3.6.5"
  }
 },
 "nbformat": 4,
 "nbformat_minor": 2
}
