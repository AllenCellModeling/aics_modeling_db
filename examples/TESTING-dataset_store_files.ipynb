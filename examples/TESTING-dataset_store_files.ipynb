{
 "cells": [
  {
   "cell_type": "code",
   "execution_count": 1,
   "metadata": {},
   "outputs": [],
   "source": [
    "import datasetdatabase as dsdb\n",
    "import pandas as pd\n",
    "import numpy as np\n",
    "np.random.seed(36)"
   ]
  },
  {
   "cell_type": "code",
   "execution_count": 2,
   "metadata": {},
   "outputs": [
    {
     "data": {
      "text/html": [
       "<div>\n",
       "<style scoped>\n",
       "    .dataframe tbody tr th:only-of-type {\n",
       "        vertical-align: middle;\n",
       "    }\n",
       "\n",
       "    .dataframe tbody tr th {\n",
       "        vertical-align: top;\n",
       "    }\n",
       "\n",
       "    .dataframe thead th {\n",
       "        text-align: right;\n",
       "    }\n",
       "</style>\n",
       "<table border=\"1\" class=\"dataframe\">\n",
       "  <thead>\n",
       "    <tr style=\"text-align: right;\">\n",
       "      <th></th>\n",
       "      <th>files</th>\n",
       "      <th>floats</th>\n",
       "      <th>ndarrays</th>\n",
       "    </tr>\n",
       "  </thead>\n",
       "  <tbody>\n",
       "    <tr>\n",
       "      <th>0</th>\n",
       "      <td>hello_world.txt</td>\n",
       "      <td>72.850719</td>\n",
       "      <td>[[0.6016142123702133, 0.9521806674060137], [0....</td>\n",
       "    </tr>\n",
       "    <tr>\n",
       "      <th>1</th>\n",
       "      <td>hello_world.txt</td>\n",
       "      <td>36.321460</td>\n",
       "      <td>[[0.18655681228931587, 0.25915123828794717], [...</td>\n",
       "    </tr>\n",
       "  </tbody>\n",
       "</table>\n",
       "</div>"
      ],
      "text/plain": [
       "             files     floats  \\\n",
       "0  hello_world.txt  72.850719   \n",
       "1  hello_world.txt  36.321460   \n",
       "\n",
       "                                            ndarrays  \n",
       "0  [[0.6016142123702133, 0.9521806674060137], [0....  \n",
       "1  [[0.18655681228931587, 0.25915123828794717], [...  "
      ]
     },
     "execution_count": 2,
     "metadata": {},
     "output_type": "execute_result"
    }
   ],
   "source": [
    "# creating lists of dicts to be formed into a dataframe\n",
    "ds = []\n",
    "for i in range(2):\n",
    "    d = {}\n",
    "    d[\"floats\"] = np.random.rand() * 100\n",
    "    d[\"ndarrays\"] = np.random.rand(2, 2)\n",
    "    d[\"files\"] = \"hello_world.txt\"\n",
    "    ds.append(d)\n",
    "\n",
    "# convert this example both to dataframe\n",
    "ds = pd.DataFrame(ds)\n",
    "ds"
   ]
  },
  {
   "cell_type": "code",
   "execution_count": 3,
   "metadata": {},
   "outputs": [
    {
     "data": {
      "text/plain": [
       "info: None\n",
       "ds: True\n",
       "name: 3c1e114c-b883-4f32-bcec-6c98eae1d619\n",
       "description: None\n",
       "introspector: <class 'datasetdatabase.introspect.dataframe.DataFrameIntrospector'>\n",
       "validated: {'types': {'files': False, 'floats': False, 'ndarrays': False}, 'values': {'files': False, 'floats': False, 'ndarrays': False}, 'files': False}\n",
       "md5: a480996ba23e50f2cfa5e258b8283e6c\n",
       "sha256: dc0f22a040d05cff454524b36dc8d48554e17d43cda9bef9d674a53855db09de\n",
       "annotations: []"
      ]
     },
     "execution_count": 3,
     "metadata": {},
     "output_type": "execute_result"
    }
   ],
   "source": [
    "ds = dsdb.Dataset(ds)\n",
    "ds"
   ]
  },
  {
   "cell_type": "code",
   "execution_count": 4,
   "metadata": {},
   "outputs": [
    {
     "data": {
      "text/html": [
       "<div>\n",
       "<style scoped>\n",
       "    .dataframe tbody tr th:only-of-type {\n",
       "        vertical-align: middle;\n",
       "    }\n",
       "\n",
       "    .dataframe tbody tr th {\n",
       "        vertical-align: top;\n",
       "    }\n",
       "\n",
       "    .dataframe thead th {\n",
       "        text-align: right;\n",
       "    }\n",
       "</style>\n",
       "<table border=\"1\" class=\"dataframe\">\n",
       "  <thead>\n",
       "    <tr style=\"text-align: right;\">\n",
       "      <th></th>\n",
       "      <th>files</th>\n",
       "      <th>floats</th>\n",
       "      <th>ndarrays</th>\n",
       "    </tr>\n",
       "  </thead>\n",
       "  <tbody>\n",
       "    <tr>\n",
       "      <th>0</th>\n",
       "      <td>hello_world.txt</td>\n",
       "      <td>72.850719</td>\n",
       "      <td>[[0.6016142123702133, 0.9521806674060137], [0....</td>\n",
       "    </tr>\n",
       "    <tr>\n",
       "      <th>1</th>\n",
       "      <td>hello_world.txt</td>\n",
       "      <td>36.321460</td>\n",
       "      <td>[[0.18655681228931587, 0.25915123828794717], [...</td>\n",
       "    </tr>\n",
       "  </tbody>\n",
       "</table>\n",
       "</div>"
      ],
      "text/plain": [
       "             files     floats  \\\n",
       "0  hello_world.txt  72.850719   \n",
       "1  hello_world.txt  36.321460   \n",
       "\n",
       "                                            ndarrays  \n",
       "0  [[0.6016142123702133, 0.9521806674060137], [0....  \n",
       "1  [[0.18655681228931587, 0.25915123828794717], [...  "
      ]
     },
     "execution_count": 4,
     "metadata": {},
     "output_type": "execute_result"
    }
   ],
   "source": [
    "ds.ds"
   ]
  },
  {
   "cell_type": "code",
   "execution_count": 5,
   "metadata": {},
   "outputs": [
    {
     "data": {
      "text/plain": [
       "Recent Datasets:\n",
       "--------------------------------------------------------------------------------"
      ]
     },
     "execution_count": 5,
     "metadata": {},
     "output_type": "execute_result"
    }
   ],
   "source": [
    "local = dsdb.DatasetDatabase(config=dsdb.LOCAL, build=True, user=\"jacksonb\")\n",
    "local"
   ]
  },
  {
   "cell_type": "code",
   "execution_count": 6,
   "metadata": {},
   "outputs": [
    {
     "name": "stdout",
     "output_type": "stream",
     "text": [
      "Dataset processing has begun...\n",
      "Dataset processing has ended...\n",
      "Tearing down object...\n",
      "[============================================================] 100.0% 6/6 ~ 0:0:0 remaining\n"
     ]
    },
    {
     "data": {
      "text/plain": [
       "info: {'id': 2, 'name': '3c1e114c-b883-4f32-bcec-6c98eae1d619', 'description': None, 'introspector': 'datasetdatabase.introspect.dataframe.DataFrameIntrospector', 'md5': 'a480996ba23e50f2cfa5e258b8283e6c', 'sha256': 'dc0f22a040d05cff454524b36dc8d48554e17d43cda9bef9d674a53855db09de', 'created': datetime.datetime(2018, 9, 10, 20, 10, 1, 876551)}\n",
       "ds: True\n",
       "name: 3c1e114c-b883-4f32-bcec-6c98eae1d619\n",
       "description: None\n",
       "introspector: <class 'datasetdatabase.introspect.dataframe.DataFrameIntrospector'>\n",
       "validated: True\n",
       "md5: a480996ba23e50f2cfa5e258b8283e6c\n",
       "sha256: dc0f22a040d05cff454524b36dc8d48554e17d43cda9bef9d674a53855db09de\n",
       "annotations: []"
      ]
     },
     "execution_count": 6,
     "metadata": {},
     "output_type": "execute_result"
    }
   ],
   "source": [
    "ds.upload_to(local)\n",
    "ds"
   ]
  },
  {
   "cell_type": "code",
   "execution_count": 7,
   "metadata": {},
   "outputs": [
    {
     "name": "stdout",
     "output_type": "stream",
     "text": [
      "Dataset processing has begun...\n",
      "Checking files exist...\n",
      "[============================================================] 100.0% 2/2 ~ 0:0:0 remaining\n",
      "Creating FMS stored files...\n",
      "[============================================================] 100.0% 2/2 ~ 0:0:0 remaining\n",
      "Dataset processing has ended...\n",
      "Tearing down object...\n",
      "[============================================================] 100.0% 6/6 ~ 0:0:0 remaining\n"
     ]
    },
    {
     "data": {
      "text/plain": [
       "info: {'id': 4, 'name': '3c1e114c-b883-4f32-bcec-6c98eae1d619 with fms stored files', 'description': None, 'introspector': 'datasetdatabase.introspect.dataframe.DataFrameIntrospector', 'md5': '87069c25c6ca33ebbb7a3ea8fbaea021', 'sha256': '496a018a2099f29ea6558183a0c95e23bcbd3d2c27b6a903383c3c0f59af332f', 'created': datetime.datetime(2018, 9, 10, 20, 10, 3, 413005)}\n",
       "ds: True\n",
       "name: 3c1e114c-b883-4f32-bcec-6c98eae1d619 with fms stored files\n",
       "description: None\n",
       "introspector: <class 'datasetdatabase.introspect.dataframe.DataFrameIntrospector'>\n",
       "validated: True\n",
       "md5: 87069c25c6ca33ebbb7a3ea8fbaea021\n",
       "sha256: 496a018a2099f29ea6558183a0c95e23bcbd3d2c27b6a903383c3c0f59af332f\n",
       "annotations: []"
      ]
     },
     "execution_count": 7,
     "metadata": {},
     "output_type": "execute_result"
    }
   ],
   "source": [
    "ds.store_files(filepath_columns=\"files\")\n",
    "ds"
   ]
  },
  {
   "cell_type": "code",
   "execution_count": 8,
   "metadata": {},
   "outputs": [
    {
     "data": {
      "text/html": [
       "<div>\n",
       "<style scoped>\n",
       "    .dataframe tbody tr th:only-of-type {\n",
       "        vertical-align: middle;\n",
       "    }\n",
       "\n",
       "    .dataframe tbody tr th {\n",
       "        vertical-align: top;\n",
       "    }\n",
       "\n",
       "    .dataframe thead th {\n",
       "        text-align: right;\n",
       "    }\n",
       "</style>\n",
       "<table border=\"1\" class=\"dataframe\">\n",
       "  <thead>\n",
       "    <tr style=\"text-align: right;\">\n",
       "      <th></th>\n",
       "      <th>files</th>\n",
       "      <th>floats</th>\n",
       "      <th>ndarrays</th>\n",
       "    </tr>\n",
       "  </thead>\n",
       "  <tbody>\n",
       "    <tr>\n",
       "      <th>0</th>\n",
       "      <td>/home/jovyan/.local/share/QuiltCli/quilt_packa...</td>\n",
       "      <td>72.850719</td>\n",
       "      <td>[[0.6016142123702133, 0.9521806674060137], [0....</td>\n",
       "    </tr>\n",
       "    <tr>\n",
       "      <th>1</th>\n",
       "      <td>/home/jovyan/.local/share/QuiltCli/quilt_packa...</td>\n",
       "      <td>36.321460</td>\n",
       "      <td>[[0.18655681228931587, 0.25915123828794717], [...</td>\n",
       "    </tr>\n",
       "  </tbody>\n",
       "</table>\n",
       "</div>"
      ],
      "text/plain": [
       "                                               files     floats  \\\n",
       "0  /home/jovyan/.local/share/QuiltCli/quilt_packa...  72.850719   \n",
       "1  /home/jovyan/.local/share/QuiltCli/quilt_packa...  36.321460   \n",
       "\n",
       "                                            ndarrays  \n",
       "0  [[0.6016142123702133, 0.9521806674060137], [0....  \n",
       "1  [[0.18655681228931587, 0.25915123828794717], [...  "
      ]
     },
     "execution_count": 8,
     "metadata": {},
     "output_type": "execute_result"
    }
   ],
   "source": [
    "ds.ds"
   ]
  },
  {
   "cell_type": "code",
   "execution_count": 9,
   "metadata": {},
   "outputs": [
    {
     "name": "stdout",
     "output_type": "stream",
     "text": [
      "/home/jovyan/.local/share/QuiltCli/quilt_packages\n",
      "dsdb_storage/fms_60ac8e9b43fec84a368eb4aa4b85cbb1 latest               72d9cb8fba7668940b71fe65562aea3a42441da9583e7f6d4af9110be02801ff\n"
     ]
    }
   ],
   "source": [
    "import quilt\n",
    "quilt.ls()"
   ]
  }
 ],
 "metadata": {
  "kernelspec": {
   "display_name": "Python 3",
   "language": "python",
   "name": "python3"
  },
  "language_info": {
   "codemirror_mode": {
    "name": "ipython",
    "version": 3
   },
   "file_extension": ".py",
   "mimetype": "text/x-python",
   "name": "python",
   "nbconvert_exporter": "python",
   "pygments_lexer": "ipython3",
   "version": "3.6.5"
  }
 },
 "nbformat": 4,
 "nbformat_minor": 2
}
