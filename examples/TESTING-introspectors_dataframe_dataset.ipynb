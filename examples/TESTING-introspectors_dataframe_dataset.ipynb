{
 "cells": [
  {
   "cell_type": "code",
   "execution_count": 1,
   "metadata": {},
   "outputs": [],
   "source": [
    "import datasetdatabase as dsdb\n",
    "import pandas as pd\n",
    "import numpy as np\n",
    "np.random.seed(12)"
   ]
  },
  {
   "cell_type": "code",
   "execution_count": 2,
   "metadata": {},
   "outputs": [
    {
     "data": {
      "text/html": [
       "<div>\n",
       "<style scoped>\n",
       "    .dataframe tbody tr th:only-of-type {\n",
       "        vertical-align: middle;\n",
       "    }\n",
       "\n",
       "    .dataframe tbody tr th {\n",
       "        vertical-align: top;\n",
       "    }\n",
       "\n",
       "    .dataframe thead th {\n",
       "        text-align: right;\n",
       "    }\n",
       "</style>\n",
       "<table border=\"1\" class=\"dataframe\">\n",
       "  <thead>\n",
       "    <tr style=\"text-align: right;\">\n",
       "      <th></th>\n",
       "      <th>files</th>\n",
       "      <th>floats</th>\n",
       "      <th>ndarrays</th>\n",
       "    </tr>\n",
       "  </thead>\n",
       "  <tbody>\n",
       "    <tr>\n",
       "      <th>0</th>\n",
       "      <td>local.db</td>\n",
       "      <td>15.416284</td>\n",
       "      <td>[[0.7400496965154048, 0.26331501518513467], [0...</td>\n",
       "    </tr>\n",
       "    <tr>\n",
       "      <th>1</th>\n",
       "      <td>local.db</td>\n",
       "      <td>91.874701</td>\n",
       "      <td>[[0.9007148541170122, 0.03342142762634459], [0...</td>\n",
       "    </tr>\n",
       "  </tbody>\n",
       "</table>\n",
       "</div>"
      ],
      "text/plain": [
       "      files     floats                                           ndarrays\n",
       "0  local.db  15.416284  [[0.7400496965154048, 0.26331501518513467], [0...\n",
       "1  local.db  91.874701  [[0.9007148541170122, 0.03342142762634459], [0..."
      ]
     },
     "execution_count": 2,
     "metadata": {},
     "output_type": "execute_result"
    }
   ],
   "source": [
    "# creating lists of dicts to be formed into a dataframe\n",
    "ds = []\n",
    "for i in range(2):\n",
    "    d = {}\n",
    "    d[\"floats\"] = np.random.rand() * 100\n",
    "    d[\"ndarrays\"] = np.random.rand(2, 2)\n",
    "    d[\"files\"] = \"local.db\"\n",
    "    ds.append(d)\n",
    "\n",
    "# convert this example both to dataframe\n",
    "ds = pd.DataFrame(ds)\n",
    "ds"
   ]
  },
  {
   "cell_type": "code",
   "execution_count": 3,
   "metadata": {},
   "outputs": [
    {
     "data": {
      "text/plain": [
       "info: None\n",
       "ds: True\n",
       "name: 5454c70caf9f1d79f1434af40aae59df\n",
       "description: None\n",
       "introspector: <class 'datasetdatabase.introspect.dataframe.DataFrameIntrospector'>\n",
       "validated: {'types': {'files': False, 'floats': False, 'ndarrays': False}, 'values': {'files': False, 'floats': False, 'ndarrays': False}, 'files': False}\n",
       "md5: 5454c70caf9f1d79f1434af40aae59df\n",
       "sha256: a06254a359e40b8489fb1bd0895dcd11202b196b9607b073bee745cd5639783f"
      ]
     },
     "execution_count": 3,
     "metadata": {},
     "output_type": "execute_result"
    }
   ],
   "source": [
    "ds = dsdb.Dataset(ds)\n",
    "ds"
   ]
  },
  {
   "cell_type": "code",
   "execution_count": 4,
   "metadata": {},
   "outputs": [
    {
     "data": {
      "text/html": [
       "<div>\n",
       "<style scoped>\n",
       "    .dataframe tbody tr th:only-of-type {\n",
       "        vertical-align: middle;\n",
       "    }\n",
       "\n",
       "    .dataframe tbody tr th {\n",
       "        vertical-align: top;\n",
       "    }\n",
       "\n",
       "    .dataframe thead th {\n",
       "        text-align: right;\n",
       "    }\n",
       "</style>\n",
       "<table border=\"1\" class=\"dataframe\">\n",
       "  <thead>\n",
       "    <tr style=\"text-align: right;\">\n",
       "      <th></th>\n",
       "      <th>files</th>\n",
       "      <th>floats</th>\n",
       "      <th>ndarrays</th>\n",
       "    </tr>\n",
       "  </thead>\n",
       "  <tbody>\n",
       "    <tr>\n",
       "      <th>0</th>\n",
       "      <td>local.db</td>\n",
       "      <td>15.416284</td>\n",
       "      <td>[[0.7400496965154048, 0.26331501518513467], [0...</td>\n",
       "    </tr>\n",
       "    <tr>\n",
       "      <th>1</th>\n",
       "      <td>local.db</td>\n",
       "      <td>91.874701</td>\n",
       "      <td>[[0.9007148541170122, 0.03342142762634459], [0...</td>\n",
       "    </tr>\n",
       "  </tbody>\n",
       "</table>\n",
       "</div>"
      ],
      "text/plain": [
       "      files     floats                                           ndarrays\n",
       "0  local.db  15.416284  [[0.7400496965154048, 0.26331501518513467], [0...\n",
       "1  local.db  91.874701  [[0.9007148541170122, 0.03342142762634459], [0..."
      ]
     },
     "execution_count": 4,
     "metadata": {},
     "output_type": "execute_result"
    }
   ],
   "source": [
    "ds.ds"
   ]
  },
  {
   "cell_type": "code",
   "execution_count": 5,
   "metadata": {},
   "outputs": [
    {
     "name": "stdout",
     "output_type": "stream",
     "text": [
      "Checking dataset value types...\n",
      "[============================================================] 100.0% 2/2 ~ 0:0:0 remaining\n",
      "Checking dataset values...\n",
      "[============================================================] 100.0% 4/4 ~ 0:0:0 remaining\n",
      "Checking files exist...\n",
      "[============================================================] 100.0% 2/2 ~ 0:0:0 remaining\n"
     ]
    },
    {
     "data": {
      "text/plain": [
       "info: None\n",
       "ds: True\n",
       "name: 5454c70caf9f1d79f1434af40aae59df\n",
       "description: None\n",
       "introspector: <class 'datasetdatabase.introspect.dataframe.DataFrameIntrospector'>\n",
       "validated: {'types': {'files': False, 'floats': False, 'ndarrays': True}, 'values': {'files': True, 'floats': True, 'ndarrays': False}, 'files': {'files': True}}\n",
       "md5: 5454c70caf9f1d79f1434af40aae59df\n",
       "sha256: a06254a359e40b8489fb1bd0895dcd11202b196b9607b073bee745cd5639783f"
      ]
     },
     "execution_count": 5,
     "metadata": {},
     "output_type": "execute_result"
    }
   ],
   "source": [
    "types = {\"ndarrays\": np.ndarray}\n",
    "values = {\"floats\": lambda x: x >= 0, \"files\": lambda x: \"local\" in x}\n",
    "files = [\"files\"]\n",
    "import_as = False\n",
    "\n",
    "ds.validate(type_validation_map=types, value_validation_map=values, filepath_columns=files, import_as_type_map=import_as)\n",
    "ds"
   ]
  },
  {
   "cell_type": "code",
   "execution_count": 6,
   "metadata": {},
   "outputs": [
    {
     "name": "stdout",
     "output_type": "stream",
     "text": [
      "[============================================================] 100.0% 6/6 ~ 0:0:0 remaining\n"
     ]
    },
    {
     "data": {
      "text/plain": [
       "info: {'id': 2, 'name': '5454c70caf9f1d79f1434af40aae59df', 'description': '', 'introspector': 'datasetdatabase.introspect.dataframe.DataFrameIntrospector', 'md5': '5454c70caf9f1d79f1434af40aae59df', 'sha256': 'a06254a359e40b8489fb1bd0895dcd11202b196b9607b073bee745cd5639783f', 'created': datetime.datetime(2018, 9, 7, 21, 20, 8, 347220)}\n",
       "ds: True\n",
       "name: 5454c70caf9f1d79f1434af40aae59df\n",
       "description: \n",
       "introspector: <class 'datasetdatabase.introspect.dataframe.DataFrameIntrospector'>\n",
       "validated: {'types': {'files': False, 'floats': False, 'ndarrays': False}, 'values': {'files': False, 'floats': False, 'ndarrays': False}, 'files': False}\n",
       "md5: 5454c70caf9f1d79f1434af40aae59df\n",
       "sha256: a06254a359e40b8489fb1bd0895dcd11202b196b9607b073bee745cd5639783f"
      ]
     },
     "execution_count": 6,
     "metadata": {},
     "output_type": "execute_result"
    }
   ],
   "source": [
    "local = dsdb.DatasetDatabase(config=dsdb.LOCAL, user=\"jacksonb\")\n",
    "ds_out = local.upload_dataset(ds)\n",
    "ds_out"
   ]
  },
  {
   "cell_type": "code",
   "execution_count": 7,
   "metadata": {},
   "outputs": [
    {
     "data": {
      "text/plain": [
       "True"
      ]
     },
     "execution_count": 7,
     "metadata": {},
     "output_type": "execute_result"
    }
   ],
   "source": [
    "ds.ds.all().equals(ds_out.ds.all())"
   ]
  }
 ],
 "metadata": {
  "kernelspec": {
   "display_name": "Python 3",
   "language": "python",
   "name": "python3"
  },
  "language_info": {
   "codemirror_mode": {
    "name": "ipython",
    "version": 3
   },
   "file_extension": ".py",
   "mimetype": "text/x-python",
   "name": "python",
   "nbconvert_exporter": "python",
   "pygments_lexer": "ipython3",
   "version": "3.6.5"
  }
 },
 "nbformat": 4,
 "nbformat_minor": 2
}
