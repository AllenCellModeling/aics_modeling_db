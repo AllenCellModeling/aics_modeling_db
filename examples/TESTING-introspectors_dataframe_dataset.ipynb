{
 "cells": [
  {
   "cell_type": "code",
   "execution_count": 1,
   "metadata": {},
   "outputs": [],
   "source": [
    "import datasetdatabase as dsdb\n",
    "import pandas as pd\n",
    "import numpy as np\n",
    "np.random.seed(12)"
   ]
  },
  {
   "cell_type": "code",
   "execution_count": 2,
   "metadata": {},
   "outputs": [],
   "source": [
    "# creating lists of dicts to be formed into a dataframe\n",
    "ds = []\n",
    "for i in range(100):\n",
    "    d = {}\n",
    "    d[\"floats\"] = np.random.rand() * 100\n",
    "    d[\"ndarrays\"] = np.random.rand(2, 2)\n",
    "    d[\"files\"] = \"hello_world.txt\"\n",
    "    ds.append(d)\n",
    "\n",
    "# convert this example both to dataframe\n",
    "ds = pd.DataFrame(ds)"
   ]
  },
  {
   "cell_type": "code",
   "execution_count": 3,
   "metadata": {},
   "outputs": [
    {
     "data": {
      "text/plain": [
       "info: None\n",
       "ds: True\n",
       "name: 91f2c308-d895-4bc5-8121-0e00fc13b6af\n",
       "description: None\n",
       "introspector: <class 'datasetdatabase.introspect.dataframe.DataFrameIntrospector'>\n",
       "validated: {'types': {'files': False, 'floats': False, 'ndarrays': False}, 'values': {'files': False, 'floats': False, 'ndarrays': False}, 'files': False}\n",
       "md5: 3706fe5943e34e4aa1096d7b5ac5034b\n",
       "sha256: d566e4ff739a6627b0bb29c96742e08b663f0b9e4624f75898959e521b548ace\n",
       "annotations: []"
      ]
     },
     "execution_count": 3,
     "metadata": {},
     "output_type": "execute_result"
    }
   ],
   "source": [
    "ds = dsdb.Dataset(ds)\n",
    "ds"
   ]
  },
  {
   "cell_type": "code",
   "execution_count": 4,
   "metadata": {},
   "outputs": [
    {
     "name": "stdout",
     "output_type": "stream",
     "text": [
      "Checking dataset value types...\n",
      "[============================================================] 100.0% 100/100 ~ 0:0:0 remaining\n",
      "Checking dataset values...\n",
      "[============================================================] 100.0% 200/200 ~ 0:0:0 remaining\n",
      "Checking files exist...\n",
      "[============================================================] 100.0% 100/100 ~ 0:0:0 remaining\n"
     ]
    },
    {
     "data": {
      "text/plain": [
       "info: None\n",
       "ds: True\n",
       "name: 91f2c308-d895-4bc5-8121-0e00fc13b6af\n",
       "description: None\n",
       "introspector: <class 'datasetdatabase.introspect.dataframe.DataFrameIntrospector'>\n",
       "validated: {'types': {'files': False, 'floats': False, 'ndarrays': True}, 'values': {'files': True, 'floats': True, 'ndarrays': False}, 'files': {'files': True}}\n",
       "md5: 3706fe5943e34e4aa1096d7b5ac5034b\n",
       "sha256: d566e4ff739a6627b0bb29c96742e08b663f0b9e4624f75898959e521b548ace\n",
       "annotations: []"
      ]
     },
     "execution_count": 4,
     "metadata": {},
     "output_type": "execute_result"
    }
   ],
   "source": [
    "types = {\"ndarrays\": np.ndarray}\n",
    "values = {\"floats\": lambda x: x >= 0, \"files\": lambda x: \"hello\" in x}\n",
    "files = [\"files\"]\n",
    "import_as = False\n",
    "\n",
    "ds.validate(type_validation_map=types, value_validation_map=values, filepath_columns=files, import_as_type_map=import_as)\n",
    "ds"
   ]
  },
  {
   "cell_type": "code",
   "execution_count": 5,
   "metadata": {},
   "outputs": [
    {
     "name": "stdout",
     "output_type": "stream",
     "text": [
      "Dataset processing has begun...\n",
      "Dataset processing has ended...\n",
      "Tearing down object...\n",
      "[============================================================] 100.0% 300/300 ~ 0:0:0 remaining\n"
     ]
    },
    {
     "data": {
      "text/plain": [
       "info: {'id': 2, 'name': '91f2c308-d895-4bc5-8121-0e00fc13b6af', 'description': None, 'introspector': 'datasetdatabase.introspect.dataframe.DataFrameIntrospector', 'md5': '3706fe5943e34e4aa1096d7b5ac5034b', 'sha256': 'd566e4ff739a6627b0bb29c96742e08b663f0b9e4624f75898959e521b548ace', 'created': datetime.datetime(2018, 9, 13, 17, 4, 38, 801984)}\n",
       "ds: True\n",
       "name: 91f2c308-d895-4bc5-8121-0e00fc13b6af\n",
       "description: None\n",
       "introspector: <class 'datasetdatabase.introspect.dataframe.DataFrameIntrospector'>\n",
       "validated: True\n",
       "md5: 3706fe5943e34e4aa1096d7b5ac5034b\n",
       "sha256: d566e4ff739a6627b0bb29c96742e08b663f0b9e4624f75898959e521b548ace\n",
       "annotations: []"
      ]
     },
     "execution_count": 5,
     "metadata": {},
     "output_type": "execute_result"
    }
   ],
   "source": [
    "local = dsdb.DatasetDatabase(config=dsdb.LOCAL, build=True, user=\"jacksonb\")\n",
    "ds_out = local.upload_dataset(ds)\n",
    "ds_out"
   ]
  },
  {
   "cell_type": "code",
   "execution_count": 6,
   "metadata": {},
   "outputs": [
    {
     "data": {
      "text/plain": [
       "True"
      ]
     },
     "execution_count": 6,
     "metadata": {},
     "output_type": "execute_result"
    }
   ],
   "source": [
    "ds.ds.all().equals(ds_out.ds.all())"
   ]
  }
 ],
 "metadata": {
  "kernelspec": {
   "display_name": "Python 3",
   "language": "python",
   "name": "python3"
  },
  "language_info": {
   "codemirror_mode": {
    "name": "ipython",
    "version": 3
   },
   "file_extension": ".py",
   "mimetype": "text/x-python",
   "name": "python",
   "nbconvert_exporter": "python",
   "pygments_lexer": "ipython3",
   "version": "3.6.5"
  }
 },
 "nbformat": 4,
 "nbformat_minor": 2
}
