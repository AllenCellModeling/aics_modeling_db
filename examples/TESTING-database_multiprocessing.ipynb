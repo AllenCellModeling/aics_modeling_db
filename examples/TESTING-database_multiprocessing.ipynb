{
 "cells": [
  {
   "cell_type": "code",
   "execution_count": 1,
   "metadata": {},
   "outputs": [],
   "source": [
    "import datasetdatabase as dsdb"
   ]
  },
  {
   "cell_type": "code",
   "execution_count": 2,
   "metadata": {},
   "outputs": [
    {
     "data": {
      "text/plain": [
       "Recent Datasets:\n",
       "--------------------------------------------------------------------------------\n",
       "{'DatasetId': 18, 'Name': '2701363a-3783-4fc3-9bc9-d2cfa737c3bf', 'Description': None, 'Introspector': 'datasetdatabase.introspect.dataframe.DataFrameIntrospector', 'MD5': '1d6db909ebc1a63df13dcf630a0b6822', 'SHA256': '134238a4ee78669b3877373c85bf079712e63d0335affc7f6a945c6a6a8a924e', 'Created': datetime.datetime(2018, 9, 12, 22, 12, 21, 65003)}\n",
       "{'DatasetId': 17, 'Name': '6c0d3484-f0ba-4b86-aa35-77de7c1c16d2', 'Description': None, 'Introspector': 'datasetdatabase.introspect.dataframe.DataFrameIntrospector', 'MD5': 'db278f06c1f824bc3dac8cd82be1c600', 'SHA256': '51ff371d020b143cc2d9cb707437b5aa9c065abf97b9f90c3a7c6e70b101e517', 'Created': datetime.datetime(2018, 9, 12, 22, 6, 57, 244343)}\n",
       "{'DatasetId': 16, 'Name': 'a5bd9d48-27bb-4769-aa03-46f549a6db20', 'Description': None, 'Introspector': 'datasetdatabase.introspect.dataframe.DataFrameIntrospector', 'MD5': '9f4001f08d9d8e934052972e4d614b50', 'SHA256': '134c254f140f8502b6442736132d5cb0909969cc8e8d1706b87f732936412c4d', 'Created': datetime.datetime(2018, 9, 12, 21, 5, 18, 263183)}\n",
       "{'DatasetId': 14, 'Name': '8b79c95b-114e-4ddf-8e58-2172e629ca2a', 'Description': None, 'Introspector': 'datasetdatabase.introspect.dictionary.DictionaryIntrospector', 'MD5': 'e47c68bda0262c402f15fc5b62503a24', 'SHA256': '2b50102f3639e1427136ab4afa7715536d41fda1d0a082bb567aafc63492b2ac', 'Created': datetime.datetime(2018, 9, 12, 18, 58, 11, 489338)}\n",
       "{'DatasetId': 13, 'Name': '580e0a3a-0ded-4126-b751-6f68d94ade6c', 'Description': None, 'Introspector': 'datasetdatabase.introspect.dictionary.DictionaryIntrospector', 'MD5': 'edaa38d062c817ed4763b1c792df32b2', 'SHA256': '307821ea28d568522ae1e610e00577aae57dc53454576560446272ad11ec9154', 'Created': datetime.datetime(2018, 9, 12, 18, 53, 12, 615067)}"
      ]
     },
     "execution_count": 2,
     "metadata": {},
     "output_type": "execute_result"
    }
   ],
   "source": [
    "prod = dsdb.DatasetDatabase(config=\"/active/configs/aics.json\", user=\"jacksonb\")\n",
    "prod"
   ]
  },
  {
   "cell_type": "code",
   "execution_count": 3,
   "metadata": {},
   "outputs": [
    {
     "name": "stdout",
     "output_type": "stream",
     "text": [
      "Reconstructing dataset...\n",
      "[============================================================] 100.0% 2436/2436 ~ 0:0:0 remaining\n",
      "CPU times: user 45.3 s, sys: 21.3 s, total: 1min 6s\n",
      "Wall time: 2min 4s\n"
     ]
    }
   ],
   "source": [
    "%time ds = prod.get_dataset(4)"
   ]
  }
 ],
 "metadata": {
  "kernelspec": {
   "display_name": "Python 3",
   "language": "python",
   "name": "python3"
  },
  "language_info": {
   "codemirror_mode": {
    "name": "ipython",
    "version": 3
   },
   "file_extension": ".py",
   "mimetype": "text/x-python",
   "name": "python",
   "nbconvert_exporter": "python",
   "pygments_lexer": "ipython3",
   "version": "3.6.5"
  }
 },
 "nbformat": 4,
 "nbformat_minor": 2
}
