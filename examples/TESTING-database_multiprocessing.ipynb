{
 "cells": [
  {
   "cell_type": "code",
   "execution_count": 1,
   "metadata": {},
   "outputs": [],
   "source": [
    "import datasetdatabase as dsdb"
   ]
  },
  {
   "cell_type": "code",
   "execution_count": 2,
   "metadata": {},
   "outputs": [
    {
     "data": {
      "text/plain": [
       "Recent Datasets:\n",
       "--------------------------------------------------------------------------------\n",
       "{'DatasetId': 30, 'Name': '0d4e3e5e-46d0-4f0b-b98f-87df84afb365', 'Description': None, 'Introspector': 'datasetdatabase.introspect.dataframe.DataFrameIntrospector', 'MD5': '01df69f7f337af7dfc9dbfd18cade239', 'SHA256': 'aa1265c5634571779d402112ebdc718204b9f5ad80734346cbcf96d7286cf40f', 'Created': datetime.datetime(2018, 9, 14, 18, 22, 34, 699155)}\n",
       "{'DatasetId': 29, 'Name': '35f64301-c0cf-4606-8704-9ceb01fa867f', 'Description': None, 'Introspector': 'datasetdatabase.introspect.dataframe.DataFrameIntrospector', 'MD5': '858280581b6231a528322955c59bc08e', 'SHA256': '064bbbcc7e7870ecaa3fc4a90039111de6f0701c49365751bf81e893ddea801d', 'Created': datetime.datetime(2018, 9, 14, 18, 18, 36, 470705)}\n",
       "{'DatasetId': 28, 'Name': 'f7c78fc4-0f65-4775-ac77-e42eb807901e', 'Description': None, 'Introspector': 'datasetdatabase.introspect.dataframe.DataFrameIntrospector', 'MD5': 'cd3e305a5c3e86a3e0523e8084df88bd', 'SHA256': '121154a11552e9803634caf860fc74a5b5753621121745bf2d551273d57e2d07', 'Created': datetime.datetime(2018, 9, 14, 18, 15, 34, 855485)}\n",
       "{'DatasetId': 31, 'Name': 'MitoData: \"Hidden\" 20180913', 'Description': 'Mitosis Hidden Validation Data for Mito-classification', 'Introspector': 'datasetdatabase.introspect.dataframe.DataFrameIntrospector', 'MD5': '783d1617c3d78360bd89e1e226221d07', 'SHA256': '5051418e8c4a4ce528786b0e16e850cbaace82632c94c79c6795fb2a64389e16', 'Created': datetime.datetime(2018, 9, 14, 11, 26, 59, 548156)}\n",
       "{'DatasetId': 26, 'Name': '110e8878-a2cc-4278-8112-0d0b2cc91419', 'Description': None, 'Introspector': 'datasetdatabase.introspect.dataframe.DataFrameIntrospector', 'MD5': '0eddc54ebe90832885b31b6c73d3b483', 'SHA256': '4a6cbf907b86e32f585bd8bc62d780ab21b3aa6a951422ca37ade661a603036f', 'Created': datetime.datetime(2018, 9, 13, 23, 20, 28, 65023)}"
      ]
     },
     "execution_count": 2,
     "metadata": {},
     "output_type": "execute_result"
    }
   ],
   "source": [
    "prod = dsdb.DatasetDatabase(config=\"/active/configs/aics.json\", user=\"jacksonb\")\n",
    "prod"
   ]
  },
  {
   "cell_type": "code",
   "execution_count": null,
   "metadata": {},
   "outputs": [],
   "source": [
    "# defaults to number of cpu cores available\n",
    "%time ds = prod.get_dataset(4)"
   ]
  },
  {
   "cell_type": "code",
   "execution_count": 4,
   "metadata": {},
   "outputs": [],
   "source": [
    "import os\n",
    "# specific process limit i know my machine can handle\n",
    "os.environ[\"DSDB_PROCESS_LIMIT\"] = \"20\""
   ]
  },
  {
   "cell_type": "code",
   "execution_count": 5,
   "metadata": {},
   "outputs": [
    {
     "name": "stdout",
     "output_type": "stream",
     "text": [
      "Reconstructing dataset...\n",
      "[============================================================] 100.0% 2436/2436 ~ 0:0:0 remaining\n",
      "CPU times: user 39.4 s, sys: 21.6 s, total: 1min 1s\n",
      "Wall time: 1min 14s\n"
     ]
    }
   ],
   "source": [
    "%time ds = prod.get_dataset(4)"
   ]
  },
  {
   "cell_type": "code",
   "execution_count": 6,
   "metadata": {},
   "outputs": [
    {
     "name": "stdout",
     "output_type": "stream",
     "text": [
      "Reconstructing dataset...\n",
      "[============================================================] 100.0% 2436/2436 ~ 0:0:0 remaining\n",
      "CPU times: user 42.8 s, sys: 22.8 s, total: 1min 5s\n",
      "Wall time: 1min 16s\n"
     ]
    }
   ],
   "source": [
    "%time ds = prod.get_dataset(4, in_order=True)"
   ]
  }
 ],
 "metadata": {
  "kernelspec": {
   "display_name": "Python 3",
   "language": "python",
   "name": "python3"
  },
  "language_info": {
   "codemirror_mode": {
    "name": "ipython",
    "version": 3
   },
   "file_extension": ".py",
   "mimetype": "text/x-python",
   "name": "python",
   "nbconvert_exporter": "python",
   "pygments_lexer": "ipython3",
   "version": "3.6.5"
  }
 },
 "nbformat": 4,
 "nbformat_minor": 2
}
