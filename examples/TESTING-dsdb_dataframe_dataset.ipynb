{
 "cells": [
  {
   "cell_type": "code",
   "execution_count": 1,
   "metadata": {},
   "outputs": [],
   "source": [
    "import datasetdatabase as dsdb\n",
    "import pandas as pd\n",
    "import numpy as np"
   ]
  },
  {
   "cell_type": "code",
   "execution_count": 2,
   "metadata": {},
   "outputs": [
    {
     "data": {
      "text/html": [
       "<div>\n",
       "<style scoped>\n",
       "    .dataframe tbody tr th:only-of-type {\n",
       "        vertical-align: middle;\n",
       "    }\n",
       "\n",
       "    .dataframe tbody tr th {\n",
       "        vertical-align: top;\n",
       "    }\n",
       "\n",
       "    .dataframe thead th {\n",
       "        text-align: right;\n",
       "    }\n",
       "</style>\n",
       "<table border=\"1\" class=\"dataframe\">\n",
       "  <thead>\n",
       "    <tr style=\"text-align: right;\">\n",
       "      <th></th>\n",
       "      <th>files</th>\n",
       "      <th>floats</th>\n",
       "      <th>ndarrays</th>\n",
       "    </tr>\n",
       "  </thead>\n",
       "  <tbody>\n",
       "    <tr>\n",
       "      <th>0</th>\n",
       "      <td>local.db</td>\n",
       "      <td>17.831735</td>\n",
       "      <td>[[0.36869910494901814, 0.3390475648342909], [0...</td>\n",
       "    </tr>\n",
       "    <tr>\n",
       "      <th>1</th>\n",
       "      <td>local.db</td>\n",
       "      <td>81.560983</td>\n",
       "      <td>[[0.18601971780981408, 0.9774847764846956], [0...</td>\n",
       "    </tr>\n",
       "  </tbody>\n",
       "</table>\n",
       "</div>"
      ],
      "text/plain": [
       "      files     floats                                           ndarrays\n",
       "0  local.db  17.831735  [[0.36869910494901814, 0.3390475648342909], [0...\n",
       "1  local.db  81.560983  [[0.18601971780981408, 0.9774847764846956], [0..."
      ]
     },
     "execution_count": 2,
     "metadata": {},
     "output_type": "execute_result"
    }
   ],
   "source": [
    "# creating lists of dicts to be formed into a dataframe\n",
    "ds = []\n",
    "for i in range(2):\n",
    "    d = {}\n",
    "    d[\"floats\"] = np.random.rand() * 100\n",
    "    d[\"ndarrays\"] = np.random.rand(2, 2)\n",
    "    d[\"files\"] = \"local.db\"\n",
    "    ds.append(d)\n",
    "\n",
    "# convert this example both to dataframe\n",
    "ds = pd.DataFrame(ds)\n",
    "ds"
   ]
  },
  {
   "cell_type": "code",
   "execution_count": 3,
   "metadata": {},
   "outputs": [
    {
     "data": {
      "text/plain": [
       "info: None\n",
       "ds: True\n",
       "name: None\n",
       "description: None\n",
       "introspector: <class 'datasetdatabase.introspect.dataframe.DataFrameIntrospector'>\n",
       "validated: {'types': {'files': False, 'floats': False, 'ndarrays': False}, 'values': {'files': False, 'floats': False, 'ndarrays': False}, 'files': False}\n",
       "md5: 1e28d9145bd41b88e35a50e0b41f5ea9\n",
       "sha256: 362f1ce9e9695b2fe1fd6253662fdbde79b1b0673473e2650013eb501d61f427"
      ]
     },
     "execution_count": 3,
     "metadata": {},
     "output_type": "execute_result"
    }
   ],
   "source": [
    "ds = dsdb.Dataset(ds)\n",
    "ds"
   ]
  },
  {
   "cell_type": "code",
   "execution_count": 4,
   "metadata": {},
   "outputs": [
    {
     "data": {
      "text/html": [
       "<div>\n",
       "<style scoped>\n",
       "    .dataframe tbody tr th:only-of-type {\n",
       "        vertical-align: middle;\n",
       "    }\n",
       "\n",
       "    .dataframe tbody tr th {\n",
       "        vertical-align: top;\n",
       "    }\n",
       "\n",
       "    .dataframe thead th {\n",
       "        text-align: right;\n",
       "    }\n",
       "</style>\n",
       "<table border=\"1\" class=\"dataframe\">\n",
       "  <thead>\n",
       "    <tr style=\"text-align: right;\">\n",
       "      <th></th>\n",
       "      <th>files</th>\n",
       "      <th>floats</th>\n",
       "      <th>ndarrays</th>\n",
       "    </tr>\n",
       "  </thead>\n",
       "  <tbody>\n",
       "    <tr>\n",
       "      <th>0</th>\n",
       "      <td>local.db</td>\n",
       "      <td>17.831735</td>\n",
       "      <td>[[0.36869910494901814, 0.3390475648342909], [0...</td>\n",
       "    </tr>\n",
       "    <tr>\n",
       "      <th>1</th>\n",
       "      <td>local.db</td>\n",
       "      <td>81.560983</td>\n",
       "      <td>[[0.18601971780981408, 0.9774847764846956], [0...</td>\n",
       "    </tr>\n",
       "  </tbody>\n",
       "</table>\n",
       "</div>"
      ],
      "text/plain": [
       "      files     floats                                           ndarrays\n",
       "0  local.db  17.831735  [[0.36869910494901814, 0.3390475648342909], [0...\n",
       "1  local.db  81.560983  [[0.18601971780981408, 0.9774847764846956], [0..."
      ]
     },
     "execution_count": 4,
     "metadata": {},
     "output_type": "execute_result"
    }
   ],
   "source": [
    "ds.ds"
   ]
  },
  {
   "cell_type": "code",
   "execution_count": 5,
   "metadata": {},
   "outputs": [
    {
     "name": "stdout",
     "output_type": "stream",
     "text": [
      "Checking dataset value types...\n",
      "[============================================================] 100.0% 2/2 ~ 0:0:0 remaining\n",
      "Checking dataset values...\n",
      "[============================================================] 100.0% 4/4 ~ 0:0:0 remaining\n",
      "Checking files exist...\n",
      "[============================================================] 100.0% 2/2 ~ 0:0:0 remaining\n"
     ]
    },
    {
     "data": {
      "text/plain": [
       "info: None\n",
       "ds: True\n",
       "name: None\n",
       "description: None\n",
       "introspector: <class 'datasetdatabase.introspect.dataframe.DataFrameIntrospector'>\n",
       "validated: {'types': {'files': False, 'floats': False, 'ndarrays': True}, 'values': {'files': True, 'floats': True, 'ndarrays': False}, 'files': {'files': True}}\n",
       "md5: 1e28d9145bd41b88e35a50e0b41f5ea9\n",
       "sha256: 362f1ce9e9695b2fe1fd6253662fdbde79b1b0673473e2650013eb501d61f427"
      ]
     },
     "execution_count": 5,
     "metadata": {},
     "output_type": "execute_result"
    }
   ],
   "source": [
    "types = {\"ndarrays\": np.ndarray}\n",
    "values = {\"floats\": lambda x: x >= 0, \"files\": lambda x: \"local\" in x}\n",
    "files = [\"files\"]\n",
    "import_as = False\n",
    "\n",
    "ds.introspector.validate(types, values, files, import_as)\n",
    "ds"
   ]
  },
  {
   "cell_type": "code",
   "execution_count": 6,
   "metadata": {},
   "outputs": [
    {
     "name": "stdout",
     "output_type": "stream",
     "text": [
      "[============================================================] 100.0% 6/6 ~ 0:0:0 remaining\n"
     ]
    },
    {
     "data": {
      "text/plain": [
       "{'Iota': [{'Key': 'files',\n",
       "   'Value': b'\\x80\\x03X\\x08\\x00\\x00\\x00local.dbq\\x00.',\n",
       "   'Created': datetime.datetime(2018, 9, 1, 1, 53, 55, 309696)},\n",
       "  {'Key': 'floats',\n",
       "   'Value': b'\\x80\\x03G@1\\xd4\\xec\\x8e\\xca\\xef4.',\n",
       "   'Created': datetime.datetime(2018, 9, 1, 1, 53, 55, 309696)},\n",
       "  {'Key': 'ndarrays',\n",
       "   'Value': b'\\x80\\x03cnumpy.core.multiarray\\n_reconstruct\\nq\\x00cnumpy\\nndarray\\nq\\x01K\\x00\\x85q\\x02C\\x01bq\\x03\\x87q\\x04Rq\\x05(K\\x01K\\x02K\\x02\\x86q\\x06cnumpy\\ndtype\\nq\\x07X\\x02\\x00\\x00\\x00f8q\\x08K\\x00K\\x01\\x87q\\tRq\\n(K\\x03X\\x01\\x00\\x00\\x00<q\\x0bNNNJ\\xff\\xff\\xff\\xffJ\\xff\\xff\\xff\\xffK\\x00tq\\x0cb\\x89C &\\x83t!\\xc4\\x98\\xd7?*\\x1c\\xb0\\x8e\\xf4\\xb2\\xd5?_\\xd6\\xd4\\x85\\xed\\xca\\xea?\\xc0-W\\x9d\\xfdx\\xb9?q\\rtq\\x0eb.',\n",
       "   'Created': datetime.datetime(2018, 9, 1, 1, 53, 55, 309696)},\n",
       "  {'Key': 'files',\n",
       "   'Value': b'\\x80\\x03X\\x08\\x00\\x00\\x00local.dbq\\x00.',\n",
       "   'Created': datetime.datetime(2018, 9, 1, 1, 53, 55, 310480)},\n",
       "  {'Key': 'floats',\n",
       "   'Value': b'\\x80\\x03G@Tc\\xe7&\\xd1\\x01\\x13.',\n",
       "   'Created': datetime.datetime(2018, 9, 1, 1, 53, 55, 310480)},\n",
       "  {'Key': 'ndarrays',\n",
       "   'Value': b\"\\x80\\x03cnumpy.core.multiarray\\n_reconstruct\\nq\\x00cnumpy\\nndarray\\nq\\x01K\\x00\\x85q\\x02C\\x01bq\\x03\\x87q\\x04Rq\\x05(K\\x01K\\x02K\\x02\\x86q\\x06cnumpy\\ndtype\\nq\\x07X\\x02\\x00\\x00\\x00f8q\\x08K\\x00K\\x01\\x87q\\tRq\\n(K\\x03X\\x01\\x00\\x00\\x00<q\\x0bNNNJ\\xff\\xff\\xff\\xffJ\\xff\\xff\\xff\\xffK\\x00tq\\x0cb\\x89C \\x1c\\xc03~~\\xcf\\xc7?O\\xdej'\\x8eG\\xef?\\x89\\xfa\\xd5Z\\xf6\\x85\\xe5?\\xf0\\xbc]i_2\\xb7?q\\rtq\\x0eb.\",\n",
       "   'Created': datetime.datetime(2018, 9, 1, 1, 53, 55, 310480)}],\n",
       " 'Group': [{'GroupId': 0,\n",
       "   'Label': 0,\n",
       "   'Created': datetime.datetime(2018, 9, 1, 1, 53, 55, 309696)},\n",
       "  {'GroupId': 1,\n",
       "   'Label': 1,\n",
       "   'Created': datetime.datetime(2018, 9, 1, 1, 53, 55, 310480)}],\n",
       " 'IotaGroup': [{'IotaId': 0,\n",
       "   'GroupId': 0,\n",
       "   'Created': datetime.datetime(2018, 9, 1, 1, 53, 55, 309696)},\n",
       "  {'IotaId': 1,\n",
       "   'GroupId': 0,\n",
       "   'Created': datetime.datetime(2018, 9, 1, 1, 53, 55, 309696)},\n",
       "  {'IotaId': 2,\n",
       "   'GroupId': 0,\n",
       "   'Created': datetime.datetime(2018, 9, 1, 1, 53, 55, 309696)},\n",
       "  {'IotaId': 3,\n",
       "   'GroupId': 1,\n",
       "   'Created': datetime.datetime(2018, 9, 1, 1, 53, 55, 310480)},\n",
       "  {'IotaId': 4,\n",
       "   'GroupId': 1,\n",
       "   'Created': datetime.datetime(2018, 9, 1, 1, 53, 55, 310480)},\n",
       "  {'IotaId': 5,\n",
       "   'GroupId': 1,\n",
       "   'Created': datetime.datetime(2018, 9, 1, 1, 53, 55, 310480)}]}"
      ]
     },
     "execution_count": 6,
     "metadata": {},
     "output_type": "execute_result"
    }
   ],
   "source": [
    "storage = ds.introspector.deconstruct()\n",
    "storage"
   ]
  },
  {
   "cell_type": "code",
   "execution_count": 7,
   "metadata": {},
   "outputs": [
    {
     "data": {
      "text/html": [
       "<div>\n",
       "<style scoped>\n",
       "    .dataframe tbody tr th:only-of-type {\n",
       "        vertical-align: middle;\n",
       "    }\n",
       "\n",
       "    .dataframe tbody tr th {\n",
       "        vertical-align: top;\n",
       "    }\n",
       "\n",
       "    .dataframe thead th {\n",
       "        text-align: right;\n",
       "    }\n",
       "</style>\n",
       "<table border=\"1\" class=\"dataframe\">\n",
       "  <thead>\n",
       "    <tr style=\"text-align: right;\">\n",
       "      <th></th>\n",
       "      <th>files</th>\n",
       "      <th>floats</th>\n",
       "      <th>ndarrays</th>\n",
       "    </tr>\n",
       "  </thead>\n",
       "  <tbody>\n",
       "    <tr>\n",
       "      <th>0</th>\n",
       "      <td>local.db</td>\n",
       "      <td>17.831735</td>\n",
       "      <td>[[0.36869910494901814, 0.3390475648342909], [0...</td>\n",
       "    </tr>\n",
       "    <tr>\n",
       "      <th>1</th>\n",
       "      <td>local.db</td>\n",
       "      <td>81.560983</td>\n",
       "      <td>[[0.18601971780981408, 0.9774847764846956], [0...</td>\n",
       "    </tr>\n",
       "  </tbody>\n",
       "</table>\n",
       "</div>"
      ],
      "text/plain": [
       "      files     floats                                           ndarrays\n",
       "0  local.db  17.831735  [[0.36869910494901814, 0.3390475648342909], [0...\n",
       "1  local.db  81.560983  [[0.18601971780981408, 0.9774847764846956], [0..."
      ]
     },
     "execution_count": 7,
     "metadata": {},
     "output_type": "execute_result"
    }
   ],
   "source": [
    "obj_out = ds.introspector.reconstruct(storage)\n",
    "obj_out"
   ]
  },
  {
   "cell_type": "code",
   "execution_count": 8,
   "metadata": {},
   "outputs": [
    {
     "data": {
      "text/plain": [
       "False"
      ]
     },
     "execution_count": 8,
     "metadata": {},
     "output_type": "execute_result"
    }
   ],
   "source": [
    "import hashlib\n",
    "import pickle\n",
    "hashlib.md5(pickle.dumps(ds.ds)).hexdigest() == hashlib.md5(pickle.dumps(obj_out)).hexdigest()"
   ]
  }
 ],
 "metadata": {
  "kernelspec": {
   "display_name": "Python 3",
   "language": "python",
   "name": "python3"
  },
  "language_info": {
   "codemirror_mode": {
    "name": "ipython",
    "version": 3
   },
   "file_extension": ".py",
   "mimetype": "text/x-python",
   "name": "python",
   "nbconvert_exporter": "python",
   "pygments_lexer": "ipython3",
   "version": "3.6.5"
  }
 },
 "nbformat": 4,
 "nbformat_minor": 2
}
