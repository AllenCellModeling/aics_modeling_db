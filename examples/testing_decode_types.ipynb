{
 "cells": [
  {
   "cell_type": "markdown",
   "metadata": {},
   "source": [
    "# !OUTDATED!\n",
    "# Supported Type Casting\n",
    "\n",
    "### Simple Support\n",
    "The modeling database supports the input and output of all 'normal' native types.\n",
    "```\n",
    "native_types = [\"int\", \"float\", \"bool\", \"list\", \"tuple\", \"dict\", \"set\"]\n",
    "```\n",
    "\n",
    "The above type list is pretty easily supported and you shouldn't have any problems sticking these value types into the database and having them returned back to you when you use `modelingdbtools.query.get_dataset()`."
   ]
  },
  {
   "cell_type": "code",
   "execution_count": 1,
   "metadata": {},
   "outputs": [],
   "source": [
    "from modelingdbtools.utils import checks\n",
    "import numpy\n",
    "\n",
    "def decode_type(cast, var_in, **kwargs):\n",
    "    checks.check_types(cast, str)\n",
    "    checks.check_types(var_in, str)\n",
    "    \n",
    "    native_types = [\"int\", \"float\", \"bool\",\n",
    "                    \"list\", \"tuple\", \"dict\", \"set\"]\n",
    "    \n",
    "    cast = cast.replace(\"<class '\", \"\")[:-2]\n",
    "    if \"numpy.ndarray\" in cast:\n",
    "        var_in = var_in.replace(\"[\", \"\")\n",
    "        var_in = var_in.replace(\"]\", \"\")\n",
    "        result = numpy.fromstring(var_in, sep=\" \", **kwargs)\n",
    "    elif \"str\" in cast:\n",
    "        result = eval(cast + \"('{v}')\".format(v=var_in))\n",
    "    elif cast in native_types:\n",
    "        result = eval(cast + \"({v})\".format(v=var_in))\n",
    "    else:\n",
    "        result = var_in\n",
    "    \n",
    "    return result"
   ]
  },
  {
   "cell_type": "code",
   "execution_count": 2,
   "metadata": {},
   "outputs": [],
   "source": [
    "def test_decode(inp, **kwargs):\n",
    "    print(\"in:\\t\", type(inp), inp)\n",
    "    if not isinstance(inp, numpy.ndarray):\n",
    "        out = decode_type(str(type(inp)), str(inp), **kwargs)\n",
    "    else:\n",
    "        out = decode_type(str(type(inp)), numpy.array_str(inp, precision=24), **kwargs)\n",
    "    print(\"out:\\t\", type(out), out)\n",
    "    print(\"Types match:\", inp == out)"
   ]
  },
  {
   "cell_type": "code",
   "execution_count": 3,
   "metadata": {},
   "outputs": [
    {
     "name": "stdout",
     "output_type": "stream",
     "text": [
      "in:\t <class 'int'> 5\n",
      "out:\t <class 'int'> 5\n",
      "Types match: True\n"
     ]
    }
   ],
   "source": [
    "test_decode(5)"
   ]
  },
  {
   "cell_type": "code",
   "execution_count": 4,
   "metadata": {},
   "outputs": [
    {
     "name": "stdout",
     "output_type": "stream",
     "text": [
      "in:\t <class 'float'> 12.33561\n",
      "out:\t <class 'float'> 12.33561\n",
      "Types match: True\n"
     ]
    }
   ],
   "source": [
    "test_decode(12.33561)"
   ]
  },
  {
   "cell_type": "code",
   "execution_count": 5,
   "metadata": {},
   "outputs": [
    {
     "name": "stdout",
     "output_type": "stream",
     "text": [
      "in:\t <class 'str'> hello world\n",
      "out:\t <class 'str'> hello world\n",
      "Types match: True\n"
     ]
    }
   ],
   "source": [
    "test_decode(\"hello world\")"
   ]
  },
  {
   "cell_type": "code",
   "execution_count": 6,
   "metadata": {},
   "outputs": [
    {
     "name": "stdout",
     "output_type": "stream",
     "text": [
      "in:\t <class 'bool'> False\n",
      "out:\t <class 'bool'> False\n",
      "Types match: True\n"
     ]
    }
   ],
   "source": [
    "test_decode(False)"
   ]
  },
  {
   "cell_type": "code",
   "execution_count": 7,
   "metadata": {},
   "outputs": [
    {
     "name": "stdout",
     "output_type": "stream",
     "text": [
      "in:\t <class 'list'> ['hello world', 1, False, 42.00000003]\n",
      "out:\t <class 'list'> ['hello world', 1, False, 42.00000003]\n",
      "Types match: True\n"
     ]
    }
   ],
   "source": [
    "test_decode([\"hello world\", 1, False, 42.00000003])"
   ]
  },
  {
   "cell_type": "code",
   "execution_count": 8,
   "metadata": {},
   "outputs": [
    {
     "name": "stdout",
     "output_type": "stream",
     "text": [
      "in:\t <class 'tuple'> ('foo', 'bar')\n",
      "out:\t <class 'tuple'> ('foo', 'bar')\n",
      "Types match: True\n"
     ]
    }
   ],
   "source": [
    "test_decode(tuple([\"foo\", \"bar\"]))"
   ]
  },
  {
   "cell_type": "code",
   "execution_count": 9,
   "metadata": {},
   "outputs": [
    {
     "name": "stdout",
     "output_type": "stream",
     "text": [
      "in:\t <class 'dict'> {'name': 'jackson', 'age': 22, 'goodDev': True, 'musicSelections': ['Car Seat Headrest']}\n",
      "out:\t <class 'dict'> {'name': 'jackson', 'age': 22, 'goodDev': True, 'musicSelections': ['Car Seat Headrest']}\n",
      "Types match: True\n"
     ]
    }
   ],
   "source": [
    "test_decode({\"name\": \"jackson\",\n",
    "             \"age\": 22,\n",
    "             \"goodDev\": True,\n",
    "             \"musicSelections\": [\"Car Seat Headrest\"]})"
   ]
  },
  {
   "cell_type": "code",
   "execution_count": 10,
   "metadata": {},
   "outputs": [
    {
     "name": "stdout",
     "output_type": "stream",
     "text": [
      "in:\t <class 'set'> {1, 2, 3, 5, 8, 13}\n",
      "out:\t <class 'set'> {1, 2, 3, 5, 8, 13}\n",
      "Types match: True\n"
     ]
    }
   ],
   "source": [
    "test_decode(set([1, 2, 3, 5, 8, 13]))"
   ]
  },
  {
   "cell_type": "markdown",
   "metadata": {},
   "source": [
    "### Difficult Support\n",
    "\n",
    "While I want to say that the database easily supports the ingestion and querying of `numpy.ndarray`s as a value type, I cannot guarentee that it will. There is currently no support for ndarrays larger than 1 dimension due to a limit of [`numpy.fromstring`](https://docs.scipy.org/doc/numpy-1.14.0/reference/generated/numpy.fromstring.html). Additionally, `numpy.float64` are pretty heavily tested and have worked every time however I am having trouble with other types such as `numpy.bool_`, in such case I would recommend storing the ndarray as a the integer value of bools (0/ 1) and post processing them when you get them out.\n",
    "\n",
    "In the case you want to store n-dim ndarrays, I have yet to attempt it but I think it would be possible to flattened ndarray in an `Iota`, and store an additional `Iota` with information about the original construction of that ndarray.\n",
    "\n",
    "I may at a later time attempt to detect ndarrays during dataset ingestion and do this flattening, storing info, and conversion for you but that is a todo item and not directly needed as of yet.\n",
    "\n",
    "Examples of simple 1d ndarrays and 3d ndarrays below."
   ]
  },
  {
   "cell_type": "code",
   "execution_count": 11,
   "metadata": {},
   "outputs": [
    {
     "name": "stdout",
     "output_type": "stream",
     "text": [
      "in:\t <class 'numpy.ndarray'> [0.12889036 0.43467954 0.23113538]\n",
      "out:\t <class 'numpy.ndarray'> [0.12889036 0.43467954 0.23113538]\n",
      "Types match: [ True  True  True]\n"
     ]
    }
   ],
   "source": [
    "# float succeeds\n",
    "test_decode(numpy.random.rand(3))"
   ]
  },
  {
   "cell_type": "code",
   "execution_count": 12,
   "metadata": {},
   "outputs": [
    {
     "name": "stdout",
     "output_type": "stream",
     "text": [
      "in:\t <class 'numpy.ndarray'> [0 0 1 1 1 1 0 1 0 1]\n",
      "out:\t <class 'numpy.ndarray'> [0 0 1 1 1 1 0 1 0 1]\n",
      "Types match: [ True  True  True  True  True  True  True  True  True  True]\n"
     ]
    }
   ],
   "source": [
    "# int succeeds\n",
    "test_decode(numpy.random.randint(2, size=10), dtype=numpy.int_)"
   ]
  },
  {
   "cell_type": "code",
   "execution_count": 13,
   "metadata": {},
   "outputs": [
    {
     "name": "stdout",
     "output_type": "stream",
     "text": [
      "in:\t <class 'numpy.ndarray'> [ True  True  True]\n",
      "out:\t <class 'numpy.ndarray'> [ True]\n",
      "Types match: [ True  True  True]\n"
     ]
    }
   ],
   "source": [
    "# bool fails\n",
    "test_decode(numpy.random.rand(3) > 0.5, dtype=numpy.bool_)"
   ]
  },
  {
   "cell_type": "code",
   "execution_count": 14,
   "metadata": {},
   "outputs": [
    {
     "name": "stdout",
     "output_type": "stream",
     "text": [
      "in:\t <class 'numpy.ndarray'> [[0.48622594 0.70521463]\n",
      " [0.13451223 0.74595621]\n",
      " [0.8358232  0.52357893]]\n",
      "out:\t <class 'numpy.ndarray'> [0.48622594 0.70521463 0.13451223 0.74595621 0.8358232  0.52357893]\n",
      "Types match: False\n"
     ]
    },
    {
     "name": "stderr",
     "output_type": "stream",
     "text": [
      "/opt/conda/lib/python3.6/site-packages/ipykernel_launcher.py:8: DeprecationWarning: elementwise == comparison failed; this will raise an error in the future.\n",
      "  \n"
     ]
    }
   ],
   "source": [
    "# n-dim fails\n",
    "test_decode(numpy.random.rand(3, 2))"
   ]
  }
 ],
 "metadata": {
  "kernelspec": {
   "display_name": "Python 3",
   "language": "python",
   "name": "python3"
  },
  "language_info": {
   "codemirror_mode": {
    "name": "ipython",
    "version": 3
   },
   "file_extension": ".py",
   "mimetype": "text/x-python",
   "name": "python",
   "nbconvert_exporter": "python",
   "pygments_lexer": "ipython3",
   "version": "3.6.5"
  }
 },
 "nbformat": 4,
 "nbformat_minor": 2
}
