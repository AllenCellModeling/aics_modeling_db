{
 "cells": [
  {
   "cell_type": "code",
   "execution_count": 1,
   "metadata": {},
   "outputs": [],
   "source": [
    "import pathlib\n",
    "import json"
   ]
  },
  {
   "cell_type": "code",
   "execution_count": 2,
   "metadata": {},
   "outputs": [],
   "source": [
    "serv = \"local\"\n",
    "\n",
    "configs = pathlib.Path(\"/database/configs.json\")\n",
    "with open(configs) as read_in:\n",
    "    configs = json.load(read_in)\n",
    "    \n",
    "configs[serv][serv][\"database\"] = str(pathlib.Path(\"/database/local_store.db\"))"
   ]
  },
  {
   "cell_type": "code",
   "execution_count": 7,
   "metadata": {},
   "outputs": [
    {
     "name": "stdout",
     "output_type": "stream",
     "text": [
      "All tables\n",
      "----------------------------------------\n",
      "                  name  rootpage  \\\n",
      "0           SourceType         2   \n",
      "1                 User         5   \n",
      "2                 Iota         7   \n",
      "3              Dataset         9   \n",
      "4  IotaDatasetJunction        11   \n",
      "5                  Run        13   \n",
      "\n",
      "                                                 sql             tbl_name  \\\n",
      "0  CREATE TABLE \"SourceType\" (\"SourceTypeId\" INTE...           SourceType   \n",
      "1  CREATE TABLE \"User\" (\"UserId\" INTEGER NOT NULL...                 User   \n",
      "2  CREATE TABLE \"Iota\" (\"IotaId\" INTEGER NOT NULL...                 Iota   \n",
      "3  CREATE TABLE \"Dataset\" (\"DatasetId\" INTEGER NO...              Dataset   \n",
      "4  CREATE TABLE \"IotaDatasetJunction\" (\"IotaId\" I...  IotaDatasetJunction   \n",
      "5  CREATE TABLE \"Run\" (\"RunId\" INTEGER NOT NULL P...                  Run   \n",
      "\n",
      "    type  \n",
      "0  table  \n",
      "1  table  \n",
      "2  table  \n",
      "3  table  \n",
      "4  table  \n",
      "5  table  \n",
      "--------------------------------------------------------------------------------\n",
      "SourceType | rows: 2\n",
      "----------------------------------------\n",
      "                                   Description  SourceTypeId     Type\n",
      "0          Use aics.FMS.File id to find source             1     File\n",
      "1  Use aics.Modeling.Dataset id to find source             2  Dataset\n",
      "--------------------------------------------------------------------------------\n",
      "User | rows: 2\n",
      "----------------------------------------\n",
      "                      Created       Description      Name  UserId\n",
      "0  2018-06-11 18:11:39.570677             admin  jacksonb       1\n",
      "1  2018-06-11 18:11:39.570683  scrub, noob, etc     gregj       2\n",
      "--------------------------------------------------------------------------------\n",
      "Iota | rows: 9\n",
      "----------------------------------------\n",
      "                      Created  GroupId  IotaId      Key Parser  SourceId  \\\n",
      "0  2018-06-11 18:11:39.577203        0       1    hello    str         1   \n",
      "1  2018-06-11 18:11:39.577210        0       2      foo    str         1   \n",
      "2  2018-06-11 18:11:39.577214        0       3  is_test   bool         1   \n",
      "3  2018-06-11 18:11:39.577218        1       4    hello    str         1   \n",
      "4  2018-06-11 18:11:39.577221        1       5      foo    str         1   \n",
      "\n",
      "   SourceTypeId   Value  \n",
      "0             1  world1  \n",
      "1             1    bar1  \n",
      "2             1    True  \n",
      "3             1  world2  \n",
      "4             1    bar2  \n",
      "--------------------------------------------------------------------------------\n",
      "Dataset | rows: 2\n",
      "----------------------------------------\n",
      "   DatasetId                         Description                 Name\n",
      "0          1  Created by queries.add_filler_data   test_input_dataset\n",
      "1          2  Created by queries.add_filler_data  test_output_dataset\n",
      "--------------------------------------------------------------------------------\n",
      "IotaDatasetJunction | rows: 9\n",
      "----------------------------------------\n",
      "   DatasetId  IotaId\n",
      "0          1       1\n",
      "1          1       2\n",
      "2          1       3\n",
      "3          1       4\n",
      "4          1       5\n",
      "--------------------------------------------------------------------------------\n",
      "Run | rows: 5\n",
      "----------------------------------------\n",
      "   AlgorithmId                       Begin  \\\n",
      "0            1  2018-06-11 18:11:39.597436   \n",
      "1            1  2018-06-11 18:12:06.551624   \n",
      "2            1  2018-06-11 18:12:26.157270   \n",
      "3            1  2018-06-11 18:12:34.456327   \n",
      "4            1  2018-06-11 18:12:43.044328   \n",
      "\n",
      "                          Description                         End  \\\n",
      "0  Created by queries.add_filler_data  2018-06-11 18:11:39.597443   \n",
      "1  Created by queries.add_filler_data  2018-06-11 18:12:06.551630   \n",
      "2  Created by queries.add_filler_data  2018-06-11 18:12:26.157279   \n",
      "3  Created by queries.add_filler_data  2018-06-11 18:12:34.456336   \n",
      "4  Created by queries.add_filler_data  2018-06-11 18:12:43.044339   \n",
      "\n",
      "   InputDatasetId      Name  OutputDatasetId  RunId  UserId  \n",
      "0               1  Test Run                2      1       1  \n",
      "1               1  Test Run                2      2       1  \n",
      "2               1  Test Run                2      3       1  \n",
      "3               1  Test Run                2      4       1  \n",
      "4               1  Test Run                2      5       1  \n"
     ]
    }
   ],
   "source": [
    "from orator import DatabaseManager\n",
    "from modelingdbtools.schemas import modeling\n",
    "from modelingdbtools import queries\n",
    "\n",
    "db = DatabaseManager(configs[serv])\n",
    "modeling.add_schema_testing_data(db)\n",
    "\n",
    "tables = queries.display_all_tables(db)"
   ]
  },
  {
   "cell_type": "code",
   "execution_count": 8,
   "metadata": {},
   "outputs": [
    {
     "ename": "NameError",
     "evalue": "name 'ps' is not defined",
     "output_type": "error",
     "traceback": [
      "\u001b[0;31m---------------------------------------------------------------------------\u001b[0m",
      "\u001b[0;31mNameError\u001b[0m                                 Traceback (most recent call last)",
      "\u001b[0;32m<ipython-input-8-29ae5905261a>\u001b[0m in \u001b[0;36m<module>\u001b[0;34m()\u001b[0m\n\u001b[0;32m----> 1\u001b[0;31m \u001b[0mdataset\u001b[0m \u001b[0;34m=\u001b[0m \u001b[0mqueries\u001b[0m\u001b[0;34m.\u001b[0m\u001b[0mget_dataset\u001b[0m\u001b[0;34m(\u001b[0m\u001b[0mdb\u001b[0m\u001b[0;34m,\u001b[0m \u001b[0;34m\"test_input_dataset\"\u001b[0m\u001b[0;34m)\u001b[0m\u001b[0;34m\u001b[0m\u001b[0m\n\u001b[0m",
      "\u001b[0;32m/active/modelingdbtools/queries.py\u001b[0m in \u001b[0;36mget_dataset\u001b[0;34m(database, datasetname, sourceid, sourcetype, get_info_items)\u001b[0m\n\u001b[1;32m    300\u001b[0m \u001b[0;34m\u001b[0m\u001b[0m\n\u001b[1;32m    301\u001b[0m     \u001b[0;31m# return the formatted dataset\u001b[0m\u001b[0;34m\u001b[0m\u001b[0;34m\u001b[0m\u001b[0m\n\u001b[0;32m--> 302\u001b[0;31m     \u001b[0;32mreturn\u001b[0m \u001b[0mconvert_dataset_to_dataframe\u001b[0m\u001b[0;34m(\u001b[0m\u001b[0mps\u001b[0m\u001b[0;34m.\u001b[0m\u001b[0mDataFrame\u001b[0m\u001b[0;34m(\u001b[0m\u001b[0mds\u001b[0m\u001b[0;34m.\u001b[0m\u001b[0mall\u001b[0m\u001b[0;34m(\u001b[0m\u001b[0;34m)\u001b[0m\u001b[0;34m)\u001b[0m\u001b[0;34m,\u001b[0m \u001b[0mget_info_items\u001b[0m\u001b[0;34m)\u001b[0m\u001b[0;34m\u001b[0m\u001b[0m\n\u001b[0m\u001b[1;32m    303\u001b[0m \u001b[0;34m\u001b[0m\u001b[0m\n\u001b[1;32m    304\u001b[0m \u001b[0;32mdef\u001b[0m \u001b[0mconvert_dataset_to_dataframe\u001b[0m\u001b[0;34m(\u001b[0m\u001b[0mdataset\u001b[0m\u001b[0;34m,\u001b[0m \u001b[0mget_info_items\u001b[0m\u001b[0;34m=\u001b[0m\u001b[0;32mFalse\u001b[0m\u001b[0;34m)\u001b[0m\u001b[0;34m:\u001b[0m\u001b[0;34m\u001b[0m\u001b[0m\n",
      "\u001b[0;31mNameError\u001b[0m: name 'ps' is not defined"
     ]
    }
   ],
   "source": [
    "dataset = queries.get_dataset(db, \"test_input_dataset\")"
   ]
  },
  {
   "cell_type": "code",
   "execution_count": null,
   "metadata": {},
   "outputs": [],
   "source": []
  }
 ],
 "metadata": {
  "kernelspec": {
   "display_name": "Python 3",
   "language": "python",
   "name": "python3"
  },
  "language_info": {
   "codemirror_mode": {
    "name": "ipython",
    "version": 3
   },
   "file_extension": ".py",
   "mimetype": "text/x-python",
   "name": "python",
   "nbconvert_exporter": "python",
   "pygments_lexer": "ipython3",
   "version": "3.6.5"
  }
 },
 "nbformat": 4,
 "nbformat_minor": 2
}
