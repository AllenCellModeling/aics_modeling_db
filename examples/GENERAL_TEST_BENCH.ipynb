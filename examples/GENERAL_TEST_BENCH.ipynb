{
 "cells": [
  {
   "cell_type": "code",
   "execution_count": 1,
   "metadata": {},
   "outputs": [],
   "source": [
    "import datasetdatabase as dsdb\n",
    "import os\n",
    "os.environ[\"DSDB_PROCESSING_LIMIT\"] = \"20\""
   ]
  },
  {
   "cell_type": "code",
   "execution_count": 2,
   "metadata": {},
   "outputs": [
    {
     "data": {
      "text/plain": [
       "Recent Datasets:\n",
       "--------------------------------------------------------------------------------\n",
       "{'DatasetId': 9, 'Name': 'mito predictions on Hidden validation set 3', 'Description': 'apply (take2) mitotic predictions to the Hidden dataset from assay dev (DatasetId=4)', 'Introspector': 'datasetdatabase.introspect.dataframe.DataFrameIntrospector', 'Created': datetime.datetime(2018, 9, 18, 21, 39, 51, 487864)}\n",
       "{'DatasetId': 8, 'Name': '753da19b-a7ef-4e50-b0bd-433b08133379', 'Description': 'algorithm parameters', 'Introspector': 'datasetdatabase.introspect.dictionary.DictionaryIntrospector', 'Created': datetime.datetime(2018, 9, 18, 21, 39, 31, 619631)}\n",
       "{'DatasetId': 7, 'Name': '7f4120fe-ee56-4f8e-bf09-c63833f64e5e', 'Description': 'algorithm parameters', 'Introspector': 'datasetdatabase.introspect.dictionary.DictionaryIntrospector', 'Created': datetime.datetime(2018, 9, 18, 21, 35, 18, 144134)}\n",
       "{'DatasetId': 6, 'Name': 'fa053787-2343-44f8-b315-46648ea26881', 'Description': 'algorithm parameters', 'Introspector': 'datasetdatabase.introspect.dictionary.DictionaryIntrospector', 'Created': datetime.datetime(2018, 9, 18, 21, 33, 17, 450413)}\n",
       "{'DatasetId': 5, 'Name': '505ac72e-dd0e-4edf-b40a-8c6fa02e17a7', 'Description': 'algorithm parameters', 'Introspector': 'datasetdatabase.introspect.dictionary.DictionaryIntrospector', 'Created': datetime.datetime(2018, 9, 18, 21, 30, 11, 77812)}"
      ]
     },
     "execution_count": 2,
     "metadata": {},
     "output_type": "execute_result"
    }
   ],
   "source": [
    "prod = dsdb.DatasetDatabase(config=\"/active/configs/prod.json\", user=\"jacksonb\")\n",
    "prod"
   ]
  }
 ],
 "metadata": {
  "kernelspec": {
   "display_name": "Python 3",
   "language": "python",
   "name": "python3"
  },
  "language_info": {
   "codemirror_mode": {
    "name": "ipython",
    "version": 3
   },
   "file_extension": ".py",
   "mimetype": "text/x-python",
   "name": "python",
   "nbconvert_exporter": "python",
   "pygments_lexer": "ipython3",
   "version": "3.6.5"
  }
 },
 "nbformat": 4,
 "nbformat_minor": 2
}
